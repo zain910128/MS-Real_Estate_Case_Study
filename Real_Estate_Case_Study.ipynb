{
  "nbformat": 4,
  "nbformat_minor": 0,
  "metadata": {
    "kernelspec": {
      "display_name": "Python 3",
      "language": "python",
      "name": "python3"
    },
    "language_info": {
      "codemirror_mode": {
        "name": "ipython",
        "version": 3
      },
      "file_extension": ".py",
      "mimetype": "text/x-python",
      "name": "python",
      "nbconvert_exporter": "python",
      "pygments_lexer": "ipython3",
      "version": "3.7.3"
    },
    "colab": {
      "name": "Real Estate Case Study.ipynb",
      "provenance": [],
      "toc_visible": true,
      "include_colab_link": true
    }
  },
  "cells": [
    {
      "cell_type": "markdown",
      "metadata": {
        "id": "view-in-github",
        "colab_type": "text"
      },
      "source": [
        "<a href=\"https://colab.research.google.com/github/zain910128/MS-Real_Estate_Case_Study/blob/master/Real_Estate_Case_Study.ipynb\" target=\"_parent\"><img src=\"https://colab.research.google.com/assets/colab-badge.svg\" alt=\"Open In Colab\"/></a>"
      ]
    },
    {
      "cell_type": "markdown",
      "metadata": {
        "id": "w2h5lMA-3_C5",
        "colab_type": "text"
      },
      "source": [
        "### Open in Colab to view graphs"
      ]
    },
    {
      "cell_type": "markdown",
      "metadata": {
        "id": "kwzSCZWWhs4a",
        "colab_type": "text"
      },
      "source": [
        "# <center>Real Estate Case Study</center>\n",
        "# <center>Zillow / Airbnb Dataset </center>\n"
      ]
    },
    {
      "cell_type": "markdown",
      "metadata": {
        "id": "ipHAJkyHhs4c",
        "colab_type": "text"
      },
      "source": [
        "# Problem Statement\n",
        "You are consulting for a real estate company that has a niche in purchasing properties to\n",
        "rent out short-term as part of their business model specifically within New York City. The\n",
        "real estate company has already concluded that two bedroom properties are the most\n",
        "profitable; however, they do not know which zip codes are the best to invest in.\n",
        "The real estate company has engaged your firm to build out a data product and provide\n",
        "your conclusions to help them understand which zip codes would generate the most\n",
        "profit on short term rentals within New York City.\n",
        "\n",
        "You can assume an occupancy rate of 75% or you can come up with your own\n",
        "model to calculate occupancy; just let us know how you came to that\n",
        "calculation\n",
        "\n",
        "After meeting with the strategy team, you’ve got an idea of where to start, key concerns,\n",
        "and how you can help this real estate company with the market data while keeping the\n",
        "following assumptions in mind:\n",
        "- The investor will pay for the property in cash (i.e. no mortgage/interest rate will\n",
        "need to be accounted for).\n",
        "- The time value of money discount rate is 0% (i.e. $1 today is worth the same\n",
        "100 years from now).\n",
        "- All properties and all square feet within each locale can be assumed to be\n",
        "homogeneous (i.e. a 1000 square foot property in a locale such as Bronx or\n",
        "Manhattan generates twice the revenue and costs twice as much as any other\n",
        "500 square foot property within that same locale.)"
      ]
    },
    {
      "cell_type": "markdown",
      "metadata": {
        "id": "VDxqq_Cghs4m",
        "colab_type": "text"
      },
      "source": [
        "\n",
        "# Assumptions\n",
        "Apart from the assumptions mentioned in the problem statement:\n",
        "- We suppose that the client has USD 10,000,000 to invest and would like to maximise returns on that amount. This will help us make the solution easier to understand and relate.\n",
        "- We suppose that the client is willing to spend that money all in one zipcode only\n",
        "- We assume that the capital is invested completely.\n",
        "- We assume that rental income and appreciation of property price are both considered as profits."
      ]
    },
    {
      "cell_type": "code",
      "metadata": {
        "id": "PKQJ9qokhs4p",
        "colab_type": "code",
        "colab": {
          "base_uri": "https://localhost:8080/",
          "height": 17
        },
        "outputId": "f4346b79-ab8a-4020-b431-f4b675f63b51"
      },
      "source": [
        "from IPython.core.display import display,HTML\n",
        "display(HTML('<style>.prompt{width: 0px; min-width: 0px; visibility: collapse}</style>'))"
      ],
      "execution_count": 1,
      "outputs": [
        {
          "output_type": "display_data",
          "data": {
            "text/html": [
              "<style>.prompt{width: 0px; min-width: 0px; visibility: collapse}</style>"
            ],
            "text/plain": [
              "<IPython.core.display.HTML object>"
            ]
          },
          "metadata": {
            "tags": []
          }
        }
      ]
    },
    {
      "cell_type": "code",
      "metadata": {
        "id": "8oLo_aIihs4_",
        "colab_type": "code",
        "colab": {
          "base_uri": "https://localhost:8080/",
          "height": 211
        },
        "outputId": "d75f82ef-af7d-4f0e-f82b-2e1af45d8db7"
      },
      "source": [
        "!pip install plotly==4.5.0"
      ],
      "execution_count": 2,
      "outputs": [
        {
          "output_type": "stream",
          "text": [
            "Collecting plotly==4.5.0\n",
            "\u001b[?25l  Downloading https://files.pythonhosted.org/packages/06/e1/88762ade699460dc3229c890f9845d16484a40955a590b65052f0958613c/plotly-4.5.0-py2.py3-none-any.whl (7.1MB)\n",
            "\u001b[K     |████████████████████████████████| 7.1MB 26kB/s \n",
            "\u001b[?25hRequirement already satisfied: six in /usr/local/lib/python3.6/dist-packages (from plotly==4.5.0) (1.12.0)\n",
            "Requirement already satisfied: retrying>=1.3.3 in /usr/local/lib/python3.6/dist-packages (from plotly==4.5.0) (1.3.3)\n",
            "Installing collected packages: plotly\n",
            "  Found existing installation: plotly 4.4.1\n",
            "    Uninstalling plotly-4.4.1:\n",
            "      Successfully uninstalled plotly-4.4.1\n",
            "Successfully installed plotly-4.5.0\n"
          ],
          "name": "stdout"
        }
      ]
    },
    {
      "cell_type": "code",
      "metadata": {
        "id": "oxRk4H1qhs5J",
        "colab_type": "code",
        "colab": {
          "base_uri": "https://localhost:8080/",
          "height": 86
        },
        "outputId": "24d65106-3e11-48b8-e427-b7fcd1292b32"
      },
      "source": [
        "import pandas as pd\n",
        "import numpy as np\n",
        "import matplotlib.pyplot as plt\n",
        "import plotly.express as px\n",
        "import seaborn as sns\n",
        "import plotly.graph_objects as go"
      ],
      "execution_count": 3,
      "outputs": [
        {
          "output_type": "stream",
          "text": [
            "/usr/local/lib/python3.6/dist-packages/statsmodels/tools/_testing.py:19: FutureWarning:\n",
            "\n",
            "pandas.util.testing is deprecated. Use the functions in the public API at pandas.testing instead.\n",
            "\n"
          ],
          "name": "stderr"
        }
      ]
    },
    {
      "cell_type": "markdown",
      "metadata": {
        "id": "XP1gQfY0jeHk",
        "colab_type": "text"
      },
      "source": [
        "# Analysis"
      ]
    },
    {
      "cell_type": "markdown",
      "metadata": {
        "id": "omx3cRJPhs5T",
        "colab_type": "text"
      },
      "source": [
        "## Step 1 - Reusability\n",
        "To make the code resuable and scalable, we define global variables for City and number of bedrooms so that when a different analysis needs to be undertaken, we may simply make changes in one place and not have to make other changes to the rest of the code:"
      ]
    },
    {
      "cell_type": "code",
      "metadata": {
        "id": "HOvvc9fChs5U",
        "colab_type": "code",
        "colab": {}
      },
      "source": [
        "CITY = 'New York'\n",
        "BEDS = 2\n",
        "STATE = 'NY'\n",
        "CAPITAL = 10000000"
      ],
      "execution_count": 4,
      "outputs": []
    },
    {
      "cell_type": "markdown",
      "metadata": {
        "id": "O-5ww1vhhs5e",
        "colab_type": "text"
      },
      "source": [
        "## Step 2(a) - Getting the data\n",
        "We now import our datasets and check for duplicate records."
      ]
    },
    {
      "cell_type": "code",
      "metadata": {
        "id": "14O5_bIrhs5g",
        "colab_type": "code",
        "colab": {
          "base_uri": "https://localhost:8080/",
          "height": 34
        },
        "outputId": "b8376ede-b3ab-42cd-cbe8-57fb11a5afd9"
      },
      "source": [
        "bnb_df= pd.read_csv(\"listings.csv\",low_memory=False)\n",
        "bnb_df.shape"
      ],
      "execution_count": 5,
      "outputs": [
        {
          "output_type": "execute_result",
          "data": {
            "text/plain": [
              "(48895, 106)"
            ]
          },
          "metadata": {
            "tags": []
          },
          "execution_count": 5
        }
      ]
    },
    {
      "cell_type": "code",
      "metadata": {
        "id": "RPeiK8xWhs5s",
        "colab_type": "code",
        "colab": {
          "base_uri": "https://localhost:8080/",
          "height": 34
        },
        "outputId": "07b11f41-4453-4715-8c5f-e4b25d5db177"
      },
      "source": [
        "bnb_df.drop_duplicates(subset=None, keep='first', inplace=False).shape"
      ],
      "execution_count": 6,
      "outputs": [
        {
          "output_type": "execute_result",
          "data": {
            "text/plain": [
              "(48895, 106)"
            ]
          },
          "metadata": {
            "tags": []
          },
          "execution_count": 6
        }
      ]
    },
    {
      "cell_type": "code",
      "metadata": {
        "id": "0Ooqyobwhs50",
        "colab_type": "code",
        "colab": {
          "base_uri": "https://localhost:8080/",
          "height": 34
        },
        "outputId": "2f35c6d4-8280-4b8e-c21b-a301a6a952ba"
      },
      "source": [
        "zil_df= pd.read_csv(\"Zip_Zhvi_2bedroom.csv\")\n",
        "zil_df.shape"
      ],
      "execution_count": 7,
      "outputs": [
        {
          "output_type": "execute_result",
          "data": {
            "text/plain": [
              "(8946, 262)"
            ]
          },
          "metadata": {
            "tags": []
          },
          "execution_count": 7
        }
      ]
    },
    {
      "cell_type": "code",
      "metadata": {
        "id": "fMZI3PyEhs56",
        "colab_type": "code",
        "colab": {
          "base_uri": "https://localhost:8080/",
          "height": 34
        },
        "outputId": "f43f9a52-d6c9-4191-c524-f09ce8346a4d"
      },
      "source": [
        "zil_df.drop_duplicates(subset=None, keep='first', inplace=False).shape"
      ],
      "execution_count": 8,
      "outputs": [
        {
          "output_type": "execute_result",
          "data": {
            "text/plain": [
              "(8946, 262)"
            ]
          },
          "metadata": {
            "tags": []
          },
          "execution_count": 8
        }
      ]
    },
    {
      "cell_type": "markdown",
      "metadata": {
        "id": "8cLBV3UEhs6D",
        "colab_type": "text"
      },
      "source": [
        "No duplicates in the data were found"
      ]
    },
    {
      "cell_type": "code",
      "metadata": {
        "id": "tIUJTtlShs6G",
        "colab_type": "code",
        "colab": {}
      },
      "source": [
        "dfz = zil_df.copy()\n",
        "dfa = bnb_df.copy()"
      ],
      "execution_count": 9,
      "outputs": []
    },
    {
      "cell_type": "markdown",
      "metadata": {
        "id": "z0a8jxR3hs6O",
        "colab_type": "text"
      },
      "source": [
        "## Step 2(b) - Exploring the data\n",
        "We now take a quick look at the datasets to understand what we have to work with"
      ]
    },
    {
      "cell_type": "code",
      "metadata": {
        "id": "c9rhqK64hs6P",
        "colab_type": "code",
        "colab": {
          "base_uri": "https://localhost:8080/",
          "height": 350
        },
        "outputId": "6eaf12b5-bc68-47f7-bf1f-2cfd284690c8"
      },
      "source": [
        "dfz.describe()"
      ],
      "execution_count": 10,
      "outputs": [
        {
          "output_type": "execute_result",
          "data": {
            "text/html": [
              "<div>\n",
              "<style scoped>\n",
              "    .dataframe tbody tr th:only-of-type {\n",
              "        vertical-align: middle;\n",
              "    }\n",
              "\n",
              "    .dataframe tbody tr th {\n",
              "        vertical-align: top;\n",
              "    }\n",
              "\n",
              "    .dataframe thead th {\n",
              "        text-align: right;\n",
              "    }\n",
              "</style>\n",
              "<table border=\"1\" class=\"dataframe\">\n",
              "  <thead>\n",
              "    <tr style=\"text-align: right;\">\n",
              "      <th></th>\n",
              "      <th>RegionID</th>\n",
              "      <th>RegionName</th>\n",
              "      <th>SizeRank</th>\n",
              "      <th>1996-04</th>\n",
              "      <th>1996-05</th>\n",
              "      <th>1996-06</th>\n",
              "      <th>1996-07</th>\n",
              "      <th>1996-08</th>\n",
              "      <th>1996-09</th>\n",
              "      <th>1996-10</th>\n",
              "      <th>1996-11</th>\n",
              "      <th>1996-12</th>\n",
              "      <th>1997-01</th>\n",
              "      <th>1997-02</th>\n",
              "      <th>1997-03</th>\n",
              "      <th>1997-04</th>\n",
              "      <th>1997-05</th>\n",
              "      <th>1997-06</th>\n",
              "      <th>1997-07</th>\n",
              "      <th>1997-08</th>\n",
              "      <th>1997-09</th>\n",
              "      <th>1997-10</th>\n",
              "      <th>1997-11</th>\n",
              "      <th>1997-12</th>\n",
              "      <th>1998-01</th>\n",
              "      <th>1998-02</th>\n",
              "      <th>1998-03</th>\n",
              "      <th>1998-04</th>\n",
              "      <th>1998-05</th>\n",
              "      <th>1998-06</th>\n",
              "      <th>1998-07</th>\n",
              "      <th>1998-08</th>\n",
              "      <th>1998-09</th>\n",
              "      <th>1998-10</th>\n",
              "      <th>1998-11</th>\n",
              "      <th>1998-12</th>\n",
              "      <th>1999-01</th>\n",
              "      <th>1999-02</th>\n",
              "      <th>1999-03</th>\n",
              "      <th>1999-04</th>\n",
              "      <th>...</th>\n",
              "      <th>2014-03</th>\n",
              "      <th>2014-04</th>\n",
              "      <th>2014-05</th>\n",
              "      <th>2014-06</th>\n",
              "      <th>2014-07</th>\n",
              "      <th>2014-08</th>\n",
              "      <th>2014-09</th>\n",
              "      <th>2014-10</th>\n",
              "      <th>2014-11</th>\n",
              "      <th>2014-12</th>\n",
              "      <th>2015-01</th>\n",
              "      <th>2015-02</th>\n",
              "      <th>2015-03</th>\n",
              "      <th>2015-04</th>\n",
              "      <th>2015-05</th>\n",
              "      <th>2015-06</th>\n",
              "      <th>2015-07</th>\n",
              "      <th>2015-08</th>\n",
              "      <th>2015-09</th>\n",
              "      <th>2015-10</th>\n",
              "      <th>2015-11</th>\n",
              "      <th>2015-12</th>\n",
              "      <th>2016-01</th>\n",
              "      <th>2016-02</th>\n",
              "      <th>2016-03</th>\n",
              "      <th>2016-04</th>\n",
              "      <th>2016-05</th>\n",
              "      <th>2016-06</th>\n",
              "      <th>2016-07</th>\n",
              "      <th>2016-08</th>\n",
              "      <th>2016-09</th>\n",
              "      <th>2016-10</th>\n",
              "      <th>2016-11</th>\n",
              "      <th>2016-12</th>\n",
              "      <th>2017-01</th>\n",
              "      <th>2017-02</th>\n",
              "      <th>2017-03</th>\n",
              "      <th>2017-04</th>\n",
              "      <th>2017-05</th>\n",
              "      <th>2017-06</th>\n",
              "    </tr>\n",
              "  </thead>\n",
              "  <tbody>\n",
              "    <tr>\n",
              "      <th>count</th>\n",
              "      <td>8946.000000</td>\n",
              "      <td>8946.000000</td>\n",
              "      <td>8946.000000</td>\n",
              "      <td>6284.000000</td>\n",
              "      <td>6364.000000</td>\n",
              "      <td>6364.000000</td>\n",
              "      <td>6369.000000</td>\n",
              "      <td>6370.000000</td>\n",
              "      <td>6370.000000</td>\n",
              "      <td>6370.000000</td>\n",
              "      <td>6380.000000</td>\n",
              "      <td>6380.000000</td>\n",
              "      <td>6404.000000</td>\n",
              "      <td>6833.000000</td>\n",
              "      <td>6853.000000</td>\n",
              "      <td>6853.000000</td>\n",
              "      <td>6853.000000</td>\n",
              "      <td>6855.000000</td>\n",
              "      <td>6855.000000</td>\n",
              "      <td>6952.000000</td>\n",
              "      <td>6955.000000</td>\n",
              "      <td>6955.000000</td>\n",
              "      <td>6958.000000</td>\n",
              "      <td>6962.000000</td>\n",
              "      <td>6979.000000</td>\n",
              "      <td>7124.000000</td>\n",
              "      <td>7125.000000</td>\n",
              "      <td>7081.000000</td>\n",
              "      <td>6973.000000</td>\n",
              "      <td>6985.000000</td>\n",
              "      <td>7170.000000</td>\n",
              "      <td>7204.000000</td>\n",
              "      <td>7204.000000</td>\n",
              "      <td>7216.000000</td>\n",
              "      <td>7237.000000</td>\n",
              "      <td>7239.000000</td>\n",
              "      <td>7240.000000</td>\n",
              "      <td>7257.000000</td>\n",
              "      <td>7258.000000</td>\n",
              "      <td>7258.000000</td>\n",
              "      <td>...</td>\n",
              "      <td>8.946000e+03</td>\n",
              "      <td>8.946000e+03</td>\n",
              "      <td>8.946000e+03</td>\n",
              "      <td>8.946000e+03</td>\n",
              "      <td>8.946000e+03</td>\n",
              "      <td>8.946000e+03</td>\n",
              "      <td>8.946000e+03</td>\n",
              "      <td>8.946000e+03</td>\n",
              "      <td>8.946000e+03</td>\n",
              "      <td>8.946000e+03</td>\n",
              "      <td>8.946000e+03</td>\n",
              "      <td>8.946000e+03</td>\n",
              "      <td>8.946000e+03</td>\n",
              "      <td>8.946000e+03</td>\n",
              "      <td>8.946000e+03</td>\n",
              "      <td>8.946000e+03</td>\n",
              "      <td>8.946000e+03</td>\n",
              "      <td>8.946000e+03</td>\n",
              "      <td>8.946000e+03</td>\n",
              "      <td>8.946000e+03</td>\n",
              "      <td>8.946000e+03</td>\n",
              "      <td>8.946000e+03</td>\n",
              "      <td>8.946000e+03</td>\n",
              "      <td>8.928000e+03</td>\n",
              "      <td>8.928000e+03</td>\n",
              "      <td>8.928000e+03</td>\n",
              "      <td>8.928000e+03</td>\n",
              "      <td>8.946000e+03</td>\n",
              "      <td>8.946000e+03</td>\n",
              "      <td>8.946000e+03</td>\n",
              "      <td>8.946000e+03</td>\n",
              "      <td>8.946000e+03</td>\n",
              "      <td>8.946000e+03</td>\n",
              "      <td>8.943000e+03</td>\n",
              "      <td>8.946000e+03</td>\n",
              "      <td>8.946000e+03</td>\n",
              "      <td>8.946000e+03</td>\n",
              "      <td>8.946000e+03</td>\n",
              "      <td>8.946000e+03</td>\n",
              "      <td>8.946000e+03</td>\n",
              "    </tr>\n",
              "    <tr>\n",
              "      <th>mean</th>\n",
              "      <td>80671.285938</td>\n",
              "      <td>47494.449027</td>\n",
              "      <td>4473.500000</td>\n",
              "      <td>93754.057925</td>\n",
              "      <td>93616.043369</td>\n",
              "      <td>93642.630421</td>\n",
              "      <td>93609.734652</td>\n",
              "      <td>93646.357928</td>\n",
              "      <td>93722.339089</td>\n",
              "      <td>93849.262166</td>\n",
              "      <td>94025.501567</td>\n",
              "      <td>94291.630094</td>\n",
              "      <td>94557.229856</td>\n",
              "      <td>95011.868872</td>\n",
              "      <td>95463.942799</td>\n",
              "      <td>95714.110608</td>\n",
              "      <td>95972.946155</td>\n",
              "      <td>96269.905179</td>\n",
              "      <td>96619.649891</td>\n",
              "      <td>96947.180667</td>\n",
              "      <td>97364.816679</td>\n",
              "      <td>97776.276060</td>\n",
              "      <td>98262.762288</td>\n",
              "      <td>98803.820741</td>\n",
              "      <td>99406.118355</td>\n",
              "      <td>99959.446940</td>\n",
              "      <td>100517.361404</td>\n",
              "      <td>100459.723203</td>\n",
              "      <td>100066.355944</td>\n",
              "      <td>100452.083035</td>\n",
              "      <td>102100.237099</td>\n",
              "      <td>102587.756802</td>\n",
              "      <td>103051.415880</td>\n",
              "      <td>103834.950111</td>\n",
              "      <td>104544.300124</td>\n",
              "      <td>105096.118248</td>\n",
              "      <td>105706.616022</td>\n",
              "      <td>106298.897616</td>\n",
              "      <td>106903.857812</td>\n",
              "      <td>107532.212731</td>\n",
              "      <td>...</td>\n",
              "      <td>1.757412e+05</td>\n",
              "      <td>1.765698e+05</td>\n",
              "      <td>1.774041e+05</td>\n",
              "      <td>1.783335e+05</td>\n",
              "      <td>1.793027e+05</td>\n",
              "      <td>1.802319e+05</td>\n",
              "      <td>1.810981e+05</td>\n",
              "      <td>1.819623e+05</td>\n",
              "      <td>1.827956e+05</td>\n",
              "      <td>1.834246e+05</td>\n",
              "      <td>1.839785e+05</td>\n",
              "      <td>1.848837e+05</td>\n",
              "      <td>1.861289e+05</td>\n",
              "      <td>1.873651e+05</td>\n",
              "      <td>1.885247e+05</td>\n",
              "      <td>1.897510e+05</td>\n",
              "      <td>1.910373e+05</td>\n",
              "      <td>1.922455e+05</td>\n",
              "      <td>1.933378e+05</td>\n",
              "      <td>1.944602e+05</td>\n",
              "      <td>1.956039e+05</td>\n",
              "      <td>1.965611e+05</td>\n",
              "      <td>1.974181e+05</td>\n",
              "      <td>1.982974e+05</td>\n",
              "      <td>1.993878e+05</td>\n",
              "      <td>2.003979e+05</td>\n",
              "      <td>2.012927e+05</td>\n",
              "      <td>2.022298e+05</td>\n",
              "      <td>2.031741e+05</td>\n",
              "      <td>2.043478e+05</td>\n",
              "      <td>2.057233e+05</td>\n",
              "      <td>2.071612e+05</td>\n",
              "      <td>2.086479e+05</td>\n",
              "      <td>2.099822e+05</td>\n",
              "      <td>2.110339e+05</td>\n",
              "      <td>2.121189e+05</td>\n",
              "      <td>2.132461e+05</td>\n",
              "      <td>2.143624e+05</td>\n",
              "      <td>2.155610e+05</td>\n",
              "      <td>2.165161e+05</td>\n",
              "    </tr>\n",
              "    <tr>\n",
              "      <th>std</th>\n",
              "      <td>31636.286116</td>\n",
              "      <td>30868.419487</td>\n",
              "      <td>2582.632088</td>\n",
              "      <td>44385.146499</td>\n",
              "      <td>44222.734487</td>\n",
              "      <td>44225.112290</td>\n",
              "      <td>44264.266105</td>\n",
              "      <td>44340.199368</td>\n",
              "      <td>44457.610118</td>\n",
              "      <td>44605.248316</td>\n",
              "      <td>44773.218214</td>\n",
              "      <td>45026.582093</td>\n",
              "      <td>45344.459962</td>\n",
              "      <td>46149.394578</td>\n",
              "      <td>46423.010731</td>\n",
              "      <td>46652.429525</td>\n",
              "      <td>46907.593302</td>\n",
              "      <td>47181.059128</td>\n",
              "      <td>47523.316384</td>\n",
              "      <td>48060.645231</td>\n",
              "      <td>48465.508522</td>\n",
              "      <td>48857.823653</td>\n",
              "      <td>49348.717113</td>\n",
              "      <td>49873.140170</td>\n",
              "      <td>50383.065240</td>\n",
              "      <td>51326.441982</td>\n",
              "      <td>51836.108047</td>\n",
              "      <td>51956.921766</td>\n",
              "      <td>51140.321465</td>\n",
              "      <td>51601.495634</td>\n",
              "      <td>53474.697849</td>\n",
              "      <td>53977.805791</td>\n",
              "      <td>54489.848933</td>\n",
              "      <td>56003.438992</td>\n",
              "      <td>56555.470915</td>\n",
              "      <td>57041.690009</td>\n",
              "      <td>57582.334661</td>\n",
              "      <td>58041.773525</td>\n",
              "      <td>58484.244650</td>\n",
              "      <td>59054.510251</td>\n",
              "      <td>...</td>\n",
              "      <td>1.607512e+05</td>\n",
              "      <td>1.620268e+05</td>\n",
              "      <td>1.631278e+05</td>\n",
              "      <td>1.642909e+05</td>\n",
              "      <td>1.655486e+05</td>\n",
              "      <td>1.666893e+05</td>\n",
              "      <td>1.678116e+05</td>\n",
              "      <td>1.691114e+05</td>\n",
              "      <td>1.702487e+05</td>\n",
              "      <td>1.710593e+05</td>\n",
              "      <td>1.719973e+05</td>\n",
              "      <td>1.736103e+05</td>\n",
              "      <td>1.755687e+05</td>\n",
              "      <td>1.773178e+05</td>\n",
              "      <td>1.787649e+05</td>\n",
              "      <td>1.802985e+05</td>\n",
              "      <td>1.819055e+05</td>\n",
              "      <td>1.832513e+05</td>\n",
              "      <td>1.842652e+05</td>\n",
              "      <td>1.855609e+05</td>\n",
              "      <td>1.869549e+05</td>\n",
              "      <td>1.882444e+05</td>\n",
              "      <td>1.896037e+05</td>\n",
              "      <td>1.913690e+05</td>\n",
              "      <td>1.925729e+05</td>\n",
              "      <td>1.930769e+05</td>\n",
              "      <td>1.931679e+05</td>\n",
              "      <td>1.929357e+05</td>\n",
              "      <td>1.931751e+05</td>\n",
              "      <td>1.941197e+05</td>\n",
              "      <td>1.952097e+05</td>\n",
              "      <td>1.960432e+05</td>\n",
              "      <td>1.970957e+05</td>\n",
              "      <td>1.981392e+05</td>\n",
              "      <td>1.988496e+05</td>\n",
              "      <td>1.995264e+05</td>\n",
              "      <td>2.004473e+05</td>\n",
              "      <td>2.017663e+05</td>\n",
              "      <td>2.031817e+05</td>\n",
              "      <td>2.041795e+05</td>\n",
              "    </tr>\n",
              "    <tr>\n",
              "      <th>min</th>\n",
              "      <td>58196.000000</td>\n",
              "      <td>1001.000000</td>\n",
              "      <td>1.000000</td>\n",
              "      <td>22400.000000</td>\n",
              "      <td>23500.000000</td>\n",
              "      <td>24500.000000</td>\n",
              "      <td>25400.000000</td>\n",
              "      <td>26200.000000</td>\n",
              "      <td>26700.000000</td>\n",
              "      <td>27200.000000</td>\n",
              "      <td>27700.000000</td>\n",
              "      <td>28100.000000</td>\n",
              "      <td>28600.000000</td>\n",
              "      <td>28800.000000</td>\n",
              "      <td>28800.000000</td>\n",
              "      <td>28300.000000</td>\n",
              "      <td>28100.000000</td>\n",
              "      <td>28000.000000</td>\n",
              "      <td>27900.000000</td>\n",
              "      <td>27600.000000</td>\n",
              "      <td>27000.000000</td>\n",
              "      <td>26300.000000</td>\n",
              "      <td>26300.000000</td>\n",
              "      <td>26800.000000</td>\n",
              "      <td>27400.000000</td>\n",
              "      <td>27800.000000</td>\n",
              "      <td>27900.000000</td>\n",
              "      <td>27900.000000</td>\n",
              "      <td>28000.000000</td>\n",
              "      <td>28000.000000</td>\n",
              "      <td>27800.000000</td>\n",
              "      <td>27400.000000</td>\n",
              "      <td>27700.000000</td>\n",
              "      <td>28400.000000</td>\n",
              "      <td>28700.000000</td>\n",
              "      <td>28900.000000</td>\n",
              "      <td>29100.000000</td>\n",
              "      <td>29200.000000</td>\n",
              "      <td>29200.000000</td>\n",
              "      <td>29100.000000</td>\n",
              "      <td>...</td>\n",
              "      <td>2.760000e+04</td>\n",
              "      <td>2.750000e+04</td>\n",
              "      <td>2.730000e+04</td>\n",
              "      <td>2.680000e+04</td>\n",
              "      <td>2.630000e+04</td>\n",
              "      <td>2.620000e+04</td>\n",
              "      <td>2.660000e+04</td>\n",
              "      <td>2.750000e+04</td>\n",
              "      <td>2.820000e+04</td>\n",
              "      <td>2.840000e+04</td>\n",
              "      <td>2.840000e+04</td>\n",
              "      <td>2.810000e+04</td>\n",
              "      <td>2.790000e+04</td>\n",
              "      <td>2.760000e+04</td>\n",
              "      <td>2.740000e+04</td>\n",
              "      <td>2.730000e+04</td>\n",
              "      <td>2.720000e+04</td>\n",
              "      <td>2.730000e+04</td>\n",
              "      <td>2.750000e+04</td>\n",
              "      <td>2.750000e+04</td>\n",
              "      <td>2.740000e+04</td>\n",
              "      <td>2.730000e+04</td>\n",
              "      <td>2.730000e+04</td>\n",
              "      <td>2.740000e+04</td>\n",
              "      <td>2.760000e+04</td>\n",
              "      <td>2.750000e+04</td>\n",
              "      <td>2.740000e+04</td>\n",
              "      <td>2.760000e+04</td>\n",
              "      <td>2.810000e+04</td>\n",
              "      <td>2.870000e+04</td>\n",
              "      <td>2.890000e+04</td>\n",
              "      <td>2.880000e+04</td>\n",
              "      <td>2.820000e+04</td>\n",
              "      <td>2.810000e+04</td>\n",
              "      <td>2.830000e+04</td>\n",
              "      <td>2.810000e+04</td>\n",
              "      <td>2.830000e+04</td>\n",
              "      <td>2.870000e+04</td>\n",
              "      <td>2.830000e+04</td>\n",
              "      <td>2.800000e+04</td>\n",
              "    </tr>\n",
              "    <tr>\n",
              "      <th>25%</th>\n",
              "      <td>66819.250000</td>\n",
              "      <td>21125.500000</td>\n",
              "      <td>2237.250000</td>\n",
              "      <td>64100.000000</td>\n",
              "      <td>64000.000000</td>\n",
              "      <td>64000.000000</td>\n",
              "      <td>64000.000000</td>\n",
              "      <td>63900.000000</td>\n",
              "      <td>63900.000000</td>\n",
              "      <td>64000.000000</td>\n",
              "      <td>64200.000000</td>\n",
              "      <td>64300.000000</td>\n",
              "      <td>64300.000000</td>\n",
              "      <td>64100.000000</td>\n",
              "      <td>64600.000000</td>\n",
              "      <td>64600.000000</td>\n",
              "      <td>64800.000000</td>\n",
              "      <td>65100.000000</td>\n",
              "      <td>65350.000000</td>\n",
              "      <td>65400.000000</td>\n",
              "      <td>65800.000000</td>\n",
              "      <td>65900.000000</td>\n",
              "      <td>65900.000000</td>\n",
              "      <td>66200.000000</td>\n",
              "      <td>66700.000000</td>\n",
              "      <td>66800.000000</td>\n",
              "      <td>67100.000000</td>\n",
              "      <td>67200.000000</td>\n",
              "      <td>67300.000000</td>\n",
              "      <td>67600.000000</td>\n",
              "      <td>68100.000000</td>\n",
              "      <td>68300.000000</td>\n",
              "      <td>68500.000000</td>\n",
              "      <td>68800.000000</td>\n",
              "      <td>69000.000000</td>\n",
              "      <td>69200.000000</td>\n",
              "      <td>69500.000000</td>\n",
              "      <td>69700.000000</td>\n",
              "      <td>70100.000000</td>\n",
              "      <td>70400.000000</td>\n",
              "      <td>...</td>\n",
              "      <td>8.520000e+04</td>\n",
              "      <td>8.540000e+04</td>\n",
              "      <td>8.560000e+04</td>\n",
              "      <td>8.590000e+04</td>\n",
              "      <td>8.622500e+04</td>\n",
              "      <td>8.660000e+04</td>\n",
              "      <td>8.680000e+04</td>\n",
              "      <td>8.690000e+04</td>\n",
              "      <td>8.730000e+04</td>\n",
              "      <td>8.752500e+04</td>\n",
              "      <td>8.780000e+04</td>\n",
              "      <td>8.800000e+04</td>\n",
              "      <td>8.860000e+04</td>\n",
              "      <td>8.910000e+04</td>\n",
              "      <td>8.942500e+04</td>\n",
              "      <td>8.990000e+04</td>\n",
              "      <td>9.050000e+04</td>\n",
              "      <td>9.110000e+04</td>\n",
              "      <td>9.170000e+04</td>\n",
              "      <td>9.240000e+04</td>\n",
              "      <td>9.310000e+04</td>\n",
              "      <td>9.360000e+04</td>\n",
              "      <td>9.382500e+04</td>\n",
              "      <td>9.400000e+04</td>\n",
              "      <td>9.450000e+04</td>\n",
              "      <td>9.510000e+04</td>\n",
              "      <td>9.570000e+04</td>\n",
              "      <td>9.652500e+04</td>\n",
              "      <td>9.720000e+04</td>\n",
              "      <td>9.792500e+04</td>\n",
              "      <td>9.870000e+04</td>\n",
              "      <td>9.942500e+04</td>\n",
              "      <td>9.992500e+04</td>\n",
              "      <td>1.007500e+05</td>\n",
              "      <td>1.014000e+05</td>\n",
              "      <td>1.023000e+05</td>\n",
              "      <td>1.029000e+05</td>\n",
              "      <td>1.036250e+05</td>\n",
              "      <td>1.046000e+05</td>\n",
              "      <td>1.053000e+05</td>\n",
              "    </tr>\n",
              "    <tr>\n",
              "      <th>50%</th>\n",
              "      <td>77191.500000</td>\n",
              "      <td>44404.000000</td>\n",
              "      <td>4473.500000</td>\n",
              "      <td>84500.000000</td>\n",
              "      <td>84500.000000</td>\n",
              "      <td>84600.000000</td>\n",
              "      <td>84600.000000</td>\n",
              "      <td>84700.000000</td>\n",
              "      <td>84700.000000</td>\n",
              "      <td>84850.000000</td>\n",
              "      <td>85000.000000</td>\n",
              "      <td>85200.000000</td>\n",
              "      <td>85500.000000</td>\n",
              "      <td>85500.000000</td>\n",
              "      <td>85700.000000</td>\n",
              "      <td>86000.000000</td>\n",
              "      <td>85900.000000</td>\n",
              "      <td>86100.000000</td>\n",
              "      <td>86400.000000</td>\n",
              "      <td>86500.000000</td>\n",
              "      <td>86900.000000</td>\n",
              "      <td>86900.000000</td>\n",
              "      <td>87300.000000</td>\n",
              "      <td>87700.000000</td>\n",
              "      <td>88200.000000</td>\n",
              "      <td>88400.000000</td>\n",
              "      <td>88700.000000</td>\n",
              "      <td>88600.000000</td>\n",
              "      <td>88700.000000</td>\n",
              "      <td>88900.000000</td>\n",
              "      <td>89700.000000</td>\n",
              "      <td>90000.000000</td>\n",
              "      <td>90300.000000</td>\n",
              "      <td>90700.000000</td>\n",
              "      <td>91300.000000</td>\n",
              "      <td>91600.000000</td>\n",
              "      <td>92000.000000</td>\n",
              "      <td>92500.000000</td>\n",
              "      <td>93000.000000</td>\n",
              "      <td>93400.000000</td>\n",
              "      <td>...</td>\n",
              "      <td>1.306000e+05</td>\n",
              "      <td>1.309000e+05</td>\n",
              "      <td>1.314000e+05</td>\n",
              "      <td>1.319000e+05</td>\n",
              "      <td>1.324500e+05</td>\n",
              "      <td>1.333000e+05</td>\n",
              "      <td>1.337500e+05</td>\n",
              "      <td>1.342500e+05</td>\n",
              "      <td>1.345000e+05</td>\n",
              "      <td>1.348000e+05</td>\n",
              "      <td>1.352000e+05</td>\n",
              "      <td>1.353000e+05</td>\n",
              "      <td>1.360000e+05</td>\n",
              "      <td>1.367500e+05</td>\n",
              "      <td>1.373000e+05</td>\n",
              "      <td>1.382000e+05</td>\n",
              "      <td>1.392000e+05</td>\n",
              "      <td>1.399000e+05</td>\n",
              "      <td>1.406000e+05</td>\n",
              "      <td>1.411500e+05</td>\n",
              "      <td>1.420000e+05</td>\n",
              "      <td>1.424000e+05</td>\n",
              "      <td>1.430000e+05</td>\n",
              "      <td>1.433000e+05</td>\n",
              "      <td>1.438000e+05</td>\n",
              "      <td>1.444000e+05</td>\n",
              "      <td>1.452500e+05</td>\n",
              "      <td>1.463000e+05</td>\n",
              "      <td>1.472500e+05</td>\n",
              "      <td>1.482000e+05</td>\n",
              "      <td>1.492000e+05</td>\n",
              "      <td>1.503000e+05</td>\n",
              "      <td>1.514500e+05</td>\n",
              "      <td>1.525000e+05</td>\n",
              "      <td>1.533000e+05</td>\n",
              "      <td>1.542000e+05</td>\n",
              "      <td>1.549000e+05</td>\n",
              "      <td>1.556000e+05</td>\n",
              "      <td>1.565000e+05</td>\n",
              "      <td>1.571000e+05</td>\n",
              "    </tr>\n",
              "    <tr>\n",
              "      <th>75%</th>\n",
              "      <td>92251.250000</td>\n",
              "      <td>77357.750000</td>\n",
              "      <td>6709.750000</td>\n",
              "      <td>111000.000000</td>\n",
              "      <td>110800.000000</td>\n",
              "      <td>111000.000000</td>\n",
              "      <td>110900.000000</td>\n",
              "      <td>110900.000000</td>\n",
              "      <td>110975.000000</td>\n",
              "      <td>111100.000000</td>\n",
              "      <td>111300.000000</td>\n",
              "      <td>111625.000000</td>\n",
              "      <td>112100.000000</td>\n",
              "      <td>112700.000000</td>\n",
              "      <td>113500.000000</td>\n",
              "      <td>113800.000000</td>\n",
              "      <td>114100.000000</td>\n",
              "      <td>114200.000000</td>\n",
              "      <td>114300.000000</td>\n",
              "      <td>114700.000000</td>\n",
              "      <td>115000.000000</td>\n",
              "      <td>115300.000000</td>\n",
              "      <td>115800.000000</td>\n",
              "      <td>116400.000000</td>\n",
              "      <td>117000.000000</td>\n",
              "      <td>117700.000000</td>\n",
              "      <td>118100.000000</td>\n",
              "      <td>117600.000000</td>\n",
              "      <td>117500.000000</td>\n",
              "      <td>118100.000000</td>\n",
              "      <td>119900.000000</td>\n",
              "      <td>120500.000000</td>\n",
              "      <td>120800.000000</td>\n",
              "      <td>121500.000000</td>\n",
              "      <td>122400.000000</td>\n",
              "      <td>123000.000000</td>\n",
              "      <td>123700.000000</td>\n",
              "      <td>124400.000000</td>\n",
              "      <td>125275.000000</td>\n",
              "      <td>125900.000000</td>\n",
              "      <td>...</td>\n",
              "      <td>2.025000e+05</td>\n",
              "      <td>2.035750e+05</td>\n",
              "      <td>2.042750e+05</td>\n",
              "      <td>2.054000e+05</td>\n",
              "      <td>2.071750e+05</td>\n",
              "      <td>2.085000e+05</td>\n",
              "      <td>2.094000e+05</td>\n",
              "      <td>2.099750e+05</td>\n",
              "      <td>2.104000e+05</td>\n",
              "      <td>2.116000e+05</td>\n",
              "      <td>2.117000e+05</td>\n",
              "      <td>2.128000e+05</td>\n",
              "      <td>2.133000e+05</td>\n",
              "      <td>2.145750e+05</td>\n",
              "      <td>2.158000e+05</td>\n",
              "      <td>2.167750e+05</td>\n",
              "      <td>2.182750e+05</td>\n",
              "      <td>2.199750e+05</td>\n",
              "      <td>2.206750e+05</td>\n",
              "      <td>2.220750e+05</td>\n",
              "      <td>2.234000e+05</td>\n",
              "      <td>2.244750e+05</td>\n",
              "      <td>2.252250e+05</td>\n",
              "      <td>2.262000e+05</td>\n",
              "      <td>2.274000e+05</td>\n",
              "      <td>2.285000e+05</td>\n",
              "      <td>2.298000e+05</td>\n",
              "      <td>2.308000e+05</td>\n",
              "      <td>2.320000e+05</td>\n",
              "      <td>2.338000e+05</td>\n",
              "      <td>2.352500e+05</td>\n",
              "      <td>2.373000e+05</td>\n",
              "      <td>2.390000e+05</td>\n",
              "      <td>2.407000e+05</td>\n",
              "      <td>2.422750e+05</td>\n",
              "      <td>2.435000e+05</td>\n",
              "      <td>2.450000e+05</td>\n",
              "      <td>2.460750e+05</td>\n",
              "      <td>2.474000e+05</td>\n",
              "      <td>2.486750e+05</td>\n",
              "    </tr>\n",
              "    <tr>\n",
              "      <th>max</th>\n",
              "      <td>738092.000000</td>\n",
              "      <td>99901.000000</td>\n",
              "      <td>8946.000000</td>\n",
              "      <td>420700.000000</td>\n",
              "      <td>422300.000000</td>\n",
              "      <td>430400.000000</td>\n",
              "      <td>440400.000000</td>\n",
              "      <td>447100.000000</td>\n",
              "      <td>453000.000000</td>\n",
              "      <td>454300.000000</td>\n",
              "      <td>457000.000000</td>\n",
              "      <td>460300.000000</td>\n",
              "      <td>458600.000000</td>\n",
              "      <td>464600.000000</td>\n",
              "      <td>470400.000000</td>\n",
              "      <td>472300.000000</td>\n",
              "      <td>475400.000000</td>\n",
              "      <td>480000.000000</td>\n",
              "      <td>483200.000000</td>\n",
              "      <td>488900.000000</td>\n",
              "      <td>496900.000000</td>\n",
              "      <td>504700.000000</td>\n",
              "      <td>511300.000000</td>\n",
              "      <td>519500.000000</td>\n",
              "      <td>525900.000000</td>\n",
              "      <td>656200.000000</td>\n",
              "      <td>666600.000000</td>\n",
              "      <td>684300.000000</td>\n",
              "      <td>690200.000000</td>\n",
              "      <td>690000.000000</td>\n",
              "      <td>679000.000000</td>\n",
              "      <td>677500.000000</td>\n",
              "      <td>688800.000000</td>\n",
              "      <td>702500.000000</td>\n",
              "      <td>709100.000000</td>\n",
              "      <td>716100.000000</td>\n",
              "      <td>723100.000000</td>\n",
              "      <td>729200.000000</td>\n",
              "      <td>741700.000000</td>\n",
              "      <td>757700.000000</td>\n",
              "      <td>...</td>\n",
              "      <td>2.973800e+06</td>\n",
              "      <td>2.988900e+06</td>\n",
              "      <td>3.018400e+06</td>\n",
              "      <td>3.063600e+06</td>\n",
              "      <td>3.075900e+06</td>\n",
              "      <td>3.063800e+06</td>\n",
              "      <td>3.077400e+06</td>\n",
              "      <td>3.108800e+06</td>\n",
              "      <td>3.123300e+06</td>\n",
              "      <td>3.106400e+06</td>\n",
              "      <td>3.067600e+06</td>\n",
              "      <td>3.047400e+06</td>\n",
              "      <td>3.054500e+06</td>\n",
              "      <td>3.071700e+06</td>\n",
              "      <td>3.078300e+06</td>\n",
              "      <td>3.073100e+06</td>\n",
              "      <td>3.089400e+06</td>\n",
              "      <td>3.121700e+06</td>\n",
              "      <td>3.134200e+06</td>\n",
              "      <td>3.152400e+06</td>\n",
              "      <td>3.173600e+06</td>\n",
              "      <td>3.195000e+06</td>\n",
              "      <td>3.234600e+06</td>\n",
              "      <td>3.302400e+06</td>\n",
              "      <td>3.335800e+06</td>\n",
              "      <td>3.324200e+06</td>\n",
              "      <td>3.285100e+06</td>\n",
              "      <td>3.274100e+06</td>\n",
              "      <td>3.298600e+06</td>\n",
              "      <td>3.341100e+06</td>\n",
              "      <td>3.347100e+06</td>\n",
              "      <td>3.305500e+06</td>\n",
              "      <td>3.261100e+06</td>\n",
              "      <td>3.244000e+06</td>\n",
              "      <td>3.231400e+06</td>\n",
              "      <td>3.183300e+06</td>\n",
              "      <td>3.160200e+06</td>\n",
              "      <td>3.193500e+06</td>\n",
              "      <td>3.262200e+06</td>\n",
              "      <td>3.316500e+06</td>\n",
              "    </tr>\n",
              "  </tbody>\n",
              "</table>\n",
              "<p>8 rows × 258 columns</p>\n",
              "</div>"
            ],
            "text/plain": [
              "            RegionID    RegionName  ...       2017-05       2017-06\n",
              "count    8946.000000   8946.000000  ...  8.946000e+03  8.946000e+03\n",
              "mean    80671.285938  47494.449027  ...  2.155610e+05  2.165161e+05\n",
              "std     31636.286116  30868.419487  ...  2.031817e+05  2.041795e+05\n",
              "min     58196.000000   1001.000000  ...  2.830000e+04  2.800000e+04\n",
              "25%     66819.250000  21125.500000  ...  1.046000e+05  1.053000e+05\n",
              "50%     77191.500000  44404.000000  ...  1.565000e+05  1.571000e+05\n",
              "75%     92251.250000  77357.750000  ...  2.474000e+05  2.486750e+05\n",
              "max    738092.000000  99901.000000  ...  3.262200e+06  3.316500e+06\n",
              "\n",
              "[8 rows x 258 columns]"
            ]
          },
          "metadata": {
            "tags": []
          },
          "execution_count": 10
        }
      ]
    },
    {
      "cell_type": "code",
      "metadata": {
        "id": "gswmBiiehs6W",
        "colab_type": "code",
        "colab": {
          "base_uri": "https://localhost:8080/",
          "height": 225
        },
        "outputId": "2c612319-5c14-4510-81ca-440cbe83cc9c"
      },
      "source": [
        "dfz.dtypes"
      ],
      "execution_count": 11,
      "outputs": [
        {
          "output_type": "execute_result",
          "data": {
            "text/plain": [
              "RegionID       int64\n",
              "RegionName     int64\n",
              "City          object\n",
              "State         object\n",
              "Metro         object\n",
              "               ...  \n",
              "2017-02        int64\n",
              "2017-03        int64\n",
              "2017-04        int64\n",
              "2017-05        int64\n",
              "2017-06        int64\n",
              "Length: 262, dtype: object"
            ]
          },
          "metadata": {
            "tags": []
          },
          "execution_count": 11
        }
      ]
    },
    {
      "cell_type": "code",
      "metadata": {
        "id": "Dc1HRp6Phs6g",
        "colab_type": "code",
        "colab": {
          "base_uri": "https://localhost:8080/",
          "height": 225
        },
        "outputId": "b18e3780-1510-4c82-e229-dc6f67f620c4"
      },
      "source": [
        "dfz.isnull().sum(axis=0)"
      ],
      "execution_count": 12,
      "outputs": [
        {
          "output_type": "execute_result",
          "data": {
            "text/plain": [
              "RegionID        0\n",
              "RegionName      0\n",
              "City            0\n",
              "State           0\n",
              "Metro         250\n",
              "             ... \n",
              "2017-02         0\n",
              "2017-03         0\n",
              "2017-04         0\n",
              "2017-05         0\n",
              "2017-06         0\n",
              "Length: 262, dtype: int64"
            ]
          },
          "metadata": {
            "tags": []
          },
          "execution_count": 12
        }
      ]
    },
    {
      "cell_type": "code",
      "metadata": {
        "id": "6AVfAlfphs6o",
        "colab_type": "code",
        "colab": {
          "base_uri": "https://localhost:8080/",
          "height": 225
        },
        "outputId": "927f608c-75b2-4ba1-c3bc-b9d9355c63b1"
      },
      "source": [
        "dfz.nunique()"
      ],
      "execution_count": 13,
      "outputs": [
        {
          "output_type": "execute_result",
          "data": {
            "text/plain": [
              "RegionID      8946\n",
              "RegionName    8946\n",
              "City          4684\n",
              "State           48\n",
              "Metro          466\n",
              "              ... \n",
              "2017-02       3639\n",
              "2017-03       3655\n",
              "2017-04       3661\n",
              "2017-05       3684\n",
              "2017-06       3699\n",
              "Length: 262, dtype: int64"
            ]
          },
          "metadata": {
            "tags": []
          },
          "execution_count": 13
        }
      ]
    },
    {
      "cell_type": "code",
      "metadata": {
        "id": "Izmo0c8uhs6v",
        "colab_type": "code",
        "colab": {
          "base_uri": "https://localhost:8080/",
          "height": 868
        },
        "outputId": "70d11c6c-623b-4e09-898b-32068d04eb41"
      },
      "source": [
        "dfz['State'].value_counts()"
      ],
      "execution_count": 14,
      "outputs": [
        {
          "output_type": "execute_result",
          "data": {
            "text/plain": [
              "CA    1016\n",
              "FL     716\n",
              "PA     550\n",
              "OH     509\n",
              "NY     475\n",
              "MA     438\n",
              "IN     431\n",
              "IL     316\n",
              "WA     315\n",
              "VA     299\n",
              "NC     293\n",
              "MI     261\n",
              "CO     243\n",
              "TX     241\n",
              "CT     234\n",
              "GA     225\n",
              "MN     206\n",
              "OR     190\n",
              "NH     189\n",
              "MO     171\n",
              "NJ     160\n",
              "TN     119\n",
              "AZ     115\n",
              "WI     105\n",
              "SC     105\n",
              "MD      93\n",
              "KS      89\n",
              "AL      87\n",
              "KY      84\n",
              "OK      80\n",
              "NE      64\n",
              "UT      63\n",
              "NV      61\n",
              "RI      60\n",
              "IA      54\n",
              "MS      48\n",
              "HI      44\n",
              "ID      33\n",
              "DE      28\n",
              "NM      23\n",
              "MT      23\n",
              "DC      21\n",
              "LA      20\n",
              "AR      18\n",
              "AK      14\n",
              "ND       8\n",
              "WY       6\n",
              "WV       3\n",
              "Name: State, dtype: int64"
            ]
          },
          "metadata": {
            "tags": []
          },
          "execution_count": 14
        }
      ]
    },
    {
      "cell_type": "code",
      "metadata": {
        "id": "XommuYhNhs63",
        "colab_type": "code",
        "colab": {
          "base_uri": "https://localhost:8080/",
          "height": 225
        },
        "outputId": "292a59dc-1a97-44d3-b423-e2647292e65a"
      },
      "source": [
        "dfa.dtypes"
      ],
      "execution_count": 15,
      "outputs": [
        {
          "output_type": "execute_result",
          "data": {
            "text/plain": [
              "id                                                int64\n",
              "listing_url                                      object\n",
              "scrape_id                                         int64\n",
              "last_scraped                                     object\n",
              "name                                             object\n",
              "                                                 ...   \n",
              "calculated_host_listings_count                    int64\n",
              "calculated_host_listings_count_entire_homes       int64\n",
              "calculated_host_listings_count_private_rooms      int64\n",
              "calculated_host_listings_count_shared_rooms       int64\n",
              "reviews_per_month                               float64\n",
              "Length: 106, dtype: object"
            ]
          },
          "metadata": {
            "tags": []
          },
          "execution_count": 15
        }
      ]
    },
    {
      "cell_type": "code",
      "metadata": {
        "id": "nVjIYkcUhs6-",
        "colab_type": "code",
        "colab": {
          "base_uri": "https://localhost:8080/",
          "height": 225
        },
        "outputId": "4b9a85a3-0119-40b6-eef1-7267c2c69a3d"
      },
      "source": [
        "dfa['city'].value_counts()"
      ],
      "execution_count": 16,
      "outputs": [
        {
          "output_type": "execute_result",
          "data": {
            "text/plain": [
              "New York             21934\n",
              "Brooklyn             18978\n",
              "Queens                4328\n",
              "Bronx                  773\n",
              "Brooklyn               694\n",
              "                     ...  \n",
              "Brooklyn New York        1\n",
              "Woodside, Queens         1\n",
              "Brookyln                 1\n",
              "New York,                1\n",
              "ASTORIA/LIC              1\n",
              "Name: city, Length: 305, dtype: int64"
            ]
          },
          "metadata": {
            "tags": []
          },
          "execution_count": 16
        }
      ]
    },
    {
      "cell_type": "markdown",
      "metadata": {
        "scrolled": true,
        "id": "eENTC8QXhs7F",
        "colab_type": "text"
      },
      "source": [
        "## Step 3 - Data filtering and subsetting"
      ]
    },
    {
      "cell_type": "markdown",
      "metadata": {
        "id": "1kPdEFPVhs7F",
        "colab_type": "text"
      },
      "source": [
        "We now add a metric for measuring the rent earned per square foot in the airbnb dataset. First we need to check how many missing values we have in the Square feet column."
      ]
    },
    {
      "cell_type": "code",
      "metadata": {
        "id": "n7w28j4Shs7G",
        "colab_type": "code",
        "colab": {
          "base_uri": "https://localhost:8080/",
          "height": 34
        },
        "outputId": "b4f61f77-b7ad-41b7-d638-ebe5dadf8c38"
      },
      "source": [
        "dfa.square_feet.isna().sum()"
      ],
      "execution_count": 17,
      "outputs": [
        {
          "output_type": "execute_result",
          "data": {
            "text/plain": [
              "48487"
            ]
          },
          "metadata": {
            "tags": []
          },
          "execution_count": 17
        }
      ]
    },
    {
      "cell_type": "markdown",
      "metadata": {
        "id": "GfIRPdaWhs7N",
        "colab_type": "text"
      },
      "source": [
        "Turns out that hardly any rows have the square feet provided. So we cannot create this metric.\n",
        "\n",
        "Since our analysis will be based on zipcodes, let's remove rows that do not have zipcodes."
      ]
    },
    {
      "cell_type": "code",
      "metadata": {
        "id": "iJwjjFB_hs7O",
        "colab_type": "code",
        "colab": {
          "base_uri": "https://localhost:8080/",
          "height": 34
        },
        "outputId": "cb3ce912-ce6e-4e16-fcd6-e14653dd9542"
      },
      "source": [
        "dfa1 = dfa[~dfa.iloc[:,43].apply(np.isreal)]\n",
        "dfa1.shape"
      ],
      "execution_count": 18,
      "outputs": [
        {
          "output_type": "execute_result",
          "data": {
            "text/plain": [
              "(48378, 106)"
            ]
          },
          "metadata": {
            "tags": []
          },
          "execution_count": 18
        }
      ]
    },
    {
      "cell_type": "markdown",
      "metadata": {
        "id": "GNR9_Rh9hs7U",
        "colab_type": "text"
      },
      "source": [
        "Let's only retain the columns that are of interest to us in the airbnb dataset"
      ]
    },
    {
      "cell_type": "code",
      "metadata": {
        "scrolled": true,
        "id": "jex5lR6Uhs7U",
        "colab_type": "code",
        "colab": {
          "base_uri": "https://localhost:8080/",
          "height": 34
        },
        "outputId": "3287557a-ccf5-4744-c82c-ab3fa9030837"
      },
      "source": [
        "dfa1 = dfa1[\n",
        "    ['summary','space','description','neighborhood_overview','notes',\n",
        "     'transit','access','host_response_rate','host_is_superhost',\n",
        "     'host_listings_count','city','state', 'zipcode','property_type','room_type',\n",
        "     'bathrooms','bedrooms','beds','price','number_of_reviews','review_scores_rating']\n",
        "           ]\n",
        "dfa1.shape"
      ],
      "execution_count": 19,
      "outputs": [
        {
          "output_type": "execute_result",
          "data": {
            "text/plain": [
              "(48378, 21)"
            ]
          },
          "metadata": {
            "tags": []
          },
          "execution_count": 19
        }
      ]
    },
    {
      "cell_type": "markdown",
      "metadata": {
        "id": "zaJe1M0hhs7c",
        "colab_type": "text"
      },
      "source": [
        "Let's also filter the zillow dataset for only New York"
      ]
    },
    {
      "cell_type": "code",
      "metadata": {
        "id": "Th8211mDhs7d",
        "colab_type": "code",
        "colab": {
          "base_uri": "https://localhost:8080/",
          "height": 214
        },
        "outputId": "05a2f814-ca70-4ed0-f6c2-bda2bd27aa82"
      },
      "source": [
        "dfz1 = dfz[dfz['City']== CITY]\n",
        "print(dfz1.shape)\n",
        "dfz1.head(2)"
      ],
      "execution_count": 20,
      "outputs": [
        {
          "output_type": "stream",
          "text": [
            "(25, 262)\n"
          ],
          "name": "stdout"
        },
        {
          "output_type": "execute_result",
          "data": {
            "text/html": [
              "<div>\n",
              "<style scoped>\n",
              "    .dataframe tbody tr th:only-of-type {\n",
              "        vertical-align: middle;\n",
              "    }\n",
              "\n",
              "    .dataframe tbody tr th {\n",
              "        vertical-align: top;\n",
              "    }\n",
              "\n",
              "    .dataframe thead th {\n",
              "        text-align: right;\n",
              "    }\n",
              "</style>\n",
              "<table border=\"1\" class=\"dataframe\">\n",
              "  <thead>\n",
              "    <tr style=\"text-align: right;\">\n",
              "      <th></th>\n",
              "      <th>RegionID</th>\n",
              "      <th>RegionName</th>\n",
              "      <th>City</th>\n",
              "      <th>State</th>\n",
              "      <th>Metro</th>\n",
              "      <th>CountyName</th>\n",
              "      <th>SizeRank</th>\n",
              "      <th>1996-04</th>\n",
              "      <th>1996-05</th>\n",
              "      <th>1996-06</th>\n",
              "      <th>1996-07</th>\n",
              "      <th>1996-08</th>\n",
              "      <th>1996-09</th>\n",
              "      <th>1996-10</th>\n",
              "      <th>1996-11</th>\n",
              "      <th>1996-12</th>\n",
              "      <th>1997-01</th>\n",
              "      <th>1997-02</th>\n",
              "      <th>1997-03</th>\n",
              "      <th>1997-04</th>\n",
              "      <th>1997-05</th>\n",
              "      <th>1997-06</th>\n",
              "      <th>1997-07</th>\n",
              "      <th>1997-08</th>\n",
              "      <th>1997-09</th>\n",
              "      <th>1997-10</th>\n",
              "      <th>1997-11</th>\n",
              "      <th>1997-12</th>\n",
              "      <th>1998-01</th>\n",
              "      <th>1998-02</th>\n",
              "      <th>1998-03</th>\n",
              "      <th>1998-04</th>\n",
              "      <th>1998-05</th>\n",
              "      <th>1998-06</th>\n",
              "      <th>1998-07</th>\n",
              "      <th>1998-08</th>\n",
              "      <th>1998-09</th>\n",
              "      <th>1998-10</th>\n",
              "      <th>1998-11</th>\n",
              "      <th>1998-12</th>\n",
              "      <th>...</th>\n",
              "      <th>2014-03</th>\n",
              "      <th>2014-04</th>\n",
              "      <th>2014-05</th>\n",
              "      <th>2014-06</th>\n",
              "      <th>2014-07</th>\n",
              "      <th>2014-08</th>\n",
              "      <th>2014-09</th>\n",
              "      <th>2014-10</th>\n",
              "      <th>2014-11</th>\n",
              "      <th>2014-12</th>\n",
              "      <th>2015-01</th>\n",
              "      <th>2015-02</th>\n",
              "      <th>2015-03</th>\n",
              "      <th>2015-04</th>\n",
              "      <th>2015-05</th>\n",
              "      <th>2015-06</th>\n",
              "      <th>2015-07</th>\n",
              "      <th>2015-08</th>\n",
              "      <th>2015-09</th>\n",
              "      <th>2015-10</th>\n",
              "      <th>2015-11</th>\n",
              "      <th>2015-12</th>\n",
              "      <th>2016-01</th>\n",
              "      <th>2016-02</th>\n",
              "      <th>2016-03</th>\n",
              "      <th>2016-04</th>\n",
              "      <th>2016-05</th>\n",
              "      <th>2016-06</th>\n",
              "      <th>2016-07</th>\n",
              "      <th>2016-08</th>\n",
              "      <th>2016-09</th>\n",
              "      <th>2016-10</th>\n",
              "      <th>2016-11</th>\n",
              "      <th>2016-12</th>\n",
              "      <th>2017-01</th>\n",
              "      <th>2017-02</th>\n",
              "      <th>2017-03</th>\n",
              "      <th>2017-04</th>\n",
              "      <th>2017-05</th>\n",
              "      <th>2017-06</th>\n",
              "    </tr>\n",
              "  </thead>\n",
              "  <tbody>\n",
              "    <tr>\n",
              "      <th>0</th>\n",
              "      <td>61639</td>\n",
              "      <td>10025</td>\n",
              "      <td>New York</td>\n",
              "      <td>NY</td>\n",
              "      <td>New York</td>\n",
              "      <td>New York</td>\n",
              "      <td>1</td>\n",
              "      <td>NaN</td>\n",
              "      <td>NaN</td>\n",
              "      <td>NaN</td>\n",
              "      <td>NaN</td>\n",
              "      <td>NaN</td>\n",
              "      <td>NaN</td>\n",
              "      <td>NaN</td>\n",
              "      <td>NaN</td>\n",
              "      <td>NaN</td>\n",
              "      <td>NaN</td>\n",
              "      <td>NaN</td>\n",
              "      <td>NaN</td>\n",
              "      <td>NaN</td>\n",
              "      <td>NaN</td>\n",
              "      <td>NaN</td>\n",
              "      <td>NaN</td>\n",
              "      <td>NaN</td>\n",
              "      <td>NaN</td>\n",
              "      <td>NaN</td>\n",
              "      <td>NaN</td>\n",
              "      <td>NaN</td>\n",
              "      <td>NaN</td>\n",
              "      <td>NaN</td>\n",
              "      <td>NaN</td>\n",
              "      <td>NaN</td>\n",
              "      <td>NaN</td>\n",
              "      <td>NaN</td>\n",
              "      <td>NaN</td>\n",
              "      <td>NaN</td>\n",
              "      <td>NaN</td>\n",
              "      <td>NaN</td>\n",
              "      <td>NaN</td>\n",
              "      <td>NaN</td>\n",
              "      <td>...</td>\n",
              "      <td>1120300</td>\n",
              "      <td>1125500</td>\n",
              "      <td>1136000</td>\n",
              "      <td>1135100</td>\n",
              "      <td>1130000</td>\n",
              "      <td>1138200</td>\n",
              "      <td>1153700</td>\n",
              "      <td>1174800</td>\n",
              "      <td>1185400</td>\n",
              "      <td>1188400</td>\n",
              "      <td>1189700</td>\n",
              "      <td>1193700</td>\n",
              "      <td>1199900</td>\n",
              "      <td>1201400</td>\n",
              "      <td>1202600</td>\n",
              "      <td>1214200</td>\n",
              "      <td>1235200</td>\n",
              "      <td>1258000</td>\n",
              "      <td>1287700</td>\n",
              "      <td>1307200</td>\n",
              "      <td>1313900</td>\n",
              "      <td>1317100</td>\n",
              "      <td>1327400</td>\n",
              "      <td>1338800.0</td>\n",
              "      <td>1350400.0</td>\n",
              "      <td>1356600.0</td>\n",
              "      <td>1358500.0</td>\n",
              "      <td>1364000</td>\n",
              "      <td>1373300</td>\n",
              "      <td>1382600</td>\n",
              "      <td>1374400</td>\n",
              "      <td>1364100</td>\n",
              "      <td>1366300</td>\n",
              "      <td>1354800.0</td>\n",
              "      <td>1327500</td>\n",
              "      <td>1317300</td>\n",
              "      <td>1333700</td>\n",
              "      <td>1352100</td>\n",
              "      <td>1390000</td>\n",
              "      <td>1431000</td>\n",
              "    </tr>\n",
              "    <tr>\n",
              "      <th>2</th>\n",
              "      <td>61637</td>\n",
              "      <td>10023</td>\n",
              "      <td>New York</td>\n",
              "      <td>NY</td>\n",
              "      <td>New York</td>\n",
              "      <td>New York</td>\n",
              "      <td>3</td>\n",
              "      <td>NaN</td>\n",
              "      <td>NaN</td>\n",
              "      <td>NaN</td>\n",
              "      <td>NaN</td>\n",
              "      <td>NaN</td>\n",
              "      <td>NaN</td>\n",
              "      <td>NaN</td>\n",
              "      <td>NaN</td>\n",
              "      <td>NaN</td>\n",
              "      <td>NaN</td>\n",
              "      <td>NaN</td>\n",
              "      <td>NaN</td>\n",
              "      <td>NaN</td>\n",
              "      <td>NaN</td>\n",
              "      <td>NaN</td>\n",
              "      <td>NaN</td>\n",
              "      <td>NaN</td>\n",
              "      <td>NaN</td>\n",
              "      <td>NaN</td>\n",
              "      <td>NaN</td>\n",
              "      <td>NaN</td>\n",
              "      <td>NaN</td>\n",
              "      <td>NaN</td>\n",
              "      <td>NaN</td>\n",
              "      <td>NaN</td>\n",
              "      <td>NaN</td>\n",
              "      <td>NaN</td>\n",
              "      <td>NaN</td>\n",
              "      <td>NaN</td>\n",
              "      <td>NaN</td>\n",
              "      <td>NaN</td>\n",
              "      <td>NaN</td>\n",
              "      <td>NaN</td>\n",
              "      <td>...</td>\n",
              "      <td>1713000</td>\n",
              "      <td>1728800</td>\n",
              "      <td>1736100</td>\n",
              "      <td>1745900</td>\n",
              "      <td>1753800</td>\n",
              "      <td>1736600</td>\n",
              "      <td>1730400</td>\n",
              "      <td>1734500</td>\n",
              "      <td>1728700</td>\n",
              "      <td>1720800</td>\n",
              "      <td>1717700</td>\n",
              "      <td>1700100</td>\n",
              "      <td>1680400</td>\n",
              "      <td>1676400</td>\n",
              "      <td>1685600</td>\n",
              "      <td>1708100</td>\n",
              "      <td>1730400</td>\n",
              "      <td>1751800</td>\n",
              "      <td>1778300</td>\n",
              "      <td>1810400</td>\n",
              "      <td>1831600</td>\n",
              "      <td>1844400</td>\n",
              "      <td>1861600</td>\n",
              "      <td>1889600.0</td>\n",
              "      <td>1901500.0</td>\n",
              "      <td>1895300.0</td>\n",
              "      <td>1890200.0</td>\n",
              "      <td>1898400</td>\n",
              "      <td>1924500</td>\n",
              "      <td>1967300</td>\n",
              "      <td>1993500</td>\n",
              "      <td>1980700</td>\n",
              "      <td>1960900</td>\n",
              "      <td>1951300.0</td>\n",
              "      <td>1937800</td>\n",
              "      <td>1929800</td>\n",
              "      <td>1955000</td>\n",
              "      <td>2022400</td>\n",
              "      <td>2095000</td>\n",
              "      <td>2142300</td>\n",
              "    </tr>\n",
              "  </tbody>\n",
              "</table>\n",
              "<p>2 rows × 262 columns</p>\n",
              "</div>"
            ],
            "text/plain": [
              "   RegionID  RegionName      City State  ...  2017-03  2017-04  2017-05  2017-06\n",
              "0     61639       10025  New York    NY  ...  1333700  1352100  1390000  1431000\n",
              "2     61637       10023  New York    NY  ...  1955000  2022400  2095000  2142300\n",
              "\n",
              "[2 rows x 262 columns]"
            ]
          },
          "metadata": {
            "tags": []
          },
          "execution_count": 20
        }
      ]
    },
    {
      "cell_type": "markdown",
      "metadata": {
        "id": "mq7jhyJehs7k",
        "colab_type": "text"
      },
      "source": [
        "## Step 4 - Visual overview of Zillow data\n",
        "\n",
        "Let's now use sparklines to visualise the change in price over time for properties in New York.\n",
        "In order to do that, we first need to create a dataframe where the columns are each zipcode's historical prices. We do this by removing unwanted columns and then transposing."
      ]
    },
    {
      "cell_type": "code",
      "metadata": {
        "id": "7FKmQyUqhs7l",
        "colab_type": "code",
        "colab": {}
      },
      "source": [
        "df_pricechart = dfz1.iloc[:,7:]\n",
        "df_pricechart.index = dfz1[\"RegionName\"]\n",
        "df_pricechart = df_pricechart.T"
      ],
      "execution_count": 21,
      "outputs": []
    },
    {
      "cell_type": "code",
      "metadata": {
        "scrolled": true,
        "id": "jUbcYrrchs7s",
        "colab_type": "code",
        "colab": {
          "base_uri": "https://localhost:8080/",
          "height": 1000
        },
        "outputId": "cf3e1ed4-5f32-4082-e884-4ac7204457ee"
      },
      "source": [
        "pricechart = df_pricechart.plot.line(subplots=True, figsize=(5,30))"
      ],
      "execution_count": 22,
      "outputs": [
        {
          "output_type": "display_data",
          "data": {
            "image/png": "[encoded data removed]",
            "text/plain": [
              "<Figure size 360x2160 with 25 Axes>"
            ]
          },
          "metadata": {
            "tags": [],
            "needs_background": "light"
          }
        }
      ]
    },
    {
      "cell_type": "markdown",
      "metadata": {
        "id": "xU5CLXY8hs70",
        "colab_type": "text"
      },
      "source": [
        "We can see that the general trend is upwards, but there was a major dip in prices in the middle (corresponding to the recession). Also we can see that the rate of increase in price has not been the same in all places. \n",
        "To study their inter-relationship, let's plot them all in the same graph and make it interactive."
      ]
    },
    {
      "cell_type": "code",
      "metadata": {
        "scrolled": false,
        "id": "NVcSGZeehs71",
        "colab_type": "code",
        "colab": {
          "base_uri": "https://localhost:8080/",
          "height": 542
        },
        "outputId": "44a08a56-5098-4caa-a8b9-6c9cd1872390"
      },
      "source": [
        "dfplot1 = df_pricechart.reset_index().melt(id_vars=['index'])\n",
        "fig = px.line(dfplot1,x=\"index\", y=\"value\", color=\"RegionName\")\n",
        "fig.show()"
      ],
      "execution_count": 23,
      "outputs": [
        {
          "output_type": "display_data",
          "data": {
            "text/html": [
              "<html>\n",
              "<head><meta charset=\"utf-8\" /></head>\n",
              "<body>\n",
              "    <div>\n",
              "            <script src=\"https://cdnjs.cloudflare.com/ajax/libs/mathjax/2.7.5/MathJax.js?config=TeX-AMS-MML_SVG\"></script><script type=\"text/javascript\">if (window.MathJax) {MathJax.Hub.Config({SVG: {font: \"STIX-Web\"}});}</script>\n",
              "                <script type=\"text/javascript\">window.PlotlyConfig = {MathJaxConfig: 'local'};</script>\n",
              "        <script src=\"https://cdn.plot.ly/plotly-latest.min.js\"></script>    \n",
              "            <div id=\"26e96d06-1a3e-48a7-82dc-7e1eab9720ed\" class=\"plotly-graph-div\" style=\"height:525px; width:100%;\"></div>\n",
              "            <script type=\"text/javascript\">\n",
              "                \n",
              "                    window.PLOTLYENV=window.PLOTLYENV || {};\n",
              "                    \n",
              "                if (document.getElementById(\"26e96d06-1a3e-48a7-82dc-7e1eab9720ed\")) {\n",
              "                    Plotly.newPlot(\n",
              "                        '26e96d06-1a3e-48a7-82dc-7e1eab9720ed',\n",
              "                        [{\"hoverlabel\": {\"namelength\": 0}, \"hovertemplate\": \"RegionName=10025<br>index=%{x}<br>value=%{y}\", \"legendgroup\": \"10025\", \"line\": {\"color\": \"#636efa\", \"dash\": \"solid\"}, \"mode\": \"lines\", \"name\": \"10025\", \"showlegend\": true, \"type\": \"scattergl\", \"x\": [\"1996-04\", \"1996-05\", \"1996-06\", \"1996-07\", \"1996-08\", \"1996-09\", \"1996-10\", \"1996-11\", \"1996-12\", \"1997-01\", \"1997-02\", \"1997-03\", \"1997-04\", \"1997-05\", \"1997-06\", \"1997-07\", \"1997-08\", \"1997-09\", \"1997-10\", \"1997-11\", \"1997-12\", \"1998-01\", \"1998-02\", \"1998-03\", \"1998-04\", \"1998-05\", \"1998-06\", \"1998-07\", \"1998-08\", \"1998-09\", \"1998-10\", \"1998-11\", \"1998-12\", \"1999-01\", \"1999-02\", \"1999-03\", \"1999-04\", \"1999-05\", \"1999-06\", \"1999-07\", \"1999-08\", \"1999-09\", \"1999-10\", \"1999-11\", \"1999-12\", \"2000-01\", \"2000-02\", \"2000-03\", \"2000-04\", \"2000-05\", \"2000-06\", \"2000-07\", \"2000-08\", \"2000-09\", \"2000-10\", \"2000-11\", \"2000-12\", \"2001-01\", \"2001-02\", \"2001-03\", \"2001-04\", \"2001-05\", \"2001-06\", \"2001-07\", \"2001-08\", \"2001-09\", \"2001-10\", \"2001-11\", \"2001-12\", \"2002-01\", \"2002-02\", \"2002-03\", \"2002-04\", \"2002-05\", \"2002-06\", \"2002-07\", \"2002-08\", \"2002-09\", \"2002-10\", \"2002-11\", \"2002-12\", \"2003-01\", \"2003-02\", \"2003-03\", \"2003-04\", \"2003-05\", \"2003-06\", \"2003-07\", \"2003-08\", \"2003-09\", \"2003-10\", \"2003-11\", \"2003-12\", \"2004-01\", \"2004-02\", \"2004-03\", \"2004-04\", \"2004-05\", \"2004-06\", \"2004-07\", \"2004-08\", \"2004-09\", \"2004-10\", \"2004-11\", \"2004-12\", \"2005-01\", \"2005-02\", \"2005-03\", \"2005-04\", \"2005-05\", \"2005-06\", \"2005-07\", \"2005-08\", \"2005-09\", \"2005-10\", \"2005-11\", \"2005-12\", \"2006-01\", \"2006-02\", \"2006-03\", \"2006-04\", \"2006-05\", \"2006-06\", \"2006-07\", \"2006-08\", \"2006-09\", \"2006-10\", \"2006-11\", \"2006-12\", \"2007-01\", \"2007-02\", \"2007-03\", \"2007-04\", \"2007-05\", \"2007-06\", \"2007-07\", \"2007-08\", \"2007-09\", \"2007-10\", \"2007-11\", \"2007-12\", \"2008-01\", \"2008-02\", \"2008-03\", \"2008-04\", \"2008-05\", \"2008-06\", \"2008-07\", \"2008-08\", \"2008-09\", \"2008-10\", \"2008-11\", \"2008-12\", \"2009-01\", \"2009-02\", \"2009-03\", \"2009-04\", \"2009-05\", \"2009-06\", \"2009-07\", \"2009-08\", \"2009-09\", \"2009-10\", \"2009-11\", \"2009-12\", \"2010-01\", \"2010-02\", \"2010-03\", \"2010-04\", \"2010-05\", \"2010-06\", \"2010-07\", \"2010-08\", \"2010-09\", \"2010-10\", \"2010-11\", \"2010-12\", \"2011-01\", \"2011-02\", \"2011-03\", \"2011-04\", \"2011-05\", \"2011-06\", \"2011-07\", \"2011-08\", \"2011-09\", \"2011-10\", \"2011-11\", \"2011-12\", \"2012-01\", \"2012-02\", \"2012-03\", \"2012-04\", \"2012-05\", \"2012-06\", \"2012-07\", \"2012-08\", \"2012-09\", \"2012-10\", \"2012-11\", \"2012-12\", \"2013-01\", \"2013-02\", \"2013-03\", \"2013-04\", \"2013-05\", \"2013-06\", \"2013-07\", \"2013-08\", \"2013-09\", \"2013-10\", \"2013-11\", \"2013-12\", \"2014-01\", \"2014-02\", \"2014-03\", \"2014-04\", \"2014-05\", \"2014-06\", \"2014-07\", \"2014-08\", \"2014-09\", \"2014-10\", \"2014-11\", \"2014-12\", \"2015-01\", \"2015-02\", \"2015-03\", \"2015-04\", \"2015-05\", \"2015-06\", \"2015-07\", \"2015-08\", \"2015-09\", \"2015-10\", \"2015-11\", \"2015-12\", \"2016-01\", \"2016-02\", \"2016-03\", \"2016-04\", \"2016-05\", \"2016-06\", \"2016-07\", \"2016-08\", \"2016-09\", \"2016-10\", \"2016-11\", \"2016-12\", \"2017-01\", \"2017-02\", \"2017-03\", \"2017-04\", \"2017-05\", \"2017-06\"], \"xaxis\": \"x\", \"y\": [null, null, null, null, null, null, null, null, null, null, null, null, null, null, null, null, null, null, null, null, null, null, null, null, null, null, null, null, null, null, null, null, null, null, null, null, null, null, null, null, null, null, null, null, null, null, null, null, null, null, null, null, null, null, null, null, null, null, null, null, null, null, null, null, null, null, null, null, null, null, null, null, null, null, null, null, null, null, null, null, null, null, null, null, null, null, null, null, null, null, null, null, null, null, null, null, null, null, null, null, null, null, null, null, null, null, null, null, 798600.0, 798800.0, 801500.0, 804600.0, 814900.0, 828300.0, 835700.0, 849300.0, 858100.0, 854000.0, 834800.0, 821700.0, 830300.0, 853700.0, 868300.0, 875200.0, 882200.0, 892400.0, 905000.0, 924000.0, 934400.0, 932100.0, 927500.0, 923600.0, 907900.0, 890900.0, 883400.0, 896100.0, 923900.0, 952900.0, 964600.0, 972500.0, 973800.0, 973400.0, 966500.0, 966800.0, 967100.0, 974800.0, 976800.0, 976100.0, 973700.0, 974500.0, 973200.0, 966400.0, 950400.0, 933300.0, 920900.0, 909400.0, 891400.0, 873300.0, 858800.0, 850200.0, 842800.0, 834000.0, 828800.0, 821400.0, 813900.0, 813300.0, 821500.0, 831700.0, 845100.0, 854500.0, 858900.0, 859200.0, 863500.0, 876000.0, 886100.0, 890000.0, 894200.0, 901800.0, 909500.0, 913300.0, 907400.0, 900000.0, 897700.0, 896300.0, 892300.0, 890400.0, 888600.0, 891700.0, 899500.0, 904400.0, 908200.0, 914000.0, 915100.0, 912300.0, 914000.0, 921100.0, 923300.0, 917300.0, 915000.0, 922800.0, 929100.0, 937700.0, 955700.0, 974200.0, 995500.0, 1019500.0, 1035100.0, 1054900.0, 1079900.0, 1092600.0, 1103500.0, 1118800.0, 1139300.0, 1154600.0, 1144100.0, 1120300.0, 1125500.0, 1136000.0, 1135100.0, 1130000.0, 1138200.0, 1153700.0, 1174800.0, 1185400.0, 1188400.0, 1189700.0, 1193700.0, 1199900.0, 1201400.0, 1202600.0, 1214200.0, 1235200.0, 1258000.0, 1287700.0, 1307200.0, 1313900.0, 1317100.0, 1327400.0, 1338800.0, 1350400.0, 1356600.0, 1358500.0, 1364000.0, 1373300.0, 1382600.0, 1374400.0, 1364100.0, 1366300.0, 1354800.0, 1327500.0, 1317300.0, 1333700.0, 1352100.0, 1390000.0, 1431000.0], \"yaxis\": \"y\"}, {\"hoverlabel\": {\"namelength\": 0}, \"hovertemplate\": \"RegionName=10023<br>index=%{x}<br>value=%{y}\", \"legendgroup\": \"10023\", \"line\": {\"color\": \"#EF553B\", \"dash\": \"solid\"}, \"mode\": \"lines\", \"name\": \"10023\", \"showlegend\": true, \"type\": \"scattergl\", \"x\": [\"1996-04\", \"1996-05\", \"1996-06\", \"1996-07\", \"1996-08\", \"1996-09\", \"1996-10\", \"1996-11\", \"1996-12\", \"1997-01\", \"1997-02\", \"1997-03\", \"1997-04\", \"1997-05\", \"1997-06\", \"1997-07\", \"1997-08\", \"1997-09\", \"1997-10\", \"1997-11\", \"1997-12\", \"1998-01\", \"1998-02\", \"1998-03\", \"1998-04\", \"1998-05\", \"1998-06\", \"1998-07\", \"1998-08\", \"1998-09\", \"1998-10\", \"1998-11\", \"1998-12\", \"1999-01\", \"1999-02\", \"1999-03\", \"1999-04\", \"1999-05\", \"1999-06\", \"1999-07\", \"1999-08\", \"1999-09\", \"1999-10\", \"1999-11\", \"1999-12\", \"2000-01\", \"2000-02\", \"2000-03\", \"2000-04\", \"2000-05\", \"2000-06\", \"2000-07\", \"2000-08\", \"2000-09\", \"2000-10\", \"2000-11\", \"2000-12\", \"2001-01\", \"2001-02\", \"2001-03\", \"2001-04\", \"2001-05\", \"2001-06\", \"2001-07\", \"2001-08\", \"2001-09\", \"2001-10\", \"2001-11\", \"2001-12\", \"2002-01\", \"2002-02\", \"2002-03\", \"2002-04\", \"2002-05\", \"2002-06\", \"2002-07\", \"2002-08\", \"2002-09\", \"2002-10\", \"2002-11\", \"2002-12\", \"2003-01\", \"2003-02\", \"2003-03\", \"2003-04\", \"2003-05\", \"2003-06\", \"2003-07\", \"2003-08\", \"2003-09\", \"2003-10\", \"2003-11\", \"2003-12\", \"2004-01\", \"2004-02\", \"2004-03\", \"2004-04\", \"2004-05\", \"2004-06\", \"2004-07\", \"2004-08\", \"2004-09\", \"2004-10\", \"2004-11\", \"2004-12\", \"2005-01\", \"2005-02\", \"2005-03\", \"2005-04\", \"2005-05\", \"2005-06\", \"2005-07\", \"2005-08\", \"2005-09\", \"2005-10\", \"2005-11\", \"2005-12\", \"2006-01\", \"2006-02\", \"2006-03\", \"2006-04\", \"2006-05\", \"2006-06\", \"2006-07\", \"2006-08\", \"2006-09\", \"2006-10\", \"2006-11\", \"2006-12\", \"2007-01\", \"2007-02\", \"2007-03\", \"2007-04\", \"2007-05\", \"2007-06\", \"2007-07\", \"2007-08\", \"2007-09\", \"2007-10\", \"2007-11\", \"2007-12\", \"2008-01\", \"2008-02\", \"2008-03\", \"2008-04\", \"2008-05\", \"2008-06\", \"2008-07\", \"2008-08\", \"2008-09\", \"2008-10\", \"2008-11\", \"2008-12\", \"2009-01\", \"2009-02\", \"2009-03\", \"2009-04\", \"2009-05\", \"2009-06\", \"2009-07\", \"2009-08\", \"2009-09\", \"2009-10\", \"2009-11\", \"2009-12\", \"2010-01\", \"2010-02\", \"2010-03\", \"2010-04\", \"2010-05\", \"2010-06\", \"2010-07\", \"2010-08\", \"2010-09\", \"2010-10\", \"2010-11\", \"2010-12\", \"2011-01\", \"2011-02\", \"2011-03\", \"2011-04\", \"2011-05\", \"2011-06\", \"2011-07\", \"2011-08\", \"2011-09\", \"2011-10\", \"2011-11\", \"2011-12\", \"2012-01\", \"2012-02\", \"2012-03\", \"2012-04\", \"2012-05\", \"2012-06\", \"2012-07\", \"2012-08\", \"2012-09\", \"2012-10\", \"2012-11\", \"2012-12\", \"2013-01\", \"2013-02\", \"2013-03\", \"2013-04\", \"2013-05\", \"2013-06\", \"2013-07\", \"2013-08\", \"2013-09\", \"2013-10\", \"2013-11\", \"2013-12\", \"2014-01\", \"2014-02\", \"2014-03\", \"2014-04\", \"2014-05\", \"2014-06\", \"2014-07\", \"2014-08\", \"2014-09\", \"2014-10\", \"2014-11\", \"2014-12\", \"2015-01\", \"2015-02\", \"2015-03\", \"2015-04\", \"2015-05\", \"2015-06\", \"2015-07\", \"2015-08\", \"2015-09\", \"2015-10\", \"2015-11\", \"2015-12\", \"2016-01\", \"2016-02\", \"2016-03\", \"2016-04\", \"2016-05\", \"2016-06\", \"2016-07\", \"2016-08\", \"2016-09\", \"2016-10\", \"2016-11\", \"2016-12\", \"2017-01\", \"2017-02\", \"2017-03\", \"2017-04\", \"2017-05\", \"2017-06\"], \"xaxis\": \"x\", \"y\": [null, null, null, null, null, null, null, null, null, null, null, null, null, null, null, null, null, null, null, null, null, null, null, null, null, null, null, null, null, null, null, null, null, null, null, null, null, null, null, null, null, null, null, null, null, null, null, null, null, null, null, null, null, null, null, null, null, null, null, null, null, null, null, null, null, null, null, null, null, null, null, null, null, null, null, null, null, null, null, null, null, null, null, null, null, null, null, null, null, null, null, null, null, null, null, null, null, null, null, null, null, 1526800.0, 1424500.0, 1346600.0, 1331300.0, 1322500.0, 1289300.0, 1265400.0, 1249700.0, 1241100.0, 1232700.0, 1225500.0, 1228200.0, 1252600.0, 1266100.0, 1288700.0, 1308100.0, 1333000.0, 1356400.0, 1362000.0, 1353600.0, 1364000.0, 1373900.0, 1389600.0, 1401600.0, 1404100.0, 1415800.0, 1432400.0, 1455400.0, 1474200.0, 1462300.0, 1438300.0, 1435500.0, 1427800.0, 1411200.0, 1407400.0, 1419700.0, 1457400.0, 1500800.0, 1524900.0, 1537800.0, 1558700.0, 1586100.0, 1602300.0, 1621100.0, 1639300.0, 1657400.0, 1657400.0, 1656100.0, 1649400.0, 1643400.0, 1632400.0, 1618200.0, 1588300.0, 1543600.0, 1500800.0, 1464200.0, 1426100.0, 1387300.0, 1362600.0, 1351700.0, 1344300.0, 1331800.0, 1334800.0, 1314200.0, 1271900.0, 1252300.0, 1262300.0, 1279200.0, 1309000.0, 1335300.0, 1353800.0, 1366400.0, 1372100.0, 1381300.0, 1385000.0, 1388100.0, 1399100.0, 1399800.0, 1389300.0, 1384700.0, 1380900.0, 1367900.0, 1365400.0, 1375100.0, 1380400.0, 1377000.0, 1375100.0, 1379000.0, 1395200.0, 1414500.0, 1419000.0, 1403100.0, 1383200.0, 1376700.0, 1378200.0, 1378700.0, 1375900.0, 1366700.0, 1365500.0, 1382200.0, 1404700.0, 1428000.0, 1445700.0, 1452900.0, 1460100.0, 1484400.0, 1508400.0, 1522800.0, 1538300.0, 1568600.0, 1597400.0, 1622900.0, 1654300.0, 1684600.0, 1713000.0, 1728800.0, 1736100.0, 1745900.0, 1753800.0, 1736600.0, 1730400.0, 1734500.0, 1728700.0, 1720800.0, 1717700.0, 1700100.0, 1680400.0, 1676400.0, 1685600.0, 1708100.0, 1730400.0, 1751800.0, 1778300.0, 1810400.0, 1831600.0, 1844400.0, 1861600.0, 1889600.0, 1901500.0, 1895300.0, 1890200.0, 1898400.0, 1924500.0, 1967300.0, 1993500.0, 1980700.0, 1960900.0, 1951300.0, 1937800.0, 1929800.0, 1955000.0, 2022400.0, 2095000.0, 2142300.0], \"yaxis\": \"y\"}, {\"hoverlabel\": {\"namelength\": 0}, \"hovertemplate\": \"RegionName=10128<br>index=%{x}<br>value=%{y}\", \"legendgroup\": \"10128\", \"line\": {\"color\": \"#00cc96\", \"dash\": \"solid\"}, \"mode\": \"lines\", \"name\": \"10128\", \"showlegend\": true, \"type\": \"scattergl\", \"x\": [\"1996-04\", \"1996-05\", \"1996-06\", \"1996-07\", \"1996-08\", \"1996-09\", \"1996-10\", \"1996-11\", \"1996-12\", \"1997-01\", \"1997-02\", \"1997-03\", \"1997-04\", \"1997-05\", \"1997-06\", \"1997-07\", \"1997-08\", \"1997-09\", \"1997-10\", \"1997-11\", \"1997-12\", \"1998-01\", \"1998-02\", \"1998-03\", \"1998-04\", \"1998-05\", \"1998-06\", \"1998-07\", \"1998-08\", \"1998-09\", \"1998-10\", \"1998-11\", \"1998-12\", \"1999-01\", \"1999-02\", \"1999-03\", \"1999-04\", \"1999-05\", \"1999-06\", \"1999-07\", \"1999-08\", \"1999-09\", \"1999-10\", \"1999-11\", \"1999-12\", \"2000-01\", \"2000-02\", \"2000-03\", \"2000-04\", \"2000-05\", \"2000-06\", \"2000-07\", \"2000-08\", \"2000-09\", \"2000-10\", \"2000-11\", \"2000-12\", \"2001-01\", \"2001-02\", \"2001-03\", \"2001-04\", \"2001-05\", \"2001-06\", \"2001-07\", \"2001-08\", \"2001-09\", \"2001-10\", \"2001-11\", \"2001-12\", \"2002-01\", \"2002-02\", \"2002-03\", \"2002-04\", \"2002-05\", \"2002-06\", \"2002-07\", \"2002-08\", \"2002-09\", \"2002-10\", \"2002-11\", \"2002-12\", \"2003-01\", \"2003-02\", \"2003-03\", \"2003-04\", \"2003-05\", \"2003-06\", \"2003-07\", \"2003-08\", \"2003-09\", \"2003-10\", \"2003-11\", \"2003-12\", \"2004-01\", \"2004-02\", \"2004-03\", \"2004-04\", \"2004-05\", \"2004-06\", \"2004-07\", \"2004-08\", \"2004-09\", \"2004-10\", \"2004-11\", \"2004-12\", \"2005-01\", \"2005-02\", \"2005-03\", \"2005-04\", \"2005-05\", \"2005-06\", \"2005-07\", \"2005-08\", \"2005-09\", \"2005-10\", \"2005-11\", \"2005-12\", \"2006-01\", \"2006-02\", \"2006-03\", \"2006-04\", \"2006-05\", \"2006-06\", \"2006-07\", \"2006-08\", \"2006-09\", \"2006-10\", \"2006-11\", \"2006-12\", \"2007-01\", \"2007-02\", \"2007-03\", \"2007-04\", \"2007-05\", \"2007-06\", \"2007-07\", \"2007-08\", \"2007-09\", \"2007-10\", \"2007-11\", \"2007-12\", \"2008-01\", \"2008-02\", \"2008-03\", \"2008-04\", \"2008-05\", \"2008-06\", \"2008-07\", \"2008-08\", \"2008-09\", \"2008-10\", \"2008-11\", \"2008-12\", \"2009-01\", \"2009-02\", \"2009-03\", \"2009-04\", \"2009-05\", \"2009-06\", \"2009-07\", \"2009-08\", \"2009-09\", \"2009-10\", \"2009-11\", \"2009-12\", \"2010-01\", \"2010-02\", \"2010-03\", \"2010-04\", \"2010-05\", \"2010-06\", \"2010-07\", \"2010-08\", \"2010-09\", \"2010-10\", \"2010-11\", \"2010-12\", \"2011-01\", \"2011-02\", \"2011-03\", \"2011-04\", \"2011-05\", \"2011-06\", \"2011-07\", \"2011-08\", \"2011-09\", \"2011-10\", \"2011-11\", \"2011-12\", \"2012-01\", \"2012-02\", \"2012-03\", \"2012-04\", \"2012-05\", \"2012-06\", \"2012-07\", \"2012-08\", \"2012-09\", \"2012-10\", \"2012-11\", \"2012-12\", \"2013-01\", \"2013-02\", \"2013-03\", \"2013-04\", \"2013-05\", \"2013-06\", \"2013-07\", \"2013-08\", \"2013-09\", \"2013-10\", \"2013-11\", \"2013-12\", \"2014-01\", \"2014-02\", \"2014-03\", \"2014-04\", \"2014-05\", \"2014-06\", \"2014-07\", \"2014-08\", \"2014-09\", \"2014-10\", \"2014-11\", \"2014-12\", \"2015-01\", \"2015-02\", \"2015-03\", \"2015-04\", \"2015-05\", \"2015-06\", \"2015-07\", \"2015-08\", \"2015-09\", \"2015-10\", \"2015-11\", \"2015-12\", \"2016-01\", \"2016-02\", \"2016-03\", \"2016-04\", \"2016-05\", \"2016-06\", \"2016-07\", \"2016-08\", \"2016-09\", \"2016-10\", \"2016-11\", \"2016-12\", \"2017-01\", \"2017-02\", \"2017-03\", \"2017-04\", \"2017-05\", \"2017-06\"], \"xaxis\": \"x\", \"y\": [null, null, null, null, null, null, null, null, null, null, null, null, null, null, null, null, null, null, null, null, null, null, null, null, null, null, null, null, null, null, null, null, null, null, null, null, null, null, null, null, null, null, null, null, null, null, null, null, null, null, null, null, null, null, null, null, null, null, null, null, null, null, null, null, null, null, null, null, null, null, null, null, null, null, null, null, null, null, null, null, null, null, null, null, null, null, null, null, null, null, null, null, null, null, null, null, null, null, null, null, null, null, null, null, null, null, null, null, null, null, null, null, null, null, 926300.0, 940500.0, 953700.0, 966800.0, 972300.0, 978900.0, 984700.0, 984300.0, 980400.0, 993200.0, 1016800.0, 1025500.0, 1018900.0, 1024300.0, 1042400.0, 1060800.0, 1063400.0, 1049400.0, 1029400.0, 1017800.0, 1020500.0, 1033500.0, 1049700.0, 1067900.0, 1086700.0, 1100500.0, 1115100.0, 1142000.0, 1178800.0, 1196200.0, 1200200.0, 1218700.0, 1243300.0, 1241000.0, 1226400.0, 1218200.0, 1200800.0, 1188000.0, 1179600.0, 1157300.0, 1118700.0, 1085800.0, 1050800.0, 1019200.0, 993700.0, 981400.0, 971200.0, 961700.0, 957500.0, 959300.0, 969400.0, 985400.0, 983700.0, 983400.0, 1007600.0, 1023000.0, 1010500.0, 1006800.0, 1019400.0, 1026900.0, 1023800.0, 1014900.0, 992800.0, 974500.0, 965200.0, 963200.0, 959200.0, 964400.0, 975700.0, 988600.0, 998000.0, 1019700.0, 1045500.0, 1064200.0, 1066000.0, 1057500.0, 1058600.0, 1069600.0, 1068700.0, 1054500.0, 1045000.0, 1043400.0, 1050300.0, 1050500.0, 1050700.0, 1059700.0, 1079600.0, 1091600.0, 1106100.0, 1121700.0, 1139900.0, 1153100.0, 1174400.0, 1182500.0, 1170800.0, 1166000.0, 1172700.0, 1171800.0, 1173000.0, 1187000.0, 1200200.0, 1209600.0, 1214800.0, 1218800.0, 1221200.0, 1230500.0, 1243500.0, 1259000.0, 1277400.0, 1296300.0, 1305600.0, 1310800.0, 1313400.0, 1313500.0, 1314500.0, 1328000.0, 1347900.0, 1376100.0, 1409500.0, 1431400.0, 1441600.0, 1453100.0, 1468100.0, 1492000.0, 1518100.0, 1531300.0, 1525300.0, 1509000.0, 1520400.0, 1543900.0, 1547400.0, 1526000.0, 1523700.0, 1527200.0, 1541600.0, 1557800.0, 1582900.0, 1598900.0, 1646100.0, 1720500.0, 1787100.0], \"yaxis\": \"y\"}, {\"hoverlabel\": {\"namelength\": 0}, \"hovertemplate\": \"RegionName=10011<br>index=%{x}<br>value=%{y}\", \"legendgroup\": \"10011\", \"line\": {\"color\": \"#ab63fa\", \"dash\": \"solid\"}, \"mode\": \"lines\", \"name\": \"10011\", \"showlegend\": true, \"type\": \"scattergl\", \"x\": [\"1996-04\", \"1996-05\", \"1996-06\", \"1996-07\", \"1996-08\", \"1996-09\", \"1996-10\", \"1996-11\", \"1996-12\", \"1997-01\", \"1997-02\", \"1997-03\", \"1997-04\", \"1997-05\", \"1997-06\", \"1997-07\", \"1997-08\", \"1997-09\", \"1997-10\", \"1997-11\", \"1997-12\", \"1998-01\", \"1998-02\", \"1998-03\", \"1998-04\", \"1998-05\", \"1998-06\", \"1998-07\", \"1998-08\", \"1998-09\", \"1998-10\", \"1998-11\", \"1998-12\", \"1999-01\", \"1999-02\", \"1999-03\", \"1999-04\", \"1999-05\", \"1999-06\", \"1999-07\", \"1999-08\", \"1999-09\", \"1999-10\", \"1999-11\", \"1999-12\", \"2000-01\", \"2000-02\", \"2000-03\", \"2000-04\", \"2000-05\", \"2000-06\", \"2000-07\", \"2000-08\", \"2000-09\", \"2000-10\", \"2000-11\", \"2000-12\", \"2001-01\", \"2001-02\", \"2001-03\", \"2001-04\", \"2001-05\", \"2001-06\", \"2001-07\", \"2001-08\", \"2001-09\", \"2001-10\", \"2001-11\", \"2001-12\", \"2002-01\", \"2002-02\", \"2002-03\", \"2002-04\", \"2002-05\", \"2002-06\", \"2002-07\", \"2002-08\", \"2002-09\", \"2002-10\", \"2002-11\", \"2002-12\", \"2003-01\", \"2003-02\", \"2003-03\", \"2003-04\", \"2003-05\", \"2003-06\", \"2003-07\", \"2003-08\", \"2003-09\", \"2003-10\", \"2003-11\", \"2003-12\", \"2004-01\", \"2004-02\", \"2004-03\", \"2004-04\", \"2004-05\", \"2004-06\", \"2004-07\", \"2004-08\", \"2004-09\", \"2004-10\", \"2004-11\", \"2004-12\", \"2005-01\", \"2005-02\", \"2005-03\", \"2005-04\", \"2005-05\", \"2005-06\", \"2005-07\", \"2005-08\", \"2005-09\", \"2005-10\", \"2005-11\", \"2005-12\", \"2006-01\", \"2006-02\", \"2006-03\", \"2006-04\", \"2006-05\", \"2006-06\", \"2006-07\", \"2006-08\", \"2006-09\", \"2006-10\", \"2006-11\", \"2006-12\", \"2007-01\", \"2007-02\", \"2007-03\", \"2007-04\", \"2007-05\", \"2007-06\", \"2007-07\", \"2007-08\", \"2007-09\", \"2007-10\", \"2007-11\", \"2007-12\", \"2008-01\", \"2008-02\", \"2008-03\", \"2008-04\", \"2008-05\", \"2008-06\", \"2008-07\", \"2008-08\", \"2008-09\", \"2008-10\", \"2008-11\", \"2008-12\", \"2009-01\", \"2009-02\", \"2009-03\", \"2009-04\", \"2009-05\", \"2009-06\", \"2009-07\", \"2009-08\", \"2009-09\", \"2009-10\", \"2009-11\", \"2009-12\", \"2010-01\", \"2010-02\", \"2010-03\", \"2010-04\", \"2010-05\", \"2010-06\", \"2010-07\", \"2010-08\", \"2010-09\", \"2010-10\", \"2010-11\", \"2010-12\", \"2011-01\", \"2011-02\", \"2011-03\", \"2011-04\", \"2011-05\", \"2011-06\", \"2011-07\", \"2011-08\", \"2011-09\", \"2011-10\", \"2011-11\", \"2011-12\", \"2012-01\", \"2012-02\", \"2012-03\", \"2012-04\", \"2012-05\", \"2012-06\", \"2012-07\", \"2012-08\", \"2012-09\", \"2012-10\", \"2012-11\", \"2012-12\", \"2013-01\", \"2013-02\", \"2013-03\", \"2013-04\", \"2013-05\", \"2013-06\", \"2013-07\", \"2013-08\", \"2013-09\", \"2013-10\", \"2013-11\", \"2013-12\", \"2014-01\", \"2014-02\", \"2014-03\", \"2014-04\", \"2014-05\", \"2014-06\", \"2014-07\", \"2014-08\", \"2014-09\", \"2014-10\", \"2014-11\", \"2014-12\", \"2015-01\", \"2015-02\", \"2015-03\", \"2015-04\", \"2015-05\", \"2015-06\", \"2015-07\", \"2015-08\", \"2015-09\", \"2015-10\", \"2015-11\", \"2015-12\", \"2016-01\", \"2016-02\", \"2016-03\", \"2016-04\", \"2016-05\", \"2016-06\", \"2016-07\", \"2016-08\", \"2016-09\", \"2016-10\", \"2016-11\", \"2016-12\", \"2017-01\", \"2017-02\", \"2017-03\", \"2017-04\", \"2017-05\", \"2017-06\"], \"xaxis\": \"x\", \"y\": [null, null, null, null, null, null, null, null, null, null, null, null, null, null, null, null, null, null, null, null, null, null, null, null, null, null, null, null, null, null, null, null, null, null, null, null, null, null, null, null, null, null, null, null, null, null, null, null, null, null, null, null, null, null, null, null, null, null, null, null, null, null, null, null, null, null, null, null, null, null, null, null, null, null, null, null, null, null, null, null, null, null, null, null, null, null, null, null, null, null, null, null, null, null, null, null, null, null, null, null, null, 1384000.0, 1325500.0, 1297400.0, 1313500.0, 1332400.0, 1314500.0, 1296700.0, 1295100.0, 1280000.0, 1255300.0, 1250800.0, 1261200.0, 1291100.0, 1333900.0, 1358500.0, 1382600.0, 1438800.0, 1473100.0, 1444500.0, 1407100.0, 1400300.0, 1401600.0, 1400500.0, 1393700.0, 1396100.0, 1413200.0, 1428200.0, 1442400.0, 1459000.0, 1466500.0, 1462000.0, 1464300.0, 1483300.0, 1514600.0, 1541900.0, 1563500.0, 1591300.0, 1609900.0, 1630300.0, 1639200.0, 1626700.0, 1618900.0, 1635400.0, 1642000.0, 1648300.0, 1671100.0, 1681400.0, 1691600.0, 1706200.0, 1711100.0, 1714100.0, 1733400.0, 1737700.0, 1719900.0, 1678200.0, 1628400.0, 1578300.0, 1528400.0, 1489200.0, 1467000.0, 1449400.0, 1432100.0, 1422700.0, 1402200.0, 1378600.0, 1372300.0, 1393100.0, 1430000.0, 1462100.0, 1476800.0, 1479000.0, 1476600.0, 1461200.0, 1448300.0, 1441600.0, 1444300.0, 1438600.0, 1434100.0, 1439300.0, 1437700.0, 1430300.0, 1426800.0, 1427800.0, 1424600.0, 1432800.0, 1456500.0, 1485100.0, 1500200.0, 1509600.0, 1518500.0, 1530800.0, 1538000.0, 1530500.0, 1524500.0, 1546500.0, 1574800.0, 1599600.0, 1622500.0, 1639000.0, 1656100.0, 1684600.0, 1703000.0, 1710000.0, 1734300.0, 1765200.0, 1786000.0, 1810700.0, 1841500.0, 1867600.0, 1882200.0, 1897000.0, 1917300.0, 1963400.0, 1999200.0, 2003500.0, 2007900.0, 2027700.0, 2043500.0, 2056300.0, 2064500.0, 2066000.0, 2057900.0, 2031300.0, 1999000.0, 1979200.0, 1982900.0, 2001600.0, 2014700.0, 2023500.0, 2055300.0, 2078300.0, 2083600.0, 2088800.0, 2110600.0, 2127500.0, 2168900.0, 2204700.0, 2216100.0, 2212500.0, 2222600.0, 2231900.0, 2250800.0, 2285200.0, 2329100.0, 2354000.0, 2355500.0, 2352200.0, 2332100.0, 2313300.0, 2319600.0, 2342100.0, 2365900.0, 2419700.0, 2480400.0], \"yaxis\": \"y\"}, {\"hoverlabel\": {\"namelength\": 0}, \"hovertemplate\": \"RegionName=10003<br>index=%{x}<br>value=%{y}\", \"legendgroup\": \"10003\", \"line\": {\"color\": \"#FFA15A\", \"dash\": \"solid\"}, \"mode\": \"lines\", \"name\": \"10003\", \"showlegend\": true, \"type\": \"scattergl\", \"x\": [\"1996-04\", \"1996-05\", \"1996-06\", \"1996-07\", \"1996-08\", \"1996-09\", \"1996-10\", \"1996-11\", \"1996-12\", \"1997-01\", \"1997-02\", \"1997-03\", \"1997-04\", \"1997-05\", \"1997-06\", \"1997-07\", \"1997-08\", \"1997-09\", \"1997-10\", \"1997-11\", \"1997-12\", \"1998-01\", \"1998-02\", \"1998-03\", \"1998-04\", \"1998-05\", \"1998-06\", \"1998-07\", \"1998-08\", \"1998-09\", \"1998-10\", \"1998-11\", \"1998-12\", \"1999-01\", \"1999-02\", \"1999-03\", \"1999-04\", \"1999-05\", \"1999-06\", \"1999-07\", \"1999-08\", \"1999-09\", \"1999-10\", \"1999-11\", \"1999-12\", \"2000-01\", \"2000-02\", \"2000-03\", \"2000-04\", \"2000-05\", \"2000-06\", \"2000-07\", \"2000-08\", \"2000-09\", \"2000-10\", \"2000-11\", \"2000-12\", \"2001-01\", \"2001-02\", \"2001-03\", \"2001-04\", \"2001-05\", \"2001-06\", \"2001-07\", \"2001-08\", \"2001-09\", \"2001-10\", \"2001-11\", \"2001-12\", \"2002-01\", \"2002-02\", \"2002-03\", \"2002-04\", \"2002-05\", \"2002-06\", \"2002-07\", \"2002-08\", \"2002-09\", \"2002-10\", \"2002-11\", \"2002-12\", \"2003-01\", \"2003-02\", \"2003-03\", \"2003-04\", \"2003-05\", \"2003-06\", \"2003-07\", \"2003-08\", \"2003-09\", \"2003-10\", \"2003-11\", \"2003-12\", \"2004-01\", \"2004-02\", \"2004-03\", \"2004-04\", \"2004-05\", \"2004-06\", \"2004-07\", \"2004-08\", \"2004-09\", \"2004-10\", \"2004-11\", \"2004-12\", \"2005-01\", \"2005-02\", \"2005-03\", \"2005-04\", \"2005-05\", \"2005-06\", \"2005-07\", \"2005-08\", \"2005-09\", \"2005-10\", \"2005-11\", \"2005-12\", \"2006-01\", \"2006-02\", \"2006-03\", \"2006-04\", \"2006-05\", \"2006-06\", \"2006-07\", \"2006-08\", \"2006-09\", \"2006-10\", \"2006-11\", \"2006-12\", \"2007-01\", \"2007-02\", \"2007-03\", \"2007-04\", \"2007-05\", \"2007-06\", \"2007-07\", \"2007-08\", \"2007-09\", \"2007-10\", \"2007-11\", \"2007-12\", \"2008-01\", \"2008-02\", \"2008-03\", \"2008-04\", \"2008-05\", \"2008-06\", \"2008-07\", \"2008-08\", \"2008-09\", \"2008-10\", \"2008-11\", \"2008-12\", \"2009-01\", \"2009-02\", \"2009-03\", \"2009-04\", \"2009-05\", \"2009-06\", \"2009-07\", \"2009-08\", \"2009-09\", \"2009-10\", \"2009-11\", \"2009-12\", \"2010-01\", \"2010-02\", \"2010-03\", \"2010-04\", \"2010-05\", \"2010-06\", \"2010-07\", \"2010-08\", \"2010-09\", \"2010-10\", \"2010-11\", \"2010-12\", \"2011-01\", \"2011-02\", \"2011-03\", \"2011-04\", \"2011-05\", \"2011-06\", \"2011-07\", \"2011-08\", \"2011-09\", \"2011-10\", \"2011-11\", \"2011-12\", \"2012-01\", \"2012-02\", \"2012-03\", \"2012-04\", \"2012-05\", \"2012-06\", \"2012-07\", \"2012-08\", \"2012-09\", \"2012-10\", \"2012-11\", \"2012-12\", \"2013-01\", \"2013-02\", \"2013-03\", \"2013-04\", \"2013-05\", \"2013-06\", \"2013-07\", \"2013-08\", \"2013-09\", \"2013-10\", \"2013-11\", \"2013-12\", \"2014-01\", \"2014-02\", \"2014-03\", \"2014-04\", \"2014-05\", \"2014-06\", \"2014-07\", \"2014-08\", \"2014-09\", \"2014-10\", \"2014-11\", \"2014-12\", \"2015-01\", \"2015-02\", \"2015-03\", \"2015-04\", \"2015-05\", \"2015-06\", \"2015-07\", \"2015-08\", \"2015-09\", \"2015-10\", \"2015-11\", \"2015-12\", \"2016-01\", \"2016-02\", \"2016-03\", \"2016-04\", \"2016-05\", \"2016-06\", \"2016-07\", \"2016-08\", \"2016-09\", \"2016-10\", \"2016-11\", \"2016-12\", \"2017-01\", \"2017-02\", \"2017-03\", \"2017-04\", \"2017-05\", \"2017-06\"], \"xaxis\": \"x\", \"y\": [null, null, null, null, null, null, null, null, null, null, null, null, null, null, null, null, null, null, null, null, null, null, null, null, null, null, null, null, null, null, null, null, null, null, null, null, null, null, null, null, null, null, null, null, null, null, null, null, null, null, null, null, null, null, null, null, null, null, null, null, null, null, null, null, null, null, null, null, null, null, null, null, null, null, null, null, null, null, null, null, null, null, null, null, null, null, null, null, null, null, null, null, null, null, null, null, null, null, null, null, null, 1387000.0, 1315300.0, 1265900.0, 1217100.0, 1167500.0, 1125800.0, 1106100.0, 1105900.0, 1119200.0, 1130100.0, 1127600.0, 1129900.0, 1168000.0, 1214000.0, 1236900.0, 1295200.0, 1398900.0, 1431700.0, 1377700.0, 1343100.0, 1351900.0, 1354000.0, 1358200.0, 1374800.0, 1378500.0, 1378400.0, 1418300.0, 1441000.0, 1427900.0, 1401900.0, 1391800.0, 1379800.0, 1371400.0, 1367700.0, 1400900.0, 1441100.0, 1475000.0, 1491500.0, 1504700.0, 1499200.0, 1481900.0, 1478800.0, 1509000.0, 1532700.0, 1524300.0, 1520600.0, 1533200.0, 1556600.0, 1586000.0, 1595200.0, 1578900.0, 1587000.0, 1627200.0, 1648100.0, 1614400.0, 1553000.0, 1486000.0, 1417000.0, 1375100.0, 1361300.0, 1333400.0, 1299700.0, 1296500.0, 1273900.0, 1227800.0, 1202600.0, 1207100.0, 1220100.0, 1252400.0, 1285700.0, 1278300.0, 1279100.0, 1326700.0, 1376500.0, 1368900.0, 1366000.0, 1381300.0, 1380700.0, 1368500.0, 1372700.0, 1378000.0, 1361700.0, 1357800.0, 1364400.0, 1358000.0, 1329800.0, 1317800.0, 1333200.0, 1348500.0, 1349500.0, 1352200.0, 1354100.0, 1351900.0, 1364200.0, 1376600.0, 1384200.0, 1387900.0, 1404200.0, 1419200.0, 1425700.0, 1435300.0, 1460300.0, 1466500.0, 1458100.0, 1465500.0, 1502300.0, 1563900.0, 1592000.0, 1596200.0, 1625200.0, 1672300.0, 1699500.0, 1718500.0, 1734300.0, 1748600.0, 1763700.0, 1766700.0, 1772200.0, 1762700.0, 1736700.0, 1712400.0, 1703700.0, 1702500.0, 1708800.0, 1716300.0, 1720500.0, 1721800.0, 1741800.0, 1775800.0, 1796500.0, 1821500.0, 1870100.0, 1901000.0, 1904900.0, 1914000.0, 1926400.0, 1932200.0, 1936700.0, 1945200.0, 1935600.0, 1911200.0, 1918700.0, 1947600.0, 1951300.0, 1932800.0, 1930400.0, 1937500.0, 1935100.0, 1915700.0, 1916500.0, 1965700.0, 2045300.0, 2109100.0, 2147000.0], \"yaxis\": \"y\"}, {\"hoverlabel\": {\"namelength\": 0}, \"hovertemplate\": \"RegionName=11201<br>index=%{x}<br>value=%{y}\", \"legendgroup\": \"11201\", \"line\": {\"color\": \"#19d3f3\", \"dash\": \"solid\"}, \"mode\": \"lines\", \"name\": \"11201\", \"showlegend\": true, \"type\": \"scattergl\", \"x\": [\"1996-04\", \"1996-05\", \"1996-06\", \"1996-07\", \"1996-08\", \"1996-09\", \"1996-10\", \"1996-11\", \"1996-12\", \"1997-01\", \"1997-02\", \"1997-03\", \"1997-04\", \"1997-05\", \"1997-06\", \"1997-07\", \"1997-08\", \"1997-09\", \"1997-10\", \"1997-11\", \"1997-12\", \"1998-01\", \"1998-02\", \"1998-03\", \"1998-04\", \"1998-05\", \"1998-06\", \"1998-07\", \"1998-08\", \"1998-09\", \"1998-10\", \"1998-11\", \"1998-12\", \"1999-01\", \"1999-02\", \"1999-03\", \"1999-04\", \"1999-05\", \"1999-06\", \"1999-07\", \"1999-08\", \"1999-09\", \"1999-10\", \"1999-11\", \"1999-12\", \"2000-01\", \"2000-02\", \"2000-03\", \"2000-04\", \"2000-05\", \"2000-06\", \"2000-07\", \"2000-08\", \"2000-09\", \"2000-10\", \"2000-11\", \"2000-12\", \"2001-01\", \"2001-02\", \"2001-03\", \"2001-04\", \"2001-05\", \"2001-06\", \"2001-07\", \"2001-08\", \"2001-09\", \"2001-10\", \"2001-11\", \"2001-12\", \"2002-01\", \"2002-02\", \"2002-03\", \"2002-04\", \"2002-05\", \"2002-06\", \"2002-07\", \"2002-08\", \"2002-09\", \"2002-10\", \"2002-11\", \"2002-12\", \"2003-01\", \"2003-02\", \"2003-03\", \"2003-04\", \"2003-05\", \"2003-06\", \"2003-07\", \"2003-08\", \"2003-09\", \"2003-10\", \"2003-11\", \"2003-12\", \"2004-01\", \"2004-02\", \"2004-03\", \"2004-04\", \"2004-05\", \"2004-06\", \"2004-07\", \"2004-08\", \"2004-09\", \"2004-10\", \"2004-11\", \"2004-12\", \"2005-01\", \"2005-02\", \"2005-03\", \"2005-04\", \"2005-05\", \"2005-06\", \"2005-07\", \"2005-08\", \"2005-09\", \"2005-10\", \"2005-11\", \"2005-12\", \"2006-01\", \"2006-02\", \"2006-03\", \"2006-04\", \"2006-05\", \"2006-06\", \"2006-07\", \"2006-08\", \"2006-09\", \"2006-10\", \"2006-11\", \"2006-12\", \"2007-01\", \"2007-02\", \"2007-03\", \"2007-04\", \"2007-05\", \"2007-06\", \"2007-07\", \"2007-08\", \"2007-09\", \"2007-10\", \"2007-11\", \"2007-12\", \"2008-01\", \"2008-02\", \"2008-03\", \"2008-04\", \"2008-05\", \"2008-06\", \"2008-07\", \"2008-08\", \"2008-09\", \"2008-10\", \"2008-11\", \"2008-12\", \"2009-01\", \"2009-02\", \"2009-03\", \"2009-04\", \"2009-05\", \"2009-06\", \"2009-07\", \"2009-08\", \"2009-09\", \"2009-10\", \"2009-11\", \"2009-12\", \"2010-01\", \"2010-02\", \"2010-03\", \"2010-04\", \"2010-05\", \"2010-06\", \"2010-07\", \"2010-08\", \"2010-09\", \"2010-10\", \"2010-11\", \"2010-12\", \"2011-01\", \"2011-02\", \"2011-03\", \"2011-04\", \"2011-05\", \"2011-06\", \"2011-07\", \"2011-08\", \"2011-09\", \"2011-10\", \"2011-11\", \"2011-12\", \"2012-01\", \"2012-02\", \"2012-03\", \"2012-04\", \"2012-05\", \"2012-06\", \"2012-07\", \"2012-08\", \"2012-09\", \"2012-10\", \"2012-11\", \"2012-12\", \"2013-01\", \"2013-02\", \"2013-03\", \"2013-04\", \"2013-05\", \"2013-06\", \"2013-07\", \"2013-08\", \"2013-09\", \"2013-10\", \"2013-11\", \"2013-12\", \"2014-01\", \"2014-02\", \"2014-03\", \"2014-04\", \"2014-05\", \"2014-06\", \"2014-07\", \"2014-08\", \"2014-09\", \"2014-10\", \"2014-11\", \"2014-12\", \"2015-01\", \"2015-02\", \"2015-03\", \"2015-04\", \"2015-05\", \"2015-06\", \"2015-07\", \"2015-08\", \"2015-09\", \"2015-10\", \"2015-11\", \"2015-12\", \"2016-01\", \"2016-02\", \"2016-03\", \"2016-04\", \"2016-05\", \"2016-06\", \"2016-07\", \"2016-08\", \"2016-09\", \"2016-10\", \"2016-11\", \"2016-12\", \"2017-01\", \"2017-02\", \"2017-03\", \"2017-04\", \"2017-05\", \"2017-06\"], \"xaxis\": \"x\", \"y\": [null, null, null, null, null, null, null, null, null, null, null, null, null, null, null, null, null, null, null, null, null, null, null, null, null, null, null, null, null, null, null, null, null, null, null, null, null, null, null, null, null, null, null, null, null, null, null, null, null, null, null, null, null, null, null, null, null, null, null, null, null, null, null, null, null, null, null, null, null, null, null, null, null, null, null, null, null, null, null, null, null, null, null, null, null, null, null, null, null, null, null, null, null, null, null, null, null, null, null, null, null, null, null, null, null, null, null, null, null, null, null, null, null, null, null, null, null, null, null, null, null, null, null, null, null, null, null, null, null, null, null, null, null, null, 600400.0, 574900.0, 564800.0, 556600.0, 545700.0, 534000.0, 521300.0, 521300.0, 537600.0, 559100.0, 580700.0, 608000.0, 637400.0, 661300.0, 682100.0, 694800.0, 698100.0, 696100.0, 700400.0, 704200.0, 702800.0, 697900.0, 693300.0, 692800.0, 694400.0, 694700.0, 692000.0, 693100.0, 704600.0, 723000.0, 736600.0, 742800.0, 747500.0, 750300.0, 753800.0, 758900.0, 764600.0, 767300.0, 769400.0, 772400.0, 779100.0, 785600.0, 786700.0, 782000.0, 782700.0, 785800.0, 784600.0, 785100.0, 795300.0, 799300.0, 798000.0, 801800.0, 808000.0, 808200.0, 805600.0, 805100.0, 813000.0, 825500.0, 835700.0, 839100.0, 836700.0, 836900.0, 843900.0, 852300.0, 857400.0, 859900.0, 858700.0, 857100.0, 856800.0, 863400.0, 875900.0, 891000.0, 909500.0, 937200.0, 965400.0, 992200.0, 1008700.0, 1014300.0, 1020800.0, 1040000.0, 1058000.0, 1074200.0, 1098300.0, 1124500.0, 1140900.0, 1156900.0, 1182000.0, 1207600.0, 1223800.0, 1231600.0, 1240500.0, 1253600.0, 1264500.0, 1270500.0, 1276300.0, 1289600.0, 1303800.0, 1305300.0, 1298900.0, 1301000.0, 1314200.0, 1322800.0, 1320500.0, 1318800.0, 1325600.0, 1333000.0, 1334800.0, 1333100.0, 1334600.0, 1339000.0, 1343000.0, 1340200.0, 1338700.0, 1350600.0, 1375600.0, 1390200.0, 1398100.0, 1399900.0, 1400500.0, 1407300.0, 1420700.0], \"yaxis\": \"y\"}, {\"hoverlabel\": {\"namelength\": 0}, \"hovertemplate\": \"RegionName=11234<br>index=%{x}<br>value=%{y}\", \"legendgroup\": \"11234\", \"line\": {\"color\": \"#FF6692\", \"dash\": \"solid\"}, \"mode\": \"lines\", \"name\": \"11234\", \"showlegend\": true, \"type\": \"scattergl\", \"x\": [\"1996-04\", \"1996-05\", \"1996-06\", \"1996-07\", \"1996-08\", \"1996-09\", \"1996-10\", \"1996-11\", \"1996-12\", \"1997-01\", \"1997-02\", \"1997-03\", \"1997-04\", \"1997-05\", \"1997-06\", \"1997-07\", \"1997-08\", \"1997-09\", \"1997-10\", \"1997-11\", \"1997-12\", \"1998-01\", \"1998-02\", \"1998-03\", \"1998-04\", \"1998-05\", \"1998-06\", \"1998-07\", \"1998-08\", \"1998-09\", \"1998-10\", \"1998-11\", \"1998-12\", \"1999-01\", \"1999-02\", \"1999-03\", \"1999-04\", \"1999-05\", \"1999-06\", \"1999-07\", \"1999-08\", \"1999-09\", \"1999-10\", \"1999-11\", \"1999-12\", \"2000-01\", \"2000-02\", \"2000-03\", \"2000-04\", \"2000-05\", \"2000-06\", \"2000-07\", \"2000-08\", \"2000-09\", \"2000-10\", \"2000-11\", \"2000-12\", \"2001-01\", \"2001-02\", \"2001-03\", \"2001-04\", \"2001-05\", \"2001-06\", \"2001-07\", \"2001-08\", \"2001-09\", \"2001-10\", \"2001-11\", \"2001-12\", \"2002-01\", \"2002-02\", \"2002-03\", \"2002-04\", \"2002-05\", \"2002-06\", \"2002-07\", \"2002-08\", \"2002-09\", \"2002-10\", \"2002-11\", \"2002-12\", \"2003-01\", \"2003-02\", \"2003-03\", \"2003-04\", \"2003-05\", \"2003-06\", \"2003-07\", \"2003-08\", \"2003-09\", \"2003-10\", \"2003-11\", \"2003-12\", \"2004-01\", \"2004-02\", \"2004-03\", \"2004-04\", \"2004-05\", \"2004-06\", \"2004-07\", \"2004-08\", \"2004-09\", \"2004-10\", \"2004-11\", \"2004-12\", \"2005-01\", \"2005-02\", \"2005-03\", \"2005-04\", \"2005-05\", \"2005-06\", \"2005-07\", \"2005-08\", \"2005-09\", \"2005-10\", \"2005-11\", \"2005-12\", \"2006-01\", \"2006-02\", \"2006-03\", \"2006-04\", \"2006-05\", \"2006-06\", \"2006-07\", \"2006-08\", \"2006-09\", \"2006-10\", \"2006-11\", \"2006-12\", \"2007-01\", \"2007-02\", \"2007-03\", \"2007-04\", \"2007-05\", \"2007-06\", \"2007-07\", \"2007-08\", \"2007-09\", \"2007-10\", \"2007-11\", \"2007-12\", \"2008-01\", \"2008-02\", \"2008-03\", \"2008-04\", \"2008-05\", \"2008-06\", \"2008-07\", \"2008-08\", \"2008-09\", \"2008-10\", \"2008-11\", \"2008-12\", \"2009-01\", \"2009-02\", \"2009-03\", \"2009-04\", \"2009-05\", \"2009-06\", \"2009-07\", \"2009-08\", \"2009-09\", \"2009-10\", \"2009-11\", \"2009-12\", \"2010-01\", \"2010-02\", \"2010-03\", \"2010-04\", \"2010-05\", \"2010-06\", \"2010-07\", \"2010-08\", \"2010-09\", \"2010-10\", \"2010-11\", \"2010-12\", \"2011-01\", \"2011-02\", \"2011-03\", \"2011-04\", \"2011-05\", \"2011-06\", \"2011-07\", \"2011-08\", \"2011-09\", \"2011-10\", \"2011-11\", \"2011-12\", \"2012-01\", \"2012-02\", \"2012-03\", \"2012-04\", \"2012-05\", \"2012-06\", \"2012-07\", \"2012-08\", \"2012-09\", \"2012-10\", \"2012-11\", \"2012-12\", \"2013-01\", \"2013-02\", \"2013-03\", \"2013-04\", \"2013-05\", \"2013-06\", \"2013-07\", \"2013-08\", \"2013-09\", \"2013-10\", \"2013-11\", \"2013-12\", \"2014-01\", \"2014-02\", \"2014-03\", \"2014-04\", \"2014-05\", \"2014-06\", \"2014-07\", \"2014-08\", \"2014-09\", \"2014-10\", \"2014-11\", \"2014-12\", \"2015-01\", \"2015-02\", \"2015-03\", \"2015-04\", \"2015-05\", \"2015-06\", \"2015-07\", \"2015-08\", \"2015-09\", \"2015-10\", \"2015-11\", \"2015-12\", \"2016-01\", \"2016-02\", \"2016-03\", \"2016-04\", \"2016-05\", \"2016-06\", \"2016-07\", \"2016-08\", \"2016-09\", \"2016-10\", \"2016-11\", \"2016-12\", \"2017-01\", \"2017-02\", \"2017-03\", \"2017-04\", \"2017-05\", \"2017-06\"], \"xaxis\": \"x\", \"y\": [null, null, null, null, null, null, null, null, null, null, null, null, null, null, null, null, null, null, null, null, null, null, null, null, null, null, null, null, null, null, null, null, null, null, null, null, null, null, null, null, null, null, null, null, null, null, null, null, null, null, null, null, null, null, null, null, null, null, null, null, null, null, null, null, null, null, null, null, null, null, null, null, null, null, null, null, null, null, null, null, null, null, null, null, null, null, null, null, null, null, null, null, 281100.0, 296100.0, 304100.0, 304700.0, 308700.0, 319600.0, 325800.0, 327400.0, 330500.0, 333800.0, 335400.0, 336800.0, 335600.0, 333000.0, 333700.0, 337600.0, 341300.0, 344900.0, 344000.0, 341100.0, 342500.0, 349100.0, 354200.0, 361500.0, 372400.0, 383600.0, 393900.0, 405000.0, 416000.0, 425100.0, 430100.0, 430500.0, 429100.0, 428400.0, 428700.0, 428200.0, 425000.0, 420600.0, 417900.0, 416600.0, 415100.0, 413100.0, 410600.0, 407900.0, 405800.0, 406600.0, 408600.0, 409400.0, 405500.0, 400600.0, 399800.0, 402900.0, 404900.0, 406100.0, 406200.0, 407100.0, 408900.0, 408400.0, 402400.0, 395400.0, 392700.0, 391600.0, 387600.0, 382800.0, 379500.0, 375700.0, 371500.0, 369100.0, 367300.0, 365400.0, 364000.0, 364300.0, 369700.0, 378700.0, 386600.0, 391600.0, 392900.0, 392900.0, 393800.0, 392800.0, 390800.0, 390400.0, 390000.0, 389900.0, 388400.0, 387100.0, 385300.0, 380700.0, 377000.0, 377900.0, 377200.0, 373100.0, 371400.0, 370700.0, 368500.0, 366600.0, 365500.0, 362100.0, 360400.0, 361300.0, 362500.0, 363700.0, 365900.0, 368000.0, 369100.0, 371100.0, 374000.0, 374600.0, 373700.0, 374200.0, 374200.0, 373300.0, 372100.0, 371100.0, 372600.0, 374500.0, 375600.0, 377500.0, 381800.0, 384800.0, 385200.0, 385600.0, 388600.0, 391500.0, 393400.0, 395100.0, 396800.0, 399000.0, 399000.0, 395700.0, 393000.0, 393100.0, 392600.0, 392500.0, 396200.0, 401200.0, 404900.0, 409000.0, 414500.0, 419000.0, 423300.0, 428700.0, 432500.0, 433400.0, 435600.0, 437800.0, 436200.0, 434600.0, 437600.0, 440100.0, 437900.0, 438700.0, 443600.0, 448400.0, 452300.0, 457200.0, 461200.0, 464400.0, 466400.0, 470900.0, 475700.0, 477100.0, 476900.0], \"yaxis\": \"y\"}, {\"hoverlabel\": {\"namelength\": 0}, \"hovertemplate\": \"RegionName=10314<br>index=%{x}<br>value=%{y}\", \"legendgroup\": \"10314\", \"line\": {\"color\": \"#B6E880\", \"dash\": \"solid\"}, \"mode\": \"lines\", \"name\": \"10314\", \"showlegend\": true, \"type\": \"scattergl\", \"x\": [\"1996-04\", \"1996-05\", \"1996-06\", \"1996-07\", \"1996-08\", \"1996-09\", \"1996-10\", \"1996-11\", \"1996-12\", \"1997-01\", \"1997-02\", \"1997-03\", \"1997-04\", \"1997-05\", \"1997-06\", \"1997-07\", \"1997-08\", \"1997-09\", \"1997-10\", \"1997-11\", \"1997-12\", \"1998-01\", \"1998-02\", \"1998-03\", \"1998-04\", \"1998-05\", \"1998-06\", \"1998-07\", \"1998-08\", \"1998-09\", \"1998-10\", \"1998-11\", \"1998-12\", \"1999-01\", \"1999-02\", \"1999-03\", \"1999-04\", \"1999-05\", \"1999-06\", \"1999-07\", \"1999-08\", \"1999-09\", \"1999-10\", \"1999-11\", \"1999-12\", \"2000-01\", \"2000-02\", \"2000-03\", \"2000-04\", \"2000-05\", \"2000-06\", \"2000-07\", \"2000-08\", \"2000-09\", \"2000-10\", \"2000-11\", \"2000-12\", \"2001-01\", \"2001-02\", \"2001-03\", \"2001-04\", \"2001-05\", \"2001-06\", \"2001-07\", \"2001-08\", \"2001-09\", \"2001-10\", \"2001-11\", \"2001-12\", \"2002-01\", \"2002-02\", \"2002-03\", \"2002-04\", \"2002-05\", \"2002-06\", \"2002-07\", \"2002-08\", \"2002-09\", \"2002-10\", \"2002-11\", \"2002-12\", \"2003-01\", \"2003-02\", \"2003-03\", \"2003-04\", \"2003-05\", \"2003-06\", \"2003-07\", \"2003-08\", \"2003-09\", \"2003-10\", \"2003-11\", \"2003-12\", \"2004-01\", \"2004-02\", \"2004-03\", \"2004-04\", \"2004-05\", \"2004-06\", \"2004-07\", \"2004-08\", \"2004-09\", \"2004-10\", \"2004-11\", \"2004-12\", \"2005-01\", \"2005-02\", \"2005-03\", \"2005-04\", \"2005-05\", \"2005-06\", \"2005-07\", \"2005-08\", \"2005-09\", \"2005-10\", \"2005-11\", \"2005-12\", \"2006-01\", \"2006-02\", \"2006-03\", \"2006-04\", \"2006-05\", \"2006-06\", \"2006-07\", \"2006-08\", \"2006-09\", \"2006-10\", \"2006-11\", \"2006-12\", \"2007-01\", \"2007-02\", \"2007-03\", \"2007-04\", \"2007-05\", \"2007-06\", \"2007-07\", \"2007-08\", \"2007-09\", \"2007-10\", \"2007-11\", \"2007-12\", \"2008-01\", \"2008-02\", \"2008-03\", \"2008-04\", \"2008-05\", \"2008-06\", \"2008-07\", \"2008-08\", \"2008-09\", \"2008-10\", \"2008-11\", \"2008-12\", \"2009-01\", \"2009-02\", \"2009-03\", \"2009-04\", \"2009-05\", \"2009-06\", \"2009-07\", \"2009-08\", \"2009-09\", \"2009-10\", \"2009-11\", \"2009-12\", \"2010-01\", \"2010-02\", \"2010-03\", \"2010-04\", \"2010-05\", \"2010-06\", \"2010-07\", \"2010-08\", \"2010-09\", \"2010-10\", \"2010-11\", \"2010-12\", \"2011-01\", \"2011-02\", \"2011-03\", \"2011-04\", \"2011-05\", \"2011-06\", \"2011-07\", \"2011-08\", \"2011-09\", \"2011-10\", \"2011-11\", \"2011-12\", \"2012-01\", \"2012-02\", \"2012-03\", \"2012-04\", \"2012-05\", \"2012-06\", \"2012-07\", \"2012-08\", \"2012-09\", \"2012-10\", \"2012-11\", \"2012-12\", \"2013-01\", \"2013-02\", \"2013-03\", \"2013-04\", \"2013-05\", \"2013-06\", \"2013-07\", \"2013-08\", \"2013-09\", \"2013-10\", \"2013-11\", \"2013-12\", \"2014-01\", \"2014-02\", \"2014-03\", \"2014-04\", \"2014-05\", \"2014-06\", \"2014-07\", \"2014-08\", \"2014-09\", \"2014-10\", \"2014-11\", \"2014-12\", \"2015-01\", \"2015-02\", \"2015-03\", \"2015-04\", \"2015-05\", \"2015-06\", \"2015-07\", \"2015-08\", \"2015-09\", \"2015-10\", \"2015-11\", \"2015-12\", \"2016-01\", \"2016-02\", \"2016-03\", \"2016-04\", \"2016-05\", \"2016-06\", \"2016-07\", \"2016-08\", \"2016-09\", \"2016-10\", \"2016-11\", \"2016-12\", \"2017-01\", \"2017-02\", \"2017-03\", \"2017-04\", \"2017-05\", \"2017-06\"], \"xaxis\": \"x\", \"y\": [123100.0, 124000.0, 123900.0, 123300.0, 122900.0, 122600.0, 122000.0, 121300.0, 120600.0, 119100.0, 117700.0, 116500.0, 115100.0, 113600.0, 113000.0, 112900.0, 113300.0, 113800.0, 114100.0, 114300.0, 115000.0, 116100.0, 117500.0, 118400.0, 118700.0, 119000.0, 119700.0, 120100.0, 119900.0, 119800.0, 120100.0, 120500.0, 120700.0, 121200.0, 121600.0, 121600.0, 121800.0, 122800.0, 124400.0, 125900.0, 127000.0, 128000.0, 129500.0, 131200.0, 132400.0, 133600.0, 135400.0, 137400.0, 138700.0, 140100.0, 141700.0, 143200.0, 145000.0, 146700.0, 148300.0, 149600.0, 151100.0, 152800.0, 154900.0, 156700.0, 158300.0, 159200.0, 159900.0, 161300.0, 162600.0, 163700.0, 165300.0, 167200.0, 169000.0, 170700.0, 172700.0, 175600.0, 178400.0, 179700.0, 180200.0, 181400.0, 183900.0, 187200.0, 190000.0, 191900.0, 194200.0, 197100.0, 199900.0, 201800.0, 204000.0, 207300.0, 211100.0, 214500.0, 217700.0, 220300.0, 222500.0, 225200.0, 228000.0, 230600.0, 232700.0, 234600.0, 236900.0, 240000.0, 243000.0, 245000.0, 246800.0, 249200.0, 252100.0, 255700.0, 259700.0, 263300.0, 266800.0, 271300.0, 275600.0, 279600.0, 283400.0, 287400.0, 290500.0, 293700.0, 297000.0, 299900.0, 301300.0, 302200.0, 303900.0, 305400.0, 306400.0, 308000.0, 309800.0, 311800.0, 313600.0, 314200.0, 314400.0, 314600.0, 314400.0, 313300.0, 312200.0, 312000.0, 312800.0, 313900.0, 314200.0, 313600.0, 313400.0, 314300.0, 315300.0, 315300.0, 313700.0, 311600.0, 310100.0, 309300.0, 308300.0, 307200.0, 305700.0, 303900.0, 301900.0, 300100.0, 298300.0, 295400.0, 292700.0, 292000.0, 291800.0, 291100.0, 290600.0, 289800.0, 287700.0, 285400.0, 283400.0, 281500.0, 280500.0, 280500.0, 284000.0, 288700.0, 290800.0, 290200.0, 289200.0, 287000.0, 286000.0, 286800.0, 287600.0, 287200.0, 285200.0, 283300.0, 282200.0, 281400.0, 280300.0, 279000.0, 276800.0, 275100.0, 274500.0, 275300.0, 275400.0, 273500.0, 271400.0, 271100.0, 270900.0, 269600.0, 268500.0, 268300.0, 268500.0, 268800.0, 268700.0, 267600.0, 266700.0, 267000.0, 268700.0, 270400.0, 271200.0, 271000.0, 271200.0, 272400.0, 272800.0, 273100.0, 274100.0, 274500.0, 274900.0, 276600.0, 278300.0, 278700.0, 279400.0, 279800.0, 280400.0, 281400.0, 282400.0, 282600.0, 282700.0, 283700.0, 285200.0, 286800.0, 287900.0, 288700.0, 287600.0, 286200.0, 285100.0, 284300.0, 284600.0, 287400.0, 290600.0, 293500.0, 295700.0, 297200.0, 299000.0, 301000.0, 302600.0, 303900.0, 305200.0, 307000.0, 310200.0, 312800.0, 315200.0, 317800.0, 320400.0, 322600.0, 325000.0, 326900.0, 328800.0, 332600.0, 338600.0, 344100.0, 347800.0, 352300.0, 357300.0], \"yaxis\": \"y\"}, {\"hoverlabel\": {\"namelength\": 0}, \"hovertemplate\": \"RegionName=11215<br>index=%{x}<br>value=%{y}\", \"legendgroup\": \"11215\", \"line\": {\"color\": \"#FF97FF\", \"dash\": \"solid\"}, \"mode\": \"lines\", \"name\": \"11215\", \"showlegend\": true, \"type\": \"scattergl\", \"x\": [\"1996-04\", \"1996-05\", \"1996-06\", \"1996-07\", \"1996-08\", \"1996-09\", \"1996-10\", \"1996-11\", \"1996-12\", \"1997-01\", \"1997-02\", \"1997-03\", \"1997-04\", \"1997-05\", \"1997-06\", \"1997-07\", \"1997-08\", \"1997-09\", \"1997-10\", \"1997-11\", \"1997-12\", \"1998-01\", \"1998-02\", \"1998-03\", \"1998-04\", \"1998-05\", \"1998-06\", \"1998-07\", \"1998-08\", \"1998-09\", \"1998-10\", \"1998-11\", \"1998-12\", \"1999-01\", \"1999-02\", \"1999-03\", \"1999-04\", \"1999-05\", \"1999-06\", \"1999-07\", \"1999-08\", \"1999-09\", \"1999-10\", \"1999-11\", \"1999-12\", \"2000-01\", \"2000-02\", \"2000-03\", \"2000-04\", \"2000-05\", \"2000-06\", \"2000-07\", \"2000-08\", \"2000-09\", \"2000-10\", \"2000-11\", \"2000-12\", \"2001-01\", \"2001-02\", \"2001-03\", \"2001-04\", \"2001-05\", \"2001-06\", \"2001-07\", \"2001-08\", \"2001-09\", \"2001-10\", \"2001-11\", \"2001-12\", \"2002-01\", \"2002-02\", \"2002-03\", \"2002-04\", \"2002-05\", \"2002-06\", \"2002-07\", \"2002-08\", \"2002-09\", \"2002-10\", \"2002-11\", \"2002-12\", \"2003-01\", \"2003-02\", \"2003-03\", \"2003-04\", \"2003-05\", \"2003-06\", \"2003-07\", \"2003-08\", \"2003-09\", \"2003-10\", \"2003-11\", \"2003-12\", \"2004-01\", \"2004-02\", \"2004-03\", \"2004-04\", \"2004-05\", \"2004-06\", \"2004-07\", \"2004-08\", \"2004-09\", \"2004-10\", \"2004-11\", \"2004-12\", \"2005-01\", \"2005-02\", \"2005-03\", \"2005-04\", \"2005-05\", \"2005-06\", \"2005-07\", \"2005-08\", \"2005-09\", \"2005-10\", \"2005-11\", \"2005-12\", \"2006-01\", \"2006-02\", \"2006-03\", \"2006-04\", \"2006-05\", \"2006-06\", \"2006-07\", \"2006-08\", \"2006-09\", \"2006-10\", \"2006-11\", \"2006-12\", \"2007-01\", \"2007-02\", \"2007-03\", \"2007-04\", \"2007-05\", \"2007-06\", \"2007-07\", \"2007-08\", \"2007-09\", \"2007-10\", \"2007-11\", \"2007-12\", \"2008-01\", \"2008-02\", \"2008-03\", \"2008-04\", \"2008-05\", \"2008-06\", \"2008-07\", \"2008-08\", \"2008-09\", \"2008-10\", \"2008-11\", \"2008-12\", \"2009-01\", \"2009-02\", \"2009-03\", \"2009-04\", \"2009-05\", \"2009-06\", \"2009-07\", \"2009-08\", \"2009-09\", \"2009-10\", \"2009-11\", \"2009-12\", \"2010-01\", \"2010-02\", \"2010-03\", \"2010-04\", \"2010-05\", \"2010-06\", \"2010-07\", \"2010-08\", \"2010-09\", \"2010-10\", \"2010-11\", \"2010-12\", \"2011-01\", \"2011-02\", \"2011-03\", \"2011-04\", \"2011-05\", \"2011-06\", \"2011-07\", \"2011-08\", \"2011-09\", \"2011-10\", \"2011-11\", \"2011-12\", \"2012-01\", \"2012-02\", \"2012-03\", \"2012-04\", \"2012-05\", \"2012-06\", \"2012-07\", \"2012-08\", \"2012-09\", \"2012-10\", \"2012-11\", \"2012-12\", \"2013-01\", \"2013-02\", \"2013-03\", \"2013-04\", \"2013-05\", \"2013-06\", \"2013-07\", \"2013-08\", \"2013-09\", \"2013-10\", \"2013-11\", \"2013-12\", \"2014-01\", \"2014-02\", \"2014-03\", \"2014-04\", \"2014-05\", \"2014-06\", \"2014-07\", \"2014-08\", \"2014-09\", \"2014-10\", \"2014-11\", \"2014-12\", \"2015-01\", \"2015-02\", \"2015-03\", \"2015-04\", \"2015-05\", \"2015-06\", \"2015-07\", \"2015-08\", \"2015-09\", \"2015-10\", \"2015-11\", \"2015-12\", \"2016-01\", \"2016-02\", \"2016-03\", \"2016-04\", \"2016-05\", \"2016-06\", \"2016-07\", \"2016-08\", \"2016-09\", \"2016-10\", \"2016-11\", \"2016-12\", \"2017-01\", \"2017-02\", \"2017-03\", \"2017-04\", \"2017-05\", \"2017-06\"], \"xaxis\": \"x\", \"y\": [null, null, null, null, null, null, null, null, null, null, null, null, null, null, null, null, null, null, null, null, null, null, null, null, null, null, null, null, null, null, null, null, null, null, null, null, null, null, null, null, null, null, null, null, null, null, null, null, null, null, null, null, null, null, null, null, null, null, null, null, null, null, null, null, null, null, null, null, null, null, null, null, null, null, null, null, null, null, null, null, null, null, null, null, null, null, null, null, null, null, null, null, null, null, null, null, null, null, 534900.0, 536300.0, 537300.0, 540400.0, 540000.0, 538100.0, 531300.0, 521600.0, 511300.0, 502900.0, 495900.0, 485100.0, 472600.0, 464700.0, 464100.0, 473300.0, 485900.0, 494500.0, 494800.0, 498100.0, 508200.0, 514900.0, 512900.0, 517100.0, 527900.0, 536100.0, 543500.0, 542000.0, 524300.0, 508800.0, 509000.0, 512600.0, 502400.0, 494800.0, 498200.0, 511600.0, 503100.0, 490300.0, 483200.0, 483200.0, 483400.0, 501100.0, 511200.0, 503700.0, 495400.0, 500200.0, 508300.0, 513600.0, 517700.0, 520500.0, 523000.0, 527300.0, 533700.0, 537900.0, 539600.0, 539300.0, 539300.0, 537400.0, 531000.0, 524200.0, 520700.0, 513000.0, 505000.0, 502800.0, 504500.0, 499300.0, 507700.0, 529300.0, 544800.0, 540900.0, 538300.0, 536800.0, 539400.0, 546600.0, 553100.0, 553900.0, 559000.0, 569100.0, 573200.0, 573100.0, 579600.0, 588800.0, 592200.0, 592700.0, 600100.0, 610400.0, 616600.0, 619800.0, 619800.0, 617100.0, 611100.0, 605800.0, 606000.0, 611200.0, 615100.0, 615000.0, 616600.0, 620400.0, 628100.0, 637700.0, 648600.0, 652300.0, 652300.0, 657500.0, 664200.0, 668200.0, 676200.0, 692400.0, 708300.0, 722400.0, 738200.0, 759300.0, 778400.0, 788700.0, 794100.0, 800800.0, 812600.0, 827600.0, 840300.0, 852300.0, 864300.0, 868800.0, 866300.0, 861600.0, 860800.0, 866100.0, 871800.0, 877100.0, 890000.0, 907400.0, 920600.0, 925700.0, 936300.0, 954000.0, 969700.0, 973200.0, 971300.0, 974100.0, 978100.0, 975400.0, 967200.0, 963800.0, 962500.0, 966100.0, 971500.0, 975300.0, 976200.0, 982200.0, 992000.0, 1002600.0, 1021400.0, 1039300.0, 1040800.0, 1035800.0, 1050000.0, 1066200.0, 1070800.0], \"yaxis\": \"y\"}, {\"hoverlabel\": {\"namelength\": 0}, \"hovertemplate\": \"RegionName=10028<br>index=%{x}<br>value=%{y}\", \"legendgroup\": \"10028\", \"line\": {\"color\": \"#FECB52\", \"dash\": \"solid\"}, \"mode\": \"lines\", \"name\": \"10028\", \"showlegend\": true, \"type\": \"scattergl\", \"x\": [\"1996-04\", \"1996-05\", \"1996-06\", \"1996-07\", \"1996-08\", \"1996-09\", \"1996-10\", \"1996-11\", \"1996-12\", \"1997-01\", \"1997-02\", \"1997-03\", \"1997-04\", \"1997-05\", \"1997-06\", \"1997-07\", \"1997-08\", \"1997-09\", \"1997-10\", \"1997-11\", \"1997-12\", \"1998-01\", \"1998-02\", \"1998-03\", \"1998-04\", \"1998-05\", \"1998-06\", \"1998-07\", \"1998-08\", \"1998-09\", \"1998-10\", \"1998-11\", \"1998-12\", \"1999-01\", \"1999-02\", \"1999-03\", \"1999-04\", \"1999-05\", \"1999-06\", \"1999-07\", \"1999-08\", \"1999-09\", \"1999-10\", \"1999-11\", \"1999-12\", \"2000-01\", \"2000-02\", \"2000-03\", \"2000-04\", \"2000-05\", \"2000-06\", \"2000-07\", \"2000-08\", \"2000-09\", \"2000-10\", \"2000-11\", \"2000-12\", \"2001-01\", \"2001-02\", \"2001-03\", \"2001-04\", \"2001-05\", \"2001-06\", \"2001-07\", \"2001-08\", \"2001-09\", \"2001-10\", \"2001-11\", \"2001-12\", \"2002-01\", \"2002-02\", \"2002-03\", \"2002-04\", \"2002-05\", \"2002-06\", \"2002-07\", \"2002-08\", \"2002-09\", \"2002-10\", \"2002-11\", \"2002-12\", \"2003-01\", \"2003-02\", \"2003-03\", \"2003-04\", \"2003-05\", \"2003-06\", \"2003-07\", \"2003-08\", \"2003-09\", \"2003-10\", \"2003-11\", \"2003-12\", \"2004-01\", \"2004-02\", \"2004-03\", \"2004-04\", \"2004-05\", \"2004-06\", \"2004-07\", \"2004-08\", \"2004-09\", \"2004-10\", \"2004-11\", \"2004-12\", \"2005-01\", \"2005-02\", \"2005-03\", \"2005-04\", \"2005-05\", \"2005-06\", \"2005-07\", \"2005-08\", \"2005-09\", \"2005-10\", \"2005-11\", \"2005-12\", \"2006-01\", \"2006-02\", \"2006-03\", \"2006-04\", \"2006-05\", \"2006-06\", \"2006-07\", \"2006-08\", \"2006-09\", \"2006-10\", \"2006-11\", \"2006-12\", \"2007-01\", \"2007-02\", \"2007-03\", \"2007-04\", \"2007-05\", \"2007-06\", \"2007-07\", \"2007-08\", \"2007-09\", \"2007-10\", \"2007-11\", \"2007-12\", \"2008-01\", \"2008-02\", \"2008-03\", \"2008-04\", \"2008-05\", \"2008-06\", \"2008-07\", \"2008-08\", \"2008-09\", \"2008-10\", \"2008-11\", \"2008-12\", \"2009-01\", \"2009-02\", \"2009-03\", \"2009-04\", \"2009-05\", \"2009-06\", \"2009-07\", \"2009-08\", \"2009-09\", \"2009-10\", \"2009-11\", \"2009-12\", \"2010-01\", \"2010-02\", \"2010-03\", \"2010-04\", \"2010-05\", \"2010-06\", \"2010-07\", \"2010-08\", \"2010-09\", \"2010-10\", \"2010-11\", \"2010-12\", \"2011-01\", \"2011-02\", \"2011-03\", \"2011-04\", \"2011-05\", \"2011-06\", \"2011-07\", \"2011-08\", \"2011-09\", \"2011-10\", \"2011-11\", \"2011-12\", \"2012-01\", \"2012-02\", \"2012-03\", \"2012-04\", \"2012-05\", \"2012-06\", \"2012-07\", \"2012-08\", \"2012-09\", \"2012-10\", \"2012-11\", \"2012-12\", \"2013-01\", \"2013-02\", \"2013-03\", \"2013-04\", \"2013-05\", \"2013-06\", \"2013-07\", \"2013-08\", \"2013-09\", \"2013-10\", \"2013-11\", \"2013-12\", \"2014-01\", \"2014-02\", \"2014-03\", \"2014-04\", \"2014-05\", \"2014-06\", \"2014-07\", \"2014-08\", \"2014-09\", \"2014-10\", \"2014-11\", \"2014-12\", \"2015-01\", \"2015-02\", \"2015-03\", \"2015-04\", \"2015-05\", \"2015-06\", \"2015-07\", \"2015-08\", \"2015-09\", \"2015-10\", \"2015-11\", \"2015-12\", \"2016-01\", \"2016-02\", \"2016-03\", \"2016-04\", \"2016-05\", \"2016-06\", \"2016-07\", \"2016-08\", \"2016-09\", \"2016-10\", \"2016-11\", \"2016-12\", \"2017-01\", \"2017-02\", \"2017-03\", \"2017-04\", \"2017-05\", \"2017-06\"], \"xaxis\": \"x\", \"y\": [null, null, null, null, null, null, null, null, null, null, null, null, null, null, null, null, null, null, null, null, null, null, null, null, null, null, null, null, null, null, null, null, null, null, null, null, null, null, null, null, null, null, null, null, null, null, null, null, null, null, null, null, null, null, null, null, null, null, null, null, null, null, null, null, null, null, null, null, null, null, null, null, null, null, null, null, null, null, null, null, null, null, null, null, null, null, null, null, null, null, null, null, null, null, null, null, null, null, null, null, null, null, 1281400.0, 1264500.0, 1245900.0, 1229900.0, 1207300.0, 1195400.0, 1175200.0, 1149900.0, 1140000.0, 1146100.0, 1146500.0, 1158100.0, 1190900.0, 1217000.0, 1233000.0, 1262800.0, 1292600.0, 1284900.0, 1268900.0, 1275000.0, 1281700.0, 1302000.0, 1350000.0, 1375900.0, 1352300.0, 1333500.0, 1347500.0, 1359400.0, 1348100.0, 1335900.0, 1340500.0, 1355000.0, 1362600.0, 1366800.0, 1367700.0, 1388000.0, 1402500.0, 1401000.0, 1407600.0, 1429000.0, 1429300.0, 1419200.0, 1428500.0, 1462000.0, 1486900.0, 1496800.0, 1493000.0, 1487400.0, 1463500.0, 1431100.0, 1419100.0, 1439700.0, 1427800.0, 1382600.0, 1324200.0, 1253700.0, 1200400.0, 1186300.0, 1186100.0, 1169200.0, 1154400.0, 1164400.0, 1160400.0, 1126000.0, 1107300.0, 1116100.0, 1138500.0, 1175900.0, 1199700.0, 1198700.0, 1205000.0, 1237500.0, 1276200.0, 1304400.0, 1310800.0, 1310700.0, 1318200.0, 1321900.0, 1309200.0, 1298700.0, 1289000.0, 1258400.0, 1238900.0, 1247100.0, 1260600.0, 1255000.0, 1250200.0, 1249200.0, 1253400.0, 1275300.0, 1314200.0, 1329400.0, 1316900.0, 1307800.0, 1304100.0, 1295700.0, 1289600.0, 1290800.0, 1315600.0, 1344700.0, 1368600.0, 1378300.0, 1378000.0, 1363500.0, 1365200.0, 1387600.0, 1421900.0, 1439900.0, 1458900.0, 1486700.0, 1511300.0, 1517900.0, 1526900.0, 1538900.0, 1548600.0, 1551600.0, 1575300.0, 1605200.0, 1611600.0, 1600700.0, 1594600.0, 1582700.0, 1582600.0, 1583200.0, 1553800.0, 1518000.0, 1508800.0, 1515900.0, 1532800.0, 1548500.0, 1550500.0, 1550200.0, 1560600.0, 1575700.0, 1587100.0, 1610900.0, 1646100.0, 1659500.0, 1648100.0, 1654800.0, 1693800.0, 1745600.0, 1790400.0, 1814600.0, 1820400.0, 1810000.0, 1786500.0, 1787100.0, 1801100.0, 1847900.0, 1922800.0, 2015700.0, 2083900.0], \"yaxis\": \"y\"}, {\"hoverlabel\": {\"namelength\": 0}, \"hovertemplate\": \"RegionName=10021<br>index=%{x}<br>value=%{y}\", \"legendgroup\": \"10021\", \"line\": {\"color\": \"#636efa\", \"dash\": \"solid\"}, \"mode\": \"lines\", \"name\": \"10021\", \"showlegend\": true, \"type\": \"scattergl\", \"x\": [\"1996-04\", \"1996-05\", \"1996-06\", \"1996-07\", \"1996-08\", \"1996-09\", \"1996-10\", \"1996-11\", \"1996-12\", \"1997-01\", \"1997-02\", \"1997-03\", \"1997-04\", \"1997-05\", \"1997-06\", \"1997-07\", \"1997-08\", \"1997-09\", \"1997-10\", \"1997-11\", \"1997-12\", \"1998-01\", \"1998-02\", \"1998-03\", \"1998-04\", \"1998-05\", \"1998-06\", \"1998-07\", \"1998-08\", \"1998-09\", \"1998-10\", \"1998-11\", \"1998-12\", \"1999-01\", \"1999-02\", \"1999-03\", \"1999-04\", \"1999-05\", \"1999-06\", \"1999-07\", \"1999-08\", \"1999-09\", \"1999-10\", \"1999-11\", \"1999-12\", \"2000-01\", \"2000-02\", \"2000-03\", \"2000-04\", \"2000-05\", \"2000-06\", \"2000-07\", \"2000-08\", \"2000-09\", \"2000-10\", \"2000-11\", \"2000-12\", \"2001-01\", \"2001-02\", \"2001-03\", \"2001-04\", \"2001-05\", \"2001-06\", \"2001-07\", \"2001-08\", \"2001-09\", \"2001-10\", \"2001-11\", \"2001-12\", \"2002-01\", \"2002-02\", \"2002-03\", \"2002-04\", \"2002-05\", \"2002-06\", \"2002-07\", \"2002-08\", \"2002-09\", \"2002-10\", \"2002-11\", \"2002-12\", \"2003-01\", \"2003-02\", \"2003-03\", \"2003-04\", \"2003-05\", \"2003-06\", \"2003-07\", \"2003-08\", \"2003-09\", \"2003-10\", \"2003-11\", \"2003-12\", \"2004-01\", \"2004-02\", \"2004-03\", \"2004-04\", \"2004-05\", \"2004-06\", \"2004-07\", \"2004-08\", \"2004-09\", \"2004-10\", \"2004-11\", \"2004-12\", \"2005-01\", \"2005-02\", \"2005-03\", \"2005-04\", \"2005-05\", \"2005-06\", \"2005-07\", \"2005-08\", \"2005-09\", \"2005-10\", \"2005-11\", \"2005-12\", \"2006-01\", \"2006-02\", \"2006-03\", \"2006-04\", \"2006-05\", \"2006-06\", \"2006-07\", \"2006-08\", \"2006-09\", \"2006-10\", \"2006-11\", \"2006-12\", \"2007-01\", \"2007-02\", \"2007-03\", \"2007-04\", \"2007-05\", \"2007-06\", \"2007-07\", \"2007-08\", \"2007-09\", \"2007-10\", \"2007-11\", \"2007-12\", \"2008-01\", \"2008-02\", \"2008-03\", \"2008-04\", \"2008-05\", \"2008-06\", \"2008-07\", \"2008-08\", \"2008-09\", \"2008-10\", \"2008-11\", \"2008-12\", \"2009-01\", \"2009-02\", \"2009-03\", \"2009-04\", \"2009-05\", \"2009-06\", \"2009-07\", \"2009-08\", \"2009-09\", \"2009-10\", \"2009-11\", \"2009-12\", \"2010-01\", \"2010-02\", \"2010-03\", \"2010-04\", \"2010-05\", \"2010-06\", \"2010-07\", \"2010-08\", \"2010-09\", \"2010-10\", \"2010-11\", \"2010-12\", \"2011-01\", \"2011-02\", \"2011-03\", \"2011-04\", \"2011-05\", \"2011-06\", \"2011-07\", \"2011-08\", \"2011-09\", \"2011-10\", \"2011-11\", \"2011-12\", \"2012-01\", \"2012-02\", \"2012-03\", \"2012-04\", \"2012-05\", \"2012-06\", \"2012-07\", \"2012-08\", \"2012-09\", \"2012-10\", \"2012-11\", \"2012-12\", \"2013-01\", \"2013-02\", \"2013-03\", \"2013-04\", \"2013-05\", \"2013-06\", \"2013-07\", \"2013-08\", \"2013-09\", \"2013-10\", \"2013-11\", \"2013-12\", \"2014-01\", \"2014-02\", \"2014-03\", \"2014-04\", \"2014-05\", \"2014-06\", \"2014-07\", \"2014-08\", \"2014-09\", \"2014-10\", \"2014-11\", \"2014-12\", \"2015-01\", \"2015-02\", \"2015-03\", \"2015-04\", \"2015-05\", \"2015-06\", \"2015-07\", \"2015-08\", \"2015-09\", \"2015-10\", \"2015-11\", \"2015-12\", \"2016-01\", \"2016-02\", \"2016-03\", \"2016-04\", \"2016-05\", \"2016-06\", \"2016-07\", \"2016-08\", \"2016-09\", \"2016-10\", \"2016-11\", \"2016-12\", \"2017-01\", \"2017-02\", \"2017-03\", \"2017-04\", \"2017-05\", \"2017-06\"], \"xaxis\": \"x\", \"y\": [null, null, null, null, null, null, null, null, null, null, null, null, null, null, null, null, null, null, null, null, null, null, null, null, null, null, null, null, null, null, null, null, null, null, null, null, null, null, null, null, null, null, null, null, null, null, null, null, null, null, null, null, null, null, null, null, null, null, null, null, null, null, null, null, null, null, null, null, null, null, null, null, null, null, null, null, null, null, null, null, null, null, null, null, null, null, null, null, null, null, null, null, null, null, null, null, null, null, null, null, null, null, null, null, null, null, null, null, null, null, null, null, null, null, 1083300.0, 1101700.0, 1111800.0, 1138000.0, 1154500.0, 1154500.0, 1161000.0, 1173700.0, 1183000.0, 1193400.0, 1205000.0, 1209200.0, 1210200.0, 1215500.0, 1230000.0, 1242500.0, 1243800.0, 1233500.0, 1218600.0, 1217900.0, 1223900.0, 1243300.0, 1263000.0, 1275200.0, 1279900.0, 1298700.0, 1327900.0, 1359000.0, 1374700.0, 1388100.0, 1409700.0, 1415700.0, 1406500.0, 1407800.0, 1417600.0, 1418400.0, 1415100.0, 1411600.0, 1391100.0, 1355000.0, 1315600.0, 1272300.0, 1231600.0, 1206900.0, 1192800.0, 1175900.0, 1167500.0, 1169900.0, 1170500.0, 1160000.0, 1155600.0, 1163900.0, 1176400.0, 1184500.0, 1192700.0, 1203100.0, 1203500.0, 1200400.0, 1202900.0, 1210100.0, 1210300.0, 1211700.0, 1219100.0, 1222500.0, 1230600.0, 1247400.0, 1258000.0, 1250800.0, 1251500.0, 1253100.0, 1252000.0, 1253800.0, 1257900.0, 1256600.0, 1253500.0, 1250500.0, 1247700.0, 1256800.0, 1273600.0, 1282200.0, 1278600.0, 1277400.0, 1279000.0, 1281500.0, 1281400.0, 1280800.0, 1286800.0, 1299000.0, 1308100.0, 1313900.0, 1313800.0, 1310800.0, 1304800.0, 1311200.0, 1337400.0, 1368500.0, 1397600.0, 1426900.0, 1444600.0, 1454200.0, 1452800.0, 1446800.0, 1454300.0, 1480300.0, 1509900.0, 1527100.0, 1507700.0, 1472300.0, 1453100.0, 1452200.0, 1458800.0, 1470700.0, 1471900.0, 1458700.0, 1442700.0, 1436400.0, 1445800.0, 1471800.0, 1493700.0, 1515100.0, 1542600.0, 1556500.0, 1551500.0, 1558800.0, 1577200.0, 1584500.0, 1587300.0, 1594100.0, 1613000.0, 1636600.0, 1657500.0, 1668300.0, 1664800.0, 1659500.0, 1656000.0, 1643700.0, 1649800.0, 1688500.0, 1731400.0, 1774100.0, 1815600.0], \"yaxis\": \"y\"}, {\"hoverlabel\": {\"namelength\": 0}, \"hovertemplate\": \"RegionName=10014<br>index=%{x}<br>value=%{y}\", \"legendgroup\": \"10014\", \"line\": {\"color\": \"#EF553B\", \"dash\": \"solid\"}, \"mode\": \"lines\", \"name\": \"10014\", \"showlegend\": true, \"type\": \"scattergl\", \"x\": [\"1996-04\", \"1996-05\", \"1996-06\", \"1996-07\", \"1996-08\", \"1996-09\", \"1996-10\", \"1996-11\", \"1996-12\", \"1997-01\", \"1997-02\", \"1997-03\", \"1997-04\", \"1997-05\", \"1997-06\", \"1997-07\", \"1997-08\", \"1997-09\", \"1997-10\", \"1997-11\", \"1997-12\", \"1998-01\", \"1998-02\", \"1998-03\", \"1998-04\", \"1998-05\", \"1998-06\", \"1998-07\", \"1998-08\", \"1998-09\", \"1998-10\", \"1998-11\", \"1998-12\", \"1999-01\", \"1999-02\", \"1999-03\", \"1999-04\", \"1999-05\", \"1999-06\", \"1999-07\", \"1999-08\", \"1999-09\", \"1999-10\", \"1999-11\", \"1999-12\", \"2000-01\", \"2000-02\", \"2000-03\", \"2000-04\", \"2000-05\", \"2000-06\", \"2000-07\", \"2000-08\", \"2000-09\", \"2000-10\", \"2000-11\", \"2000-12\", \"2001-01\", \"2001-02\", \"2001-03\", \"2001-04\", \"2001-05\", \"2001-06\", \"2001-07\", \"2001-08\", \"2001-09\", \"2001-10\", \"2001-11\", \"2001-12\", \"2002-01\", \"2002-02\", \"2002-03\", \"2002-04\", \"2002-05\", \"2002-06\", \"2002-07\", \"2002-08\", \"2002-09\", \"2002-10\", \"2002-11\", \"2002-12\", \"2003-01\", \"2003-02\", \"2003-03\", \"2003-04\", \"2003-05\", \"2003-06\", \"2003-07\", \"2003-08\", \"2003-09\", \"2003-10\", \"2003-11\", \"2003-12\", \"2004-01\", \"2004-02\", \"2004-03\", \"2004-04\", \"2004-05\", \"2004-06\", \"2004-07\", \"2004-08\", \"2004-09\", \"2004-10\", \"2004-11\", \"2004-12\", \"2005-01\", \"2005-02\", \"2005-03\", \"2005-04\", \"2005-05\", \"2005-06\", \"2005-07\", \"2005-08\", \"2005-09\", \"2005-10\", \"2005-11\", \"2005-12\", \"2006-01\", \"2006-02\", \"2006-03\", \"2006-04\", \"2006-05\", \"2006-06\", \"2006-07\", \"2006-08\", \"2006-09\", \"2006-10\", \"2006-11\", \"2006-12\", \"2007-01\", \"2007-02\", \"2007-03\", \"2007-04\", \"2007-05\", \"2007-06\", \"2007-07\", \"2007-08\", \"2007-09\", \"2007-10\", \"2007-11\", \"2007-12\", \"2008-01\", \"2008-02\", \"2008-03\", \"2008-04\", \"2008-05\", \"2008-06\", \"2008-07\", \"2008-08\", \"2008-09\", \"2008-10\", \"2008-11\", \"2008-12\", \"2009-01\", \"2009-02\", \"2009-03\", \"2009-04\", \"2009-05\", \"2009-06\", \"2009-07\", \"2009-08\", \"2009-09\", \"2009-10\", \"2009-11\", \"2009-12\", \"2010-01\", \"2010-02\", \"2010-03\", \"2010-04\", \"2010-05\", \"2010-06\", \"2010-07\", \"2010-08\", \"2010-09\", \"2010-10\", \"2010-11\", \"2010-12\", \"2011-01\", \"2011-02\", \"2011-03\", \"2011-04\", \"2011-05\", \"2011-06\", \"2011-07\", \"2011-08\", \"2011-09\", \"2011-10\", \"2011-11\", \"2011-12\", \"2012-01\", \"2012-02\", \"2012-03\", \"2012-04\", \"2012-05\", \"2012-06\", \"2012-07\", \"2012-08\", \"2012-09\", \"2012-10\", \"2012-11\", \"2012-12\", \"2013-01\", \"2013-02\", \"2013-03\", \"2013-04\", \"2013-05\", \"2013-06\", \"2013-07\", \"2013-08\", \"2013-09\", \"2013-10\", \"2013-11\", \"2013-12\", \"2014-01\", \"2014-02\", \"2014-03\", \"2014-04\", \"2014-05\", \"2014-06\", \"2014-07\", \"2014-08\", \"2014-09\", \"2014-10\", \"2014-11\", \"2014-12\", \"2015-01\", \"2015-02\", \"2015-03\", \"2015-04\", \"2015-05\", \"2015-06\", \"2015-07\", \"2015-08\", \"2015-09\", \"2015-10\", \"2015-11\", \"2015-12\", \"2016-01\", \"2016-02\", \"2016-03\", \"2016-04\", \"2016-05\", \"2016-06\", \"2016-07\", \"2016-08\", \"2016-09\", \"2016-10\", \"2016-11\", \"2016-12\", \"2017-01\", \"2017-02\", \"2017-03\", \"2017-04\", \"2017-05\", \"2017-06\"], \"xaxis\": \"x\", \"y\": [null, null, null, null, null, null, null, null, null, null, null, null, null, null, null, null, null, null, null, null, null, null, null, null, null, null, null, null, null, null, null, null, null, null, null, null, null, null, null, null, null, null, null, null, null, null, null, null, null, null, null, null, null, null, null, null, null, null, null, null, null, null, null, null, null, null, null, null, null, null, null, null, null, null, null, null, null, null, null, null, null, null, null, null, null, null, null, null, null, null, null, null, null, null, null, null, null, null, null, null, null, 1331700.0, 1332100.0, 1329200.0, 1331500.0, 1334300.0, 1314100.0, 1292300.0, 1264600.0, 1239900.0, 1241400.0, 1273900.0, 1308200.0, 1349300.0, 1390900.0, 1439000.0, 1501900.0, 1569000.0, 1592600.0, 1578800.0, 1583800.0, 1612400.0, 1623900.0, 1625500.0, 1632400.0, 1632000.0, 1617600.0, 1601500.0, 1589100.0, 1584000.0, 1579500.0, 1553800.0, 1528600.0, 1514500.0, 1505800.0, 1499800.0, 1517000.0, 1559000.0, 1610300.0, 1659600.0, 1732200.0, 1788500.0, 1783100.0, 1753200.0, 1736200.0, 1729400.0, 1741500.0, 1774500.0, 1808400.0, 1827500.0, 1813800.0, 1785500.0, 1774800.0, 1759800.0, 1718200.0, 1677300.0, 1636900.0, 1588800.0, 1559300.0, 1551900.0, 1532400.0, 1507000.0, 1496600.0, 1502400.0, 1485700.0, 1451800.0, 1454400.0, 1494500.0, 1542200.0, 1587300.0, 1616000.0, 1612300.0, 1605800.0, 1592500.0, 1584200.0, 1587600.0, 1594300.0, 1611700.0, 1631800.0, 1648800.0, 1670500.0, 1674300.0, 1657100.0, 1659200.0, 1661800.0, 1641600.0, 1637800.0, 1646600.0, 1652100.0, 1674800.0, 1714300.0, 1736800.0, 1736800.0, 1741200.0, 1757700.0, 1772600.0, 1779300.0, 1795000.0, 1790300.0, 1761100.0, 1744400.0, 1755400.0, 1761200.0, 1767000.0, 1804300.0, 1889100.0, 1963800.0, 2003800.0, 2041600.0, 2098500.0, 2143400.0, 2175600.0, 2203100.0, 2219000.0, 2222700.0, 2225400.0, 2215900.0, 2161700.0, 2079100.0, 2018200.0, 1991700.0, 1986200.0, 2027900.0, 2081200.0, 2093200.0, 2082800.0, 2107300.0, 2142400.0, 2167100.0, 2189400.0, 2220100.0, 2250300.0, 2275700.0, 2301600.0, 2314700.0, 2322000.0, 2334500.0, 2360300.0, 2384700.0, 2388200.0, 2358300.0, 2345800.0, 2381700.0, 2439700.0, 2483000.0, 2480800.0, 2443200.0, 2430100.0, 2452900.0, 2451200.0, 2441900.0, 2460900.0, 2494900.0, 2498400.0, 2491600.0], \"yaxis\": \"y\"}, {\"hoverlabel\": {\"namelength\": 0}, \"hovertemplate\": \"RegionName=10036<br>index=%{x}<br>value=%{y}\", \"legendgroup\": \"10036\", \"line\": {\"color\": \"#00cc96\", \"dash\": \"solid\"}, \"mode\": \"lines\", \"name\": \"10036\", \"showlegend\": true, \"type\": \"scattergl\", \"x\": [\"1996-04\", \"1996-05\", \"1996-06\", \"1996-07\", \"1996-08\", \"1996-09\", \"1996-10\", \"1996-11\", \"1996-12\", \"1997-01\", \"1997-02\", \"1997-03\", \"1997-04\", \"1997-05\", \"1997-06\", \"1997-07\", \"1997-08\", \"1997-09\", \"1997-10\", \"1997-11\", \"1997-12\", \"1998-01\", \"1998-02\", \"1998-03\", \"1998-04\", \"1998-05\", \"1998-06\", \"1998-07\", \"1998-08\", \"1998-09\", \"1998-10\", \"1998-11\", \"1998-12\", \"1999-01\", \"1999-02\", \"1999-03\", \"1999-04\", \"1999-05\", \"1999-06\", \"1999-07\", \"1999-08\", \"1999-09\", \"1999-10\", \"1999-11\", \"1999-12\", \"2000-01\", \"2000-02\", \"2000-03\", \"2000-04\", \"2000-05\", \"2000-06\", \"2000-07\", \"2000-08\", \"2000-09\", \"2000-10\", \"2000-11\", \"2000-12\", \"2001-01\", \"2001-02\", \"2001-03\", \"2001-04\", \"2001-05\", \"2001-06\", \"2001-07\", \"2001-08\", \"2001-09\", \"2001-10\", \"2001-11\", \"2001-12\", \"2002-01\", \"2002-02\", \"2002-03\", \"2002-04\", \"2002-05\", \"2002-06\", \"2002-07\", \"2002-08\", \"2002-09\", \"2002-10\", \"2002-11\", \"2002-12\", \"2003-01\", \"2003-02\", \"2003-03\", \"2003-04\", \"2003-05\", \"2003-06\", \"2003-07\", \"2003-08\", \"2003-09\", \"2003-10\", \"2003-11\", \"2003-12\", \"2004-01\", \"2004-02\", \"2004-03\", \"2004-04\", \"2004-05\", \"2004-06\", \"2004-07\", \"2004-08\", \"2004-09\", \"2004-10\", \"2004-11\", \"2004-12\", \"2005-01\", \"2005-02\", \"2005-03\", \"2005-04\", \"2005-05\", \"2005-06\", \"2005-07\", \"2005-08\", \"2005-09\", \"2005-10\", \"2005-11\", \"2005-12\", \"2006-01\", \"2006-02\", \"2006-03\", \"2006-04\", \"2006-05\", \"2006-06\", \"2006-07\", \"2006-08\", \"2006-09\", \"2006-10\", \"2006-11\", \"2006-12\", \"2007-01\", \"2007-02\", \"2007-03\", \"2007-04\", \"2007-05\", \"2007-06\", \"2007-07\", \"2007-08\", \"2007-09\", \"2007-10\", \"2007-11\", \"2007-12\", \"2008-01\", \"2008-02\", \"2008-03\", \"2008-04\", \"2008-05\", \"2008-06\", \"2008-07\", \"2008-08\", \"2008-09\", \"2008-10\", \"2008-11\", \"2008-12\", \"2009-01\", \"2009-02\", \"2009-03\", \"2009-04\", \"2009-05\", \"2009-06\", \"2009-07\", \"2009-08\", \"2009-09\", \"2009-10\", \"2009-11\", \"2009-12\", \"2010-01\", \"2010-02\", \"2010-03\", \"2010-04\", \"2010-05\", \"2010-06\", \"2010-07\", \"2010-08\", \"2010-09\", \"2010-10\", \"2010-11\", \"2010-12\", \"2011-01\", \"2011-02\", \"2011-03\", \"2011-04\", \"2011-05\", \"2011-06\", \"2011-07\", \"2011-08\", \"2011-09\", \"2011-10\", \"2011-11\", \"2011-12\", \"2012-01\", \"2012-02\", \"2012-03\", \"2012-04\", \"2012-05\", \"2012-06\", \"2012-07\", \"2012-08\", \"2012-09\", \"2012-10\", \"2012-11\", \"2012-12\", \"2013-01\", \"2013-02\", \"2013-03\", \"2013-04\", \"2013-05\", \"2013-06\", \"2013-07\", \"2013-08\", \"2013-09\", \"2013-10\", \"2013-11\", \"2013-12\", \"2014-01\", \"2014-02\", \"2014-03\", \"2014-04\", \"2014-05\", \"2014-06\", \"2014-07\", \"2014-08\", \"2014-09\", \"2014-10\", \"2014-11\", \"2014-12\", \"2015-01\", \"2015-02\", \"2015-03\", \"2015-04\", \"2015-05\", \"2015-06\", \"2015-07\", \"2015-08\", \"2015-09\", \"2015-10\", \"2015-11\", \"2015-12\", \"2016-01\", \"2016-02\", \"2016-03\", \"2016-04\", \"2016-05\", \"2016-06\", \"2016-07\", \"2016-08\", \"2016-09\", \"2016-10\", \"2016-11\", \"2016-12\", \"2017-01\", \"2017-02\", \"2017-03\", \"2017-04\", \"2017-05\", \"2017-06\"], \"xaxis\": \"x\", \"y\": [null, null, null, null, null, null, null, null, null, null, null, null, null, null, null, null, null, null, null, null, null, null, null, null, null, null, null, null, null, null, 417500.0, 426300.0, 436500.0, 443300.0, 444300.0, 445100.0, 452900.0, 449200.0, 437500.0, 433800.0, 439300.0, 446500.0, 446800.0, 446300.0, 450300.0, 461000.0, 471700.0, 482200.0, 491900.0, 503200.0, 516200.0, 529900.0, 541700.0, 557500.0, 569500.0, 584600.0, 600700.0, 603400.0, 600800.0, 618200.0, 637500.0, 638400.0, 622500.0, 600400.0, 585200.0, 576400.0, 567400.0, 560200.0, 558000.0, 576500.0, null, null, null, null, null, null, null, null, null, null, null, null, null, null, null, null, null, null, null, null, null, null, null, 614700.0, 656100.0, 686200.0, 726900.0, 781300.0, 843200.0, 891500.0, 914800.0, 930500.0, 941400.0, 944200.0, 938400.0, 932000.0, 927400.0, 934300.0, 939800.0, 932400.0, 934400.0, 951400.0, 971900.0, 992400.0, 1022200.0, 1055900.0, 1086600.0, 1109800.0, 1131300.0, 1149700.0, 1153500.0, 1141900.0, 1132200.0, 1126300.0, 1126700.0, 1138800.0, 1152700.0, 1155100.0, 1157000.0, 1154800.0, 1139200.0, 1121800.0, 1124900.0, 1153100.0, 1180000.0, 1196000.0, 1216300.0, 1241300.0, 1262800.0, 1281400.0, 1293700.0, 1299100.0, 1311000.0, 1329600.0, 1341100.0, 1346000.0, 1352800.0, 1353800.0, 1353300.0, 1357300.0, 1356800.0, 1353900.0, 1353500.0, 1358800.0, 1361600.0, 1363500.0, 1357900.0, 1343400.0, 1317800.0, 1294800.0, 1277800.0, 1267200.0, 1259900.0, 1260400.0, 1254700.0, 1238600.0, 1227700.0, 1230700.0, 1237300.0, 1250400.0, 1260500.0, 1260700.0, 1257300.0, 1249000.0, 1234500.0, 1231800.0, 1244100.0, 1255300.0, 1260500.0, 1257500.0, 1246800.0, 1231400.0, 1229400.0, 1247200.0, 1272200.0, 1287700.0, 1296700.0, 1302500.0, 1301800.0, 1298000.0, 1292300.0, 1288500.0, 1286600.0, 1288000.0, 1290900.0, 1301600.0, 1314200.0, 1321300.0, 1327500.0, 1332000.0, 1346600.0, 1368700.0, 1383700.0, 1396000.0, 1422200.0, 1433900.0, 1426600.0, 1425100.0, 1432900.0, 1441000.0, 1456800.0, 1472300.0, 1474900.0, 1503200.0, 1540800.0, 1569900.0, 1595100.0, 1634100.0, 1663500.0, 1679000.0, 1676700.0, 1684900.0, 1704400.0, 1717700.0, 1721200.0, 1706000.0, 1691400.0, 1688700.0, 1694400.0, 1703200.0, 1709600.0, 1709900.0, 1703200.0, 1697700.0, 1693000.0, 1685400.0, 1694300.0, 1725400.0, 1742000.0, 1734500.0, 1729700.0, 1741800.0, 1764700.0, 1777000.0, 1776200.0, 1766400.0, 1749800.0, 1744100.0, 1737900.0, 1722800.0, 1736600.0, 1750100.0, 1735500.0, 1717100.0, 1712900.0], \"yaxis\": \"y\"}, {\"hoverlabel\": {\"namelength\": 0}, \"hovertemplate\": \"RegionName=11434<br>index=%{x}<br>value=%{y}\", \"legendgroup\": \"11434\", \"line\": {\"color\": \"#ab63fa\", \"dash\": \"solid\"}, \"mode\": \"lines\", \"name\": \"11434\", \"showlegend\": true, \"type\": \"scattergl\", \"x\": [\"1996-04\", \"1996-05\", \"1996-06\", \"1996-07\", \"1996-08\", \"1996-09\", \"1996-10\", \"1996-11\", \"1996-12\", \"1997-01\", \"1997-02\", \"1997-03\", \"1997-04\", \"1997-05\", \"1997-06\", \"1997-07\", \"1997-08\", \"1997-09\", \"1997-10\", \"1997-11\", \"1997-12\", \"1998-01\", \"1998-02\", \"1998-03\", \"1998-04\", \"1998-05\", \"1998-06\", \"1998-07\", \"1998-08\", \"1998-09\", \"1998-10\", \"1998-11\", \"1998-12\", \"1999-01\", \"1999-02\", \"1999-03\", \"1999-04\", \"1999-05\", \"1999-06\", \"1999-07\", \"1999-08\", \"1999-09\", \"1999-10\", \"1999-11\", \"1999-12\", \"2000-01\", \"2000-02\", \"2000-03\", \"2000-04\", \"2000-05\", \"2000-06\", \"2000-07\", \"2000-08\", \"2000-09\", \"2000-10\", \"2000-11\", \"2000-12\", \"2001-01\", \"2001-02\", \"2001-03\", \"2001-04\", \"2001-05\", \"2001-06\", \"2001-07\", \"2001-08\", \"2001-09\", \"2001-10\", \"2001-11\", \"2001-12\", \"2002-01\", \"2002-02\", \"2002-03\", \"2002-04\", \"2002-05\", \"2002-06\", \"2002-07\", \"2002-08\", \"2002-09\", \"2002-10\", \"2002-11\", \"2002-12\", \"2003-01\", \"2003-02\", \"2003-03\", \"2003-04\", \"2003-05\", \"2003-06\", \"2003-07\", \"2003-08\", \"2003-09\", \"2003-10\", \"2003-11\", \"2003-12\", \"2004-01\", \"2004-02\", \"2004-03\", \"2004-04\", \"2004-05\", \"2004-06\", \"2004-07\", \"2004-08\", \"2004-09\", \"2004-10\", \"2004-11\", \"2004-12\", \"2005-01\", \"2005-02\", \"2005-03\", \"2005-04\", \"2005-05\", \"2005-06\", \"2005-07\", \"2005-08\", \"2005-09\", \"2005-10\", \"2005-11\", \"2005-12\", \"2006-01\", \"2006-02\", \"2006-03\", \"2006-04\", \"2006-05\", \"2006-06\", \"2006-07\", \"2006-08\", \"2006-09\", \"2006-10\", \"2006-11\", \"2006-12\", \"2007-01\", \"2007-02\", \"2007-03\", \"2007-04\", \"2007-05\", \"2007-06\", \"2007-07\", \"2007-08\", \"2007-09\", \"2007-10\", \"2007-11\", \"2007-12\", \"2008-01\", \"2008-02\", \"2008-03\", \"2008-04\", \"2008-05\", \"2008-06\", \"2008-07\", \"2008-08\", \"2008-09\", \"2008-10\", \"2008-11\", \"2008-12\", \"2009-01\", \"2009-02\", \"2009-03\", \"2009-04\", \"2009-05\", \"2009-06\", \"2009-07\", \"2009-08\", \"2009-09\", \"2009-10\", \"2009-11\", \"2009-12\", \"2010-01\", \"2010-02\", \"2010-03\", \"2010-04\", \"2010-05\", \"2010-06\", \"2010-07\", \"2010-08\", \"2010-09\", \"2010-10\", \"2010-11\", \"2010-12\", \"2011-01\", \"2011-02\", \"2011-03\", \"2011-04\", \"2011-05\", \"2011-06\", \"2011-07\", \"2011-08\", \"2011-09\", \"2011-10\", \"2011-11\", \"2011-12\", \"2012-01\", \"2012-02\", \"2012-03\", \"2012-04\", \"2012-05\", \"2012-06\", \"2012-07\", \"2012-08\", \"2012-09\", \"2012-10\", \"2012-11\", \"2012-12\", \"2013-01\", \"2013-02\", \"2013-03\", \"2013-04\", \"2013-05\", \"2013-06\", \"2013-07\", \"2013-08\", \"2013-09\", \"2013-10\", \"2013-11\", \"2013-12\", \"2014-01\", \"2014-02\", \"2014-03\", \"2014-04\", \"2014-05\", \"2014-06\", \"2014-07\", \"2014-08\", \"2014-09\", \"2014-10\", \"2014-11\", \"2014-12\", \"2015-01\", \"2015-02\", \"2015-03\", \"2015-04\", \"2015-05\", \"2015-06\", \"2015-07\", \"2015-08\", \"2015-09\", \"2015-10\", \"2015-11\", \"2015-12\", \"2016-01\", \"2016-02\", \"2016-03\", \"2016-04\", \"2016-05\", \"2016-06\", \"2016-07\", \"2016-08\", \"2016-09\", \"2016-10\", \"2016-11\", \"2016-12\", \"2017-01\", \"2017-02\", \"2017-03\", \"2017-04\", \"2017-05\", \"2017-06\"], \"xaxis\": \"x\", \"y\": [null, null, null, null, null, null, null, null, null, null, null, null, null, null, null, null, null, null, null, null, null, null, null, null, null, null, null, null, null, null, null, null, null, null, null, null, null, null, null, null, null, null, null, null, null, null, null, null, null, null, null, null, null, null, null, null, null, null, null, null, null, null, null, null, null, null, null, null, null, null, null, null, null, null, null, null, null, null, null, null, null, null, null, null, null, null, null, null, null, null, null, 213600.0, 219000.0, 225200.0, 231100.0, 237700.0, 244700.0, 247700.0, 247500.0, 250100.0, 255000.0, 257100.0, 257500.0, 259200.0, 263100.0, 265700.0, 268600.0, 273500.0, 279800.0, 282200.0, 282000.0, 284100.0, 291900.0, 299100.0, 304200.0, 310300.0, 316800.0, 323000.0, 329000.0, 336500.0, 344400.0, 350000.0, 351800.0, 354500.0, 360700.0, 369900.0, 379400.0, 384500.0, 384100.0, 383400.0, 385500.0, 388000.0, 388900.0, 389600.0, 390300.0, 388500.0, 384300.0, 381300.0, 380700.0, 380900.0, 376200.0, 369300.0, 367900.0, 371200.0, 373800.0, 369200.0, 360500.0, 356600.0, 356900.0, 354800.0, 351700.0, 351100.0, 351400.0, 350600.0, 346900.0, 339300.0, 330000.0, 324200.0, 319900.0, 313900.0, 310500.0, 308600.0, 306000.0, 299400.0, 303200.0, 315400.0, 320300.0, 315800.0, 314000.0, 311800.0, 312600.0, 313100.0, 307000.0, 298200.0, 293200.0, 290400.0, 286000.0, 276800.0, 263700.0, 251400.0, 245500.0, 243900.0, 242100.0, 242000.0, 245200.0, 247100.0, 245300.0, 244300.0, 244500.0, 245000.0, 247200.0, 252100.0, 254900.0, 256000.0, 257100.0, 257600.0, 256100.0, 255700.0, 256900.0, 257600.0, 257100.0, 256600.0, 258300.0, 262000.0, 265200.0, 267600.0, 270600.0, 271600.0, 270100.0, 268800.0, 269400.0, 271000.0, 272000.0, 273000.0, 275900.0, 278900.0, 280000.0, 280900.0, 281400.0, 281000.0, 281800.0, 284300.0, 286300.0, 286200.0, 284200.0, 283800.0, 285900.0, 287300.0, 287900.0, 288800.0, 289900.0, 294300.0, 302500.0, 309300.0, 311600.0, 313100.0, 315500.0, 318200.0, 320800.0, 325400.0, 329400.0, 331700.0, 332700.0, 334900.0, 338000.0, 342100.0, 348300.0, 356100.0, 358400.0, 357500.0, 361900.0, 370800.0, 377100.0, 380200.0, 382300.0], \"yaxis\": \"y\"}, {\"hoverlabel\": {\"namelength\": 0}, \"hovertemplate\": \"RegionName=10306<br>index=%{x}<br>value=%{y}\", \"legendgroup\": \"10306\", \"line\": {\"color\": \"#FFA15A\", \"dash\": \"solid\"}, \"mode\": \"lines\", \"name\": \"10306\", \"showlegend\": true, \"type\": \"scattergl\", \"x\": [\"1996-04\", \"1996-05\", \"1996-06\", \"1996-07\", \"1996-08\", \"1996-09\", \"1996-10\", \"1996-11\", \"1996-12\", \"1997-01\", \"1997-02\", \"1997-03\", \"1997-04\", \"1997-05\", \"1997-06\", \"1997-07\", \"1997-08\", \"1997-09\", \"1997-10\", \"1997-11\", \"1997-12\", \"1998-01\", \"1998-02\", \"1998-03\", \"1998-04\", \"1998-05\", \"1998-06\", \"1998-07\", \"1998-08\", \"1998-09\", \"1998-10\", \"1998-11\", \"1998-12\", \"1999-01\", \"1999-02\", \"1999-03\", \"1999-04\", \"1999-05\", \"1999-06\", \"1999-07\", \"1999-08\", \"1999-09\", \"1999-10\", \"1999-11\", \"1999-12\", \"2000-01\", \"2000-02\", \"2000-03\", \"2000-04\", \"2000-05\", \"2000-06\", \"2000-07\", \"2000-08\", \"2000-09\", \"2000-10\", \"2000-11\", \"2000-12\", \"2001-01\", \"2001-02\", \"2001-03\", \"2001-04\", \"2001-05\", \"2001-06\", \"2001-07\", \"2001-08\", \"2001-09\", \"2001-10\", \"2001-11\", \"2001-12\", \"2002-01\", \"2002-02\", \"2002-03\", \"2002-04\", \"2002-05\", \"2002-06\", \"2002-07\", \"2002-08\", \"2002-09\", \"2002-10\", \"2002-11\", \"2002-12\", \"2003-01\", \"2003-02\", \"2003-03\", \"2003-04\", \"2003-05\", \"2003-06\", \"2003-07\", \"2003-08\", \"2003-09\", \"2003-10\", \"2003-11\", \"2003-12\", \"2004-01\", \"2004-02\", \"2004-03\", \"2004-04\", \"2004-05\", \"2004-06\", \"2004-07\", \"2004-08\", \"2004-09\", \"2004-10\", \"2004-11\", \"2004-12\", \"2005-01\", \"2005-02\", \"2005-03\", \"2005-04\", \"2005-05\", \"2005-06\", \"2005-07\", \"2005-08\", \"2005-09\", \"2005-10\", \"2005-11\", \"2005-12\", \"2006-01\", \"2006-02\", \"2006-03\", \"2006-04\", \"2006-05\", \"2006-06\", \"2006-07\", \"2006-08\", \"2006-09\", \"2006-10\", \"2006-11\", \"2006-12\", \"2007-01\", \"2007-02\", \"2007-03\", \"2007-04\", \"2007-05\", \"2007-06\", \"2007-07\", \"2007-08\", \"2007-09\", \"2007-10\", \"2007-11\", \"2007-12\", \"2008-01\", \"2008-02\", \"2008-03\", \"2008-04\", \"2008-05\", \"2008-06\", \"2008-07\", \"2008-08\", \"2008-09\", \"2008-10\", \"2008-11\", \"2008-12\", \"2009-01\", \"2009-02\", \"2009-03\", \"2009-04\", \"2009-05\", \"2009-06\", \"2009-07\", \"2009-08\", \"2009-09\", \"2009-10\", \"2009-11\", \"2009-12\", \"2010-01\", \"2010-02\", \"2010-03\", \"2010-04\", \"2010-05\", \"2010-06\", \"2010-07\", \"2010-08\", \"2010-09\", \"2010-10\", \"2010-11\", \"2010-12\", \"2011-01\", \"2011-02\", \"2011-03\", \"2011-04\", \"2011-05\", \"2011-06\", \"2011-07\", \"2011-08\", \"2011-09\", \"2011-10\", \"2011-11\", \"2011-12\", \"2012-01\", \"2012-02\", \"2012-03\", \"2012-04\", \"2012-05\", \"2012-06\", \"2012-07\", \"2012-08\", \"2012-09\", \"2012-10\", \"2012-11\", \"2012-12\", \"2013-01\", \"2013-02\", \"2013-03\", \"2013-04\", \"2013-05\", \"2013-06\", \"2013-07\", \"2013-08\", \"2013-09\", \"2013-10\", \"2013-11\", \"2013-12\", \"2014-01\", \"2014-02\", \"2014-03\", \"2014-04\", \"2014-05\", \"2014-06\", \"2014-07\", \"2014-08\", \"2014-09\", \"2014-10\", \"2014-11\", \"2014-12\", \"2015-01\", \"2015-02\", \"2015-03\", \"2015-04\", \"2015-05\", \"2015-06\", \"2015-07\", \"2015-08\", \"2015-09\", \"2015-10\", \"2015-11\", \"2015-12\", \"2016-01\", \"2016-02\", \"2016-03\", \"2016-04\", \"2016-05\", \"2016-06\", \"2016-07\", \"2016-08\", \"2016-09\", \"2016-10\", \"2016-11\", \"2016-12\", \"2017-01\", \"2017-02\", \"2017-03\", \"2017-04\", \"2017-05\", \"2017-06\"], \"xaxis\": \"x\", \"y\": [138100.0, 136900.0, 135900.0, 134500.0, 132900.0, 131600.0, 130400.0, 129900.0, 129600.0, 128000.0, 125600.0, 124400.0, 122800.0, 119500.0, 117300.0, 117100.0, 117200.0, 117100.0, 117600.0, 118000.0, 118100.0, 118700.0, 119800.0, 121400.0, 122600.0, 123400.0, 123500.0, 123700.0, 123700.0, 123200.0, 122500.0, 122300.0, 123000.0, 124200.0, 125100.0, 125400.0, 125900.0, 127100.0, 128200.0, 128900.0, 130900.0, 133700.0, 135100.0, 135800.0, 137300.0, 139400.0, 141900.0, 144400.0, 146500.0, 148300.0, 150700.0, 153300.0, 155100.0, 156000.0, 157900.0, 160700.0, 162300.0, 162100.0, 162700.0, 164800.0, 167500.0, 170300.0, 172100.0, 173100.0, 174300.0, 175900.0, 177300.0, 178000.0, 178700.0, 180700.0, 183300.0, 185400.0, 187200.0, 188400.0, 189100.0, 189700.0, 191100.0, 193400.0, 196700.0, 199700.0, 202600.0, 204800.0, 206400.0, 208100.0, 210700.0, 215000.0, 220300.0, 224400.0, 227200.0, 229700.0, 231700.0, 233300.0, 235000.0, 238200.0, 240500.0, 242100.0, 244100.0, 246100.0, 248500.0, 252100.0, 255700.0, 258900.0, 261500.0, 264000.0, 267500.0, 271300.0, 276300.0, 282200.0, 287300.0, 291100.0, 294000.0, 298100.0, 302000.0, 305600.0, 309600.0, 314700.0, 318500.0, 321600.0, 324600.0, 326100.0, 326800.0, 329000.0, 332500.0, 334200.0, 334800.0, 335200.0, 336000.0, 337200.0, 337000.0, 334400.0, 331700.0, 330900.0, 331300.0, 330300.0, 327700.0, 325900.0, 325500.0, 325100.0, 323500.0, 322300.0, 321700.0, 320200.0, 317900.0, 315900.0, 314000.0, 311900.0, 309800.0, 306700.0, 303900.0, 301600.0, 300200.0, 298500.0, 298700.0, 301300.0, 303500.0, 303000.0, 302900.0, 304100.0, 304800.0, 304300.0, 303200.0, 302500.0, 302200.0, 300900.0, 298600.0, 297200.0, 296500.0, 296100.0, 295200.0, 293600.0, 292700.0, 293300.0, 294400.0, 294600.0, 293100.0, 291800.0, 290800.0, 289400.0, 288400.0, 288200.0, 285700.0, 281900.0, 279900.0, 280600.0, 280700.0, 279700.0, 278800.0, 277500.0, 276400.0, 275400.0, 274100.0, 273400.0, 273600.0, 273500.0, 273800.0, 273100.0, 271800.0, 271800.0, 273400.0, 275200.0, 275200.0, 275300.0, 276200.0, 276200.0, 275100.0, 274200.0, 272400.0, 271500.0, 272600.0, 273700.0, 273500.0, 273500.0, 274900.0, 275900.0, 275500.0, 275600.0, 277400.0, 278900.0, 278700.0, 278400.0, 278600.0, 278700.0, 279100.0, 280700.0, 283000.0, 284400.0, 283800.0, 282200.0, 283700.0, 287800.0, 291800.0, 294500.0, 297100.0, 299300.0, 301500.0, 303600.0, 304400.0, 303800.0, 304200.0, 306200.0, 307900.0, 309600.0, 312700.0, 315800.0, 316400.0, 316100.0, 318300.0, 321200.0, 322900.0, 325400.0, 331700.0, 339000.0, 343500.0, 347800.0, 352900.0], \"yaxis\": \"y\"}, {\"hoverlabel\": {\"namelength\": 0}, \"hovertemplate\": \"RegionName=10312<br>index=%{x}<br>value=%{y}\", \"legendgroup\": \"10312\", \"line\": {\"color\": \"#19d3f3\", \"dash\": \"solid\"}, \"mode\": \"lines\", \"name\": \"10312\", \"showlegend\": true, \"type\": \"scattergl\", \"x\": [\"1996-04\", \"1996-05\", \"1996-06\", \"1996-07\", \"1996-08\", \"1996-09\", \"1996-10\", \"1996-11\", \"1996-12\", \"1997-01\", \"1997-02\", \"1997-03\", \"1997-04\", \"1997-05\", \"1997-06\", \"1997-07\", \"1997-08\", \"1997-09\", \"1997-10\", \"1997-11\", \"1997-12\", \"1998-01\", \"1998-02\", \"1998-03\", \"1998-04\", \"1998-05\", \"1998-06\", \"1998-07\", \"1998-08\", \"1998-09\", \"1998-10\", \"1998-11\", \"1998-12\", \"1999-01\", \"1999-02\", \"1999-03\", \"1999-04\", \"1999-05\", \"1999-06\", \"1999-07\", \"1999-08\", \"1999-09\", \"1999-10\", \"1999-11\", \"1999-12\", \"2000-01\", \"2000-02\", \"2000-03\", \"2000-04\", \"2000-05\", \"2000-06\", \"2000-07\", \"2000-08\", \"2000-09\", \"2000-10\", \"2000-11\", \"2000-12\", \"2001-01\", \"2001-02\", \"2001-03\", \"2001-04\", \"2001-05\", \"2001-06\", \"2001-07\", \"2001-08\", \"2001-09\", \"2001-10\", \"2001-11\", \"2001-12\", \"2002-01\", \"2002-02\", \"2002-03\", \"2002-04\", \"2002-05\", \"2002-06\", \"2002-07\", \"2002-08\", \"2002-09\", \"2002-10\", \"2002-11\", \"2002-12\", \"2003-01\", \"2003-02\", \"2003-03\", \"2003-04\", \"2003-05\", \"2003-06\", \"2003-07\", \"2003-08\", \"2003-09\", \"2003-10\", \"2003-11\", \"2003-12\", \"2004-01\", \"2004-02\", \"2004-03\", \"2004-04\", \"2004-05\", \"2004-06\", \"2004-07\", \"2004-08\", \"2004-09\", \"2004-10\", \"2004-11\", \"2004-12\", \"2005-01\", \"2005-02\", \"2005-03\", \"2005-04\", \"2005-05\", \"2005-06\", \"2005-07\", \"2005-08\", \"2005-09\", \"2005-10\", \"2005-11\", \"2005-12\", \"2006-01\", \"2006-02\", \"2006-03\", \"2006-04\", \"2006-05\", \"2006-06\", \"2006-07\", \"2006-08\", \"2006-09\", \"2006-10\", \"2006-11\", \"2006-12\", \"2007-01\", \"2007-02\", \"2007-03\", \"2007-04\", \"2007-05\", \"2007-06\", \"2007-07\", \"2007-08\", \"2007-09\", \"2007-10\", \"2007-11\", \"2007-12\", \"2008-01\", \"2008-02\", \"2008-03\", \"2008-04\", \"2008-05\", \"2008-06\", \"2008-07\", \"2008-08\", \"2008-09\", \"2008-10\", \"2008-11\", \"2008-12\", \"2009-01\", \"2009-02\", \"2009-03\", \"2009-04\", \"2009-05\", \"2009-06\", \"2009-07\", \"2009-08\", \"2009-09\", \"2009-10\", \"2009-11\", \"2009-12\", \"2010-01\", \"2010-02\", \"2010-03\", \"2010-04\", \"2010-05\", \"2010-06\", \"2010-07\", \"2010-08\", \"2010-09\", \"2010-10\", \"2010-11\", \"2010-12\", \"2011-01\", \"2011-02\", \"2011-03\", \"2011-04\", \"2011-05\", \"2011-06\", \"2011-07\", \"2011-08\", \"2011-09\", \"2011-10\", \"2011-11\", \"2011-12\", \"2012-01\", \"2012-02\", \"2012-03\", \"2012-04\", \"2012-05\", \"2012-06\", \"2012-07\", \"2012-08\", \"2012-09\", \"2012-10\", \"2012-11\", \"2012-12\", \"2013-01\", \"2013-02\", \"2013-03\", \"2013-04\", \"2013-05\", \"2013-06\", \"2013-07\", \"2013-08\", \"2013-09\", \"2013-10\", \"2013-11\", \"2013-12\", \"2014-01\", \"2014-02\", \"2014-03\", \"2014-04\", \"2014-05\", \"2014-06\", \"2014-07\", \"2014-08\", \"2014-09\", \"2014-10\", \"2014-11\", \"2014-12\", \"2015-01\", \"2015-02\", \"2015-03\", \"2015-04\", \"2015-05\", \"2015-06\", \"2015-07\", \"2015-08\", \"2015-09\", \"2015-10\", \"2015-11\", \"2015-12\", \"2016-01\", \"2016-02\", \"2016-03\", \"2016-04\", \"2016-05\", \"2016-06\", \"2016-07\", \"2016-08\", \"2016-09\", \"2016-10\", \"2016-11\", \"2016-12\", \"2017-01\", \"2017-02\", \"2017-03\", \"2017-04\", \"2017-05\", \"2017-06\"], \"xaxis\": \"x\", \"y\": [153000.0, 149800.0, 146900.0, 144800.0, 143000.0, 141900.0, 140900.0, 140600.0, 139400.0, 137000.0, 134300.0, 133400.0, 131900.0, 129400.0, 127400.0, 125700.0, 124000.0, 123000.0, 122400.0, 122100.0, 122800.0, 123700.0, 123500.0, 122600.0, 123000.0, 124300.0, 124600.0, 124500.0, 125500.0, 126600.0, 127400.0, 127700.0, 128000.0, 128100.0, 128900.0, 130000.0, 131100.0, 132200.0, 133800.0, 135300.0, 136800.0, 138100.0, 139400.0, 140800.0, 142200.0, 143200.0, 143900.0, 145300.0, 147900.0, 151000.0, 153600.0, 156000.0, 157400.0, 158400.0, 159500.0, 161200.0, 162800.0, 164200.0, 165100.0, 166500.0, 167500.0, 168400.0, 170100.0, 172200.0, 173800.0, 175900.0, 177900.0, 179700.0, 181400.0, 183400.0, 186100.0, 187900.0, 189200.0, 190200.0, 190900.0, 191200.0, 192700.0, 194800.0, 197400.0, 199500.0, 202000.0, 205300.0, 209000.0, 212000.0, 215300.0, 218400.0, 221600.0, 225000.0, 228400.0, 230200.0, 231400.0, 233100.0, 235100.0, 237500.0, 240200.0, 243100.0, 246000.0, 249000.0, 251200.0, 252800.0, 254600.0, 257400.0, 260400.0, 264300.0, 268500.0, 272500.0, 276900.0, 281200.0, 284800.0, 289100.0, 293800.0, 298500.0, 302800.0, 307600.0, 311800.0, 315500.0, 318700.0, 321500.0, 322600.0, 323700.0, 323900.0, 323600.0, 324400.0, 327200.0, 328900.0, 328600.0, 327500.0, 326100.0, 323400.0, 320900.0, 319900.0, 320200.0, 321300.0, 321900.0, 321900.0, 320900.0, 320200.0, 319800.0, 319500.0, 318500.0, 317300.0, 315900.0, 314000.0, 311900.0, 310000.0, 309200.0, 307600.0, 304600.0, 301500.0, 299800.0, 299400.0, 299000.0, 299200.0, 299600.0, 299800.0, 299300.0, 299300.0, 298700.0, 298100.0, 297900.0, 297800.0, 297500.0, 298200.0, 298200.0, 297000.0, 296200.0, 296400.0, 296900.0, 296700.0, 295100.0, 293800.0, 294500.0, 295600.0, 295300.0, 292900.0, 291900.0, 292800.0, 293900.0, 293500.0, 291700.0, 289300.0, 287400.0, 285900.0, 284700.0, 283100.0, 281600.0, 281000.0, 280100.0, 278500.0, 276700.0, 275800.0, 276600.0, 277700.0, 278300.0, 279500.0, 280500.0, 280900.0, 281600.0, 282900.0, 284900.0, 286300.0, 286400.0, 286900.0, 288100.0, 289000.0, 290400.0, 292200.0, 293600.0, 295500.0, 297300.0, 297700.0, 297100.0, 297800.0, 299000.0, 299600.0, 299700.0, 300100.0, 300300.0, 300400.0, 299900.0, 300100.0, 300700.0, 301300.0, 302600.0, 304300.0, 305400.0, 304900.0, 304000.0, 304600.0, 306600.0, 308700.0, 310200.0, 311300.0, 312400.0, 313800.0, 315100.0, 315800.0, 316100.0, 316300.0, 316300.0, 317000.0, 318500.0, 320400.0, 322500.0, 324200.0, 325400.0, 326600.0, 328400.0, 330300.0, 333600.0, 339300.0, 345000.0, 348400.0, 351700.0, 355000.0], \"yaxis\": \"y\"}, {\"hoverlabel\": {\"namelength\": 0}, \"hovertemplate\": \"RegionName=10022<br>index=%{x}<br>value=%{y}\", \"legendgroup\": \"10022\", \"line\": {\"color\": \"#FF6692\", \"dash\": \"solid\"}, \"mode\": \"lines\", \"name\": \"10022\", \"showlegend\": true, \"type\": \"scattergl\", \"x\": [\"1996-04\", \"1996-05\", \"1996-06\", \"1996-07\", \"1996-08\", \"1996-09\", \"1996-10\", \"1996-11\", \"1996-12\", \"1997-01\", \"1997-02\", \"1997-03\", \"1997-04\", \"1997-05\", \"1997-06\", \"1997-07\", \"1997-08\", \"1997-09\", \"1997-10\", \"1997-11\", \"1997-12\", \"1998-01\", \"1998-02\", \"1998-03\", \"1998-04\", \"1998-05\", \"1998-06\", \"1998-07\", \"1998-08\", \"1998-09\", \"1998-10\", \"1998-11\", \"1998-12\", \"1999-01\", \"1999-02\", \"1999-03\", \"1999-04\", \"1999-05\", \"1999-06\", \"1999-07\", \"1999-08\", \"1999-09\", \"1999-10\", \"1999-11\", \"1999-12\", \"2000-01\", \"2000-02\", \"2000-03\", \"2000-04\", \"2000-05\", \"2000-06\", \"2000-07\", \"2000-08\", \"2000-09\", \"2000-10\", \"2000-11\", \"2000-12\", \"2001-01\", \"2001-02\", \"2001-03\", \"2001-04\", \"2001-05\", \"2001-06\", \"2001-07\", \"2001-08\", \"2001-09\", \"2001-10\", \"2001-11\", \"2001-12\", \"2002-01\", \"2002-02\", \"2002-03\", \"2002-04\", \"2002-05\", \"2002-06\", \"2002-07\", \"2002-08\", \"2002-09\", \"2002-10\", \"2002-11\", \"2002-12\", \"2003-01\", \"2003-02\", \"2003-03\", \"2003-04\", \"2003-05\", \"2003-06\", \"2003-07\", \"2003-08\", \"2003-09\", \"2003-10\", \"2003-11\", \"2003-12\", \"2004-01\", \"2004-02\", \"2004-03\", \"2004-04\", \"2004-05\", \"2004-06\", \"2004-07\", \"2004-08\", \"2004-09\", \"2004-10\", \"2004-11\", \"2004-12\", \"2005-01\", \"2005-02\", \"2005-03\", \"2005-04\", \"2005-05\", \"2005-06\", \"2005-07\", \"2005-08\", \"2005-09\", \"2005-10\", \"2005-11\", \"2005-12\", \"2006-01\", \"2006-02\", \"2006-03\", \"2006-04\", \"2006-05\", \"2006-06\", \"2006-07\", \"2006-08\", \"2006-09\", \"2006-10\", \"2006-11\", \"2006-12\", \"2007-01\", \"2007-02\", \"2007-03\", \"2007-04\", \"2007-05\", \"2007-06\", \"2007-07\", \"2007-08\", \"2007-09\", \"2007-10\", \"2007-11\", \"2007-12\", \"2008-01\", \"2008-02\", \"2008-03\", \"2008-04\", \"2008-05\", \"2008-06\", \"2008-07\", \"2008-08\", \"2008-09\", \"2008-10\", \"2008-11\", \"2008-12\", \"2009-01\", \"2009-02\", \"2009-03\", \"2009-04\", \"2009-05\", \"2009-06\", \"2009-07\", \"2009-08\", \"2009-09\", \"2009-10\", \"2009-11\", \"2009-12\", \"2010-01\", \"2010-02\", \"2010-03\", \"2010-04\", \"2010-05\", \"2010-06\", \"2010-07\", \"2010-08\", \"2010-09\", \"2010-10\", \"2010-11\", \"2010-12\", \"2011-01\", \"2011-02\", \"2011-03\", \"2011-04\", \"2011-05\", \"2011-06\", \"2011-07\", \"2011-08\", \"2011-09\", \"2011-10\", \"2011-11\", \"2011-12\", \"2012-01\", \"2012-02\", \"2012-03\", \"2012-04\", \"2012-05\", \"2012-06\", \"2012-07\", \"2012-08\", \"2012-09\", \"2012-10\", \"2012-11\", \"2012-12\", \"2013-01\", \"2013-02\", \"2013-03\", \"2013-04\", \"2013-05\", \"2013-06\", \"2013-07\", \"2013-08\", \"2013-09\", \"2013-10\", \"2013-11\", \"2013-12\", \"2014-01\", \"2014-02\", \"2014-03\", \"2014-04\", \"2014-05\", \"2014-06\", \"2014-07\", \"2014-08\", \"2014-09\", \"2014-10\", \"2014-11\", \"2014-12\", \"2015-01\", \"2015-02\", \"2015-03\", \"2015-04\", \"2015-05\", \"2015-06\", \"2015-07\", \"2015-08\", \"2015-09\", \"2015-10\", \"2015-11\", \"2015-12\", \"2016-01\", \"2016-02\", \"2016-03\", \"2016-04\", \"2016-05\", \"2016-06\", \"2016-07\", \"2016-08\", \"2016-09\", \"2016-10\", \"2016-11\", \"2016-12\", \"2017-01\", \"2017-02\", \"2017-03\", \"2017-04\", \"2017-05\", \"2017-06\"], \"xaxis\": \"x\", \"y\": [null, null, null, null, null, null, null, null, null, null, null, null, null, null, null, null, null, null, null, null, null, null, null, null, null, null, null, null, null, null, null, null, null, null, null, null, null, null, null, null, null, null, null, null, null, null, null, null, null, null, null, null, null, null, null, null, null, null, null, null, null, null, null, null, null, null, null, null, null, null, null, null, null, null, null, null, null, null, null, null, null, null, null, null, null, null, null, null, null, null, null, null, null, null, null, null, null, null, null, null, null, 1448300.0, 1355400.0, 1286500.0, 1240000.0, 1212800.0, 1188600.0, 1160500.0, 1128700.0, 1119600.0, 1127300.0, 1131600.0, 1143700.0, 1177900.0, 1208400.0, 1228000.0, 1240700.0, 1256800.0, 1289300.0, 1324300.0, 1345000.0, 1357900.0, 1361000.0, 1361200.0, 1388700.0, 1431400.0, 1450800.0, 1466100.0, 1486700.0, 1488300.0, 1466800.0, 1447300.0, 1431900.0, 1418500.0, 1418800.0, 1444200.0, 1469600.0, 1491300.0, 1519100.0, 1533700.0, 1535400.0, 1549700.0, 1561400.0, 1571500.0, 1586600.0, 1587500.0, 1588000.0, 1589300.0, 1581300.0, 1562100.0, 1545800.0, 1529300.0, 1523400.0, 1517300.0, 1502600.0, 1466600.0, 1432300.0, 1402900.0, 1367800.0, 1332100.0, 1306400.0, 1281900.0, 1270700.0, 1275100.0, 1296700.0, 1323000.0, 1338500.0, 1344600.0, 1348300.0, 1350800.0, 1365100.0, 1390900.0, 1402700.0, 1403700.0, 1404900.0, 1403500.0, 1390200.0, 1376600.0, 1372400.0, 1378100.0, 1384600.0, 1389600.0, 1390200.0, 1386600.0, 1393100.0, 1399900.0, 1381500.0, 1363900.0, 1362700.0, 1371500.0, 1372000.0, 1385500.0, 1402800.0, 1411600.0, 1397400.0, 1400400.0, 1418600.0, 1446700.0, 1468700.0, 1476100.0, 1466300.0, 1460400.0, 1453600.0, 1442000.0, 1427500.0, 1425900.0, 1434000.0, 1434000.0, 1432900.0, 1467000.0, 1515400.0, 1550300.0, 1569000.0, 1578000.0, 1591700.0, 1627500.0, 1669400.0, 1697100.0, 1705900.0, 1701700.0, 1696000.0, 1683600.0, 1686800.0, 1712700.0, 1725900.0, 1712000.0, 1706400.0, 1696900.0, 1672900.0, 1656300.0, 1670900.0, 1696900.0, 1713900.0, 1718600.0, 1721000.0, 1717000.0, 1721700.0, 1746200.0, 1763200.0, 1743800.0, 1709600.0, 1703500.0, 1731000.0, 1762600.0, 1778100.0, 1773200.0, 1760600.0, 1762000.0, 1776800.0, 1775200.0, 1774500.0, 1812700.0, 1914600.0, 1997800.0, 2031600.0], \"yaxis\": \"y\"}, {\"hoverlabel\": {\"namelength\": 0}, \"hovertemplate\": \"RegionName=11217<br>index=%{x}<br>value=%{y}\", \"legendgroup\": \"11217\", \"line\": {\"color\": \"#B6E880\", \"dash\": \"solid\"}, \"mode\": \"lines\", \"name\": \"11217\", \"showlegend\": true, \"type\": \"scattergl\", \"x\": [\"1996-04\", \"1996-05\", \"1996-06\", \"1996-07\", \"1996-08\", \"1996-09\", \"1996-10\", \"1996-11\", \"1996-12\", \"1997-01\", \"1997-02\", \"1997-03\", \"1997-04\", \"1997-05\", \"1997-06\", \"1997-07\", \"1997-08\", \"1997-09\", \"1997-10\", \"1997-11\", \"1997-12\", \"1998-01\", \"1998-02\", \"1998-03\", \"1998-04\", \"1998-05\", \"1998-06\", \"1998-07\", \"1998-08\", \"1998-09\", \"1998-10\", \"1998-11\", \"1998-12\", \"1999-01\", \"1999-02\", \"1999-03\", \"1999-04\", \"1999-05\", \"1999-06\", \"1999-07\", \"1999-08\", \"1999-09\", \"1999-10\", \"1999-11\", \"1999-12\", \"2000-01\", \"2000-02\", \"2000-03\", \"2000-04\", \"2000-05\", \"2000-06\", \"2000-07\", \"2000-08\", \"2000-09\", \"2000-10\", \"2000-11\", \"2000-12\", \"2001-01\", \"2001-02\", \"2001-03\", \"2001-04\", \"2001-05\", \"2001-06\", \"2001-07\", \"2001-08\", \"2001-09\", \"2001-10\", \"2001-11\", \"2001-12\", \"2002-01\", \"2002-02\", \"2002-03\", \"2002-04\", \"2002-05\", \"2002-06\", \"2002-07\", \"2002-08\", \"2002-09\", \"2002-10\", \"2002-11\", \"2002-12\", \"2003-01\", \"2003-02\", \"2003-03\", \"2003-04\", \"2003-05\", \"2003-06\", \"2003-07\", \"2003-08\", \"2003-09\", \"2003-10\", \"2003-11\", \"2003-12\", \"2004-01\", \"2004-02\", \"2004-03\", \"2004-04\", \"2004-05\", \"2004-06\", \"2004-07\", \"2004-08\", \"2004-09\", \"2004-10\", \"2004-11\", \"2004-12\", \"2005-01\", \"2005-02\", \"2005-03\", \"2005-04\", \"2005-05\", \"2005-06\", \"2005-07\", \"2005-08\", \"2005-09\", \"2005-10\", \"2005-11\", \"2005-12\", \"2006-01\", \"2006-02\", \"2006-03\", \"2006-04\", \"2006-05\", \"2006-06\", \"2006-07\", \"2006-08\", \"2006-09\", \"2006-10\", \"2006-11\", \"2006-12\", \"2007-01\", \"2007-02\", \"2007-03\", \"2007-04\", \"2007-05\", \"2007-06\", \"2007-07\", \"2007-08\", \"2007-09\", \"2007-10\", \"2007-11\", \"2007-12\", \"2008-01\", \"2008-02\", \"2008-03\", \"2008-04\", \"2008-05\", \"2008-06\", \"2008-07\", \"2008-08\", \"2008-09\", \"2008-10\", \"2008-11\", \"2008-12\", \"2009-01\", \"2009-02\", \"2009-03\", \"2009-04\", \"2009-05\", \"2009-06\", \"2009-07\", \"2009-08\", \"2009-09\", \"2009-10\", \"2009-11\", \"2009-12\", \"2010-01\", \"2010-02\", \"2010-03\", \"2010-04\", \"2010-05\", \"2010-06\", \"2010-07\", \"2010-08\", \"2010-09\", \"2010-10\", \"2010-11\", \"2010-12\", \"2011-01\", \"2011-02\", \"2011-03\", \"2011-04\", \"2011-05\", \"2011-06\", \"2011-07\", \"2011-08\", \"2011-09\", \"2011-10\", \"2011-11\", \"2011-12\", \"2012-01\", \"2012-02\", \"2012-03\", \"2012-04\", \"2012-05\", \"2012-06\", \"2012-07\", \"2012-08\", \"2012-09\", \"2012-10\", \"2012-11\", \"2012-12\", \"2013-01\", \"2013-02\", \"2013-03\", \"2013-04\", \"2013-05\", \"2013-06\", \"2013-07\", \"2013-08\", \"2013-09\", \"2013-10\", \"2013-11\", \"2013-12\", \"2014-01\", \"2014-02\", \"2014-03\", \"2014-04\", \"2014-05\", \"2014-06\", \"2014-07\", \"2014-08\", \"2014-09\", \"2014-10\", \"2014-11\", \"2014-12\", \"2015-01\", \"2015-02\", \"2015-03\", \"2015-04\", \"2015-05\", \"2015-06\", \"2015-07\", \"2015-08\", \"2015-09\", \"2015-10\", \"2015-11\", \"2015-12\", \"2016-01\", \"2016-02\", \"2016-03\", \"2016-04\", \"2016-05\", \"2016-06\", \"2016-07\", \"2016-08\", \"2016-09\", \"2016-10\", \"2016-11\", \"2016-12\", \"2017-01\", \"2017-02\", \"2017-03\", \"2017-04\", \"2017-05\", \"2017-06\"], \"xaxis\": \"x\", \"y\": [null, null, null, null, null, null, null, null, null, null, null, null, null, null, null, null, null, null, null, null, null, null, null, null, null, null, null, null, null, null, null, null, null, null, null, null, null, null, null, null, null, null, null, null, null, null, null, null, null, null, null, null, null, null, null, null, null, null, null, null, null, null, null, null, null, null, null, null, null, null, null, null, null, null, null, null, null, null, null, null, null, null, null, null, null, null, null, null, null, null, null, null, null, null, null, null, null, null, 569600.0, 566200.0, 566700.0, 571400.0, 566700.0, 568100.0, 569100.0, 559700.0, 549500.0, 545000.0, 534100.0, 515600.0, 497100.0, 487100.0, 490900.0, 507500.0, 525700.0, 531200.0, 519500.0, 509200.0, 510000.0, 511100.0, 511500.0, 516200.0, 526200.0, 527500.0, 523000.0, 509700.0, 499600.0, 498500.0, 515700.0, 537700.0, 547700.0, 546700.0, 550100.0, 559000.0, 553600.0, 545200.0, 536200.0, 531100.0, 524200.0, 522600.0, 519400.0, 518800.0, 524100.0, 537900.0, 552900.0, 564800.0, 574600.0, 584200.0, 597200.0, 610100.0, 622700.0, 633100.0, 634600.0, 629100.0, 625100.0, 622700.0, 616400.0, 613300.0, 613600.0, 610500.0, 604100.0, 597900.0, 596100.0, 598300.0, 608800.0, 619000.0, 619300.0, 612700.0, 612800.0, 614500.0, 611300.0, 605900.0, 604400.0, 610100.0, 618000.0, 624400.0, 627300.0, 628500.0, 630900.0, 635000.0, 636700.0, 635600.0, 640300.0, 648100.0, 652400.0, 654800.0, 657100.0, 655600.0, 653600.0, 650300.0, 650300.0, 652100.0, 653000.0, 654800.0, 666300.0, 683300.0, 698200.0, 707300.0, 713200.0, 719300.0, 725800.0, 732100.0, 739400.0, 747600.0, 750500.0, 752700.0, 760100.0, 773700.0, 790700.0, 808900.0, 823600.0, 832500.0, 837500.0, 843500.0, 854800.0, 871900.0, 887500.0, 902900.0, 925800.0, 947000.0, 952100.0, 944900.0, 940300.0, 939600.0, 942300.0, 948800.0, 958200.0, 978600.0, 1013600.0, 1028300.0, 1020200.0, 1024200.0, 1052400.0, 1090500.0, 1113800.0, 1123100.0, 1137000.0, 1161200.0, 1179700.0, 1192500.0, 1194700.0, 1198400.0, 1203700.0, 1206000.0, 1206100.0, 1207600.0, 1209800.0, 1216200.0, 1221400.0, 1225600.0, 1225000.0, 1219600.0, 1238100.0, 1276400.0, 1302300.0], \"yaxis\": \"y\"}, {\"hoverlabel\": {\"namelength\": 0}, \"hovertemplate\": \"RegionName=10013<br>index=%{x}<br>value=%{y}\", \"legendgroup\": \"10013\", \"line\": {\"color\": \"#FF97FF\", \"dash\": \"solid\"}, \"mode\": \"lines\", \"name\": \"10013\", \"showlegend\": true, \"type\": \"scattergl\", \"x\": [\"1996-04\", \"1996-05\", \"1996-06\", \"1996-07\", \"1996-08\", \"1996-09\", \"1996-10\", \"1996-11\", \"1996-12\", \"1997-01\", \"1997-02\", \"1997-03\", \"1997-04\", \"1997-05\", \"1997-06\", \"1997-07\", \"1997-08\", \"1997-09\", \"1997-10\", \"1997-11\", \"1997-12\", \"1998-01\", \"1998-02\", \"1998-03\", \"1998-04\", \"1998-05\", \"1998-06\", \"1998-07\", \"1998-08\", \"1998-09\", \"1998-10\", \"1998-11\", \"1998-12\", \"1999-01\", \"1999-02\", \"1999-03\", \"1999-04\", \"1999-05\", \"1999-06\", \"1999-07\", \"1999-08\", \"1999-09\", \"1999-10\", \"1999-11\", \"1999-12\", \"2000-01\", \"2000-02\", \"2000-03\", \"2000-04\", \"2000-05\", \"2000-06\", \"2000-07\", \"2000-08\", \"2000-09\", \"2000-10\", \"2000-11\", \"2000-12\", \"2001-01\", \"2001-02\", \"2001-03\", \"2001-04\", \"2001-05\", \"2001-06\", \"2001-07\", \"2001-08\", \"2001-09\", \"2001-10\", \"2001-11\", \"2001-12\", \"2002-01\", \"2002-02\", \"2002-03\", \"2002-04\", \"2002-05\", \"2002-06\", \"2002-07\", \"2002-08\", \"2002-09\", \"2002-10\", \"2002-11\", \"2002-12\", \"2003-01\", \"2003-02\", \"2003-03\", \"2003-04\", \"2003-05\", \"2003-06\", \"2003-07\", \"2003-08\", \"2003-09\", \"2003-10\", \"2003-11\", \"2003-12\", \"2004-01\", \"2004-02\", \"2004-03\", \"2004-04\", \"2004-05\", \"2004-06\", \"2004-07\", \"2004-08\", \"2004-09\", \"2004-10\", \"2004-11\", \"2004-12\", \"2005-01\", \"2005-02\", \"2005-03\", \"2005-04\", \"2005-05\", \"2005-06\", \"2005-07\", \"2005-08\", \"2005-09\", \"2005-10\", \"2005-11\", \"2005-12\", \"2006-01\", \"2006-02\", \"2006-03\", \"2006-04\", \"2006-05\", \"2006-06\", \"2006-07\", \"2006-08\", \"2006-09\", \"2006-10\", \"2006-11\", \"2006-12\", \"2007-01\", \"2007-02\", \"2007-03\", \"2007-04\", \"2007-05\", \"2007-06\", \"2007-07\", \"2007-08\", \"2007-09\", \"2007-10\", \"2007-11\", \"2007-12\", \"2008-01\", \"2008-02\", \"2008-03\", \"2008-04\", \"2008-05\", \"2008-06\", \"2008-07\", \"2008-08\", \"2008-09\", \"2008-10\", \"2008-11\", \"2008-12\", \"2009-01\", \"2009-02\", \"2009-03\", \"2009-04\", \"2009-05\", \"2009-06\", \"2009-07\", \"2009-08\", \"2009-09\", \"2009-10\", \"2009-11\", \"2009-12\", \"2010-01\", \"2010-02\", \"2010-03\", \"2010-04\", \"2010-05\", \"2010-06\", \"2010-07\", \"2010-08\", \"2010-09\", \"2010-10\", \"2010-11\", \"2010-12\", \"2011-01\", \"2011-02\", \"2011-03\", \"2011-04\", \"2011-05\", \"2011-06\", \"2011-07\", \"2011-08\", \"2011-09\", \"2011-10\", \"2011-11\", \"2011-12\", \"2012-01\", \"2012-02\", \"2012-03\", \"2012-04\", \"2012-05\", \"2012-06\", \"2012-07\", \"2012-08\", \"2012-09\", \"2012-10\", \"2012-11\", \"2012-12\", \"2013-01\", \"2013-02\", \"2013-03\", \"2013-04\", \"2013-05\", \"2013-06\", \"2013-07\", \"2013-08\", \"2013-09\", \"2013-10\", \"2013-11\", \"2013-12\", \"2014-01\", \"2014-02\", \"2014-03\", \"2014-04\", \"2014-05\", \"2014-06\", \"2014-07\", \"2014-08\", \"2014-09\", \"2014-10\", \"2014-11\", \"2014-12\", \"2015-01\", \"2015-02\", \"2015-03\", \"2015-04\", \"2015-05\", \"2015-06\", \"2015-07\", \"2015-08\", \"2015-09\", \"2015-10\", \"2015-11\", \"2015-12\", \"2016-01\", \"2016-02\", \"2016-03\", \"2016-04\", \"2016-05\", \"2016-06\", \"2016-07\", \"2016-08\", \"2016-09\", \"2016-10\", \"2016-11\", \"2016-12\", \"2017-01\", \"2017-02\", \"2017-03\", \"2017-04\", \"2017-05\", \"2017-06\"], \"xaxis\": \"x\", \"y\": [null, null, null, null, null, null, null, null, null, null, null, null, null, null, null, null, null, null, null, null, null, null, null, null, null, null, null, null, null, null, null, null, null, null, null, null, null, null, null, null, null, null, null, null, null, null, null, null, null, null, null, null, null, null, null, null, null, null, null, null, null, null, null, null, null, null, null, null, null, null, null, null, null, null, null, null, null, null, null, null, null, null, null, null, null, null, null, null, null, null, null, null, null, null, null, 1428000.0, 1444100.0, 1458700.0, 1502700.0, 1570100.0, 1638000.0, 1687000.0, 1718300.0, 1747600.0, 1753300.0, 1706600.0, 1660500.0, 1650500.0, 1642200.0, 1625600.0, 1618600.0, 1618900.0, 1622200.0, 1623500.0, 1639500.0, 1678900.0, 1705500.0, 1702200.0, 1701700.0, 1730800.0, 1773400.0, 1839600.0, 1903600.0, 1935000.0, 1946100.0, 1974100.0, 1987800.0, 1993400.0, 1990200.0, 1970600.0, 1953100.0, 1979000.0, 2032800.0, 2070000.0, 2090200.0, 2121100.0, 2167300.0, 2200000.0, 2226600.0, 2259300.0, 2285700.0, 2289000.0, 2288500.0, 2285800.0, 2281300.0, 2278800.0, 2295100.0, 2324500.0, 2328500.0, 2333000.0, 2366700.0, 2376200.0, 2377400.0, 2405100.0, 2433000.0, 2406100.0, 2350800.0, 2289500.0, 2257800.0, 2243500.0, 2241000.0, 2233600.0, 2219900.0, 2198000.0, 2209300.0, 2268700.0, 2294100.0, 2273600.0, 2261700.0, 2282800.0, 2288000.0, 2275700.0, 2281300.0, 2302800.0, 2290900.0, 2267800.0, 2253600.0, 2245300.0, 2264200.0, 2301000.0, 2328600.0, 2337000.0, 2341500.0, 2335200.0, 2316700.0, 2299900.0, 2318700.0, 2396400.0, 2479200.0, 2490300.0, 2466000.0, 2492400.0, 2542800.0, 2585500.0, 2618100.0, 2651700.0, 2670800.0, 2670000.0, 2665400.0, 2677400.0, 2687000.0, 2686200.0, 2687700.0, 2694200.0, 2708600.0, 2722800.0, 2727900.0, 2751300.0, 2794600.0, 2845700.0, 2899700.0, 2928600.0, 2914100.0, 2915200.0, 2945600.0, 2973800.0, 2988900.0, 3018400.0, 3063600.0, 3075900.0, 3063800.0, 3077400.0, 3108800.0, 3123300.0, 3106400.0, 3067600.0, 3047400.0, 3054500.0, 3071700.0, 3078300.0, 3073100.0, 3089400.0, 3121700.0, 3134200.0, 3152400.0, 3173600.0, 3195000.0, 3234600.0, 3302400.0, 3335800.0, 3324200.0, 3285100.0, 3274100.0, 3298600.0, 3341100.0, 3347100.0, 3305500.0, 3261100.0, 3244000.0, 3231400.0, 3183300.0, 3160200.0, 3193500.0, 3262200.0, 3316500.0], \"yaxis\": \"y\"}, {\"hoverlabel\": {\"namelength\": 0}, \"hovertemplate\": \"RegionName=11231<br>index=%{x}<br>value=%{y}\", \"legendgroup\": \"11231\", \"line\": {\"color\": \"#FECB52\", \"dash\": \"solid\"}, \"mode\": \"lines\", \"name\": \"11231\", \"showlegend\": true, \"type\": \"scattergl\", \"x\": [\"1996-04\", \"1996-05\", \"1996-06\", \"1996-07\", \"1996-08\", \"1996-09\", \"1996-10\", \"1996-11\", \"1996-12\", \"1997-01\", \"1997-02\", \"1997-03\", \"1997-04\", \"1997-05\", \"1997-06\", \"1997-07\", \"1997-08\", \"1997-09\", \"1997-10\", \"1997-11\", \"1997-12\", \"1998-01\", \"1998-02\", \"1998-03\", \"1998-04\", \"1998-05\", \"1998-06\", \"1998-07\", \"1998-08\", \"1998-09\", \"1998-10\", \"1998-11\", \"1998-12\", \"1999-01\", \"1999-02\", \"1999-03\", \"1999-04\", \"1999-05\", \"1999-06\", \"1999-07\", \"1999-08\", \"1999-09\", \"1999-10\", \"1999-11\", \"1999-12\", \"2000-01\", \"2000-02\", \"2000-03\", \"2000-04\", \"2000-05\", \"2000-06\", \"2000-07\", \"2000-08\", \"2000-09\", \"2000-10\", \"2000-11\", \"2000-12\", \"2001-01\", \"2001-02\", \"2001-03\", \"2001-04\", \"2001-05\", \"2001-06\", \"2001-07\", \"2001-08\", \"2001-09\", \"2001-10\", \"2001-11\", \"2001-12\", \"2002-01\", \"2002-02\", \"2002-03\", \"2002-04\", \"2002-05\", \"2002-06\", \"2002-07\", \"2002-08\", \"2002-09\", \"2002-10\", \"2002-11\", \"2002-12\", \"2003-01\", \"2003-02\", \"2003-03\", \"2003-04\", \"2003-05\", \"2003-06\", \"2003-07\", \"2003-08\", \"2003-09\", \"2003-10\", \"2003-11\", \"2003-12\", \"2004-01\", \"2004-02\", \"2004-03\", \"2004-04\", \"2004-05\", \"2004-06\", \"2004-07\", \"2004-08\", \"2004-09\", \"2004-10\", \"2004-11\", \"2004-12\", \"2005-01\", \"2005-02\", \"2005-03\", \"2005-04\", \"2005-05\", \"2005-06\", \"2005-07\", \"2005-08\", \"2005-09\", \"2005-10\", \"2005-11\", \"2005-12\", \"2006-01\", \"2006-02\", \"2006-03\", \"2006-04\", \"2006-05\", \"2006-06\", \"2006-07\", \"2006-08\", \"2006-09\", \"2006-10\", \"2006-11\", \"2006-12\", \"2007-01\", \"2007-02\", \"2007-03\", \"2007-04\", \"2007-05\", \"2007-06\", \"2007-07\", \"2007-08\", \"2007-09\", \"2007-10\", \"2007-11\", \"2007-12\", \"2008-01\", \"2008-02\", \"2008-03\", \"2008-04\", \"2008-05\", \"2008-06\", \"2008-07\", \"2008-08\", \"2008-09\", \"2008-10\", \"2008-11\", \"2008-12\", \"2009-01\", \"2009-02\", \"2009-03\", \"2009-04\", \"2009-05\", \"2009-06\", \"2009-07\", \"2009-08\", \"2009-09\", \"2009-10\", \"2009-11\", \"2009-12\", \"2010-01\", \"2010-02\", \"2010-03\", \"2010-04\", \"2010-05\", \"2010-06\", \"2010-07\", \"2010-08\", \"2010-09\", \"2010-10\", \"2010-11\", \"2010-12\", \"2011-01\", \"2011-02\", \"2011-03\", \"2011-04\", \"2011-05\", \"2011-06\", \"2011-07\", \"2011-08\", \"2011-09\", \"2011-10\", \"2011-11\", \"2011-12\", \"2012-01\", \"2012-02\", \"2012-03\", \"2012-04\", \"2012-05\", \"2012-06\", \"2012-07\", \"2012-08\", \"2012-09\", \"2012-10\", \"2012-11\", \"2012-12\", \"2013-01\", \"2013-02\", \"2013-03\", \"2013-04\", \"2013-05\", \"2013-06\", \"2013-07\", \"2013-08\", \"2013-09\", \"2013-10\", \"2013-11\", \"2013-12\", \"2014-01\", \"2014-02\", \"2014-03\", \"2014-04\", \"2014-05\", \"2014-06\", \"2014-07\", \"2014-08\", \"2014-09\", \"2014-10\", \"2014-11\", \"2014-12\", \"2015-01\", \"2015-02\", \"2015-03\", \"2015-04\", \"2015-05\", \"2015-06\", \"2015-07\", \"2015-08\", \"2015-09\", \"2015-10\", \"2015-11\", \"2015-12\", \"2016-01\", \"2016-02\", \"2016-03\", \"2016-04\", \"2016-05\", \"2016-06\", \"2016-07\", \"2016-08\", \"2016-09\", \"2016-10\", \"2016-11\", \"2016-12\", \"2017-01\", \"2017-02\", \"2017-03\", \"2017-04\", \"2017-05\", \"2017-06\"], \"xaxis\": \"x\", \"y\": [null, null, null, null, null, null, null, null, null, null, null, null, null, null, null, null, null, null, null, null, null, null, null, null, null, null, null, null, null, null, null, null, null, null, null, null, null, null, null, null, null, null, null, null, null, null, null, null, null, null, null, null, null, null, null, null, null, null, null, null, null, null, null, null, null, null, null, null, null, null, null, null, null, null, null, null, null, null, null, null, null, null, null, null, null, null, null, null, null, null, null, null, 420100.0, 435800.0, 457100.0, 478800.0, 492600.0, 500400.0, 508200.0, 523300.0, 532800.0, 531200.0, 528000.0, 526100.0, 523300.0, 521300.0, 517800.0, 513900.0, 506700.0, 494900.0, 490600.0, 485300.0, 479300.0, 487200.0, 498700.0, 498900.0, 497300.0, 501400.0, 508400.0, 513200.0, 512100.0, 514100.0, 524300.0, 536900.0, 546000.0, 542200.0, 535200.0, 533600.0, 543600.0, 556200.0, 560400.0, 566000.0, 585400.0, 585700.0, 560500.0, 545400.0, 543500.0, 534500.0, 528600.0, 529800.0, 529800.0, 525600.0, 526600.0, 526600.0, 525200.0, 528600.0, 538100.0, 546900.0, 558800.0, 571500.0, 578200.0, 579100.0, 579100.0, 576600.0, 572000.0, 567500.0, 565500.0, 570900.0, 574300.0, 573300.0, 568400.0, 568700.0, 575200.0, 588400.0, 592500.0, 591300.0, 589600.0, 589500.0, 589300.0, 590900.0, 595800.0, 599000.0, 600500.0, 602700.0, 607600.0, 617100.0, 632300.0, 642900.0, 642800.0, 643000.0, 646800.0, 651700.0, 656400.0, 665800.0, 671300.0, 667600.0, 656800.0, 646100.0, 638800.0, 638300.0, 648000.0, 657000.0, 661300.0, 662900.0, 669900.0, 676500.0, 681400.0, 678200.0, 673500.0, 669900.0, 677800.0, 692200.0, 705800.0, 716200.0, 730100.0, 744800.0, 758600.0, 773200.0, 790500.0, 807900.0, 823300.0, 839100.0, 851500.0, 864800.0, 888800.0, 921200.0, 936900.0, 945700.0, 958800.0, 962800.0, 952900.0, 957400.0, 963000.0, 955100.0, 949600.0, 955400.0, 959400.0, 960700.0, 969000.0, 987700.0, 1004400.0, 1022900.0, 1044200.0, 1064800.0, 1090400.0, 1125400.0, 1144400.0, 1138100.0, 1121800.0, 1103900.0, 1082200.0, 1067000.0, 1077200.0, 1093200.0, 1108300.0, 1128000.0, 1152400.0, 1166000.0, 1166500.0, 1166600.0, 1182900.0, 1202200.0, 1213200.0, 1211700.0, 1202900.0], \"yaxis\": \"y\"}, {\"hoverlabel\": {\"namelength\": 0}, \"hovertemplate\": \"RegionName=10304<br>index=%{x}<br>value=%{y}\", \"legendgroup\": \"10304\", \"line\": {\"color\": \"#636efa\", \"dash\": \"solid\"}, \"mode\": \"lines\", \"name\": \"10304\", \"showlegend\": true, \"type\": \"scattergl\", \"x\": [\"1996-04\", \"1996-05\", \"1996-06\", \"1996-07\", \"1996-08\", \"1996-09\", \"1996-10\", \"1996-11\", \"1996-12\", \"1997-01\", \"1997-02\", \"1997-03\", \"1997-04\", \"1997-05\", \"1997-06\", \"1997-07\", \"1997-08\", \"1997-09\", \"1997-10\", \"1997-11\", \"1997-12\", \"1998-01\", \"1998-02\", \"1998-03\", \"1998-04\", \"1998-05\", \"1998-06\", \"1998-07\", \"1998-08\", \"1998-09\", \"1998-10\", \"1998-11\", \"1998-12\", \"1999-01\", \"1999-02\", \"1999-03\", \"1999-04\", \"1999-05\", \"1999-06\", \"1999-07\", \"1999-08\", \"1999-09\", \"1999-10\", \"1999-11\", \"1999-12\", \"2000-01\", \"2000-02\", \"2000-03\", \"2000-04\", \"2000-05\", \"2000-06\", \"2000-07\", \"2000-08\", \"2000-09\", \"2000-10\", \"2000-11\", \"2000-12\", \"2001-01\", \"2001-02\", \"2001-03\", \"2001-04\", \"2001-05\", \"2001-06\", \"2001-07\", \"2001-08\", \"2001-09\", \"2001-10\", \"2001-11\", \"2001-12\", \"2002-01\", \"2002-02\", \"2002-03\", \"2002-04\", \"2002-05\", \"2002-06\", \"2002-07\", \"2002-08\", \"2002-09\", \"2002-10\", \"2002-11\", \"2002-12\", \"2003-01\", \"2003-02\", \"2003-03\", \"2003-04\", \"2003-05\", \"2003-06\", \"2003-07\", \"2003-08\", \"2003-09\", \"2003-10\", \"2003-11\", \"2003-12\", \"2004-01\", \"2004-02\", \"2004-03\", \"2004-04\", \"2004-05\", \"2004-06\", \"2004-07\", \"2004-08\", \"2004-09\", \"2004-10\", \"2004-11\", \"2004-12\", \"2005-01\", \"2005-02\", \"2005-03\", \"2005-04\", \"2005-05\", \"2005-06\", \"2005-07\", \"2005-08\", \"2005-09\", \"2005-10\", \"2005-11\", \"2005-12\", \"2006-01\", \"2006-02\", \"2006-03\", \"2006-04\", \"2006-05\", \"2006-06\", \"2006-07\", \"2006-08\", \"2006-09\", \"2006-10\", \"2006-11\", \"2006-12\", \"2007-01\", \"2007-02\", \"2007-03\", \"2007-04\", \"2007-05\", \"2007-06\", \"2007-07\", \"2007-08\", \"2007-09\", \"2007-10\", \"2007-11\", \"2007-12\", \"2008-01\", \"2008-02\", \"2008-03\", \"2008-04\", \"2008-05\", \"2008-06\", \"2008-07\", \"2008-08\", \"2008-09\", \"2008-10\", \"2008-11\", \"2008-12\", \"2009-01\", \"2009-02\", \"2009-03\", \"2009-04\", \"2009-05\", \"2009-06\", \"2009-07\", \"2009-08\", \"2009-09\", \"2009-10\", \"2009-11\", \"2009-12\", \"2010-01\", \"2010-02\", \"2010-03\", \"2010-04\", \"2010-05\", \"2010-06\", \"2010-07\", \"2010-08\", \"2010-09\", \"2010-10\", \"2010-11\", \"2010-12\", \"2011-01\", \"2011-02\", \"2011-03\", \"2011-04\", \"2011-05\", \"2011-06\", \"2011-07\", \"2011-08\", \"2011-09\", \"2011-10\", \"2011-11\", \"2011-12\", \"2012-01\", \"2012-02\", \"2012-03\", \"2012-04\", \"2012-05\", \"2012-06\", \"2012-07\", \"2012-08\", \"2012-09\", \"2012-10\", \"2012-11\", \"2012-12\", \"2013-01\", \"2013-02\", \"2013-03\", \"2013-04\", \"2013-05\", \"2013-06\", \"2013-07\", \"2013-08\", \"2013-09\", \"2013-10\", \"2013-11\", \"2013-12\", \"2014-01\", \"2014-02\", \"2014-03\", \"2014-04\", \"2014-05\", \"2014-06\", \"2014-07\", \"2014-08\", \"2014-09\", \"2014-10\", \"2014-11\", \"2014-12\", \"2015-01\", \"2015-02\", \"2015-03\", \"2015-04\", \"2015-05\", \"2015-06\", \"2015-07\", \"2015-08\", \"2015-09\", \"2015-10\", \"2015-11\", \"2015-12\", \"2016-01\", \"2016-02\", \"2016-03\", \"2016-04\", \"2016-05\", \"2016-06\", \"2016-07\", \"2016-08\", \"2016-09\", \"2016-10\", \"2016-11\", \"2016-12\", \"2017-01\", \"2017-02\", \"2017-03\", \"2017-04\", \"2017-05\", \"2017-06\"], \"xaxis\": \"x\", \"y\": [117500.0, 113700.0, 111200.0, 111100.0, 110400.0, 109100.0, 107900.0, 106300.0, 105700.0, 106300.0, 107000.0, 107600.0, 109100.0, 110600.0, 111500.0, 111700.0, 112200.0, 113800.0, 115400.0, 116300.0, 116500.0, 116400.0, 116300.0, 116800.0, 118400.0, 119700.0, 119900.0, 119700.0, 120400.0, 121700.0, 123400.0, 125200.0, 126800.0, 128500.0, 129900.0, 130500.0, 130800.0, 131400.0, 131800.0, 132300.0, 133300.0, 134400.0, 135300.0, 136000.0, 135900.0, 135200.0, 135300.0, 136400.0, 137800.0, 139300.0, 141100.0, 143000.0, 144000.0, 143400.0, 142200.0, 142600.0, 143700.0, 144300.0, 144900.0, 146400.0, 147700.0, 148900.0, 150500.0, 152500.0, 153800.0, 154100.0, 155100.0, 156900.0, 158800.0, 160700.0, 162200.0, 162600.0, 162800.0, 163800.0, 165600.0, 167100.0, 168700.0, 170500.0, 172500.0, 173500.0, 174500.0, 176100.0, 178100.0, 180300.0, 182500.0, 183700.0, 185000.0, 186400.0, 188000.0, 190300.0, 192900.0, 195800.0, 199900.0, 202800.0, 204300.0, 205900.0, 208100.0, 210300.0, 212900.0, 216000.0, 219500.0, 222500.0, 224300.0, 225900.0, 227900.0, 230900.0, 234900.0, 239200.0, 243000.0, 246800.0, 249400.0, 251900.0, 255000.0, 259300.0, 263200.0, 265500.0, 266100.0, 267900.0, 270000.0, 270900.0, 272600.0, 275500.0, 278600.0, 281400.0, 283800.0, 284900.0, 287000.0, 290600.0, 293500.0, 294600.0, 295800.0, 297300.0, 298900.0, 301400.0, 303200.0, 303000.0, 303100.0, 305400.0, 307100.0, 307200.0, 305500.0, 302600.0, 299700.0, 298100.0, 296100.0, 292300.0, 288300.0, 284900.0, 281600.0, 277700.0, 274800.0, 273200.0, 272900.0, 272500.0, 272500.0, 273200.0, 274600.0, 275100.0, 274200.0, 272200.0, 269500.0, 267300.0, 266600.0, 265500.0, 265200.0, 266200.0, 266100.0, 264700.0, 262500.0, 260800.0, 260700.0, 260900.0, 259900.0, 259200.0, 258000.0, 256600.0, 255100.0, 254000.0, 253700.0, 253000.0, 251400.0, 250100.0, 248900.0, 247400.0, 245700.0, 242800.0, 240400.0, 238900.0, 237600.0, 235800.0, 233900.0, 232600.0, 231600.0, 230100.0, 229200.0, 230100.0, 232300.0, 234400.0, 234500.0, 234500.0, 236100.0, 238100.0, 238400.0, 237500.0, 236300.0, 235400.0, 235200.0, 235900.0, 237300.0, 238300.0, 238900.0, 238400.0, 237000.0, 235800.0, 235600.0, 236000.0, 236500.0, 237200.0, 237900.0, 239200.0, 241300.0, 243300.0, 244500.0, 245700.0, 246800.0, 247700.0, 249300.0, 251800.0, 254600.0, 257700.0, 260900.0, 262400.0, 262700.0, 263300.0, 264900.0, 266200.0, 267000.0, 267700.0, 268600.0, 269600.0, 271300.0, 273000.0, 274600.0, 277600.0, 281400.0, 284500.0, 287100.0, 290700.0, 294700.0, 299000.0, 303800.0, 308300.0, 313800.0, 321300.0, 328300.0], \"yaxis\": \"y\"}, {\"hoverlabel\": {\"namelength\": 0}, \"hovertemplate\": \"RegionName=10305<br>index=%{x}<br>value=%{y}\", \"legendgroup\": \"10305\", \"line\": {\"color\": \"#EF553B\", \"dash\": \"solid\"}, \"mode\": \"lines\", \"name\": \"10305\", \"showlegend\": true, \"type\": \"scattergl\", \"x\": [\"1996-04\", \"1996-05\", \"1996-06\", \"1996-07\", \"1996-08\", \"1996-09\", \"1996-10\", \"1996-11\", \"1996-12\", \"1997-01\", \"1997-02\", \"1997-03\", \"1997-04\", \"1997-05\", \"1997-06\", \"1997-07\", \"1997-08\", \"1997-09\", \"1997-10\", \"1997-11\", \"1997-12\", \"1998-01\", \"1998-02\", \"1998-03\", \"1998-04\", \"1998-05\", \"1998-06\", \"1998-07\", \"1998-08\", \"1998-09\", \"1998-10\", \"1998-11\", \"1998-12\", \"1999-01\", \"1999-02\", \"1999-03\", \"1999-04\", \"1999-05\", \"1999-06\", \"1999-07\", \"1999-08\", \"1999-09\", \"1999-10\", \"1999-11\", \"1999-12\", \"2000-01\", \"2000-02\", \"2000-03\", \"2000-04\", \"2000-05\", \"2000-06\", \"2000-07\", \"2000-08\", \"2000-09\", \"2000-10\", \"2000-11\", \"2000-12\", \"2001-01\", \"2001-02\", \"2001-03\", \"2001-04\", \"2001-05\", \"2001-06\", \"2001-07\", \"2001-08\", \"2001-09\", \"2001-10\", \"2001-11\", \"2001-12\", \"2002-01\", \"2002-02\", \"2002-03\", \"2002-04\", \"2002-05\", \"2002-06\", \"2002-07\", \"2002-08\", \"2002-09\", \"2002-10\", \"2002-11\", \"2002-12\", \"2003-01\", \"2003-02\", \"2003-03\", \"2003-04\", \"2003-05\", \"2003-06\", \"2003-07\", \"2003-08\", \"2003-09\", \"2003-10\", \"2003-11\", \"2003-12\", \"2004-01\", \"2004-02\", \"2004-03\", \"2004-04\", \"2004-05\", \"2004-06\", \"2004-07\", \"2004-08\", \"2004-09\", \"2004-10\", \"2004-11\", \"2004-12\", \"2005-01\", \"2005-02\", \"2005-03\", \"2005-04\", \"2005-05\", \"2005-06\", \"2005-07\", \"2005-08\", \"2005-09\", \"2005-10\", \"2005-11\", \"2005-12\", \"2006-01\", \"2006-02\", \"2006-03\", \"2006-04\", \"2006-05\", \"2006-06\", \"2006-07\", \"2006-08\", \"2006-09\", \"2006-10\", \"2006-11\", \"2006-12\", \"2007-01\", \"2007-02\", \"2007-03\", \"2007-04\", \"2007-05\", \"2007-06\", \"2007-07\", \"2007-08\", \"2007-09\", \"2007-10\", \"2007-11\", \"2007-12\", \"2008-01\", \"2008-02\", \"2008-03\", \"2008-04\", \"2008-05\", \"2008-06\", \"2008-07\", \"2008-08\", \"2008-09\", \"2008-10\", \"2008-11\", \"2008-12\", \"2009-01\", \"2009-02\", \"2009-03\", \"2009-04\", \"2009-05\", \"2009-06\", \"2009-07\", \"2009-08\", \"2009-09\", \"2009-10\", \"2009-11\", \"2009-12\", \"2010-01\", \"2010-02\", \"2010-03\", \"2010-04\", \"2010-05\", \"2010-06\", \"2010-07\", \"2010-08\", \"2010-09\", \"2010-10\", \"2010-11\", \"2010-12\", \"2011-01\", \"2011-02\", \"2011-03\", \"2011-04\", \"2011-05\", \"2011-06\", \"2011-07\", \"2011-08\", \"2011-09\", \"2011-10\", \"2011-11\", \"2011-12\", \"2012-01\", \"2012-02\", \"2012-03\", \"2012-04\", \"2012-05\", \"2012-06\", \"2012-07\", \"2012-08\", \"2012-09\", \"2012-10\", \"2012-11\", \"2012-12\", \"2013-01\", \"2013-02\", \"2013-03\", \"2013-04\", \"2013-05\", \"2013-06\", \"2013-07\", \"2013-08\", \"2013-09\", \"2013-10\", \"2013-11\", \"2013-12\", \"2014-01\", \"2014-02\", \"2014-03\", \"2014-04\", \"2014-05\", \"2014-06\", \"2014-07\", \"2014-08\", \"2014-09\", \"2014-10\", \"2014-11\", \"2014-12\", \"2015-01\", \"2015-02\", \"2015-03\", \"2015-04\", \"2015-05\", \"2015-06\", \"2015-07\", \"2015-08\", \"2015-09\", \"2015-10\", \"2015-11\", \"2015-12\", \"2016-01\", \"2016-02\", \"2016-03\", \"2016-04\", \"2016-05\", \"2016-06\", \"2016-07\", \"2016-08\", \"2016-09\", \"2016-10\", \"2016-11\", \"2016-12\", \"2017-01\", \"2017-02\", \"2017-03\", \"2017-04\", \"2017-05\", \"2017-06\"], \"xaxis\": \"x\", \"y\": [131900.0, 131900.0, 131400.0, 130800.0, 130200.0, 129900.0, 129600.0, 129400.0, 128900.0, 128000.0, 127800.0, 128100.0, 128000.0, 127200.0, 126600.0, 126500.0, 126800.0, 127100.0, 127900.0, 129700.0, 131500.0, 133200.0, 134700.0, 135600.0, 135800.0, 135800.0, 135600.0, 135300.0, 134700.0, 134700.0, 135000.0, 134600.0, 133600.0, 133800.0, 134800.0, 135400.0, 135600.0, 136000.0, 137100.0, 139500.0, 141900.0, 143800.0, 146100.0, 148700.0, 150600.0, 151700.0, 152900.0, 154200.0, 155500.0, 157600.0, 160000.0, 162000.0, 164000.0, 165000.0, 164800.0, 164800.0, 165600.0, 166200.0, 167600.0, 170100.0, 173300.0, 175600.0, 177700.0, 179300.0, 181100.0, 182200.0, 183400.0, 185200.0, 188000.0, 191200.0, 194000.0, 196800.0, 198800.0, 200900.0, 203600.0, 206400.0, 209300.0, 212500.0, 216100.0, 218800.0, 221700.0, 224800.0, 227900.0, 229800.0, 232300.0, 235900.0, 239100.0, 240800.0, 242800.0, 247000.0, 251200.0, 254300.0, 257100.0, 260000.0, 261800.0, 263800.0, 266100.0, 268200.0, 269900.0, 272300.0, 275400.0, 278900.0, 282700.0, 287100.0, 291500.0, 295400.0, 298800.0, 302400.0, 306100.0, 311300.0, 317400.0, 322700.0, 326300.0, 330000.0, 332900.0, 336600.0, 339600.0, 341300.0, 343200.0, 346700.0, 350200.0, 352300.0, 353700.0, 355200.0, 356500.0, 355700.0, 354000.0, 352500.0, 351600.0, 351000.0, 350100.0, 349700.0, 350200.0, 349900.0, 347900.0, 346200.0, 345600.0, 345400.0, 346500.0, 345700.0, 341300.0, 337200.0, 337100.0, 336800.0, 334600.0, 332000.0, 330900.0, 331200.0, 330400.0, 328800.0, 327400.0, 325900.0, 325500.0, 327800.0, 330600.0, 331300.0, 331200.0, 331300.0, 330000.0, 327100.0, 324900.0, 325200.0, 326300.0, 327000.0, 328900.0, 331100.0, 330000.0, 328100.0, 327200.0, 324500.0, 321600.0, 321000.0, 320600.0, 318900.0, 316500.0, 315700.0, 316200.0, 316400.0, 315400.0, 313000.0, 308700.0, 306000.0, 305400.0, 304900.0, 304600.0, 303000.0, 300700.0, 299700.0, 299400.0, 297300.0, 295900.0, 296700.0, 297800.0, 298600.0, 299700.0, 300800.0, 301400.0, 302100.0, 302000.0, 302400.0, 302300.0, 301600.0, 301400.0, 301400.0, 301500.0, 300900.0, 301400.0, 302100.0, 302600.0, 302500.0, 303400.0, 303800.0, 304200.0, 304200.0, 304500.0, 305400.0, 308000.0, 311500.0, 314400.0, 315300.0, 315700.0, 316400.0, 317200.0, 317300.0, 316700.0, 316000.0, 314500.0, 312900.0, 313100.0, 315500.0, 318700.0, 322000.0, 324900.0, 326600.0, 328800.0, 332100.0, 336700.0, 341300.0, 344700.0, 347800.0, 351700.0, 356200.0, 359400.0, 363100.0, 367900.0, 373500.0, 378600.0, 382700.0, 385300.0, 387900.0, 394500.0, 403800.0, 412000.0, 418900.0, 425100.0], \"yaxis\": \"y\"}, {\"hoverlabel\": {\"namelength\": 0}, \"hovertemplate\": \"RegionName=10309<br>index=%{x}<br>value=%{y}\", \"legendgroup\": \"10309\", \"line\": {\"color\": \"#00cc96\", \"dash\": \"solid\"}, \"mode\": \"lines\", \"name\": \"10309\", \"showlegend\": true, \"type\": \"scattergl\", \"x\": [\"1996-04\", \"1996-05\", \"1996-06\", \"1996-07\", \"1996-08\", \"1996-09\", \"1996-10\", \"1996-11\", \"1996-12\", \"1997-01\", \"1997-02\", \"1997-03\", \"1997-04\", \"1997-05\", \"1997-06\", \"1997-07\", \"1997-08\", \"1997-09\", \"1997-10\", \"1997-11\", \"1997-12\", \"1998-01\", \"1998-02\", \"1998-03\", \"1998-04\", \"1998-05\", \"1998-06\", \"1998-07\", \"1998-08\", \"1998-09\", \"1998-10\", \"1998-11\", \"1998-12\", \"1999-01\", \"1999-02\", \"1999-03\", \"1999-04\", \"1999-05\", \"1999-06\", \"1999-07\", \"1999-08\", \"1999-09\", \"1999-10\", \"1999-11\", \"1999-12\", \"2000-01\", \"2000-02\", \"2000-03\", \"2000-04\", \"2000-05\", \"2000-06\", \"2000-07\", \"2000-08\", \"2000-09\", \"2000-10\", \"2000-11\", \"2000-12\", \"2001-01\", \"2001-02\", \"2001-03\", \"2001-04\", \"2001-05\", \"2001-06\", \"2001-07\", \"2001-08\", \"2001-09\", \"2001-10\", \"2001-11\", \"2001-12\", \"2002-01\", \"2002-02\", \"2002-03\", \"2002-04\", \"2002-05\", \"2002-06\", \"2002-07\", \"2002-08\", \"2002-09\", \"2002-10\", \"2002-11\", \"2002-12\", \"2003-01\", \"2003-02\", \"2003-03\", \"2003-04\", \"2003-05\", \"2003-06\", \"2003-07\", \"2003-08\", \"2003-09\", \"2003-10\", \"2003-11\", \"2003-12\", \"2004-01\", \"2004-02\", \"2004-03\", \"2004-04\", \"2004-05\", \"2004-06\", \"2004-07\", \"2004-08\", \"2004-09\", \"2004-10\", \"2004-11\", \"2004-12\", \"2005-01\", \"2005-02\", \"2005-03\", \"2005-04\", \"2005-05\", \"2005-06\", \"2005-07\", \"2005-08\", \"2005-09\", \"2005-10\", \"2005-11\", \"2005-12\", \"2006-01\", \"2006-02\", \"2006-03\", \"2006-04\", \"2006-05\", \"2006-06\", \"2006-07\", \"2006-08\", \"2006-09\", \"2006-10\", \"2006-11\", \"2006-12\", \"2007-01\", \"2007-02\", \"2007-03\", \"2007-04\", \"2007-05\", \"2007-06\", \"2007-07\", \"2007-08\", \"2007-09\", \"2007-10\", \"2007-11\", \"2007-12\", \"2008-01\", \"2008-02\", \"2008-03\", \"2008-04\", \"2008-05\", \"2008-06\", \"2008-07\", \"2008-08\", \"2008-09\", \"2008-10\", \"2008-11\", \"2008-12\", \"2009-01\", \"2009-02\", \"2009-03\", \"2009-04\", \"2009-05\", \"2009-06\", \"2009-07\", \"2009-08\", \"2009-09\", \"2009-10\", \"2009-11\", \"2009-12\", \"2010-01\", \"2010-02\", \"2010-03\", \"2010-04\", \"2010-05\", \"2010-06\", \"2010-07\", \"2010-08\", \"2010-09\", \"2010-10\", \"2010-11\", \"2010-12\", \"2011-01\", \"2011-02\", \"2011-03\", \"2011-04\", \"2011-05\", \"2011-06\", \"2011-07\", \"2011-08\", \"2011-09\", \"2011-10\", \"2011-11\", \"2011-12\", \"2012-01\", \"2012-02\", \"2012-03\", \"2012-04\", \"2012-05\", \"2012-06\", \"2012-07\", \"2012-08\", \"2012-09\", \"2012-10\", \"2012-11\", \"2012-12\", \"2013-01\", \"2013-02\", \"2013-03\", \"2013-04\", \"2013-05\", \"2013-06\", \"2013-07\", \"2013-08\", \"2013-09\", \"2013-10\", \"2013-11\", \"2013-12\", \"2014-01\", \"2014-02\", \"2014-03\", \"2014-04\", \"2014-05\", \"2014-06\", \"2014-07\", \"2014-08\", \"2014-09\", \"2014-10\", \"2014-11\", \"2014-12\", \"2015-01\", \"2015-02\", \"2015-03\", \"2015-04\", \"2015-05\", \"2015-06\", \"2015-07\", \"2015-08\", \"2015-09\", \"2015-10\", \"2015-11\", \"2015-12\", \"2016-01\", \"2016-02\", \"2016-03\", \"2016-04\", \"2016-05\", \"2016-06\", \"2016-07\", \"2016-08\", \"2016-09\", \"2016-10\", \"2016-11\", \"2016-12\", \"2017-01\", \"2017-02\", \"2017-03\", \"2017-04\", \"2017-05\", \"2017-06\"], \"xaxis\": \"x\", \"y\": [129100.0, 129200.0, 129000.0, 129400.0, 130300.0, 131200.0, 131500.0, 131600.0, 131400.0, 131100.0, 131500.0, 132600.0, 134000.0, 135200.0, 136400.0, 136800.0, 136300.0, 135000.0, 134800.0, 135800.0, 136700.0, 137700.0, 139900.0, 141600.0, 141600.0, 140900.0, 139800.0, 138900.0, 138600.0, 138500.0, 138100.0, 137600.0, 138200.0, 139100.0, 139700.0, 140500.0, 142000.0, 143400.0, 145200.0, 147600.0, 149800.0, 151800.0, 153200.0, 153800.0, 154500.0, 155500.0, 156500.0, 157600.0, 159100.0, 160700.0, 162000.0, 163400.0, 165700.0, 168300.0, 170100.0, 172100.0, 174100.0, 176100.0, 178400.0, 181200.0, 184200.0, 187500.0, 190600.0, 194000.0, 196900.0, 199000.0, 201700.0, 205200.0, 208000.0, 210100.0, 212200.0, 213900.0, 214600.0, 215600.0, 217800.0, 218500.0, 218400.0, 220100.0, 223400.0, 226100.0, 228900.0, 230900.0, 232200.0, 233800.0, 237200.0, 240800.0, 241900.0, 242300.0, 244600.0, 247600.0, 250500.0, 254100.0, 257500.0, 260700.0, 264300.0, 266900.0, 268000.0, 269000.0, 272800.0, 278400.0, 282600.0, 286100.0, 288900.0, 290000.0, 292200.0, 296600.0, 300600.0, 303900.0, 307800.0, 311900.0, 315600.0, 318900.0, 321900.0, 324000.0, 325900.0, 329700.0, 333800.0, 336500.0, 338100.0, 340300.0, 342300.0, 343800.0, 345700.0, 348600.0, 351500.0, 352700.0, 353500.0, 352900.0, 349700.0, 346300.0, 344200.0, 343700.0, 344400.0, 344200.0, 342400.0, 340600.0, 339400.0, 339200.0, 340600.0, 342300.0, 341700.0, 338800.0, 337100.0, 337600.0, 337400.0, 337000.0, 335300.0, 331900.0, 328000.0, 323400.0, 317800.0, 312700.0, 310200.0, 310400.0, 311900.0, 311500.0, 311000.0, 311800.0, 312300.0, 310800.0, 310300.0, 311800.0, 313900.0, 315000.0, 317000.0, 320000.0, 320000.0, 317400.0, 314900.0, 313100.0, 311900.0, 312700.0, 313900.0, 314500.0, 313900.0, 313100.0, 312700.0, 311900.0, 310600.0, 308200.0, 305000.0, 302300.0, 302000.0, 302400.0, 301600.0, 299600.0, 297700.0, 296700.0, 296700.0, 295900.0, 295600.0, 297400.0, 298500.0, 297800.0, 297900.0, 299000.0, 299400.0, 299600.0, 301100.0, 302900.0, 303500.0, 303300.0, 303800.0, 305400.0, 306800.0, 307400.0, 308000.0, 309300.0, 310900.0, 312300.0, 312700.0, 312000.0, 312900.0, 315500.0, 316900.0, 316800.0, 317200.0, 317000.0, 315900.0, 316100.0, 317300.0, 318100.0, 319200.0, 320800.0, 320600.0, 319700.0, 318300.0, 317700.0, 319500.0, 323200.0, 326200.0, 328200.0, 329700.0, 330500.0, 331800.0, 332900.0, 333200.0, 333800.0, 335600.0, 337900.0, 339900.0, 342000.0, 343700.0, 345200.0, 346600.0, 348300.0, 351100.0, 354600.0, 357900.0, 360500.0, 364900.0, 371100.0, 377200.0, 383700.0, 390500.0], \"yaxis\": \"y\"}, {\"hoverlabel\": {\"namelength\": 0}, \"hovertemplate\": \"RegionName=10308<br>index=%{x}<br>value=%{y}\", \"legendgroup\": \"10308\", \"line\": {\"color\": \"#ab63fa\", \"dash\": \"solid\"}, \"mode\": \"lines\", \"name\": \"10308\", \"showlegend\": true, \"type\": \"scattergl\", \"x\": [\"1996-04\", \"1996-05\", \"1996-06\", \"1996-07\", \"1996-08\", \"1996-09\", \"1996-10\", \"1996-11\", \"1996-12\", \"1997-01\", \"1997-02\", \"1997-03\", \"1997-04\", \"1997-05\", \"1997-06\", \"1997-07\", \"1997-08\", \"1997-09\", \"1997-10\", \"1997-11\", \"1997-12\", \"1998-01\", \"1998-02\", \"1998-03\", \"1998-04\", \"1998-05\", \"1998-06\", \"1998-07\", \"1998-08\", \"1998-09\", \"1998-10\", \"1998-11\", \"1998-12\", \"1999-01\", \"1999-02\", \"1999-03\", \"1999-04\", \"1999-05\", \"1999-06\", \"1999-07\", \"1999-08\", \"1999-09\", \"1999-10\", \"1999-11\", \"1999-12\", \"2000-01\", \"2000-02\", \"2000-03\", \"2000-04\", \"2000-05\", \"2000-06\", \"2000-07\", \"2000-08\", \"2000-09\", \"2000-10\", \"2000-11\", \"2000-12\", \"2001-01\", \"2001-02\", \"2001-03\", \"2001-04\", \"2001-05\", \"2001-06\", \"2001-07\", \"2001-08\", \"2001-09\", \"2001-10\", \"2001-11\", \"2001-12\", \"2002-01\", \"2002-02\", \"2002-03\", \"2002-04\", \"2002-05\", \"2002-06\", \"2002-07\", \"2002-08\", \"2002-09\", \"2002-10\", \"2002-11\", \"2002-12\", \"2003-01\", \"2003-02\", \"2003-03\", \"2003-04\", \"2003-05\", \"2003-06\", \"2003-07\", \"2003-08\", \"2003-09\", \"2003-10\", \"2003-11\", \"2003-12\", \"2004-01\", \"2004-02\", \"2004-03\", \"2004-04\", \"2004-05\", \"2004-06\", \"2004-07\", \"2004-08\", \"2004-09\", \"2004-10\", \"2004-11\", \"2004-12\", \"2005-01\", \"2005-02\", \"2005-03\", \"2005-04\", \"2005-05\", \"2005-06\", \"2005-07\", \"2005-08\", \"2005-09\", \"2005-10\", \"2005-11\", \"2005-12\", \"2006-01\", \"2006-02\", \"2006-03\", \"2006-04\", \"2006-05\", \"2006-06\", \"2006-07\", \"2006-08\", \"2006-09\", \"2006-10\", \"2006-11\", \"2006-12\", \"2007-01\", \"2007-02\", \"2007-03\", \"2007-04\", \"2007-05\", \"2007-06\", \"2007-07\", \"2007-08\", \"2007-09\", \"2007-10\", \"2007-11\", \"2007-12\", \"2008-01\", \"2008-02\", \"2008-03\", \"2008-04\", \"2008-05\", \"2008-06\", \"2008-07\", \"2008-08\", \"2008-09\", \"2008-10\", \"2008-11\", \"2008-12\", \"2009-01\", \"2009-02\", \"2009-03\", \"2009-04\", \"2009-05\", \"2009-06\", \"2009-07\", \"2009-08\", \"2009-09\", \"2009-10\", \"2009-11\", \"2009-12\", \"2010-01\", \"2010-02\", \"2010-03\", \"2010-04\", \"2010-05\", \"2010-06\", \"2010-07\", \"2010-08\", \"2010-09\", \"2010-10\", \"2010-11\", \"2010-12\", \"2011-01\", \"2011-02\", \"2011-03\", \"2011-04\", \"2011-05\", \"2011-06\", \"2011-07\", \"2011-08\", \"2011-09\", \"2011-10\", \"2011-11\", \"2011-12\", \"2012-01\", \"2012-02\", \"2012-03\", \"2012-04\", \"2012-05\", \"2012-06\", \"2012-07\", \"2012-08\", \"2012-09\", \"2012-10\", \"2012-11\", \"2012-12\", \"2013-01\", \"2013-02\", \"2013-03\", \"2013-04\", \"2013-05\", \"2013-06\", \"2013-07\", \"2013-08\", \"2013-09\", \"2013-10\", \"2013-11\", \"2013-12\", \"2014-01\", \"2014-02\", \"2014-03\", \"2014-04\", \"2014-05\", \"2014-06\", \"2014-07\", \"2014-08\", \"2014-09\", \"2014-10\", \"2014-11\", \"2014-12\", \"2015-01\", \"2015-02\", \"2015-03\", \"2015-04\", \"2015-05\", \"2015-06\", \"2015-07\", \"2015-08\", \"2015-09\", \"2015-10\", \"2015-11\", \"2015-12\", \"2016-01\", \"2016-02\", \"2016-03\", \"2016-04\", \"2016-05\", \"2016-06\", \"2016-07\", \"2016-08\", \"2016-09\", \"2016-10\", \"2016-11\", \"2016-12\", \"2017-01\", \"2017-02\", \"2017-03\", \"2017-04\", \"2017-05\", \"2017-06\"], \"xaxis\": \"x\", \"y\": [149600.0, 148200.0, 146800.0, 144800.0, 143100.0, 142300.0, 142400.0, 142400.0, 141900.0, 140900.0, 140400.0, 140100.0, 139700.0, 138800.0, 138500.0, 138700.0, 139000.0, 139500.0, 140000.0, 139600.0, 139400.0, 140100.0, 141100.0, 142100.0, 142800.0, 142500.0, 142400.0, 142900.0, 143400.0, 142700.0, 141200.0, 140700.0, 141100.0, 142000.0, 142500.0, 142500.0, 143500.0, 146200.0, 147700.0, 149400.0, 151600.0, 152900.0, 153400.0, 154900.0, 156400.0, 158000.0, 161200.0, 164400.0, 166300.0, 167300.0, 169300.0, 171600.0, 173100.0, 174700.0, 177400.0, 180700.0, 183900.0, 186400.0, 187000.0, 187500.0, 189200.0, 191900.0, 193900.0, 195700.0, 197600.0, 201000.0, 205000.0, 207100.0, 207700.0, 208800.0, 211100.0, 214000.0, 216600.0, 219000.0, 220400.0, 221200.0, 222900.0, 225800.0, 229200.0, 232800.0, 235900.0, 237800.0, 239400.0, 241700.0, 244600.0, 247700.0, 251000.0, 254800.0, 259100.0, 262400.0, 263600.0, 264200.0, 266600.0, 269600.0, 273000.0, 275500.0, 278000.0, 281200.0, 286300.0, 289800.0, 291400.0, 292400.0, 293700.0, 295500.0, 299100.0, 304100.0, 309500.0, 314600.0, 318100.0, 320300.0, 324100.0, 329100.0, 333600.0, 338100.0, 342700.0, 347800.0, 352800.0, 355900.0, 356700.0, 357100.0, 358800.0, 361500.0, 362600.0, 363300.0, 364200.0, 364400.0, 364500.0, 364300.0, 361400.0, 357800.0, 355400.0, 354800.0, 355000.0, 353800.0, 350500.0, 348500.0, 348400.0, 347600.0, 347200.0, 348100.0, 347000.0, 343300.0, 340600.0, 339100.0, 337200.0, 335800.0, 333800.0, 330800.0, 327600.0, 325700.0, 323200.0, 320100.0, 317800.0, 317800.0, 318600.0, 318400.0, 317700.0, 317500.0, 317300.0, 316600.0, 316300.0, 317100.0, 318200.0, 317400.0, 319500.0, 323400.0, 324900.0, 325000.0, 326000.0, 324700.0, 324100.0, 324900.0, 325300.0, 324800.0, 324600.0, 323800.0, 323000.0, 322400.0, 322000.0, 320600.0, 319200.0, 318300.0, 317500.0, 317600.0, 317200.0, 315200.0, 313000.0, 313500.0, 313200.0, 311500.0, 310800.0, 310500.0, 308200.0, 307000.0, 308900.0, 310000.0, 309500.0, 309200.0, 309500.0, 309900.0, 310300.0, 311300.0, 313000.0, 314600.0, 315500.0, 315500.0, 315000.0, 314300.0, 314700.0, 316200.0, 317500.0, 318000.0, 318600.0, 319800.0, 319900.0, 319100.0, 319600.0, 321000.0, 321400.0, 321500.0, 321000.0, 319300.0, 317900.0, 318100.0, 318900.0, 319800.0, 320000.0, 319600.0, 319900.0, 321500.0, 323400.0, 324300.0, 325400.0, 327800.0, 331000.0, 334000.0, 336000.0, 336400.0, 336000.0, 337000.0, 339500.0, 342400.0, 345500.0, 350900.0, 356400.0, 360700.0, 364300.0, 367700.0, 370100.0, 372200.0, 378000.0, 387800.0, 396400.0, 402900.0, 409500.0], \"yaxis\": \"y\"}, {\"hoverlabel\": {\"namelength\": 0}, \"hovertemplate\": \"RegionName=10303<br>index=%{x}<br>value=%{y}\", \"legendgroup\": \"10303\", \"line\": {\"color\": \"#FFA15A\", \"dash\": \"solid\"}, \"mode\": \"lines\", \"name\": \"10303\", \"showlegend\": true, \"type\": \"scattergl\", \"x\": [\"1996-04\", \"1996-05\", \"1996-06\", \"1996-07\", \"1996-08\", \"1996-09\", \"1996-10\", \"1996-11\", \"1996-12\", \"1997-01\", \"1997-02\", \"1997-03\", \"1997-04\", \"1997-05\", \"1997-06\", \"1997-07\", \"1997-08\", \"1997-09\", \"1997-10\", \"1997-11\", \"1997-12\", \"1998-01\", \"1998-02\", \"1998-03\", \"1998-04\", \"1998-05\", \"1998-06\", \"1998-07\", \"1998-08\", \"1998-09\", \"1998-10\", \"1998-11\", \"1998-12\", \"1999-01\", \"1999-02\", \"1999-03\", \"1999-04\", \"1999-05\", \"1999-06\", \"1999-07\", \"1999-08\", \"1999-09\", \"1999-10\", \"1999-11\", \"1999-12\", \"2000-01\", \"2000-02\", \"2000-03\", \"2000-04\", \"2000-05\", \"2000-06\", \"2000-07\", \"2000-08\", \"2000-09\", \"2000-10\", \"2000-11\", \"2000-12\", \"2001-01\", \"2001-02\", \"2001-03\", \"2001-04\", \"2001-05\", \"2001-06\", \"2001-07\", \"2001-08\", \"2001-09\", \"2001-10\", \"2001-11\", \"2001-12\", \"2002-01\", \"2002-02\", \"2002-03\", \"2002-04\", \"2002-05\", \"2002-06\", \"2002-07\", \"2002-08\", \"2002-09\", \"2002-10\", \"2002-11\", \"2002-12\", \"2003-01\", \"2003-02\", \"2003-03\", \"2003-04\", \"2003-05\", \"2003-06\", \"2003-07\", \"2003-08\", \"2003-09\", \"2003-10\", \"2003-11\", \"2003-12\", \"2004-01\", \"2004-02\", \"2004-03\", \"2004-04\", \"2004-05\", \"2004-06\", \"2004-07\", \"2004-08\", \"2004-09\", \"2004-10\", \"2004-11\", \"2004-12\", \"2005-01\", \"2005-02\", \"2005-03\", \"2005-04\", \"2005-05\", \"2005-06\", \"2005-07\", \"2005-08\", \"2005-09\", \"2005-10\", \"2005-11\", \"2005-12\", \"2006-01\", \"2006-02\", \"2006-03\", \"2006-04\", \"2006-05\", \"2006-06\", \"2006-07\", \"2006-08\", \"2006-09\", \"2006-10\", \"2006-11\", \"2006-12\", \"2007-01\", \"2007-02\", \"2007-03\", \"2007-04\", \"2007-05\", \"2007-06\", \"2007-07\", \"2007-08\", \"2007-09\", \"2007-10\", \"2007-11\", \"2007-12\", \"2008-01\", \"2008-02\", \"2008-03\", \"2008-04\", \"2008-05\", \"2008-06\", \"2008-07\", \"2008-08\", \"2008-09\", \"2008-10\", \"2008-11\", \"2008-12\", \"2009-01\", \"2009-02\", \"2009-03\", \"2009-04\", \"2009-05\", \"2009-06\", \"2009-07\", \"2009-08\", \"2009-09\", \"2009-10\", \"2009-11\", \"2009-12\", \"2010-01\", \"2010-02\", \"2010-03\", \"2010-04\", \"2010-05\", \"2010-06\", \"2010-07\", \"2010-08\", \"2010-09\", \"2010-10\", \"2010-11\", \"2010-12\", \"2011-01\", \"2011-02\", \"2011-03\", \"2011-04\", \"2011-05\", \"2011-06\", \"2011-07\", \"2011-08\", \"2011-09\", \"2011-10\", \"2011-11\", \"2011-12\", \"2012-01\", \"2012-02\", \"2012-03\", \"2012-04\", \"2012-05\", \"2012-06\", \"2012-07\", \"2012-08\", \"2012-09\", \"2012-10\", \"2012-11\", \"2012-12\", \"2013-01\", \"2013-02\", \"2013-03\", \"2013-04\", \"2013-05\", \"2013-06\", \"2013-07\", \"2013-08\", \"2013-09\", \"2013-10\", \"2013-11\", \"2013-12\", \"2014-01\", \"2014-02\", \"2014-03\", \"2014-04\", \"2014-05\", \"2014-06\", \"2014-07\", \"2014-08\", \"2014-09\", \"2014-10\", \"2014-11\", \"2014-12\", \"2015-01\", \"2015-02\", \"2015-03\", \"2015-04\", \"2015-05\", \"2015-06\", \"2015-07\", \"2015-08\", \"2015-09\", \"2015-10\", \"2015-11\", \"2015-12\", \"2016-01\", \"2016-02\", \"2016-03\", \"2016-04\", \"2016-05\", \"2016-06\", \"2016-07\", \"2016-08\", \"2016-09\", \"2016-10\", \"2016-11\", \"2016-12\", \"2017-01\", \"2017-02\", \"2017-03\", \"2017-04\", \"2017-05\", \"2017-06\"], \"xaxis\": \"x\", \"y\": [99200.0, 102000.0, 103900.0, 105400.0, 106900.0, 107800.0, 108300.0, 109000.0, 108700.0, 107800.0, 107300.0, 107400.0, 108000.0, 108900.0, 109500.0, 109300.0, 109000.0, 108800.0, 108400.0, 108500.0, 109800.0, 111700.0, 113300.0, 113700.0, 113400.0, 113400.0, 113700.0, 113700.0, 113600.0, 113900.0, 113900.0, 114100.0, 114200.0, 114700.0, 115600.0, 115600.0, 114400.0, 114200.0, 114800.0, 116400.0, 118700.0, 120500.0, 122000.0, 122800.0, 123100.0, 123500.0, 124300.0, 125300.0, 126900.0, 128400.0, 130100.0, 132100.0, 134000.0, 135600.0, 137300.0, 138200.0, 138700.0, 139700.0, 140900.0, 142900.0, 145500.0, 147600.0, 149100.0, 150200.0, 151200.0, 152500.0, 154300.0, 155700.0, 157500.0, 159600.0, 161100.0, 160700.0, 160100.0, 160300.0, 161200.0, 162300.0, 164000.0, 166800.0, 169800.0, 173100.0, 175700.0, 178400.0, 181700.0, 186400.0, 190200.0, 193000.0, 195100.0, 196500.0, 196800.0, 196600.0, 197100.0, 199600.0, 203100.0, 206200.0, 208600.0, 210900.0, 213000.0, 213900.0, 214300.0, 215700.0, 217200.0, 219000.0, 220200.0, 221000.0, 222300.0, 225100.0, 228300.0, 231600.0, 234700.0, 238500.0, 242600.0, 246600.0, 250500.0, 254600.0, 259100.0, 262800.0, 265300.0, 267100.0, 269500.0, 272700.0, 276300.0, 279700.0, 282900.0, 286100.0, 289400.0, 291500.0, 293200.0, 295500.0, 296900.0, 296200.0, 295800.0, 296400.0, 297000.0, 296900.0, 296600.0, 296800.0, 297800.0, 298300.0, 298000.0, 297000.0, 294000.0, 289600.0, 286600.0, 285400.0, 283700.0, 281900.0, 281100.0, 279400.0, 276600.0, 274400.0, 272900.0, 271200.0, 269100.0, 267600.0, 266500.0, 264800.0, 262900.0, 262300.0, 261900.0, 260800.0, 259100.0, 258500.0, 258100.0, 257000.0, 260300.0, 267300.0, 269300.0, 265700.0, 262900.0, 260900.0, 258800.0, 257700.0, 257200.0, 256600.0, 254500.0, 252200.0, 250500.0, 249300.0, 248400.0, 248000.0, 247600.0, 246700.0, 244900.0, 242600.0, 240400.0, 238300.0, 236200.0, 234900.0, 234500.0, 233800.0, 232700.0, 232600.0, 233600.0, 233200.0, 230900.0, 230300.0, 231200.0, 230700.0, 230300.0, 232000.0, 232000.0, 229900.0, 229800.0, 230400.0, 229500.0, 229600.0, 231300.0, 232700.0, 233300.0, 234400.0, 235700.0, 236200.0, 235500.0, 234600.0, 234900.0, 236700.0, 238800.0, 239300.0, 240700.0, 243700.0, 245800.0, 246200.0, 247900.0, 249700.0, 250800.0, 252000.0, 252700.0, 251800.0, 250900.0, 252500.0, 255500.0, 257400.0, 258300.0, 259300.0, 260500.0, 262000.0, 263300.0, 264100.0, 265700.0, 268600.0, 271300.0, 273600.0, 276600.0, 279900.0, 282900.0, 287100.0, 291500.0, 294800.0, 297200.0, 300600.0, 304700.0, 309500.0, 315400.0, 322100.0, 327700.0], \"yaxis\": \"y\"}],\n",
              "                        {\"legend\": {\"title\": {\"text\": \"RegionName\"}, \"tracegroupgap\": 0}, \"margin\": {\"t\": 60}, \"template\": {\"data\": {\"bar\": [{\"error_x\": {\"color\": \"#2a3f5f\"}, \"error_y\": {\"color\": \"#2a3f5f\"}, \"marker\": {\"line\": {\"color\": \"#E5ECF6\", \"width\": 0.5}}, \"type\": \"bar\"}], \"barpolar\": [{\"marker\": {\"line\": {\"color\": \"#E5ECF6\", \"width\": 0.5}}, \"type\": \"barpolar\"}], \"carpet\": [{\"aaxis\": {\"endlinecolor\": \"#2a3f5f\", \"gridcolor\": \"white\", \"linecolor\": \"white\", \"minorgridcolor\": \"white\", \"startlinecolor\": \"#2a3f5f\"}, \"baxis\": {\"endlinecolor\": \"#2a3f5f\", \"gridcolor\": \"white\", \"linecolor\": \"white\", \"minorgridcolor\": \"white\", \"startlinecolor\": \"#2a3f5f\"}, \"type\": \"carpet\"}], \"choropleth\": [{\"colorbar\": {\"outlinewidth\": 0, \"ticks\": \"\"}, \"type\": \"choropleth\"}], \"contour\": [{\"colorbar\": {\"outlinewidth\": 0, \"ticks\": \"\"}, \"colorscale\": [[0.0, \"#0d0887\"], [0.1111111111111111, \"#46039f\"], [0.2222222222222222, \"#7201a8\"], [0.3333333333333333, \"#9c179e\"], [0.4444444444444444, \"#bd3786\"], [0.5555555555555556, \"#d8576b\"], [0.6666666666666666, \"#ed7953\"], [0.7777777777777778, \"#fb9f3a\"], [0.8888888888888888, \"#fdca26\"], [1.0, \"#f0f921\"]], \"type\": \"contour\"}], \"contourcarpet\": [{\"colorbar\": {\"outlinewidth\": 0, \"ticks\": \"\"}, \"type\": \"contourcarpet\"}], \"heatmap\": [{\"colorbar\": {\"outlinewidth\": 0, \"ticks\": \"\"}, \"colorscale\": [[0.0, \"#0d0887\"], [0.1111111111111111, \"#46039f\"], [0.2222222222222222, \"#7201a8\"], [0.3333333333333333, \"#9c179e\"], [0.4444444444444444, \"#bd3786\"], [0.5555555555555556, \"#d8576b\"], [0.6666666666666666, \"#ed7953\"], [0.7777777777777778, \"#fb9f3a\"], [0.8888888888888888, \"#fdca26\"], [1.0, \"#f0f921\"]], \"type\": \"heatmap\"}], \"heatmapgl\": [{\"colorbar\": {\"outlinewidth\": 0, \"ticks\": \"\"}, \"colorscale\": [[0.0, \"#0d0887\"], [0.1111111111111111, \"#46039f\"], [0.2222222222222222, \"#7201a8\"], [0.3333333333333333, \"#9c179e\"], [0.4444444444444444, \"#bd3786\"], [0.5555555555555556, \"#d8576b\"], [0.6666666666666666, \"#ed7953\"], [0.7777777777777778, \"#fb9f3a\"], [0.8888888888888888, \"#fdca26\"], [1.0, \"#f0f921\"]], \"type\": \"heatmapgl\"}], \"histogram\": [{\"marker\": {\"colorbar\": {\"outlinewidth\": 0, \"ticks\": \"\"}}, \"type\": \"histogram\"}], \"histogram2d\": [{\"colorbar\": {\"outlinewidth\": 0, \"ticks\": \"\"}, \"colorscale\": [[0.0, \"#0d0887\"], [0.1111111111111111, \"#46039f\"], [0.2222222222222222, \"#7201a8\"], [0.3333333333333333, \"#9c179e\"], [0.4444444444444444, \"#bd3786\"], [0.5555555555555556, \"#d8576b\"], [0.6666666666666666, \"#ed7953\"], [0.7777777777777778, \"#fb9f3a\"], [0.8888888888888888, \"#fdca26\"], [1.0, \"#f0f921\"]], \"type\": \"histogram2d\"}], \"histogram2dcontour\": [{\"colorbar\": {\"outlinewidth\": 0, \"ticks\": \"\"}, \"colorscale\": [[0.0, \"#0d0887\"], [0.1111111111111111, \"#46039f\"], [0.2222222222222222, \"#7201a8\"], [0.3333333333333333, \"#9c179e\"], [0.4444444444444444, \"#bd3786\"], [0.5555555555555556, \"#d8576b\"], [0.6666666666666666, \"#ed7953\"], [0.7777777777777778, \"#fb9f3a\"], [0.8888888888888888, \"#fdca26\"], [1.0, \"#f0f921\"]], \"type\": \"histogram2dcontour\"}], \"mesh3d\": [{\"colorbar\": {\"outlinewidth\": 0, \"ticks\": \"\"}, \"type\": \"mesh3d\"}], \"parcoords\": [{\"line\": {\"colorbar\": {\"outlinewidth\": 0, \"ticks\": \"\"}}, \"type\": \"parcoords\"}], \"pie\": [{\"automargin\": true, \"type\": \"pie\"}], \"scatter\": [{\"marker\": {\"colorbar\": {\"outlinewidth\": 0, \"ticks\": \"\"}}, \"type\": \"scatter\"}], \"scatter3d\": [{\"line\": {\"colorbar\": {\"outlinewidth\": 0, \"ticks\": \"\"}}, \"marker\": {\"colorbar\": {\"outlinewidth\": 0, \"ticks\": \"\"}}, \"type\": \"scatter3d\"}], \"scattercarpet\": [{\"marker\": {\"colorbar\": {\"outlinewidth\": 0, \"ticks\": \"\"}}, \"type\": \"scattercarpet\"}], \"scattergeo\": [{\"marker\": {\"colorbar\": {\"outlinewidth\": 0, \"ticks\": \"\"}}, \"type\": \"scattergeo\"}], \"scattergl\": [{\"marker\": {\"colorbar\": {\"outlinewidth\": 0, \"ticks\": \"\"}}, \"type\": \"scattergl\"}], \"scattermapbox\": [{\"marker\": {\"colorbar\": {\"outlinewidth\": 0, \"ticks\": \"\"}}, \"type\": \"scattermapbox\"}], \"scatterpolar\": [{\"marker\": {\"colorbar\": {\"outlinewidth\": 0, \"ticks\": \"\"}}, \"type\": \"scatterpolar\"}], \"scatterpolargl\": [{\"marker\": {\"colorbar\": {\"outlinewidth\": 0, \"ticks\": \"\"}}, \"type\": \"scatterpolargl\"}], \"scatterternary\": [{\"marker\": {\"colorbar\": {\"outlinewidth\": 0, \"ticks\": \"\"}}, \"type\": \"scatterternary\"}], \"surface\": [{\"colorbar\": {\"outlinewidth\": 0, \"ticks\": \"\"}, \"colorscale\": [[0.0, \"#0d0887\"], [0.1111111111111111, \"#46039f\"], [0.2222222222222222, \"#7201a8\"], [0.3333333333333333, \"#9c179e\"], [0.4444444444444444, \"#bd3786\"], [0.5555555555555556, \"#d8576b\"], [0.6666666666666666, \"#ed7953\"], [0.7777777777777778, \"#fb9f3a\"], [0.8888888888888888, \"#fdca26\"], [1.0, \"#f0f921\"]], \"type\": \"surface\"}], \"table\": [{\"cells\": {\"fill\": {\"color\": \"#EBF0F8\"}, \"line\": {\"color\": \"white\"}}, \"header\": {\"fill\": {\"color\": \"#C8D4E3\"}, \"line\": {\"color\": \"white\"}}, \"type\": \"table\"}]}, \"layout\": {\"annotationdefaults\": {\"arrowcolor\": \"#2a3f5f\", \"arrowhead\": 0, \"arrowwidth\": 1}, \"coloraxis\": {\"colorbar\": {\"outlinewidth\": 0, \"ticks\": \"\"}}, \"colorscale\": {\"diverging\": [[0, \"#8e0152\"], [0.1, \"#c51b7d\"], [0.2, \"#de77ae\"], [0.3, \"#f1b6da\"], [0.4, \"#fde0ef\"], [0.5, \"#f7f7f7\"], [0.6, \"#e6f5d0\"], [0.7, \"#b8e186\"], [0.8, \"#7fbc41\"], [0.9, \"#4d9221\"], [1, \"#276419\"]], \"sequential\": [[0.0, \"#0d0887\"], [0.1111111111111111, \"#46039f\"], [0.2222222222222222, \"#7201a8\"], [0.3333333333333333, \"#9c179e\"], [0.4444444444444444, \"#bd3786\"], [0.5555555555555556, \"#d8576b\"], [0.6666666666666666, \"#ed7953\"], [0.7777777777777778, \"#fb9f3a\"], [0.8888888888888888, \"#fdca26\"], [1.0, \"#f0f921\"]], \"sequentialminus\": [[0.0, \"#0d0887\"], [0.1111111111111111, \"#46039f\"], [0.2222222222222222, \"#7201a8\"], [0.3333333333333333, \"#9c179e\"], [0.4444444444444444, \"#bd3786\"], [0.5555555555555556, \"#d8576b\"], [0.6666666666666666, \"#ed7953\"], [0.7777777777777778, \"#fb9f3a\"], [0.8888888888888888, \"#fdca26\"], [1.0, \"#f0f921\"]]}, \"colorway\": [\"#636efa\", \"#EF553B\", \"#00cc96\", \"#ab63fa\", \"#FFA15A\", \"#19d3f3\", \"#FF6692\", \"#B6E880\", \"#FF97FF\", \"#FECB52\"], \"font\": {\"color\": \"#2a3f5f\"}, \"geo\": {\"bgcolor\": \"white\", \"lakecolor\": \"white\", \"landcolor\": \"#E5ECF6\", \"showlakes\": true, \"showland\": true, \"subunitcolor\": \"white\"}, \"hoverlabel\": {\"align\": \"left\"}, \"hovermode\": \"closest\", \"mapbox\": {\"style\": \"light\"}, \"paper_bgcolor\": \"white\", \"plot_bgcolor\": \"#E5ECF6\", \"polar\": {\"angularaxis\": {\"gridcolor\": \"white\", \"linecolor\": \"white\", \"ticks\": \"\"}, \"bgcolor\": \"#E5ECF6\", \"radialaxis\": {\"gridcolor\": \"white\", \"linecolor\": \"white\", \"ticks\": \"\"}}, \"scene\": {\"xaxis\": {\"backgroundcolor\": \"#E5ECF6\", \"gridcolor\": \"white\", \"gridwidth\": 2, \"linecolor\": \"white\", \"showbackground\": true, \"ticks\": \"\", \"zerolinecolor\": \"white\"}, \"yaxis\": {\"backgroundcolor\": \"#E5ECF6\", \"gridcolor\": \"white\", \"gridwidth\": 2, \"linecolor\": \"white\", \"showbackground\": true, \"ticks\": \"\", \"zerolinecolor\": \"white\"}, \"zaxis\": {\"backgroundcolor\": \"#E5ECF6\", \"gridcolor\": \"white\", \"gridwidth\": 2, \"linecolor\": \"white\", \"showbackground\": true, \"ticks\": \"\", \"zerolinecolor\": \"white\"}}, \"shapedefaults\": {\"line\": {\"color\": \"#2a3f5f\"}}, \"ternary\": {\"aaxis\": {\"gridcolor\": \"white\", \"linecolor\": \"white\", \"ticks\": \"\"}, \"baxis\": {\"gridcolor\": \"white\", \"linecolor\": \"white\", \"ticks\": \"\"}, \"bgcolor\": \"#E5ECF6\", \"caxis\": {\"gridcolor\": \"white\", \"linecolor\": \"white\", \"ticks\": \"\"}}, \"title\": {\"x\": 0.05}, \"xaxis\": {\"automargin\": true, \"gridcolor\": \"white\", \"linecolor\": \"white\", \"ticks\": \"\", \"title\": {\"standoff\": 15}, \"zerolinecolor\": \"white\", \"zerolinewidth\": 2}, \"yaxis\": {\"automargin\": true, \"gridcolor\": \"white\", \"linecolor\": \"white\", \"ticks\": \"\", \"title\": {\"standoff\": 15}, \"zerolinecolor\": \"white\", \"zerolinewidth\": 2}}}, \"xaxis\": {\"anchor\": \"y\", \"domain\": [0.0, 1.0], \"title\": {\"text\": \"index\"}}, \"yaxis\": {\"anchor\": \"x\", \"domain\": [0.0, 1.0], \"title\": {\"text\": \"value\"}}},\n",
              "                        {\"responsive\": true}\n",
              "                    ).then(function(){\n",
              "                            \n",
              "var gd = document.getElementById('26e96d06-1a3e-48a7-82dc-7e1eab9720ed');\n",
              "var x = new MutationObserver(function (mutations, observer) {{\n",
              "        var display = window.getComputedStyle(gd).display;\n",
              "        if (!display || display === 'none') {{\n",
              "            console.log([gd, 'removed!']);\n",
              "            Plotly.purge(gd);\n",
              "            observer.disconnect();\n",
              "        }}\n",
              "}});\n",
              "\n",
              "// Listen for the removal of the full notebook cells\n",
              "var notebookContainer = gd.closest('#notebook-container');\n",
              "if (notebookContainer) {{\n",
              "    x.observe(notebookContainer, {childList: true});\n",
              "}}\n",
              "\n",
              "// Listen for the clearing of the current output cell\n",
              "var outputEl = gd.closest('.output');\n",
              "if (outputEl) {{\n",
              "    x.observe(outputEl, {childList: true});\n",
              "}}\n",
              "\n",
              "                        })\n",
              "                };\n",
              "                \n",
              "            </script>\n",
              "        </div>\n",
              "</body>\n",
              "</html>"
            ]
          },
          "metadata": {
            "tags": []
          }
        }
      ]
    },
    {
      "cell_type": "markdown",
      "metadata": {
        "id": "PVAm-gdmhs8A",
        "colab_type": "text"
      },
      "source": [
        "From the graph, we can see that the following zipcodes have the lowest prices and have not seen much of an increase in house prices: 11234, 11434, 10308, 10305, 10309, 10312, 10306, 10314, 10304, 10303\n",
        "\n",
        "To study this further, let's look at the % change in prices over the last ten years in zipcodes of NY. This will be useful to us because our investment will increase in value over time if we invest in a booming market."
      ]
    },
    {
      "cell_type": "code",
      "metadata": {
        "scrolled": true,
        "id": "5ngpfOb0hs8C",
        "colab_type": "code",
        "colab": {
          "base_uri": "https://localhost:8080/",
          "height": 486
        },
        "outputId": "9b122513-2f2b-4ed6-aa92-22a8e1c173f5"
      },
      "source": [
        "pricechange = 100*(df_pricechart.iloc[-1,:] - df_pricechart.iloc[-120,:])/df_pricechart.iloc[-120,:]\n",
        "pricechange.sort_values(ascending=False)"
      ],
      "execution_count": 24,
      "outputs": [
        {
          "output_type": "execute_result",
          "data": {
            "text/plain": [
              "RegionName\n",
              "11201    147.121238\n",
              "11217    138.866471\n",
              "11231    120.553722\n",
              "11215    118.396900\n",
              "10128     72.917271\n",
              "10014     66.128817\n",
              "10011     60.866463\n",
              "10025     59.691999\n",
              "10013     56.357550\n",
              "10003     53.258619\n",
              "10028     52.465613\n",
              "10023     52.216854\n",
              "10021     46.030725\n",
              "10036     43.219064\n",
              "10022     40.673037\n",
              "10305     22.790295\n",
              "10308     17.503587\n",
              "11234     16.915911\n",
              "10309     14.650617\n",
              "10314     13.934949\n",
              "10312     10.626363\n",
              "10303     10.411051\n",
              "10304      8.349835\n",
              "10306      8.284750\n",
              "11434     -1.595882\n",
              "dtype: float64"
            ]
          },
          "metadata": {
            "tags": []
          },
          "execution_count": 24
        }
      ]
    },
    {
      "cell_type": "markdown",
      "metadata": {
        "id": "6y2R9R9Lhs8L",
        "colab_type": "text"
      },
      "source": [
        "## Step 5 - Visual overview of Airbnb data\n",
        "\n",
        "We start by understanding the distribution of rents by number of bedrooms"
      ]
    },
    {
      "cell_type": "code",
      "metadata": {
        "id": "gFGk05lChs8N",
        "colab_type": "code",
        "colab": {
          "base_uri": "https://localhost:8080/",
          "height": 225
        },
        "outputId": "28854158-4c33-4000-c091-6e40b5b96b17"
      },
      "source": [
        "dfa2 = dfa1.copy()\n",
        "dfa2['price'] = dfa1['price'].str.replace(r'\\D', '').astype(int)/100 #We remove the dollar sign from the prices\n",
        "dfa2['price']"
      ],
      "execution_count": 25,
      "outputs": [
        {
          "output_type": "execute_result",
          "data": {
            "text/plain": [
              "0        149.0\n",
              "1        225.0\n",
              "2        150.0\n",
              "3         89.0\n",
              "4         80.0\n",
              "         ...  \n",
              "48890     70.0\n",
              "48891     40.0\n",
              "48892    115.0\n",
              "48893     55.0\n",
              "48894     90.0\n",
              "Name: price, Length: 48378, dtype: float64"
            ]
          },
          "metadata": {
            "tags": []
          },
          "execution_count": 25
        }
      ]
    },
    {
      "cell_type": "code",
      "metadata": {
        "id": "OAVLmr4rhs8T",
        "colab_type": "code",
        "colab": {
          "base_uri": "https://localhost:8080/",
          "height": 279
        },
        "outputId": "af3638d1-a229-432c-b6c7-da20f7be96df"
      },
      "source": [
        "sns.stripplot('bedrooms', 'price', data=dfa2,jitter=1)\n",
        "sns.despine()"
      ],
      "execution_count": 26,
      "outputs": [
        {
          "output_type": "display_data",
          "data": {
            "image/png": "[encoded data removed]",
            "text/plain": [
              "<Figure size 432x288 with 1 Axes>"
            ]
          },
          "metadata": {
            "tags": [],
            "needs_background": "light"
          }
        }
      ]
    },
    {
      "cell_type": "markdown",
      "metadata": {
        "id": "e1PtuLedhs8Y",
        "colab_type": "text"
      },
      "source": [
        "The jitter plot shows us that there are some properties that charge upto $10,000 per night !\n",
        "These could be luxury homes, incorrect entries or outliers. "
      ]
    },
    {
      "cell_type": "markdown",
      "metadata": {
        "id": "QFH95HQUhs8Z",
        "colab_type": "text"
      },
      "source": [
        "## Step 6 - Finding standard deviation and removing outliers\n",
        "\n",
        "To avoid biased results from our analysis, let's only consider properties **within 3 standard deviations** above the mean."
      ]
    },
    {
      "cell_type": "code",
      "metadata": {
        "scrolled": true,
        "id": "jOzGudgThs8a",
        "colab_type": "code",
        "colab": {
          "base_uri": "https://localhost:8080/",
          "height": 489
        },
        "outputId": "eda99e59-3576-4b8a-e6b9-c5481f98495a"
      },
      "source": [
        "#Standard deviations\n",
        "\n",
        "dfa2_summary = dfa2[[\"price\",\"bedrooms\"]].groupby('bedrooms').agg(np.std)\n",
        "dfa2_summary.columns = ['Stdev']\n",
        "dfa2_summary"
      ],
      "execution_count": 27,
      "outputs": [
        {
          "output_type": "execute_result",
          "data": {
            "text/html": [
              "<div>\n",
              "<style scoped>\n",
              "    .dataframe tbody tr th:only-of-type {\n",
              "        vertical-align: middle;\n",
              "    }\n",
              "\n",
              "    .dataframe tbody tr th {\n",
              "        vertical-align: top;\n",
              "    }\n",
              "\n",
              "    .dataframe thead th {\n",
              "        text-align: right;\n",
              "    }\n",
              "</style>\n",
              "<table border=\"1\" class=\"dataframe\">\n",
              "  <thead>\n",
              "    <tr style=\"text-align: right;\">\n",
              "      <th></th>\n",
              "      <th>Stdev</th>\n",
              "    </tr>\n",
              "    <tr>\n",
              "      <th>bedrooms</th>\n",
              "      <th></th>\n",
              "    </tr>\n",
              "  </thead>\n",
              "  <tbody>\n",
              "    <tr>\n",
              "      <th>0.0</th>\n",
              "      <td>253.388025</td>\n",
              "    </tr>\n",
              "    <tr>\n",
              "      <th>1.0</th>\n",
              "      <td>173.231530</td>\n",
              "    </tr>\n",
              "    <tr>\n",
              "      <th>2.0</th>\n",
              "      <td>290.919692</td>\n",
              "    </tr>\n",
              "    <tr>\n",
              "      <th>3.0</th>\n",
              "      <td>322.120658</td>\n",
              "    </tr>\n",
              "    <tr>\n",
              "      <th>4.0</th>\n",
              "      <td>572.374163</td>\n",
              "    </tr>\n",
              "    <tr>\n",
              "      <th>5.0</th>\n",
              "      <td>1162.651900</td>\n",
              "    </tr>\n",
              "    <tr>\n",
              "      <th>6.0</th>\n",
              "      <td>1026.642776</td>\n",
              "    </tr>\n",
              "    <tr>\n",
              "      <th>7.0</th>\n",
              "      <td>377.740961</td>\n",
              "    </tr>\n",
              "    <tr>\n",
              "      <th>8.0</th>\n",
              "      <td>1641.948837</td>\n",
              "    </tr>\n",
              "    <tr>\n",
              "      <th>9.0</th>\n",
              "      <td>195.927282</td>\n",
              "    </tr>\n",
              "    <tr>\n",
              "      <th>10.0</th>\n",
              "      <td>367.502834</td>\n",
              "    </tr>\n",
              "    <tr>\n",
              "      <th>11.0</th>\n",
              "      <td>NaN</td>\n",
              "    </tr>\n",
              "    <tr>\n",
              "      <th>14.0</th>\n",
              "      <td>NaN</td>\n",
              "    </tr>\n",
              "  </tbody>\n",
              "</table>\n",
              "</div>"
            ],
            "text/plain": [
              "                Stdev\n",
              "bedrooms             \n",
              "0.0        253.388025\n",
              "1.0        173.231530\n",
              "2.0        290.919692\n",
              "3.0        322.120658\n",
              "4.0        572.374163\n",
              "5.0       1162.651900\n",
              "6.0       1026.642776\n",
              "7.0        377.740961\n",
              "8.0       1641.948837\n",
              "9.0        195.927282\n",
              "10.0       367.502834\n",
              "11.0              NaN\n",
              "14.0              NaN"
            ]
          },
          "metadata": {
            "tags": []
          },
          "execution_count": 27
        }
      ]
    },
    {
      "cell_type": "code",
      "metadata": {
        "scrolled": true,
        "id": "kVIynbBEhs8g",
        "colab_type": "code",
        "colab": {
          "base_uri": "https://localhost:8080/",
          "height": 489
        },
        "outputId": "029b8924-acb9-4205-83b3-6583fe283df8"
      },
      "source": [
        "# Means and counts\n",
        "\n",
        "dfa2_summary['mean'] = dfa2[[\"price\",\"bedrooms\"]].groupby('bedrooms').mean()\n",
        "dfa2_summary['3SD'] = dfa2_summary['mean'] + 3*dfa2_summary['Stdev'] #Calculating the upper bound by 3 stdev\n",
        "dfa2_summary['count'] = dfa2[[\"price\",\"bedrooms\"]].groupby('bedrooms').count()\n",
        "dfa2_summary"
      ],
      "execution_count": 28,
      "outputs": [
        {
          "output_type": "execute_result",
          "data": {
            "text/html": [
              "<div>\n",
              "<style scoped>\n",
              "    .dataframe tbody tr th:only-of-type {\n",
              "        vertical-align: middle;\n",
              "    }\n",
              "\n",
              "    .dataframe tbody tr th {\n",
              "        vertical-align: top;\n",
              "    }\n",
              "\n",
              "    .dataframe thead th {\n",
              "        text-align: right;\n",
              "    }\n",
              "</style>\n",
              "<table border=\"1\" class=\"dataframe\">\n",
              "  <thead>\n",
              "    <tr style=\"text-align: right;\">\n",
              "      <th></th>\n",
              "      <th>Stdev</th>\n",
              "      <th>mean</th>\n",
              "      <th>3SD</th>\n",
              "      <th>count</th>\n",
              "    </tr>\n",
              "    <tr>\n",
              "      <th>bedrooms</th>\n",
              "      <th></th>\n",
              "      <th></th>\n",
              "      <th></th>\n",
              "      <th></th>\n",
              "    </tr>\n",
              "  </thead>\n",
              "  <tbody>\n",
              "    <tr>\n",
              "      <th>0.0</th>\n",
              "      <td>253.388025</td>\n",
              "      <td>171.897033</td>\n",
              "      <td>932.061108</td>\n",
              "      <td>4516</td>\n",
              "    </tr>\n",
              "    <tr>\n",
              "      <th>1.0</th>\n",
              "      <td>173.231530</td>\n",
              "      <td>117.134360</td>\n",
              "      <td>636.828952</td>\n",
              "      <td>34601</td>\n",
              "    </tr>\n",
              "    <tr>\n",
              "      <th>2.0</th>\n",
              "      <td>290.919692</td>\n",
              "      <td>232.614084</td>\n",
              "      <td>1105.373161</td>\n",
              "      <td>6447</td>\n",
              "    </tr>\n",
              "    <tr>\n",
              "      <th>3.0</th>\n",
              "      <td>322.120658</td>\n",
              "      <td>308.167399</td>\n",
              "      <td>1274.529374</td>\n",
              "      <td>2049</td>\n",
              "    </tr>\n",
              "    <tr>\n",
              "      <th>4.0</th>\n",
              "      <td>572.374163</td>\n",
              "      <td>472.727799</td>\n",
              "      <td>2189.850290</td>\n",
              "      <td>518</td>\n",
              "    </tr>\n",
              "    <tr>\n",
              "      <th>5.0</th>\n",
              "      <td>1162.651900</td>\n",
              "      <td>758.006849</td>\n",
              "      <td>4245.962550</td>\n",
              "      <td>146</td>\n",
              "    </tr>\n",
              "    <tr>\n",
              "      <th>6.0</th>\n",
              "      <td>1026.642776</td>\n",
              "      <td>838.309524</td>\n",
              "      <td>3918.237852</td>\n",
              "      <td>42</td>\n",
              "    </tr>\n",
              "    <tr>\n",
              "      <th>7.0</th>\n",
              "      <td>377.740961</td>\n",
              "      <td>754.666667</td>\n",
              "      <td>1887.889549</td>\n",
              "      <td>21</td>\n",
              "    </tr>\n",
              "    <tr>\n",
              "      <th>8.0</th>\n",
              "      <td>1641.948837</td>\n",
              "      <td>1274.375000</td>\n",
              "      <td>6200.221510</td>\n",
              "      <td>8</td>\n",
              "    </tr>\n",
              "    <tr>\n",
              "      <th>9.0</th>\n",
              "      <td>195.927282</td>\n",
              "      <td>600.000000</td>\n",
              "      <td>1187.781847</td>\n",
              "      <td>5</td>\n",
              "    </tr>\n",
              "    <tr>\n",
              "      <th>10.0</th>\n",
              "      <td>367.502834</td>\n",
              "      <td>1093.333333</td>\n",
              "      <td>2195.841837</td>\n",
              "      <td>3</td>\n",
              "    </tr>\n",
              "    <tr>\n",
              "      <th>11.0</th>\n",
              "      <td>NaN</td>\n",
              "      <td>65.000000</td>\n",
              "      <td>NaN</td>\n",
              "      <td>1</td>\n",
              "    </tr>\n",
              "    <tr>\n",
              "      <th>14.0</th>\n",
              "      <td>NaN</td>\n",
              "      <td>1485.000000</td>\n",
              "      <td>NaN</td>\n",
              "      <td>1</td>\n",
              "    </tr>\n",
              "  </tbody>\n",
              "</table>\n",
              "</div>"
            ],
            "text/plain": [
              "                Stdev         mean          3SD  count\n",
              "bedrooms                                              \n",
              "0.0        253.388025   171.897033   932.061108   4516\n",
              "1.0        173.231530   117.134360   636.828952  34601\n",
              "2.0        290.919692   232.614084  1105.373161   6447\n",
              "3.0        322.120658   308.167399  1274.529374   2049\n",
              "4.0        572.374163   472.727799  2189.850290    518\n",
              "5.0       1162.651900   758.006849  4245.962550    146\n",
              "6.0       1026.642776   838.309524  3918.237852     42\n",
              "7.0        377.740961   754.666667  1887.889549     21\n",
              "8.0       1641.948837  1274.375000  6200.221510      8\n",
              "9.0        195.927282   600.000000  1187.781847      5\n",
              "10.0       367.502834  1093.333333  2195.841837      3\n",
              "11.0              NaN    65.000000          NaN      1\n",
              "14.0              NaN  1485.000000          NaN      1"
            ]
          },
          "metadata": {
            "tags": []
          },
          "execution_count": 28
        }
      ]
    },
    {
      "cell_type": "markdown",
      "metadata": {
        "id": "VNosXK2Ghs8l",
        "colab_type": "text"
      },
      "source": [
        "Most of our data is for properties that are 4 bedrooms or less, so we discard those subsets that have less than 500 samples."
      ]
    },
    {
      "cell_type": "code",
      "metadata": {
        "id": "GVKSZ6pXhs8l",
        "colab_type": "code",
        "colab": {}
      },
      "source": [
        "dfa3 = dfa2.copy()"
      ],
      "execution_count": 29,
      "outputs": []
    },
    {
      "cell_type": "code",
      "metadata": {
        "id": "wy6wgmbshs8p",
        "colab_type": "code",
        "colab": {}
      },
      "source": [
        "dfa3 = dfa3.groupby('bedrooms').filter(lambda b: b['price'].count() > 500 )"
      ],
      "execution_count": 30,
      "outputs": []
    },
    {
      "cell_type": "code",
      "metadata": {
        "id": "c0HbkuQChs8u",
        "colab_type": "code",
        "colab": {
          "base_uri": "https://localhost:8080/",
          "height": 238
        },
        "outputId": "47718977-74bd-404c-a9a7-480e72265928"
      },
      "source": [
        "dfa3[[\"price\",\"bedrooms\"]].groupby('bedrooms').count()"
      ],
      "execution_count": 31,
      "outputs": [
        {
          "output_type": "execute_result",
          "data": {
            "text/html": [
              "<div>\n",
              "<style scoped>\n",
              "    .dataframe tbody tr th:only-of-type {\n",
              "        vertical-align: middle;\n",
              "    }\n",
              "\n",
              "    .dataframe tbody tr th {\n",
              "        vertical-align: top;\n",
              "    }\n",
              "\n",
              "    .dataframe thead th {\n",
              "        text-align: right;\n",
              "    }\n",
              "</style>\n",
              "<table border=\"1\" class=\"dataframe\">\n",
              "  <thead>\n",
              "    <tr style=\"text-align: right;\">\n",
              "      <th></th>\n",
              "      <th>price</th>\n",
              "    </tr>\n",
              "    <tr>\n",
              "      <th>bedrooms</th>\n",
              "      <th></th>\n",
              "    </tr>\n",
              "  </thead>\n",
              "  <tbody>\n",
              "    <tr>\n",
              "      <th>0.0</th>\n",
              "      <td>4516</td>\n",
              "    </tr>\n",
              "    <tr>\n",
              "      <th>1.0</th>\n",
              "      <td>34601</td>\n",
              "    </tr>\n",
              "    <tr>\n",
              "      <th>2.0</th>\n",
              "      <td>6447</td>\n",
              "    </tr>\n",
              "    <tr>\n",
              "      <th>3.0</th>\n",
              "      <td>2049</td>\n",
              "    </tr>\n",
              "    <tr>\n",
              "      <th>4.0</th>\n",
              "      <td>518</td>\n",
              "    </tr>\n",
              "  </tbody>\n",
              "</table>\n",
              "</div>"
            ],
            "text/plain": [
              "          price\n",
              "bedrooms       \n",
              "0.0        4516\n",
              "1.0       34601\n",
              "2.0        6447\n",
              "3.0        2049\n",
              "4.0         518"
            ]
          },
          "metadata": {
            "tags": []
          },
          "execution_count": 31
        }
      ]
    },
    {
      "cell_type": "code",
      "metadata": {
        "id": "MuJQw10xhs80",
        "colab_type": "code",
        "colab": {}
      },
      "source": [
        "def checkSDRange(p,b):\n",
        "    if p > dfa2_summary.loc[b,'3SD']:  # We set nan where price is above 3 standard deviation or is zero\n",
        "        r = np.nan\n",
        "    elif p==0:\n",
        "        r = np.nan\n",
        "    else:\n",
        "        r = p\n",
        "    return r"
      ],
      "execution_count": 32,
      "outputs": []
    },
    {
      "cell_type": "code",
      "metadata": {
        "id": "nNul7MZdhs85",
        "colab_type": "code",
        "colab": {}
      },
      "source": [
        "dfa3['price'] = dfa3.apply(lambda x: checkSDRange(x['price'], x['bedrooms']), axis=1)"
      ],
      "execution_count": 33,
      "outputs": []
    },
    {
      "cell_type": "markdown",
      "metadata": {
        "id": "3ft--0MMhs89",
        "colab_type": "text"
      },
      "source": [
        "We remove all rows having nan in the price column, leaving the filtered data"
      ]
    },
    {
      "cell_type": "code",
      "metadata": {
        "id": "1QAOd9Czhs89",
        "colab_type": "code",
        "colab": {}
      },
      "source": [
        "dfa3.dropna(subset=['price'], inplace=True) "
      ],
      "execution_count": 34,
      "outputs": []
    },
    {
      "cell_type": "markdown",
      "metadata": {
        "id": "KXga3oSnhs9B",
        "colab_type": "text"
      },
      "source": [
        "Let's review the jitter plot to see if the range of per night price looks reasonable"
      ]
    },
    {
      "cell_type": "code",
      "metadata": {
        "id": "MRuFadg8hs9D",
        "colab_type": "code",
        "colab": {
          "base_uri": "https://localhost:8080/",
          "height": 279
        },
        "outputId": "f55138f2-b33c-4382-c759-99c83b42d634"
      },
      "source": [
        "sns.stripplot('bedrooms', 'price', data=dfa3)\n",
        "sns.despine()"
      ],
      "execution_count": 35,
      "outputs": [
        {
          "output_type": "display_data",
          "data": {
            "image/png": "[encoded data removed]",
            "text/plain": [
              "<Figure size 432x288 with 1 Axes>"
            ]
          },
          "metadata": {
            "tags": [],
            "needs_background": "light"
          }
        }
      ]
    },
    {
      "cell_type": "code",
      "metadata": {
        "id": "x7v7WnUPhs9H",
        "colab_type": "code",
        "colab": {
          "base_uri": "https://localhost:8080/",
          "height": 52
        },
        "outputId": "ae54116e-920f-4252-a09a-5b294fd49117"
      },
      "source": [
        "print( \"Let's see how many rows have been deleted by our cleaning\")\n",
        "\n",
        "dfa2.bedrooms.count()-dfa3.bedrooms.count()"
      ],
      "execution_count": 36,
      "outputs": [
        {
          "output_type": "stream",
          "text": [
            "Let's see how many rows have been deleted by our cleaning\n"
          ],
          "name": "stdout"
        },
        {
          "output_type": "execute_result",
          "data": {
            "text/plain": [
              "545"
            ]
          },
          "metadata": {
            "tags": []
          },
          "execution_count": 36
        }
      ]
    },
    {
      "cell_type": "markdown",
      "metadata": {
        "id": "9QiYBzClhs9K",
        "colab_type": "text"
      },
      "source": [
        "## Step 7 - Removing zipcodes which do not have much data\n",
        "### Note: The reasons we have not yet filtered the data to only zipcodes in NY is because we don't want to draw inference on a reduced sample size. Once we move to recommendations for specifically NY, we will filter the zipcodes to NY only."
      ]
    },
    {
      "cell_type": "code",
      "metadata": {
        "scrolled": true,
        "id": "Y6-Iy_eShs9L",
        "colab_type": "code",
        "colab": {
          "base_uri": "https://localhost:8080/",
          "height": 0
        },
        "outputId": "5a975e42-fb49-4a56-fbef-5054180748f3"
      },
      "source": [
        "dfa3[[\"zipcode\",\"bedrooms\"]].groupby('zipcode').count().reset_index().bedrooms.describe()"
      ],
      "execution_count": 37,
      "outputs": [
        {
          "output_type": "execute_result",
          "data": {
            "text/plain": [
              "count     197.000000\n",
              "mean      242.705584\n",
              "std       365.552342\n",
              "min         1.000000\n",
              "25%        20.000000\n",
              "50%        62.000000\n",
              "75%       339.000000\n",
              "max      2199.000000\n",
              "Name: bedrooms, dtype: float64"
            ]
          },
          "metadata": {
            "tags": []
          },
          "execution_count": 37
        }
      ]
    },
    {
      "cell_type": "markdown",
      "metadata": {
        "id": "LPlWjvJMhs9P",
        "colab_type": "text"
      },
      "source": [
        "The output shows summary statistics of the count of properties for each zipcode.\n",
        "We see that some zipcodes have only 1 property."
      ]
    },
    {
      "cell_type": "markdown",
      "metadata": {
        "id": "pw4Ct9N9hs9P",
        "colab_type": "text"
      },
      "source": [
        "We consider only those zip codes which have more than 15 listings so that our analysis is not based on sparse data."
      ]
    },
    {
      "cell_type": "code",
      "metadata": {
        "id": "kUDg1OIrhs9Q",
        "colab_type": "code",
        "colab": {
          "base_uri": "https://localhost:8080/",
          "height": 0
        },
        "outputId": "c0ab70a0-607b-47b5-e530-3be74cadbfc6"
      },
      "source": [
        "dfa3 = dfa3.groupby('zipcode').filter(lambda b: b['bedrooms'].count() > 15 )\n",
        "dfa3[[\"zipcode\",\"bedrooms\"]].groupby('zipcode').count().reset_index().bedrooms.describe()"
      ],
      "execution_count": 38,
      "outputs": [
        {
          "output_type": "execute_result",
          "data": {
            "text/plain": [
              "count     156.000000\n",
              "mean      304.967949\n",
              "std       387.584853\n",
              "min        16.000000\n",
              "25%        49.000000\n",
              "50%       121.000000\n",
              "75%       418.500000\n",
              "max      2199.000000\n",
              "Name: bedrooms, dtype: float64"
            ]
          },
          "metadata": {
            "tags": []
          },
          "execution_count": 38
        }
      ]
    },
    {
      "cell_type": "markdown",
      "metadata": {
        "id": "N1HQ2CCRhs9V",
        "colab_type": "text"
      },
      "source": [
        "Now the minimum count of listings in a zipcode is 16, which is much better than before for quantitative analysis"
      ]
    },
    {
      "cell_type": "markdown",
      "metadata": {
        "id": "fGLBmvu6hs9W",
        "colab_type": "text"
      },
      "source": [
        "## Step 8 - Determinig what affects rental income\n",
        "\n",
        "We can run a quick check to see the correlation of price with other factors"
      ]
    },
    {
      "cell_type": "code",
      "metadata": {
        "id": "tJEDpprahs9W",
        "colab_type": "code",
        "colab": {}
      },
      "source": [
        "dfa3['host_response_rate'] = dfa3['host_response_rate'].str.replace(r'\\D', '').astype(float)"
      ],
      "execution_count": 39,
      "outputs": []
    },
    {
      "cell_type": "code",
      "metadata": {
        "id": "5SQloPQThs9a",
        "colab_type": "code",
        "colab": {
          "base_uri": "https://localhost:8080/",
          "height": 0
        },
        "outputId": "9190d6ef-d4e1-4698-d1b7-30cd11a91ac0"
      },
      "source": [
        "dfa3.corr().price"
      ],
      "execution_count": 40,
      "outputs": [
        {
          "output_type": "execute_result",
          "data": {
            "text/plain": [
              "host_response_rate      0.003764\n",
              "host_listings_count     0.150182\n",
              "bathrooms               0.250288\n",
              "bedrooms                0.391514\n",
              "beds                    0.403781\n",
              "price                   1.000000\n",
              "number_of_reviews      -0.054807\n",
              "review_scores_rating    0.058335\n",
              "Name: price, dtype: float64"
            ]
          },
          "metadata": {
            "tags": []
          },
          "execution_count": 40
        }
      ]
    },
    {
      "cell_type": "markdown",
      "metadata": {
        "id": "FdkknAUdhs9f",
        "colab_type": "text"
      },
      "source": [
        "It seems like number of bedrooms has a positive correlation to price. Apart from sleeping space (bedroom and beds), the number of bathrooms has the next highest correlation.\n",
        "\n",
        "Since the client has already decided to go for 2 bedroom properties, we can suggest them to provide 2 bathrooms as the number of bathrooms has a slightly positive correlation to rental income.\n",
        "\n",
        "There is definitely collinearity between bedrooms and beds. However, magnitude the collinearity between bedrooms and bathrooms needs to be explored."
      ]
    },
    {
      "cell_type": "markdown",
      "metadata": {
        "id": "mTero0O1hs9h",
        "colab_type": "text"
      },
      "source": [
        "## Step 9 - Analysing zipcodes in NY"
      ]
    },
    {
      "cell_type": "code",
      "metadata": {
        "id": "M8BUC4Llhs9i",
        "colab_type": "code",
        "colab": {}
      },
      "source": [
        "dfa4 = dfa3[dfa3['state']== STATE] #contains only NY listings"
      ],
      "execution_count": 41,
      "outputs": []
    },
    {
      "cell_type": "code",
      "metadata": {
        "id": "cvkb-K09hs9m",
        "colab_type": "code",
        "colab": {
          "base_uri": "https://localhost:8080/",
          "height": 0
        },
        "outputId": "91d8f6c9-52a5-4376-c4ad-f3f071a8eee2"
      },
      "source": [
        "dfa4.corr().price"
      ],
      "execution_count": 42,
      "outputs": [
        {
          "output_type": "execute_result",
          "data": {
            "text/plain": [
              "host_response_rate      0.003797\n",
              "host_listings_count     0.150194\n",
              "bathrooms               0.250336\n",
              "bedrooms                0.391654\n",
              "beds                    0.403802\n",
              "price                   1.000000\n",
              "number_of_reviews      -0.054767\n",
              "review_scores_rating    0.058328\n",
              "Name: price, dtype: float64"
            ]
          },
          "metadata": {
            "tags": []
          },
          "execution_count": 42
        }
      ]
    },
    {
      "cell_type": "markdown",
      "metadata": {
        "id": "wxu_GkoShs9q",
        "colab_type": "text"
      },
      "source": [
        "If we compare correlation of price and bedrooms, it is the same as the national level."
      ]
    },
    {
      "cell_type": "code",
      "metadata": {
        "id": "g6iLUe8Chs9r",
        "colab_type": "code",
        "colab": {
          "base_uri": "https://localhost:8080/",
          "height": 0
        },
        "outputId": "1af66945-7d8b-423b-bffd-c56960b60b29"
      },
      "source": [
        "dfa4.price.describe() #summary stats of prices in NY"
      ],
      "execution_count": 43,
      "outputs": [
        {
          "output_type": "execute_result",
          "data": {
            "text/plain": [
              "count    47560.000000\n",
              "mean       138.826766\n",
              "std        111.738685\n",
              "min         10.000000\n",
              "25%         69.000000\n",
              "50%        105.000000\n",
              "75%        175.000000\n",
              "max       2000.000000\n",
              "Name: price, dtype: float64"
            ]
          },
          "metadata": {
            "tags": []
          },
          "execution_count": 43
        }
      ]
    },
    {
      "cell_type": "markdown",
      "metadata": {
        "id": "iuOQUmVshs9w",
        "colab_type": "text"
      },
      "source": [
        "Let us see if our hypothesis about number of bathrooms can be validated with quick summary statistics.\n",
        "We find the mean rental price for 2 bedroom properties with 2 and 1 bathrooms:"
      ]
    },
    {
      "cell_type": "code",
      "metadata": {
        "scrolled": true,
        "id": "6BiwHHKkhs9y",
        "colab_type": "code",
        "colab": {
          "base_uri": "https://localhost:8080/",
          "height": 0
        },
        "outputId": "e5d3d2ee-241e-4d49-ec88-4897ea7ef9d0"
      },
      "source": [
        "dfa4[(dfa4['bedrooms']== 2) & (dfa4['bathrooms']== 2)].price.mean()"
      ],
      "execution_count": 44,
      "outputs": [
        {
          "output_type": "execute_result",
          "data": {
            "text/plain": [
              "311.3174030658251"
            ]
          },
          "metadata": {
            "tags": []
          },
          "execution_count": 44
        }
      ]
    },
    {
      "cell_type": "code",
      "metadata": {
        "id": "dBvwiQQQhs93",
        "colab_type": "code",
        "colab": {
          "base_uri": "https://localhost:8080/",
          "height": 0
        },
        "outputId": "abf44609-7929-4a9b-e4f5-552cbc86318e"
      },
      "source": [
        "dfa4[(dfa4['bedrooms']== 2) & (dfa4['bathrooms']== 1)].price.mean()"
      ],
      "execution_count": 45,
      "outputs": [
        {
          "output_type": "execute_result",
          "data": {
            "text/plain": [
              "188.9651429764141"
            ]
          },
          "metadata": {
            "tags": []
          },
          "execution_count": 45
        }
      ]
    },
    {
      "cell_type": "markdown",
      "metadata": {
        "id": "_8bYKvORhs99",
        "colab_type": "text"
      },
      "source": [
        "From above we see that:\n",
        "Mean rent for 2 bedroom and 2 bathroom apartment is USD 311\n",
        "Mean rent for 2 bedroom and 1 bathroom apartment is USD 188\n",
        " Therefore, we can conclude that adding a bathroom increases the mean rent by _65%_\n",
        " \n",
        "Let's try to make a scatter plot to see this difference."
      ]
    },
    {
      "cell_type": "code",
      "metadata": {
        "scrolled": true,
        "id": "tPnbVqXChs99",
        "colab_type": "code",
        "colab": {
          "base_uri": "https://localhost:8080/",
          "height": 0
        },
        "outputId": "ebc0f8b6-09a4-406c-9bd6-b42456c099c1"
      },
      "source": [
        "sns.stripplot(x=\"bedrooms\", y=\"price\", hue=\"bathrooms\", data=dfa4[(dfa4['bedrooms']== 2) & ((dfa4['bathrooms'] == 1) | (dfa4['bathrooms'] == 2))], jitter=3 ).set_xlabel('')\n"
      ],
      "execution_count": 46,
      "outputs": [
        {
          "output_type": "execute_result",
          "data": {
            "text/plain": [
              "Text(0.5, 0, '')"
            ]
          },
          "metadata": {
            "tags": []
          },
          "execution_count": 46
        },
        {
          "output_type": "display_data",
          "data": {
            "image/png": "[encoded data removed]",
            "text/plain": [
              "<Figure size 432x288 with 1 Axes>"
            ]
          },
          "metadata": {
            "tags": [],
            "needs_background": "light"
          }
        }
      ]
    },
    {
      "cell_type": "markdown",
      "metadata": {
        "id": "Bf2NLLaihs-B",
        "colab_type": "text"
      },
      "source": [
        "As can be seen from the plot, the properties with 2 bathrooms have a noticeably higher distribution of rent prices."
      ]
    },
    {
      "cell_type": "markdown",
      "metadata": {
        "id": "U6OECcbIhs-C",
        "colab_type": "text"
      },
      "source": [
        "## Step 10 - Analysing Profitability and creating metrics\n",
        "\n",
        "We calculate profitability as = ((Average rent per night *365 days * Occupancy rate of 75% )+ (Expected annual increase in property value)) / Purchasing Price\n",
        "\n",
        "The formula is intended to capture revenue from rent as well as take into consideration that property rates change and this can cause profit or loss.\n",
        "\n",
        "The formula's denominator aims to take into consideration how efficiently the client's capital is used."
      ]
    },
    {
      "cell_type": "code",
      "metadata": {
        "id": "GhoV0DyFhs-D",
        "colab_type": "code",
        "colab": {}
      },
      "source": [
        "profit_valueincrease = pricechange/10 \n",
        "# From the list of historical price changes over 10 years, we annualise it by dividing it by 10"
      ],
      "execution_count": 47,
      "outputs": []
    },
    {
      "cell_type": "code",
      "metadata": {
        "scrolled": true,
        "id": "g3RPZO-mhs-H",
        "colab_type": "code",
        "colab": {
          "base_uri": "https://localhost:8080/",
          "height": 0
        },
        "outputId": "86f8e4de-c523-4237-e52a-d3a7aac9b3a9"
      },
      "source": [
        "df_profit_valueincrease = profit_valueincrease.to_frame()\n",
        "df_profit_valueincrease.columns = [\"YrIncr\"]\n",
        "df_profit_valueincrease = df_profit_valueincrease.reset_index()\n",
        "df_profit_valueincrease.head(3)"
      ],
      "execution_count": 48,
      "outputs": [
        {
          "output_type": "execute_result",
          "data": {
            "text/html": [
              "<div>\n",
              "<style scoped>\n",
              "    .dataframe tbody tr th:only-of-type {\n",
              "        vertical-align: middle;\n",
              "    }\n",
              "\n",
              "    .dataframe tbody tr th {\n",
              "        vertical-align: top;\n",
              "    }\n",
              "\n",
              "    .dataframe thead th {\n",
              "        text-align: right;\n",
              "    }\n",
              "</style>\n",
              "<table border=\"1\" class=\"dataframe\">\n",
              "  <thead>\n",
              "    <tr style=\"text-align: right;\">\n",
              "      <th></th>\n",
              "      <th>RegionName</th>\n",
              "      <th>YrIncr</th>\n",
              "    </tr>\n",
              "  </thead>\n",
              "  <tbody>\n",
              "    <tr>\n",
              "      <th>0</th>\n",
              "      <td>10025</td>\n",
              "      <td>5.969200</td>\n",
              "    </tr>\n",
              "    <tr>\n",
              "      <th>1</th>\n",
              "      <td>10023</td>\n",
              "      <td>5.221685</td>\n",
              "    </tr>\n",
              "    <tr>\n",
              "      <th>2</th>\n",
              "      <td>10128</td>\n",
              "      <td>7.291727</td>\n",
              "    </tr>\n",
              "  </tbody>\n",
              "</table>\n",
              "</div>"
            ],
            "text/plain": [
              "   RegionName    YrIncr\n",
              "0       10025  5.969200\n",
              "1       10023  5.221685\n",
              "2       10128  7.291727"
            ]
          },
          "metadata": {
            "tags": []
          },
          "execution_count": 48
        }
      ]
    },
    {
      "cell_type": "markdown",
      "metadata": {
        "id": "IKmAN6kihs-M",
        "colab_type": "text"
      },
      "source": [
        "We extract the latest available purchase price of 2 bedroom properties in various zipcodes"
      ]
    },
    {
      "cell_type": "code",
      "metadata": {
        "scrolled": true,
        "id": "WCYGKA8rhs-N",
        "colab_type": "code",
        "colab": {
          "base_uri": "https://localhost:8080/",
          "height": 0
        },
        "outputId": "1e2395fb-df0e-436e-9e96-0e72b7759e8d"
      },
      "source": [
        "buyprice = dfz1.iloc[:,-1:].reset_index().iloc[:,-1:]\n",
        "buyprice.head(2)"
      ],
      "execution_count": 49,
      "outputs": [
        {
          "output_type": "execute_result",
          "data": {
            "text/html": [
              "<div>\n",
              "<style scoped>\n",
              "    .dataframe tbody tr th:only-of-type {\n",
              "        vertical-align: middle;\n",
              "    }\n",
              "\n",
              "    .dataframe tbody tr th {\n",
              "        vertical-align: top;\n",
              "    }\n",
              "\n",
              "    .dataframe thead th {\n",
              "        text-align: right;\n",
              "    }\n",
              "</style>\n",
              "<table border=\"1\" class=\"dataframe\">\n",
              "  <thead>\n",
              "    <tr style=\"text-align: right;\">\n",
              "      <th></th>\n",
              "      <th>2017-06</th>\n",
              "    </tr>\n",
              "  </thead>\n",
              "  <tbody>\n",
              "    <tr>\n",
              "      <th>0</th>\n",
              "      <td>1431000</td>\n",
              "    </tr>\n",
              "    <tr>\n",
              "      <th>1</th>\n",
              "      <td>2142300</td>\n",
              "    </tr>\n",
              "  </tbody>\n",
              "</table>\n",
              "</div>"
            ],
            "text/plain": [
              "   2017-06\n",
              "0  1431000\n",
              "1  2142300"
            ]
          },
          "metadata": {
            "tags": []
          },
          "execution_count": 49
        }
      ]
    },
    {
      "cell_type": "code",
      "metadata": {
        "scrolled": true,
        "id": "_voLXPLdhs-S",
        "colab_type": "code",
        "colab": {
          "base_uri": "https://localhost:8080/",
          "height": 0
        },
        "outputId": "b7b5ffcf-ec72-4c4d-cf49-00bcceb9c511"
      },
      "source": [
        "# We then create a single dataframe with the above extracted data\n",
        "df_profit= pd.concat([df_profit_valueincrease, buyprice], axis=1,ignore_index=True)\n",
        "df_profit.columns = ['zipcode','YrIncr','Buy2017']\n",
        "#df_profit= df_profit.sort_values(by=['zipcode']).set_index('zipcode')\n",
        "df_profit.zipcode=df_profit.zipcode.astype(int)\n",
        "df_profit"
      ],
      "execution_count": 50,
      "outputs": [
        {
          "output_type": "execute_result",
          "data": {
            "text/html": [
              "<div>\n",
              "<style scoped>\n",
              "    .dataframe tbody tr th:only-of-type {\n",
              "        vertical-align: middle;\n",
              "    }\n",
              "\n",
              "    .dataframe tbody tr th {\n",
              "        vertical-align: top;\n",
              "    }\n",
              "\n",
              "    .dataframe thead th {\n",
              "        text-align: right;\n",
              "    }\n",
              "</style>\n",
              "<table border=\"1\" class=\"dataframe\">\n",
              "  <thead>\n",
              "    <tr style=\"text-align: right;\">\n",
              "      <th></th>\n",
              "      <th>zipcode</th>\n",
              "      <th>YrIncr</th>\n",
              "      <th>Buy2017</th>\n",
              "    </tr>\n",
              "  </thead>\n",
              "  <tbody>\n",
              "    <tr>\n",
              "      <th>0</th>\n",
              "      <td>10025</td>\n",
              "      <td>5.969200</td>\n",
              "      <td>1431000</td>\n",
              "    </tr>\n",
              "    <tr>\n",
              "      <th>1</th>\n",
              "      <td>10023</td>\n",
              "      <td>5.221685</td>\n",
              "      <td>2142300</td>\n",
              "    </tr>\n",
              "    <tr>\n",
              "      <th>2</th>\n",
              "      <td>10128</td>\n",
              "      <td>7.291727</td>\n",
              "      <td>1787100</td>\n",
              "    </tr>\n",
              "    <tr>\n",
              "      <th>3</th>\n",
              "      <td>10011</td>\n",
              "      <td>6.086646</td>\n",
              "      <td>2480400</td>\n",
              "    </tr>\n",
              "    <tr>\n",
              "      <th>4</th>\n",
              "      <td>10003</td>\n",
              "      <td>5.325862</td>\n",
              "      <td>2147000</td>\n",
              "    </tr>\n",
              "    <tr>\n",
              "      <th>5</th>\n",
              "      <td>11201</td>\n",
              "      <td>14.712124</td>\n",
              "      <td>1420700</td>\n",
              "    </tr>\n",
              "    <tr>\n",
              "      <th>6</th>\n",
              "      <td>11234</td>\n",
              "      <td>1.691591</td>\n",
              "      <td>476900</td>\n",
              "    </tr>\n",
              "    <tr>\n",
              "      <th>7</th>\n",
              "      <td>10314</td>\n",
              "      <td>1.393495</td>\n",
              "      <td>357300</td>\n",
              "    </tr>\n",
              "    <tr>\n",
              "      <th>8</th>\n",
              "      <td>11215</td>\n",
              "      <td>11.839690</td>\n",
              "      <td>1070800</td>\n",
              "    </tr>\n",
              "    <tr>\n",
              "      <th>9</th>\n",
              "      <td>10028</td>\n",
              "      <td>5.246561</td>\n",
              "      <td>2083900</td>\n",
              "    </tr>\n",
              "    <tr>\n",
              "      <th>10</th>\n",
              "      <td>10021</td>\n",
              "      <td>4.603072</td>\n",
              "      <td>1815600</td>\n",
              "    </tr>\n",
              "    <tr>\n",
              "      <th>11</th>\n",
              "      <td>10014</td>\n",
              "      <td>6.612882</td>\n",
              "      <td>2491600</td>\n",
              "    </tr>\n",
              "    <tr>\n",
              "      <th>12</th>\n",
              "      <td>10036</td>\n",
              "      <td>4.321906</td>\n",
              "      <td>1712900</td>\n",
              "    </tr>\n",
              "    <tr>\n",
              "      <th>13</th>\n",
              "      <td>11434</td>\n",
              "      <td>-0.159588</td>\n",
              "      <td>382300</td>\n",
              "    </tr>\n",
              "    <tr>\n",
              "      <th>14</th>\n",
              "      <td>10306</td>\n",
              "      <td>0.828475</td>\n",
              "      <td>352900</td>\n",
              "    </tr>\n",
              "    <tr>\n",
              "      <th>15</th>\n",
              "      <td>10312</td>\n",
              "      <td>1.062636</td>\n",
              "      <td>355000</td>\n",
              "    </tr>\n",
              "    <tr>\n",
              "      <th>16</th>\n",
              "      <td>10022</td>\n",
              "      <td>4.067304</td>\n",
              "      <td>2031600</td>\n",
              "    </tr>\n",
              "    <tr>\n",
              "      <th>17</th>\n",
              "      <td>11217</td>\n",
              "      <td>13.886647</td>\n",
              "      <td>1302300</td>\n",
              "    </tr>\n",
              "    <tr>\n",
              "      <th>18</th>\n",
              "      <td>10013</td>\n",
              "      <td>5.635755</td>\n",
              "      <td>3316500</td>\n",
              "    </tr>\n",
              "    <tr>\n",
              "      <th>19</th>\n",
              "      <td>11231</td>\n",
              "      <td>12.055372</td>\n",
              "      <td>1202900</td>\n",
              "    </tr>\n",
              "    <tr>\n",
              "      <th>20</th>\n",
              "      <td>10304</td>\n",
              "      <td>0.834983</td>\n",
              "      <td>328300</td>\n",
              "    </tr>\n",
              "    <tr>\n",
              "      <th>21</th>\n",
              "      <td>10305</td>\n",
              "      <td>2.279029</td>\n",
              "      <td>425100</td>\n",
              "    </tr>\n",
              "    <tr>\n",
              "      <th>22</th>\n",
              "      <td>10309</td>\n",
              "      <td>1.465062</td>\n",
              "      <td>390500</td>\n",
              "    </tr>\n",
              "    <tr>\n",
              "      <th>23</th>\n",
              "      <td>10308</td>\n",
              "      <td>1.750359</td>\n",
              "      <td>409500</td>\n",
              "    </tr>\n",
              "    <tr>\n",
              "      <th>24</th>\n",
              "      <td>10303</td>\n",
              "      <td>1.041105</td>\n",
              "      <td>327700</td>\n",
              "    </tr>\n",
              "  </tbody>\n",
              "</table>\n",
              "</div>"
            ],
            "text/plain": [
              "    zipcode     YrIncr  Buy2017\n",
              "0     10025   5.969200  1431000\n",
              "1     10023   5.221685  2142300\n",
              "2     10128   7.291727  1787100\n",
              "3     10011   6.086646  2480400\n",
              "4     10003   5.325862  2147000\n",
              "5     11201  14.712124  1420700\n",
              "6     11234   1.691591   476900\n",
              "7     10314   1.393495   357300\n",
              "8     11215  11.839690  1070800\n",
              "9     10028   5.246561  2083900\n",
              "10    10021   4.603072  1815600\n",
              "11    10014   6.612882  2491600\n",
              "12    10036   4.321906  1712900\n",
              "13    11434  -0.159588   382300\n",
              "14    10306   0.828475   352900\n",
              "15    10312   1.062636   355000\n",
              "16    10022   4.067304  2031600\n",
              "17    11217  13.886647  1302300\n",
              "18    10013   5.635755  3316500\n",
              "19    11231  12.055372  1202900\n",
              "20    10304   0.834983   328300\n",
              "21    10305   2.279029   425100\n",
              "22    10309   1.465062   390500\n",
              "23    10308   1.750359   409500\n",
              "24    10303   1.041105   327700"
            ]
          },
          "metadata": {
            "tags": []
          },
          "execution_count": 50
        }
      ]
    },
    {
      "cell_type": "markdown",
      "metadata": {
        "id": "p4AuXqiphs-l",
        "colab_type": "text"
      },
      "source": [
        "### Bringing both datasets to the same time period\n",
        "The zillow data has prices till 2017. We use the ten year average price appreciation rate to calculate prices in 2019 by:"
      ]
    },
    {
      "cell_type": "code",
      "metadata": {
        "id": "DZWWN4qahs-l",
        "colab_type": "code",
        "colab": {
          "base_uri": "https://localhost:8080/",
          "height": 0
        },
        "outputId": "4ceda842-e8ea-4845-c307-eb4615c399bb"
      },
      "source": [
        "\n",
        "df_profit[\"Buy\"] = (df_profit.Buy2017)*(1+df_profit.YrIncr/100)*(1+df_profit.YrIncr/100)\n",
        "df_profit = df_profit.drop(columns=['Buy2017'])\n",
        "df_profit"
      ],
      "execution_count": 51,
      "outputs": [
        {
          "output_type": "execute_result",
          "data": {
            "text/html": [
              "<div>\n",
              "<style scoped>\n",
              "    .dataframe tbody tr th:only-of-type {\n",
              "        vertical-align: middle;\n",
              "    }\n",
              "\n",
              "    .dataframe tbody tr th {\n",
              "        vertical-align: top;\n",
              "    }\n",
              "\n",
              "    .dataframe thead th {\n",
              "        text-align: right;\n",
              "    }\n",
              "</style>\n",
              "<table border=\"1\" class=\"dataframe\">\n",
              "  <thead>\n",
              "    <tr style=\"text-align: right;\">\n",
              "      <th></th>\n",
              "      <th>zipcode</th>\n",
              "      <th>YrIncr</th>\n",
              "      <th>Buy</th>\n",
              "    </tr>\n",
              "  </thead>\n",
              "  <tbody>\n",
              "    <tr>\n",
              "      <th>0</th>\n",
              "      <td>10025</td>\n",
              "      <td>5.969200</td>\n",
              "      <td>1.606937e+06</td>\n",
              "    </tr>\n",
              "    <tr>\n",
              "      <th>1</th>\n",
              "      <td>10023</td>\n",
              "      <td>5.221685</td>\n",
              "      <td>2.371870e+06</td>\n",
              "    </tr>\n",
              "    <tr>\n",
              "      <th>2</th>\n",
              "      <td>10128</td>\n",
              "      <td>7.291727</td>\n",
              "      <td>2.057223e+06</td>\n",
              "    </tr>\n",
              "    <tr>\n",
              "      <th>3</th>\n",
              "      <td>10011</td>\n",
              "      <td>6.086646</td>\n",
              "      <td>2.791536e+06</td>\n",
              "    </tr>\n",
              "    <tr>\n",
              "      <th>4</th>\n",
              "      <td>10003</td>\n",
              "      <td>5.325862</td>\n",
              "      <td>2.381782e+06</td>\n",
              "    </tr>\n",
              "    <tr>\n",
              "      <th>5</th>\n",
              "      <td>11201</td>\n",
              "      <td>14.712124</td>\n",
              "      <td>1.869481e+06</td>\n",
              "    </tr>\n",
              "    <tr>\n",
              "      <th>6</th>\n",
              "      <td>11234</td>\n",
              "      <td>1.691591</td>\n",
              "      <td>4.931709e+05</td>\n",
              "    </tr>\n",
              "    <tr>\n",
              "      <th>7</th>\n",
              "      <td>10314</td>\n",
              "      <td>1.393495</td>\n",
              "      <td>3.673273e+05</td>\n",
              "    </tr>\n",
              "    <tr>\n",
              "      <th>8</th>\n",
              "      <td>11215</td>\n",
              "      <td>11.839690</td>\n",
              "      <td>1.339369e+06</td>\n",
              "    </tr>\n",
              "    <tr>\n",
              "      <th>9</th>\n",
              "      <td>10028</td>\n",
              "      <td>5.246561</td>\n",
              "      <td>2.308302e+06</td>\n",
              "    </tr>\n",
              "    <tr>\n",
              "      <th>10</th>\n",
              "      <td>10021</td>\n",
              "      <td>4.603072</td>\n",
              "      <td>1.986594e+06</td>\n",
              "    </tr>\n",
              "    <tr>\n",
              "      <th>11</th>\n",
              "      <td>10014</td>\n",
              "      <td>6.612882</td>\n",
              "      <td>2.832029e+06</td>\n",
              "    </tr>\n",
              "    <tr>\n",
              "      <th>12</th>\n",
              "      <td>10036</td>\n",
              "      <td>4.321906</td>\n",
              "      <td>1.864159e+06</td>\n",
              "    </tr>\n",
              "    <tr>\n",
              "      <th>13</th>\n",
              "      <td>11434</td>\n",
              "      <td>-0.159588</td>\n",
              "      <td>3.810808e+05</td>\n",
              "    </tr>\n",
              "    <tr>\n",
              "      <th>14</th>\n",
              "      <td>10306</td>\n",
              "      <td>0.828475</td>\n",
              "      <td>3.587716e+05</td>\n",
              "    </tr>\n",
              "    <tr>\n",
              "      <th>15</th>\n",
              "      <td>10312</td>\n",
              "      <td>1.062636</td>\n",
              "      <td>3.625848e+05</td>\n",
              "    </tr>\n",
              "    <tr>\n",
              "      <th>16</th>\n",
              "      <td>10022</td>\n",
              "      <td>4.067304</td>\n",
              "      <td>2.200224e+06</td>\n",
              "    </tr>\n",
              "    <tr>\n",
              "      <th>17</th>\n",
              "      <td>11217</td>\n",
              "      <td>13.886647</td>\n",
              "      <td>1.689105e+06</td>\n",
              "    </tr>\n",
              "    <tr>\n",
              "      <th>18</th>\n",
              "      <td>10013</td>\n",
              "      <td>5.635755</td>\n",
              "      <td>3.700853e+06</td>\n",
              "    </tr>\n",
              "    <tr>\n",
              "      <th>19</th>\n",
              "      <td>11231</td>\n",
              "      <td>12.055372</td>\n",
              "      <td>1.510410e+06</td>\n",
              "    </tr>\n",
              "    <tr>\n",
              "      <th>20</th>\n",
              "      <td>10304</td>\n",
              "      <td>0.834983</td>\n",
              "      <td>3.338054e+05</td>\n",
              "    </tr>\n",
              "    <tr>\n",
              "      <th>21</th>\n",
              "      <td>10305</td>\n",
              "      <td>2.279029</td>\n",
              "      <td>4.446971e+05</td>\n",
              "    </tr>\n",
              "    <tr>\n",
              "      <th>22</th>\n",
              "      <td>10309</td>\n",
              "      <td>1.465062</td>\n",
              "      <td>4.020259e+05</td>\n",
              "    </tr>\n",
              "    <tr>\n",
              "      <th>23</th>\n",
              "      <td>10308</td>\n",
              "      <td>1.750359</td>\n",
              "      <td>4.239609e+05</td>\n",
              "    </tr>\n",
              "    <tr>\n",
              "      <th>24</th>\n",
              "      <td>10303</td>\n",
              "      <td>1.041105</td>\n",
              "      <td>3.345589e+05</td>\n",
              "    </tr>\n",
              "  </tbody>\n",
              "</table>\n",
              "</div>"
            ],
            "text/plain": [
              "    zipcode     YrIncr           Buy\n",
              "0     10025   5.969200  1.606937e+06\n",
              "1     10023   5.221685  2.371870e+06\n",
              "2     10128   7.291727  2.057223e+06\n",
              "3     10011   6.086646  2.791536e+06\n",
              "4     10003   5.325862  2.381782e+06\n",
              "5     11201  14.712124  1.869481e+06\n",
              "6     11234   1.691591  4.931709e+05\n",
              "7     10314   1.393495  3.673273e+05\n",
              "8     11215  11.839690  1.339369e+06\n",
              "9     10028   5.246561  2.308302e+06\n",
              "10    10021   4.603072  1.986594e+06\n",
              "11    10014   6.612882  2.832029e+06\n",
              "12    10036   4.321906  1.864159e+06\n",
              "13    11434  -0.159588  3.810808e+05\n",
              "14    10306   0.828475  3.587716e+05\n",
              "15    10312   1.062636  3.625848e+05\n",
              "16    10022   4.067304  2.200224e+06\n",
              "17    11217  13.886647  1.689105e+06\n",
              "18    10013   5.635755  3.700853e+06\n",
              "19    11231  12.055372  1.510410e+06\n",
              "20    10304   0.834983  3.338054e+05\n",
              "21    10305   2.279029  4.446971e+05\n",
              "22    10309   1.465062  4.020259e+05\n",
              "23    10308   1.750359  4.239609e+05\n",
              "24    10303   1.041105  3.345589e+05"
            ]
          },
          "metadata": {
            "tags": []
          },
          "execution_count": 51
        }
      ]
    },
    {
      "cell_type": "markdown",
      "metadata": {
        "id": "oRcCM5ixhs-o",
        "colab_type": "text"
      },
      "source": [
        "We extract average rents by zipcode"
      ]
    },
    {
      "cell_type": "code",
      "metadata": {
        "scrolled": true,
        "id": "zQvLpR1Uhs-p",
        "colab_type": "code",
        "colab": {
          "base_uri": "https://localhost:8080/",
          "height": 0
        },
        "outputId": "0b9d6476-68f5-4dff-bbd5-b6c4e584f0fd"
      },
      "source": [
        "dfa5 = dfa4[dfa4['bedrooms']== 2][['zipcode','price']].groupby('zipcode').mean()\n",
        "dfa5.columns = ['Avgrent']\n",
        "dfa5 = dfa5.reset_index()\n",
        "dfa5.zipcode = dfa5.zipcode.astype(int)\n",
        "dfa5"
      ],
      "execution_count": 52,
      "outputs": [
        {
          "output_type": "execute_result",
          "data": {
            "text/html": [
              "<div>\n",
              "<style scoped>\n",
              "    .dataframe tbody tr th:only-of-type {\n",
              "        vertical-align: middle;\n",
              "    }\n",
              "\n",
              "    .dataframe tbody tr th {\n",
              "        vertical-align: top;\n",
              "    }\n",
              "\n",
              "    .dataframe thead th {\n",
              "        text-align: right;\n",
              "    }\n",
              "</style>\n",
              "<table border=\"1\" class=\"dataframe\">\n",
              "  <thead>\n",
              "    <tr style=\"text-align: right;\">\n",
              "      <th></th>\n",
              "      <th>zipcode</th>\n",
              "      <th>Avgrent</th>\n",
              "    </tr>\n",
              "  </thead>\n",
              "  <tbody>\n",
              "    <tr>\n",
              "      <th>0</th>\n",
              "      <td>10001</td>\n",
              "      <td>378.071429</td>\n",
              "    </tr>\n",
              "    <tr>\n",
              "      <th>1</th>\n",
              "      <td>10002</td>\n",
              "      <td>265.219653</td>\n",
              "    </tr>\n",
              "    <tr>\n",
              "      <th>2</th>\n",
              "      <td>10003</td>\n",
              "      <td>293.296296</td>\n",
              "    </tr>\n",
              "    <tr>\n",
              "      <th>3</th>\n",
              "      <td>10004</td>\n",
              "      <td>322.714286</td>\n",
              "    </tr>\n",
              "    <tr>\n",
              "      <th>4</th>\n",
              "      <td>10005</td>\n",
              "      <td>357.195122</td>\n",
              "    </tr>\n",
              "    <tr>\n",
              "      <th>...</th>\n",
              "      <td>...</td>\n",
              "      <td>...</td>\n",
              "    </tr>\n",
              "    <tr>\n",
              "      <th>147</th>\n",
              "      <td>11435</td>\n",
              "      <td>199.000000</td>\n",
              "    </tr>\n",
              "    <tr>\n",
              "      <th>148</th>\n",
              "      <td>11436</td>\n",
              "      <td>112.666667</td>\n",
              "    </tr>\n",
              "    <tr>\n",
              "      <th>149</th>\n",
              "      <td>11691</td>\n",
              "      <td>227.000000</td>\n",
              "    </tr>\n",
              "    <tr>\n",
              "      <th>150</th>\n",
              "      <td>11692</td>\n",
              "      <td>171.250000</td>\n",
              "    </tr>\n",
              "    <tr>\n",
              "      <th>151</th>\n",
              "      <td>11693</td>\n",
              "      <td>171.545455</td>\n",
              "    </tr>\n",
              "  </tbody>\n",
              "</table>\n",
              "<p>152 rows × 2 columns</p>\n",
              "</div>"
            ],
            "text/plain": [
              "     zipcode     Avgrent\n",
              "0      10001  378.071429\n",
              "1      10002  265.219653\n",
              "2      10003  293.296296\n",
              "3      10004  322.714286\n",
              "4      10005  357.195122\n",
              "..       ...         ...\n",
              "147    11435  199.000000\n",
              "148    11436  112.666667\n",
              "149    11691  227.000000\n",
              "150    11692  171.250000\n",
              "151    11693  171.545455\n",
              "\n",
              "[152 rows x 2 columns]"
            ]
          },
          "metadata": {
            "tags": []
          },
          "execution_count": 52
        }
      ]
    },
    {
      "cell_type": "markdown",
      "metadata": {
        "id": "MWkuJoVxhs-t",
        "colab_type": "text"
      },
      "source": [
        "Now we create the metrics of interest:"
      ]
    },
    {
      "cell_type": "code",
      "metadata": {
        "scrolled": true,
        "id": "IRAvbMmEhs-t",
        "colab_type": "code",
        "colab": {}
      },
      "source": [
        "# We do an inner join with the data dataframes so that we have all the metrics in one dataframe.\n",
        "\n",
        "df_profit1 = dfa5.join(df_profit.set_index('zipcode'), on='zipcode')\n",
        "df_profit1 = df_profit1.dropna()\n",
        "\n",
        "# Metrics\n",
        "\n",
        "df_profit1['TotalIncome']=((df_profit1['Avgrent']*365 * .75) + (df_profit1['Buy']*df_profit1['YrIncr']/100))\n",
        "df_profit1['Profitability'] = df_profit1['TotalIncome']/df_profit1['Buy']"
      ],
      "execution_count": 53,
      "outputs": []
    },
    {
      "cell_type": "code",
      "metadata": {
        "scrolled": true,
        "id": "ZQw-4dJUhs-v",
        "colab_type": "code",
        "colab": {
          "base_uri": "https://localhost:8080/",
          "height": 0
        },
        "outputId": "fbfba2aa-88dd-467e-fa8c-129c9b830613"
      },
      "source": [
        "df_profit1['BreakevenYears_byrent']= df_profit1['Buy']/(df_profit1['Avgrent']*365 * .75)\n",
        "df_profit1['100pc_return_byTotalIncome']= df_profit1['Buy']/(df_profit1['TotalIncome'])\n",
        "df_profit1['UnitsBought']= CAPITAL/df_profit1['Buy']\n",
        "df_profit1['TotRevenue']= df_profit1['TotalIncome']*df_profit1['UnitsBought']\n",
        "df_profit1 = df_profit1.sort_values(by=['Profitability'], ascending=False)\n",
        "df_profit1"
      ],
      "execution_count": 54,
      "outputs": [
        {
          "output_type": "execute_result",
          "data": {
            "text/html": [
              "<div>\n",
              "<style scoped>\n",
              "    .dataframe tbody tr th:only-of-type {\n",
              "        vertical-align: middle;\n",
              "    }\n",
              "\n",
              "    .dataframe tbody tr th {\n",
              "        vertical-align: top;\n",
              "    }\n",
              "\n",
              "    .dataframe thead th {\n",
              "        text-align: right;\n",
              "    }\n",
              "</style>\n",
              "<table border=\"1\" class=\"dataframe\">\n",
              "  <thead>\n",
              "    <tr style=\"text-align: right;\">\n",
              "      <th></th>\n",
              "      <th>zipcode</th>\n",
              "      <th>Avgrent</th>\n",
              "      <th>YrIncr</th>\n",
              "      <th>Buy</th>\n",
              "      <th>TotalIncome</th>\n",
              "      <th>Profitability</th>\n",
              "      <th>BreakevenYears_byrent</th>\n",
              "      <th>100pc_return_byTotalIncome</th>\n",
              "      <th>UnitsBought</th>\n",
              "      <th>TotRevenue</th>\n",
              "    </tr>\n",
              "  </thead>\n",
              "  <tbody>\n",
              "    <tr>\n",
              "      <th>76</th>\n",
              "      <td>11201</td>\n",
              "      <td>243.682353</td>\n",
              "      <td>14.712124</td>\n",
              "      <td>1.869481e+06</td>\n",
              "      <td>341748.382633</td>\n",
              "      <td>0.182804</td>\n",
              "      <td>28.024819</td>\n",
              "      <td>5.470343</td>\n",
              "      <td>5.349079</td>\n",
              "      <td>1.828039e+06</td>\n",
              "    </tr>\n",
              "    <tr>\n",
              "      <th>91</th>\n",
              "      <td>11217</td>\n",
              "      <td>204.262295</td>\n",
              "      <td>13.886647</td>\n",
              "      <td>1.689105e+06</td>\n",
              "      <td>290476.857864</td>\n",
              "      <td>0.171971</td>\n",
              "      <td>30.207468</td>\n",
              "      <td>5.814938</td>\n",
              "      <td>5.920295</td>\n",
              "      <td>1.719709e+06</td>\n",
              "    </tr>\n",
              "    <tr>\n",
              "      <th>104</th>\n",
              "      <td>11231</td>\n",
              "      <td>207.978495</td>\n",
              "      <td>12.055372</td>\n",
              "      <td>1.510410e+06</td>\n",
              "      <td>239019.675957</td>\n",
              "      <td>0.158248</td>\n",
              "      <td>26.529089</td>\n",
              "      <td>6.319187</td>\n",
              "      <td>6.620718</td>\n",
              "      <td>1.582482e+06</td>\n",
              "    </tr>\n",
              "    <tr>\n",
              "      <th>89</th>\n",
              "      <td>11215</td>\n",
              "      <td>181.608466</td>\n",
              "      <td>11.839690</td>\n",
              "      <td>1.339369e+06</td>\n",
              "      <td>208292.465327</td>\n",
              "      <td>0.155515</td>\n",
              "      <td>26.940773</td>\n",
              "      <td>6.430233</td>\n",
              "      <td>7.466202</td>\n",
              "      <td>1.555154e+06</td>\n",
              "    </tr>\n",
              "    <tr>\n",
              "      <th>45</th>\n",
              "      <td>10305</td>\n",
              "      <td>132.000000</td>\n",
              "      <td>2.279029</td>\n",
              "      <td>4.446971e+05</td>\n",
              "      <td>46269.778029</td>\n",
              "      <td>0.104048</td>\n",
              "      <td>12.306548</td>\n",
              "      <td>9.610963</td>\n",
              "      <td>22.487216</td>\n",
              "      <td>1.040479e+06</td>\n",
              "    </tr>\n",
              "    <tr>\n",
              "      <th>41</th>\n",
              "      <td>10128</td>\n",
              "      <td>226.156250</td>\n",
              "      <td>7.291727</td>\n",
              "      <td>2.057223e+06</td>\n",
              "      <td>211917.346278</td>\n",
              "      <td>0.103011</td>\n",
              "      <td>33.229102</td>\n",
              "      <td>9.707666</td>\n",
              "      <td>4.860922</td>\n",
              "      <td>1.030114e+06</td>\n",
              "    </tr>\n",
              "    <tr>\n",
              "      <th>21</th>\n",
              "      <td>10025</td>\n",
              "      <td>253.134454</td>\n",
              "      <td>5.969200</td>\n",
              "      <td>1.606937e+06</td>\n",
              "      <td>165216.858624</td>\n",
              "      <td>0.102815</td>\n",
              "      <td>23.189616</td>\n",
              "      <td>9.726231</td>\n",
              "      <td>6.223018</td>\n",
              "      <td>1.028147e+06</td>\n",
              "    </tr>\n",
              "    <tr>\n",
              "      <th>46</th>\n",
              "      <td>10306</td>\n",
              "      <td>117.500000</td>\n",
              "      <td>0.828475</td>\n",
              "      <td>3.587716e+05</td>\n",
              "      <td>35137.957973</td>\n",
              "      <td>0.097940</td>\n",
              "      <td>11.153882</td>\n",
              "      <td>10.210371</td>\n",
              "      <td>27.872886</td>\n",
              "      <td>9.793963e+05</td>\n",
              "    </tr>\n",
              "    <tr>\n",
              "      <th>146</th>\n",
              "      <td>11434</td>\n",
              "      <td>136.875000</td>\n",
              "      <td>-0.159588</td>\n",
              "      <td>3.810808e+05</td>\n",
              "      <td>36861.371474</td>\n",
              "      <td>0.096729</td>\n",
              "      <td>10.170417</td>\n",
              "      <td>10.338214</td>\n",
              "      <td>26.241157</td>\n",
              "      <td>9.672850e+05</td>\n",
              "    </tr>\n",
              "    <tr>\n",
              "      <th>12</th>\n",
              "      <td>10014</td>\n",
              "      <td>315.181818</td>\n",
              "      <td>6.612882</td>\n",
              "      <td>2.832029e+06</td>\n",
              "      <td>273559.746706</td>\n",
              "      <td>0.096595</td>\n",
              "      <td>32.823312</td>\n",
              "      <td>10.352506</td>\n",
              "      <td>3.531037</td>\n",
              "      <td>9.659497e+05</td>\n",
              "    </tr>\n",
              "    <tr>\n",
              "      <th>9</th>\n",
              "      <td>10011</td>\n",
              "      <td>348.428571</td>\n",
              "      <td>6.086646</td>\n",
              "      <td>2.791536e+06</td>\n",
              "      <td>265293.218280</td>\n",
              "      <td>0.095035</td>\n",
              "      <td>29.266802</td>\n",
              "      <td>10.522454</td>\n",
              "      <td>3.582258</td>\n",
              "      <td>9.503487e+05</td>\n",
              "    </tr>\n",
              "    <tr>\n",
              "      <th>107</th>\n",
              "      <td>11234</td>\n",
              "      <td>135.111111</td>\n",
              "      <td>1.691591</td>\n",
              "      <td>4.931709e+05</td>\n",
              "      <td>45329.100920</td>\n",
              "      <td>0.091914</td>\n",
              "      <td>13.333747</td>\n",
              "      <td>10.879785</td>\n",
              "      <td>20.276948</td>\n",
              "      <td>9.191358e+05</td>\n",
              "    </tr>\n",
              "    <tr>\n",
              "      <th>32</th>\n",
              "      <td>10036</td>\n",
              "      <td>330.636986</td>\n",
              "      <td>4.321906</td>\n",
              "      <td>1.864159e+06</td>\n",
              "      <td>171079.097370</td>\n",
              "      <td>0.091773</td>\n",
              "      <td>20.595744</td>\n",
              "      <td>10.896477</td>\n",
              "      <td>5.364348</td>\n",
              "      <td>9.177279e+05</td>\n",
              "    </tr>\n",
              "    <tr>\n",
              "      <th>2</th>\n",
              "      <td>10003</td>\n",
              "      <td>293.296296</td>\n",
              "      <td>5.325862</td>\n",
              "      <td>2.381782e+06</td>\n",
              "      <td>207140.305487</td>\n",
              "      <td>0.086969</td>\n",
              "      <td>29.664797</td>\n",
              "      <td>11.498402</td>\n",
              "      <td>4.198536</td>\n",
              "      <td>8.696861e+05</td>\n",
              "    </tr>\n",
              "    <tr>\n",
              "      <th>24</th>\n",
              "      <td>10028</td>\n",
              "      <td>273.794521</td>\n",
              "      <td>5.246561</td>\n",
              "      <td>2.308302e+06</td>\n",
              "      <td>196057.751185</td>\n",
              "      <td>0.084936</td>\n",
              "      <td>30.797384</td>\n",
              "      <td>11.773584</td>\n",
              "      <td>4.332188</td>\n",
              "      <td>8.493590e+05</td>\n",
              "    </tr>\n",
              "    <tr>\n",
              "      <th>44</th>\n",
              "      <td>10304</td>\n",
              "      <td>93.333333</td>\n",
              "      <td>0.834983</td>\n",
              "      <td>3.338054e+05</td>\n",
              "      <td>28337.219928</td>\n",
              "      <td>0.084891</td>\n",
              "      <td>13.064790</td>\n",
              "      <td>11.779751</td>\n",
              "      <td>29.957575</td>\n",
              "      <td>8.489144e+05</td>\n",
              "    </tr>\n",
              "    <tr>\n",
              "      <th>19</th>\n",
              "      <td>10023</td>\n",
              "      <td>276.402597</td>\n",
              "      <td>5.221685</td>\n",
              "      <td>2.371870e+06</td>\n",
              "      <td>199516.775271</td>\n",
              "      <td>0.084118</td>\n",
              "      <td>31.346896</td>\n",
              "      <td>11.888071</td>\n",
              "      <td>4.216084</td>\n",
              "      <td>8.411794e+05</td>\n",
              "    </tr>\n",
              "    <tr>\n",
              "      <th>11</th>\n",
              "      <td>10013</td>\n",
              "      <td>370.254902</td>\n",
              "      <td>5.635755</td>\n",
              "      <td>3.700853e+06</td>\n",
              "      <td>309928.311759</td>\n",
              "      <td>0.083745</td>\n",
              "      <td>36.512951</td>\n",
              "      <td>11.940998</td>\n",
              "      <td>2.702079</td>\n",
              "      <td>8.374509e+05</td>\n",
              "    </tr>\n",
              "    <tr>\n",
              "      <th>18</th>\n",
              "      <td>10022</td>\n",
              "      <td>287.823529</td>\n",
              "      <td>4.067304</td>\n",
              "      <td>2.200224e+06</td>\n",
              "      <td>168281.465040</td>\n",
              "      <td>0.076484</td>\n",
              "      <td>27.924563</td>\n",
              "      <td>13.074664</td>\n",
              "      <td>4.544993</td>\n",
              "      <td>7.648380e+05</td>\n",
              "    </tr>\n",
              "    <tr>\n",
              "      <th>17</th>\n",
              "      <td>10021</td>\n",
              "      <td>208.884615</td>\n",
              "      <td>4.603072</td>\n",
              "      <td>1.986594e+06</td>\n",
              "      <td>148626.511627</td>\n",
              "      <td>0.074815</td>\n",
              "      <td>34.741493</td>\n",
              "      <td>13.366348</td>\n",
              "      <td>5.033742</td>\n",
              "      <td>7.481475e+05</td>\n",
              "    </tr>\n",
              "    <tr>\n",
              "      <th>48</th>\n",
              "      <td>10314</td>\n",
              "      <td>73.000000</td>\n",
              "      <td>1.393495</td>\n",
              "      <td>3.673273e+05</td>\n",
              "      <td>25102.437129</td>\n",
              "      <td>0.068338</td>\n",
              "      <td>18.381300</td>\n",
              "      <td>14.633133</td>\n",
              "      <td>27.223678</td>\n",
              "      <td>6.833807e+05</td>\n",
              "    </tr>\n",
              "  </tbody>\n",
              "</table>\n",
              "</div>"
            ],
            "text/plain": [
              "     zipcode     Avgrent  ...  UnitsBought    TotRevenue\n",
              "76     11201  243.682353  ...     5.349079  1.828039e+06\n",
              "91     11217  204.262295  ...     5.920295  1.719709e+06\n",
              "104    11231  207.978495  ...     6.620718  1.582482e+06\n",
              "89     11215  181.608466  ...     7.466202  1.555154e+06\n",
              "45     10305  132.000000  ...    22.487216  1.040479e+06\n",
              "41     10128  226.156250  ...     4.860922  1.030114e+06\n",
              "21     10025  253.134454  ...     6.223018  1.028147e+06\n",
              "46     10306  117.500000  ...    27.872886  9.793963e+05\n",
              "146    11434  136.875000  ...    26.241157  9.672850e+05\n",
              "12     10014  315.181818  ...     3.531037  9.659497e+05\n",
              "9      10011  348.428571  ...     3.582258  9.503487e+05\n",
              "107    11234  135.111111  ...    20.276948  9.191358e+05\n",
              "32     10036  330.636986  ...     5.364348  9.177279e+05\n",
              "2      10003  293.296296  ...     4.198536  8.696861e+05\n",
              "24     10028  273.794521  ...     4.332188  8.493590e+05\n",
              "44     10304   93.333333  ...    29.957575  8.489144e+05\n",
              "19     10023  276.402597  ...     4.216084  8.411794e+05\n",
              "11     10013  370.254902  ...     2.702079  8.374509e+05\n",
              "18     10022  287.823529  ...     4.544993  7.648380e+05\n",
              "17     10021  208.884615  ...     5.033742  7.481475e+05\n",
              "48     10314   73.000000  ...    27.223678  6.833807e+05\n",
              "\n",
              "[21 rows x 10 columns]"
            ]
          },
          "metadata": {
            "tags": []
          },
          "execution_count": 54
        }
      ]
    },
    {
      "cell_type": "code",
      "metadata": {
        "id": "TTpyOmr5hs-z",
        "colab_type": "code",
        "colab": {
          "base_uri": "https://localhost:8080/",
          "height": 0
        },
        "outputId": "1e08b847-9b69-4695-9aee-94e0c97870ca"
      },
      "source": [
        "df_profit1.shape"
      ],
      "execution_count": 55,
      "outputs": [
        {
          "output_type": "execute_result",
          "data": {
            "text/plain": [
              "(21, 10)"
            ]
          },
          "metadata": {
            "tags": []
          },
          "execution_count": 55
        }
      ]
    },
    {
      "cell_type": "markdown",
      "metadata": {
        "id": "TsHvvJSvhs-3",
        "colab_type": "text"
      },
      "source": [
        "We find that we are only left with 21 zipcodes in NY after the merge. The other zipcodes were left out as they were either not present in both datasets, or were filtered out in one of the earlier data cleaning steps."
      ]
    },
    {
      "cell_type": "markdown",
      "metadata": {
        "id": "KADGjk6xhs-3",
        "colab_type": "text"
      },
      "source": [
        "## Step 11 - Selecting the best options\n",
        "\n",
        "In the above table, we see that some properties have high profitability (revenue by rent + appreciation of property price), whereas some other properties have a faster breakeven if only the rental income is considered.\n",
        "\n",
        "Ideally, we want a property that has high Profitability and fastest breakeven at the same time.\n",
        "\n",
        "Let's make some plots to see if we can find such lucrative zipcodes."
      ]
    },
    {
      "cell_type": "code",
      "metadata": {
        "scrolled": false,
        "id": "SDLOh5wNhs-4",
        "colab_type": "code",
        "colab": {
          "base_uri": "https://localhost:8080/",
          "height": 34
        },
        "outputId": "9d9b3336-51a8-40cf-a178-ce686d3542cd"
      },
      "source": [
        "fig_rev = px.scatter(df_profit1, y=\"Avgrent\", x=\"BreakevenYears_byrent\",  hover_data=['zipcode'], color='Profitability')\n",
        "\n",
        "fig_rev.add_shape(\n",
        "        go.layout.Shape(type=\"line\",xref=\"paper\",yref=\"paper\",y0=.5,x0=0,y1=.5,x1=1,\n",
        "            line=dict(color=\"LightSeaGreen\",width=1,),\n",
        "        ))\n",
        "fig_rev.add_shape(\n",
        "        go.layout.Shape(type=\"line\",xref=\"paper\",yref=\"paper\",x0=.5,y0=0,x1=.5,y1=1,\n",
        "            line=dict(color=\"LightSeaGreen\",width=1,),\n",
        "        ))\n",
        "fig_rev.update_traces(marker=dict(size=12,\n",
        "                              line=dict(width=2,color='DarkSlateGrey')),selector=dict(mode='markers'))\n",
        "\n",
        "print()"
      ],
      "execution_count": 56,
      "outputs": [
        {
          "output_type": "stream",
          "text": [
            "\n"
          ],
          "name": "stdout"
        }
      ]
    },
    {
      "cell_type": "code",
      "metadata": {
        "id": "E3QrzcsHhs-7",
        "colab_type": "code",
        "colab": {
          "base_uri": "https://localhost:8080/",
          "height": 34
        },
        "outputId": "f95d2ef2-905c-4f6d-99ba-c430cbe4be5d"
      },
      "source": [
        "fig_rev1 = px.scatter(df_profit1, y=\"TotalIncome\", x=\"100pc_return_byTotalIncome\",  \n",
        "                     hover_data=['zipcode'], color='Profitability')\n",
        "\n",
        "fig_rev1.add_shape(\n",
        "        go.layout.Shape(type=\"line\",xref=\"paper\",yref=\"paper\",y0=.5,x0=0,y1=.5,x1=1,\n",
        "            line=dict(color=\"LightSeaGreen\",width=1,),\n",
        "        ))\n",
        "fig_rev1.add_shape(\n",
        "        go.layout.Shape(type=\"line\",xref=\"paper\",yref=\"paper\",x0=.5,y0=0,x1=.5,y1=1,\n",
        "            line=dict(color=\"LightSeaGreen\",width=1,),\n",
        "        ))\n",
        "fig_rev1.update_traces(marker=dict(size=12,\n",
        "                              line=dict(width=2,color='DarkSlateGrey')),selector=dict(mode='markers'))\n",
        "\n",
        "print()"
      ],
      "execution_count": 57,
      "outputs": [
        {
          "output_type": "stream",
          "text": [
            "\n"
          ],
          "name": "stdout"
        }
      ]
    },
    {
      "cell_type": "code",
      "metadata": {
        "id": "Avg9lX97hs-9",
        "colab_type": "code",
        "colab": {
          "base_uri": "https://localhost:8080/",
          "height": 34
        },
        "outputId": "572d6386-89c6-44f9-d26d-509c3d57ad1e"
      },
      "source": [
        "fig_rev2 = px.scatter(df_profit1, y=\"TotRevenue\", x=\"100pc_return_byTotalIncome\",  \n",
        "                     hover_data=['zipcode'], color='Profitability')\n",
        "\n",
        "fig_rev2.add_shape(\n",
        "        go.layout.Shape(type=\"line\",xref=\"paper\",yref=\"paper\",y0=.5,x0=0,y1=.5,x1=1,\n",
        "            line=dict(color=\"LightSeaGreen\",width=1,),\n",
        "        ))\n",
        "fig_rev2.add_shape(\n",
        "        go.layout.Shape(type=\"line\",xref=\"paper\",yref=\"paper\",x0=.5,y0=0,x1=.5,y1=1,\n",
        "            line=dict(color=\"LightSeaGreen\",width=1,),\n",
        "        ))\n",
        "fig_rev2.update_traces(marker=dict(size=4,\n",
        "                              line=dict(width=1,color='DarkSlateGrey')),selector=dict(mode='markers'))\n",
        "\n",
        "print()"
      ],
      "execution_count": 58,
      "outputs": [
        {
          "output_type": "stream",
          "text": [
            "\n"
          ],
          "name": "stdout"
        }
      ]
    },
    {
      "cell_type": "code",
      "metadata": {
        "scrolled": false,
        "id": "9vPWd3tyhs_A",
        "colab_type": "code",
        "colab": {
          "base_uri": "https://localhost:8080/",
          "height": 1000
        },
        "outputId": "a34cdc4c-ca3d-4eff-85db-129d8ae22a26"
      },
      "source": [
        "fig_rev.show()\n",
        "print('The above graph shows how many years(X-axis) it would take to recover investment if only rent is considered as income')\n",
        "fig_rev1.show()\n",
        "print('The above graph shows how many years(X-axis) it would take to earn 100% profit by considering income from rent and property price appreciation from a single 2 bedroom property in the corresponding zipcode')\n",
        "# fig_rev2.show()\n",
        "# print('The above graph shows how much revenue would be earned if USD 10M was spent in purchasing 2 bedroom properties.')"
      ],
      "execution_count": 59,
      "outputs": [
        {
          "output_type": "display_data",
          "data": {
            "text/html": [
              "<html>\n",
              "<head><meta charset=\"utf-8\" /></head>\n",
              "<body>\n",
              "    <div>\n",
              "            <script src=\"https://cdnjs.cloudflare.com/ajax/libs/mathjax/2.7.5/MathJax.js?config=TeX-AMS-MML_SVG\"></script><script type=\"text/javascript\">if (window.MathJax) {MathJax.Hub.Config({SVG: {font: \"STIX-Web\"}});}</script>\n",
              "                <script type=\"text/javascript\">window.PlotlyConfig = {MathJaxConfig: 'local'};</script>\n",
              "        <script src=\"https://cdn.plot.ly/plotly-latest.min.js\"></script>    \n",
              "            <div id=\"e6a1ad0b-8399-4a23-91ef-73256e29d67a\" class=\"plotly-graph-div\" style=\"height:525px; width:100%;\"></div>\n",
              "            <script type=\"text/javascript\">\n",
              "                \n",
              "                    window.PLOTLYENV=window.PLOTLYENV || {};\n",
              "                    \n",
              "                if (document.getElementById(\"e6a1ad0b-8399-4a23-91ef-73256e29d67a\")) {\n",
              "                    Plotly.newPlot(\n",
              "                        'e6a1ad0b-8399-4a23-91ef-73256e29d67a',\n",
              "                        [{\"customdata\": [[11201], [11217], [11231], [11215], [10305], [10128], [10025], [10306], [11434], [10014], [10011], [11234], [10036], [10003], [10028], [10304], [10023], [10013], [10022], [10021], [10314]], \"hoverlabel\": {\"namelength\": 0}, \"hovertemplate\": \"BreakevenYears_byrent=%{x}<br>Avgrent=%{y}<br>zipcode=%{customdata[0]}<br>Profitability=%{marker.color}\", \"legendgroup\": \"\", \"marker\": {\"color\": [0.18280389549989248, 0.1719708679119462, 0.15824819438671356, 0.15551535949589687, 0.10404785093692571, 0.10301137381036657, 0.10281474821811425, 0.09793963100229273, 0.09672850244160756, 0.0965949686767385, 0.09503486988944507, 0.09191358335478436, 0.09177278504790044, 0.08696860904822493, 0.08493590369147029, 0.08489143891279612, 0.08411793863221474, 0.08374509264955873, 0.07648380316969726, 0.07481474989693217, 0.06833806634807166], \"coloraxis\": \"coloraxis\", \"line\": {\"color\": \"DarkSlateGrey\", \"width\": 2}, \"size\": 12, \"symbol\": \"circle\"}, \"mode\": \"markers\", \"name\": \"\", \"showlegend\": false, \"type\": \"scatter\", \"x\": [28.024818873146458, 30.207467704615443, 26.529088688973854, 26.940773128373333, 12.306547789729215, 33.22910205542332, 23.18961592818619, 11.153882398425196, 10.17041713293337, 32.82331212602942, 29.266802415693043, 13.333747107534935, 20.59574362272855, 29.664797058176642, 30.797383765911757, 13.064790240399326, 31.346896333165578, 36.512951335557375, 27.924563093031743, 34.74149263743049, 18.38129960874966], \"xaxis\": \"x\", \"y\": [243.68235294117648, 204.2622950819672, 207.9784946236559, 181.60846560846562, 132.0, 226.15625, 253.1344537815126, 117.5, 136.875, 315.1818181818182, 348.42857142857144, 135.11111111111111, 330.63698630136986, 293.2962962962963, 273.7945205479452, 93.33333333333333, 276.4025974025974, 370.2549019607843, 287.8235294117647, 208.8846153846154, 73.0], \"yaxis\": \"y\"}],\n",
              "                        {\"coloraxis\": {\"colorbar\": {\"title\": {\"text\": \"Profitability\"}}, \"colorscale\": [[0.0, \"#0d0887\"], [0.1111111111111111, \"#46039f\"], [0.2222222222222222, \"#7201a8\"], [0.3333333333333333, \"#9c179e\"], [0.4444444444444444, \"#bd3786\"], [0.5555555555555556, \"#d8576b\"], [0.6666666666666666, \"#ed7953\"], [0.7777777777777778, \"#fb9f3a\"], [0.8888888888888888, \"#fdca26\"], [1.0, \"#f0f921\"]]}, \"legend\": {\"tracegroupgap\": 0}, \"margin\": {\"t\": 60}, \"shapes\": [{\"line\": {\"color\": \"LightSeaGreen\", \"width\": 1}, \"type\": \"line\", \"x0\": 0, \"x1\": 1, \"xref\": \"paper\", \"y0\": 0.5, \"y1\": 0.5, \"yref\": \"paper\"}, {\"line\": {\"color\": \"LightSeaGreen\", \"width\": 1}, \"type\": \"line\", \"x0\": 0.5, \"x1\": 0.5, \"xref\": \"paper\", \"y0\": 0, \"y1\": 1, \"yref\": \"paper\"}], \"template\": {\"data\": {\"bar\": [{\"error_x\": {\"color\": \"#2a3f5f\"}, \"error_y\": {\"color\": \"#2a3f5f\"}, \"marker\": {\"line\": {\"color\": \"#E5ECF6\", \"width\": 0.5}}, \"type\": \"bar\"}], \"barpolar\": [{\"marker\": {\"line\": {\"color\": \"#E5ECF6\", \"width\": 0.5}}, \"type\": \"barpolar\"}], \"carpet\": [{\"aaxis\": {\"endlinecolor\": \"#2a3f5f\", \"gridcolor\": \"white\", \"linecolor\": \"white\", \"minorgridcolor\": \"white\", \"startlinecolor\": \"#2a3f5f\"}, \"baxis\": {\"endlinecolor\": \"#2a3f5f\", \"gridcolor\": \"white\", \"linecolor\": \"white\", \"minorgridcolor\": \"white\", \"startlinecolor\": \"#2a3f5f\"}, \"type\": \"carpet\"}], \"choropleth\": [{\"colorbar\": {\"outlinewidth\": 0, \"ticks\": \"\"}, \"type\": \"choropleth\"}], \"contour\": [{\"colorbar\": {\"outlinewidth\": 0, \"ticks\": \"\"}, \"colorscale\": [[0.0, \"#0d0887\"], [0.1111111111111111, \"#46039f\"], [0.2222222222222222, \"#7201a8\"], [0.3333333333333333, \"#9c179e\"], [0.4444444444444444, \"#bd3786\"], [0.5555555555555556, \"#d8576b\"], [0.6666666666666666, \"#ed7953\"], [0.7777777777777778, \"#fb9f3a\"], [0.8888888888888888, \"#fdca26\"], [1.0, \"#f0f921\"]], \"type\": \"contour\"}], \"contourcarpet\": [{\"colorbar\": {\"outlinewidth\": 0, \"ticks\": \"\"}, \"type\": \"contourcarpet\"}], \"heatmap\": [{\"colorbar\": {\"outlinewidth\": 0, \"ticks\": \"\"}, \"colorscale\": [[0.0, \"#0d0887\"], [0.1111111111111111, \"#46039f\"], [0.2222222222222222, \"#7201a8\"], [0.3333333333333333, \"#9c179e\"], [0.4444444444444444, \"#bd3786\"], [0.5555555555555556, \"#d8576b\"], [0.6666666666666666, \"#ed7953\"], [0.7777777777777778, \"#fb9f3a\"], [0.8888888888888888, \"#fdca26\"], [1.0, \"#f0f921\"]], \"type\": \"heatmap\"}], \"heatmapgl\": [{\"colorbar\": {\"outlinewidth\": 0, \"ticks\": \"\"}, \"colorscale\": [[0.0, \"#0d0887\"], [0.1111111111111111, \"#46039f\"], [0.2222222222222222, \"#7201a8\"], [0.3333333333333333, \"#9c179e\"], [0.4444444444444444, \"#bd3786\"], [0.5555555555555556, \"#d8576b\"], [0.6666666666666666, \"#ed7953\"], [0.7777777777777778, \"#fb9f3a\"], [0.8888888888888888, \"#fdca26\"], [1.0, \"#f0f921\"]], \"type\": \"heatmapgl\"}], \"histogram\": [{\"marker\": {\"colorbar\": {\"outlinewidth\": 0, \"ticks\": \"\"}}, \"type\": \"histogram\"}], \"histogram2d\": [{\"colorbar\": {\"outlinewidth\": 0, \"ticks\": \"\"}, \"colorscale\": [[0.0, \"#0d0887\"], [0.1111111111111111, \"#46039f\"], [0.2222222222222222, \"#7201a8\"], [0.3333333333333333, \"#9c179e\"], [0.4444444444444444, \"#bd3786\"], [0.5555555555555556, \"#d8576b\"], [0.6666666666666666, \"#ed7953\"], [0.7777777777777778, \"#fb9f3a\"], [0.8888888888888888, \"#fdca26\"], [1.0, \"#f0f921\"]], \"type\": \"histogram2d\"}], \"histogram2dcontour\": [{\"colorbar\": {\"outlinewidth\": 0, \"ticks\": \"\"}, \"colorscale\": [[0.0, \"#0d0887\"], [0.1111111111111111, \"#46039f\"], [0.2222222222222222, \"#7201a8\"], [0.3333333333333333, \"#9c179e\"], [0.4444444444444444, \"#bd3786\"], [0.5555555555555556, \"#d8576b\"], [0.6666666666666666, \"#ed7953\"], [0.7777777777777778, \"#fb9f3a\"], [0.8888888888888888, \"#fdca26\"], [1.0, \"#f0f921\"]], \"type\": \"histogram2dcontour\"}], \"mesh3d\": [{\"colorbar\": {\"outlinewidth\": 0, \"ticks\": \"\"}, \"type\": \"mesh3d\"}], \"parcoords\": [{\"line\": {\"colorbar\": {\"outlinewidth\": 0, \"ticks\": \"\"}}, \"type\": \"parcoords\"}], \"pie\": [{\"automargin\": true, \"type\": \"pie\"}], \"scatter\": [{\"marker\": {\"colorbar\": {\"outlinewidth\": 0, \"ticks\": \"\"}}, \"type\": \"scatter\"}], \"scatter3d\": [{\"line\": {\"colorbar\": {\"outlinewidth\": 0, \"ticks\": \"\"}}, \"marker\": {\"colorbar\": {\"outlinewidth\": 0, \"ticks\": \"\"}}, \"type\": \"scatter3d\"}], \"scattercarpet\": [{\"marker\": {\"colorbar\": {\"outlinewidth\": 0, \"ticks\": \"\"}}, \"type\": \"scattercarpet\"}], \"scattergeo\": [{\"marker\": {\"colorbar\": {\"outlinewidth\": 0, \"ticks\": \"\"}}, \"type\": \"scattergeo\"}], \"scattergl\": [{\"marker\": {\"colorbar\": {\"outlinewidth\": 0, \"ticks\": \"\"}}, \"type\": \"scattergl\"}], \"scattermapbox\": [{\"marker\": {\"colorbar\": {\"outlinewidth\": 0, \"ticks\": \"\"}}, \"type\": \"scattermapbox\"}], \"scatterpolar\": [{\"marker\": {\"colorbar\": {\"outlinewidth\": 0, \"ticks\": \"\"}}, \"type\": \"scatterpolar\"}], \"scatterpolargl\": [{\"marker\": {\"colorbar\": {\"outlinewidth\": 0, \"ticks\": \"\"}}, \"type\": \"scatterpolargl\"}], \"scatterternary\": [{\"marker\": {\"colorbar\": {\"outlinewidth\": 0, \"ticks\": \"\"}}, \"type\": \"scatterternary\"}], \"surface\": [{\"colorbar\": {\"outlinewidth\": 0, \"ticks\": \"\"}, \"colorscale\": [[0.0, \"#0d0887\"], [0.1111111111111111, \"#46039f\"], [0.2222222222222222, \"#7201a8\"], [0.3333333333333333, \"#9c179e\"], [0.4444444444444444, \"#bd3786\"], [0.5555555555555556, \"#d8576b\"], [0.6666666666666666, \"#ed7953\"], [0.7777777777777778, \"#fb9f3a\"], [0.8888888888888888, \"#fdca26\"], [1.0, \"#f0f921\"]], \"type\": \"surface\"}], \"table\": [{\"cells\": {\"fill\": {\"color\": \"#EBF0F8\"}, \"line\": {\"color\": \"white\"}}, \"header\": {\"fill\": {\"color\": \"#C8D4E3\"}, \"line\": {\"color\": \"white\"}}, \"type\": \"table\"}]}, \"layout\": {\"annotationdefaults\": {\"arrowcolor\": \"#2a3f5f\", \"arrowhead\": 0, \"arrowwidth\": 1}, \"coloraxis\": {\"colorbar\": {\"outlinewidth\": 0, \"ticks\": \"\"}}, \"colorscale\": {\"diverging\": [[0, \"#8e0152\"], [0.1, \"#c51b7d\"], [0.2, \"#de77ae\"], [0.3, \"#f1b6da\"], [0.4, \"#fde0ef\"], [0.5, \"#f7f7f7\"], [0.6, \"#e6f5d0\"], [0.7, \"#b8e186\"], [0.8, \"#7fbc41\"], [0.9, \"#4d9221\"], [1, \"#276419\"]], \"sequential\": [[0.0, \"#0d0887\"], [0.1111111111111111, \"#46039f\"], [0.2222222222222222, \"#7201a8\"], [0.3333333333333333, \"#9c179e\"], [0.4444444444444444, \"#bd3786\"], [0.5555555555555556, \"#d8576b\"], [0.6666666666666666, \"#ed7953\"], [0.7777777777777778, \"#fb9f3a\"], [0.8888888888888888, \"#fdca26\"], [1.0, \"#f0f921\"]], \"sequentialminus\": [[0.0, \"#0d0887\"], [0.1111111111111111, \"#46039f\"], [0.2222222222222222, \"#7201a8\"], [0.3333333333333333, \"#9c179e\"], [0.4444444444444444, \"#bd3786\"], [0.5555555555555556, \"#d8576b\"], [0.6666666666666666, \"#ed7953\"], [0.7777777777777778, \"#fb9f3a\"], [0.8888888888888888, \"#fdca26\"], [1.0, \"#f0f921\"]]}, \"colorway\": [\"#636efa\", \"#EF553B\", \"#00cc96\", \"#ab63fa\", \"#FFA15A\", \"#19d3f3\", \"#FF6692\", \"#B6E880\", \"#FF97FF\", \"#FECB52\"], \"font\": {\"color\": \"#2a3f5f\"}, \"geo\": {\"bgcolor\": \"white\", \"lakecolor\": \"white\", \"landcolor\": \"#E5ECF6\", \"showlakes\": true, \"showland\": true, \"subunitcolor\": \"white\"}, \"hoverlabel\": {\"align\": \"left\"}, \"hovermode\": \"closest\", \"mapbox\": {\"style\": \"light\"}, \"paper_bgcolor\": \"white\", \"plot_bgcolor\": \"#E5ECF6\", \"polar\": {\"angularaxis\": {\"gridcolor\": \"white\", \"linecolor\": \"white\", \"ticks\": \"\"}, \"bgcolor\": \"#E5ECF6\", \"radialaxis\": {\"gridcolor\": \"white\", \"linecolor\": \"white\", \"ticks\": \"\"}}, \"scene\": {\"xaxis\": {\"backgroundcolor\": \"#E5ECF6\", \"gridcolor\": \"white\", \"gridwidth\": 2, \"linecolor\": \"white\", \"showbackground\": true, \"ticks\": \"\", \"zerolinecolor\": \"white\"}, \"yaxis\": {\"backgroundcolor\": \"#E5ECF6\", \"gridcolor\": \"white\", \"gridwidth\": 2, \"linecolor\": \"white\", \"showbackground\": true, \"ticks\": \"\", \"zerolinecolor\": \"white\"}, \"zaxis\": {\"backgroundcolor\": \"#E5ECF6\", \"gridcolor\": \"white\", \"gridwidth\": 2, \"linecolor\": \"white\", \"showbackground\": true, \"ticks\": \"\", \"zerolinecolor\": \"white\"}}, \"shapedefaults\": {\"line\": {\"color\": \"#2a3f5f\"}}, \"ternary\": {\"aaxis\": {\"gridcolor\": \"white\", \"linecolor\": \"white\", \"ticks\": \"\"}, \"baxis\": {\"gridcolor\": \"white\", \"linecolor\": \"white\", \"ticks\": \"\"}, \"bgcolor\": \"#E5ECF6\", \"caxis\": {\"gridcolor\": \"white\", \"linecolor\": \"white\", \"ticks\": \"\"}}, \"title\": {\"x\": 0.05}, \"xaxis\": {\"automargin\": true, \"gridcolor\": \"white\", \"linecolor\": \"white\", \"ticks\": \"\", \"title\": {\"standoff\": 15}, \"zerolinecolor\": \"white\", \"zerolinewidth\": 2}, \"yaxis\": {\"automargin\": true, \"gridcolor\": \"white\", \"linecolor\": \"white\", \"ticks\": \"\", \"title\": {\"standoff\": 15}, \"zerolinecolor\": \"white\", \"zerolinewidth\": 2}}}, \"xaxis\": {\"anchor\": \"y\", \"domain\": [0.0, 1.0], \"title\": {\"text\": \"BreakevenYears_byrent\"}}, \"yaxis\": {\"anchor\": \"x\", \"domain\": [0.0, 1.0], \"title\": {\"text\": \"Avgrent\"}}},\n",
              "                        {\"responsive\": true}\n",
              "                    ).then(function(){\n",
              "                            \n",
              "var gd = document.getElementById('e6a1ad0b-8399-4a23-91ef-73256e29d67a');\n",
              "var x = new MutationObserver(function (mutations, observer) {{\n",
              "        var display = window.getComputedStyle(gd).display;\n",
              "        if (!display || display === 'none') {{\n",
              "            console.log([gd, 'removed!']);\n",
              "            Plotly.purge(gd);\n",
              "            observer.disconnect();\n",
              "        }}\n",
              "}});\n",
              "\n",
              "// Listen for the removal of the full notebook cells\n",
              "var notebookContainer = gd.closest('#notebook-container');\n",
              "if (notebookContainer) {{\n",
              "    x.observe(notebookContainer, {childList: true});\n",
              "}}\n",
              "\n",
              "// Listen for the clearing of the current output cell\n",
              "var outputEl = gd.closest('.output');\n",
              "if (outputEl) {{\n",
              "    x.observe(outputEl, {childList: true});\n",
              "}}\n",
              "\n",
              "                        })\n",
              "                };\n",
              "                \n",
              "            </script>\n",
              "        </div>\n",
              "</body>\n",
              "</html>"
            ]
          },
          "metadata": {
            "tags": []
          }
        },
        {
          "output_type": "stream",
          "text": [
            "The above graph shows how many years(X-axis) it would take to recover investment if only rent is considered as income\n"
          ],
          "name": "stdout"
        },
        {
          "output_type": "display_data",
          "data": {
            "text/html": [
              "<html>\n",
              "<head><meta charset=\"utf-8\" /></head>\n",
              "<body>\n",
              "    <div>\n",
              "            <script src=\"https://cdnjs.cloudflare.com/ajax/libs/mathjax/2.7.5/MathJax.js?config=TeX-AMS-MML_SVG\"></script><script type=\"text/javascript\">if (window.MathJax) {MathJax.Hub.Config({SVG: {font: \"STIX-Web\"}});}</script>\n",
              "                <script type=\"text/javascript\">window.PlotlyConfig = {MathJaxConfig: 'local'};</script>\n",
              "        <script src=\"https://cdn.plot.ly/plotly-latest.min.js\"></script>    \n",
              "            <div id=\"d176d2f1-3ef7-4b7a-b90c-64c21b287e59\" class=\"plotly-graph-div\" style=\"height:525px; width:100%;\"></div>\n",
              "            <script type=\"text/javascript\">\n",
              "                \n",
              "                    window.PLOTLYENV=window.PLOTLYENV || {};\n",
              "                    \n",
              "                if (document.getElementById(\"d176d2f1-3ef7-4b7a-b90c-64c21b287e59\")) {\n",
              "                    Plotly.newPlot(\n",
              "                        'd176d2f1-3ef7-4b7a-b90c-64c21b287e59',\n",
              "                        [{\"customdata\": [[11201], [11217], [11231], [11215], [10305], [10128], [10025], [10306], [11434], [10014], [10011], [11234], [10036], [10003], [10028], [10304], [10023], [10013], [10022], [10021], [10314]], \"hoverlabel\": {\"namelength\": 0}, \"hovertemplate\": \"100pc_return_byTotalIncome=%{x}<br>TotalIncome=%{y}<br>zipcode=%{customdata[0]}<br>Profitability=%{marker.color}\", \"legendgroup\": \"\", \"marker\": {\"color\": [0.18280389549989248, 0.1719708679119462, 0.15824819438671356, 0.15551535949589687, 0.10404785093692571, 0.10301137381036657, 0.10281474821811425, 0.09793963100229273, 0.09672850244160756, 0.0965949686767385, 0.09503486988944507, 0.09191358335478436, 0.09177278504790044, 0.08696860904822493, 0.08493590369147029, 0.08489143891279612, 0.08411793863221474, 0.08374509264955873, 0.07648380316969726, 0.07481474989693217, 0.06833806634807166], \"coloraxis\": \"coloraxis\", \"line\": {\"color\": \"DarkSlateGrey\", \"width\": 2}, \"size\": 12, \"symbol\": \"circle\"}, \"mode\": \"markers\", \"name\": \"\", \"showlegend\": false, \"type\": \"scatter\", \"x\": [5.470342944637021, 5.814938379633157, 6.31918742501595, 6.430233021622433, 9.610962561890918, 9.707665891738305, 9.7262310838769, 10.210371325338057, 10.33821443274875, 10.352506074582069, 10.52245350746846, 10.879784722787083, 10.896476547791963, 11.498401675545832, 11.773584038529812, 11.779750853643087, 11.888070681002505, 11.940998192988078, 13.074663635400888, 13.366348231834504, 14.633132797562947], \"xaxis\": \"x\", \"y\": [341748.38263325184, 290476.85786360444, 239019.6759568206, 208292.46532741195, 46269.7780288068, 211917.34627833116, 165216.8586239749, 35137.95797333226, 36861.371474441316, 273559.7467055473, 265293.21828020364, 45329.10091971833, 171079.0973702598, 207140.30548747865, 196057.75118525716, 28337.219928464598, 199516.77527083736, 309928.3117586811, 168281.4650395068, 148626.51162715734, 25102.437129356676], \"yaxis\": \"y\"}],\n",
              "                        {\"coloraxis\": {\"colorbar\": {\"title\": {\"text\": \"Profitability\"}}, \"colorscale\": [[0.0, \"#0d0887\"], [0.1111111111111111, \"#46039f\"], [0.2222222222222222, \"#7201a8\"], [0.3333333333333333, \"#9c179e\"], [0.4444444444444444, \"#bd3786\"], [0.5555555555555556, \"#d8576b\"], [0.6666666666666666, \"#ed7953\"], [0.7777777777777778, \"#fb9f3a\"], [0.8888888888888888, \"#fdca26\"], [1.0, \"#f0f921\"]]}, \"legend\": {\"tracegroupgap\": 0}, \"margin\": {\"t\": 60}, \"shapes\": [{\"line\": {\"color\": \"LightSeaGreen\", \"width\": 1}, \"type\": \"line\", \"x0\": 0, \"x1\": 1, \"xref\": \"paper\", \"y0\": 0.5, \"y1\": 0.5, \"yref\": \"paper\"}, {\"line\": {\"color\": \"LightSeaGreen\", \"width\": 1}, \"type\": \"line\", \"x0\": 0.5, \"x1\": 0.5, \"xref\": \"paper\", \"y0\": 0, \"y1\": 1, \"yref\": \"paper\"}], \"template\": {\"data\": {\"bar\": [{\"error_x\": {\"color\": \"#2a3f5f\"}, \"error_y\": {\"color\": \"#2a3f5f\"}, \"marker\": {\"line\": {\"color\": \"#E5ECF6\", \"width\": 0.5}}, \"type\": \"bar\"}], \"barpolar\": [{\"marker\": {\"line\": {\"color\": \"#E5ECF6\", \"width\": 0.5}}, \"type\": \"barpolar\"}], \"carpet\": [{\"aaxis\": {\"endlinecolor\": \"#2a3f5f\", \"gridcolor\": \"white\", \"linecolor\": \"white\", \"minorgridcolor\": \"white\", \"startlinecolor\": \"#2a3f5f\"}, \"baxis\": {\"endlinecolor\": \"#2a3f5f\", \"gridcolor\": \"white\", \"linecolor\": \"white\", \"minorgridcolor\": \"white\", \"startlinecolor\": \"#2a3f5f\"}, \"type\": \"carpet\"}], \"choropleth\": [{\"colorbar\": {\"outlinewidth\": 0, \"ticks\": \"\"}, \"type\": \"choropleth\"}], \"contour\": [{\"colorbar\": {\"outlinewidth\": 0, \"ticks\": \"\"}, \"colorscale\": [[0.0, \"#0d0887\"], [0.1111111111111111, \"#46039f\"], [0.2222222222222222, \"#7201a8\"], [0.3333333333333333, \"#9c179e\"], [0.4444444444444444, \"#bd3786\"], [0.5555555555555556, \"#d8576b\"], [0.6666666666666666, \"#ed7953\"], [0.7777777777777778, \"#fb9f3a\"], [0.8888888888888888, \"#fdca26\"], [1.0, \"#f0f921\"]], \"type\": \"contour\"}], \"contourcarpet\": [{\"colorbar\": {\"outlinewidth\": 0, \"ticks\": \"\"}, \"type\": \"contourcarpet\"}], \"heatmap\": [{\"colorbar\": {\"outlinewidth\": 0, \"ticks\": \"\"}, \"colorscale\": [[0.0, \"#0d0887\"], [0.1111111111111111, \"#46039f\"], [0.2222222222222222, \"#7201a8\"], [0.3333333333333333, \"#9c179e\"], [0.4444444444444444, \"#bd3786\"], [0.5555555555555556, \"#d8576b\"], [0.6666666666666666, \"#ed7953\"], [0.7777777777777778, \"#fb9f3a\"], [0.8888888888888888, \"#fdca26\"], [1.0, \"#f0f921\"]], \"type\": \"heatmap\"}], \"heatmapgl\": [{\"colorbar\": {\"outlinewidth\": 0, \"ticks\": \"\"}, \"colorscale\": [[0.0, \"#0d0887\"], [0.1111111111111111, \"#46039f\"], [0.2222222222222222, \"#7201a8\"], [0.3333333333333333, \"#9c179e\"], [0.4444444444444444, \"#bd3786\"], [0.5555555555555556, \"#d8576b\"], [0.6666666666666666, \"#ed7953\"], [0.7777777777777778, \"#fb9f3a\"], [0.8888888888888888, \"#fdca26\"], [1.0, \"#f0f921\"]], \"type\": \"heatmapgl\"}], \"histogram\": [{\"marker\": {\"colorbar\": {\"outlinewidth\": 0, \"ticks\": \"\"}}, \"type\": \"histogram\"}], \"histogram2d\": [{\"colorbar\": {\"outlinewidth\": 0, \"ticks\": \"\"}, \"colorscale\": [[0.0, \"#0d0887\"], [0.1111111111111111, \"#46039f\"], [0.2222222222222222, \"#7201a8\"], [0.3333333333333333, \"#9c179e\"], [0.4444444444444444, \"#bd3786\"], [0.5555555555555556, \"#d8576b\"], [0.6666666666666666, \"#ed7953\"], [0.7777777777777778, \"#fb9f3a\"], [0.8888888888888888, \"#fdca26\"], [1.0, \"#f0f921\"]], \"type\": \"histogram2d\"}], \"histogram2dcontour\": [{\"colorbar\": {\"outlinewidth\": 0, \"ticks\": \"\"}, \"colorscale\": [[0.0, \"#0d0887\"], [0.1111111111111111, \"#46039f\"], [0.2222222222222222, \"#7201a8\"], [0.3333333333333333, \"#9c179e\"], [0.4444444444444444, \"#bd3786\"], [0.5555555555555556, \"#d8576b\"], [0.6666666666666666, \"#ed7953\"], [0.7777777777777778, \"#fb9f3a\"], [0.8888888888888888, \"#fdca26\"], [1.0, \"#f0f921\"]], \"type\": \"histogram2dcontour\"}], \"mesh3d\": [{\"colorbar\": {\"outlinewidth\": 0, \"ticks\": \"\"}, \"type\": \"mesh3d\"}], \"parcoords\": [{\"line\": {\"colorbar\": {\"outlinewidth\": 0, \"ticks\": \"\"}}, \"type\": \"parcoords\"}], \"pie\": [{\"automargin\": true, \"type\": \"pie\"}], \"scatter\": [{\"marker\": {\"colorbar\": {\"outlinewidth\": 0, \"ticks\": \"\"}}, \"type\": \"scatter\"}], \"scatter3d\": [{\"line\": {\"colorbar\": {\"outlinewidth\": 0, \"ticks\": \"\"}}, \"marker\": {\"colorbar\": {\"outlinewidth\": 0, \"ticks\": \"\"}}, \"type\": \"scatter3d\"}], \"scattercarpet\": [{\"marker\": {\"colorbar\": {\"outlinewidth\": 0, \"ticks\": \"\"}}, \"type\": \"scattercarpet\"}], \"scattergeo\": [{\"marker\": {\"colorbar\": {\"outlinewidth\": 0, \"ticks\": \"\"}}, \"type\": \"scattergeo\"}], \"scattergl\": [{\"marker\": {\"colorbar\": {\"outlinewidth\": 0, \"ticks\": \"\"}}, \"type\": \"scattergl\"}], \"scattermapbox\": [{\"marker\": {\"colorbar\": {\"outlinewidth\": 0, \"ticks\": \"\"}}, \"type\": \"scattermapbox\"}], \"scatterpolar\": [{\"marker\": {\"colorbar\": {\"outlinewidth\": 0, \"ticks\": \"\"}}, \"type\": \"scatterpolar\"}], \"scatterpolargl\": [{\"marker\": {\"colorbar\": {\"outlinewidth\": 0, \"ticks\": \"\"}}, \"type\": \"scatterpolargl\"}], \"scatterternary\": [{\"marker\": {\"colorbar\": {\"outlinewidth\": 0, \"ticks\": \"\"}}, \"type\": \"scatterternary\"}], \"surface\": [{\"colorbar\": {\"outlinewidth\": 0, \"ticks\": \"\"}, \"colorscale\": [[0.0, \"#0d0887\"], [0.1111111111111111, \"#46039f\"], [0.2222222222222222, \"#7201a8\"], [0.3333333333333333, \"#9c179e\"], [0.4444444444444444, \"#bd3786\"], [0.5555555555555556, \"#d8576b\"], [0.6666666666666666, \"#ed7953\"], [0.7777777777777778, \"#fb9f3a\"], [0.8888888888888888, \"#fdca26\"], [1.0, \"#f0f921\"]], \"type\": \"surface\"}], \"table\": [{\"cells\": {\"fill\": {\"color\": \"#EBF0F8\"}, \"line\": {\"color\": \"white\"}}, \"header\": {\"fill\": {\"color\": \"#C8D4E3\"}, \"line\": {\"color\": \"white\"}}, \"type\": \"table\"}]}, \"layout\": {\"annotationdefaults\": {\"arrowcolor\": \"#2a3f5f\", \"arrowhead\": 0, \"arrowwidth\": 1}, \"coloraxis\": {\"colorbar\": {\"outlinewidth\": 0, \"ticks\": \"\"}}, \"colorscale\": {\"diverging\": [[0, \"#8e0152\"], [0.1, \"#c51b7d\"], [0.2, \"#de77ae\"], [0.3, \"#f1b6da\"], [0.4, \"#fde0ef\"], [0.5, \"#f7f7f7\"], [0.6, \"#e6f5d0\"], [0.7, \"#b8e186\"], [0.8, \"#7fbc41\"], [0.9, \"#4d9221\"], [1, \"#276419\"]], \"sequential\": [[0.0, \"#0d0887\"], [0.1111111111111111, \"#46039f\"], [0.2222222222222222, \"#7201a8\"], [0.3333333333333333, \"#9c179e\"], [0.4444444444444444, \"#bd3786\"], [0.5555555555555556, \"#d8576b\"], [0.6666666666666666, \"#ed7953\"], [0.7777777777777778, \"#fb9f3a\"], [0.8888888888888888, \"#fdca26\"], [1.0, \"#f0f921\"]], \"sequentialminus\": [[0.0, \"#0d0887\"], [0.1111111111111111, \"#46039f\"], [0.2222222222222222, \"#7201a8\"], [0.3333333333333333, \"#9c179e\"], [0.4444444444444444, \"#bd3786\"], [0.5555555555555556, \"#d8576b\"], [0.6666666666666666, \"#ed7953\"], [0.7777777777777778, \"#fb9f3a\"], [0.8888888888888888, \"#fdca26\"], [1.0, \"#f0f921\"]]}, \"colorway\": [\"#636efa\", \"#EF553B\", \"#00cc96\", \"#ab63fa\", \"#FFA15A\", \"#19d3f3\", \"#FF6692\", \"#B6E880\", \"#FF97FF\", \"#FECB52\"], \"font\": {\"color\": \"#2a3f5f\"}, \"geo\": {\"bgcolor\": \"white\", \"lakecolor\": \"white\", \"landcolor\": \"#E5ECF6\", \"showlakes\": true, \"showland\": true, \"subunitcolor\": \"white\"}, \"hoverlabel\": {\"align\": \"left\"}, \"hovermode\": \"closest\", \"mapbox\": {\"style\": \"light\"}, \"paper_bgcolor\": \"white\", \"plot_bgcolor\": \"#E5ECF6\", \"polar\": {\"angularaxis\": {\"gridcolor\": \"white\", \"linecolor\": \"white\", \"ticks\": \"\"}, \"bgcolor\": \"#E5ECF6\", \"radialaxis\": {\"gridcolor\": \"white\", \"linecolor\": \"white\", \"ticks\": \"\"}}, \"scene\": {\"xaxis\": {\"backgroundcolor\": \"#E5ECF6\", \"gridcolor\": \"white\", \"gridwidth\": 2, \"linecolor\": \"white\", \"showbackground\": true, \"ticks\": \"\", \"zerolinecolor\": \"white\"}, \"yaxis\": {\"backgroundcolor\": \"#E5ECF6\", \"gridcolor\": \"white\", \"gridwidth\": 2, \"linecolor\": \"white\", \"showbackground\": true, \"ticks\": \"\", \"zerolinecolor\": \"white\"}, \"zaxis\": {\"backgroundcolor\": \"#E5ECF6\", \"gridcolor\": \"white\", \"gridwidth\": 2, \"linecolor\": \"white\", \"showbackground\": true, \"ticks\": \"\", \"zerolinecolor\": \"white\"}}, \"shapedefaults\": {\"line\": {\"color\": \"#2a3f5f\"}}, \"ternary\": {\"aaxis\": {\"gridcolor\": \"white\", \"linecolor\": \"white\", \"ticks\": \"\"}, \"baxis\": {\"gridcolor\": \"white\", \"linecolor\": \"white\", \"ticks\": \"\"}, \"bgcolor\": \"#E5ECF6\", \"caxis\": {\"gridcolor\": \"white\", \"linecolor\": \"white\", \"ticks\": \"\"}}, \"title\": {\"x\": 0.05}, \"xaxis\": {\"automargin\": true, \"gridcolor\": \"white\", \"linecolor\": \"white\", \"ticks\": \"\", \"title\": {\"standoff\": 15}, \"zerolinecolor\": \"white\", \"zerolinewidth\": 2}, \"yaxis\": {\"automargin\": true, \"gridcolor\": \"white\", \"linecolor\": \"white\", \"ticks\": \"\", \"title\": {\"standoff\": 15}, \"zerolinecolor\": \"white\", \"zerolinewidth\": 2}}}, \"xaxis\": {\"anchor\": \"y\", \"domain\": [0.0, 1.0], \"title\": {\"text\": \"100pc_return_byTotalIncome\"}}, \"yaxis\": {\"anchor\": \"x\", \"domain\": [0.0, 1.0], \"title\": {\"text\": \"TotalIncome\"}}},\n",
              "                        {\"responsive\": true}\n",
              "                    ).then(function(){\n",
              "                            \n",
              "var gd = document.getElementById('d176d2f1-3ef7-4b7a-b90c-64c21b287e59');\n",
              "var x = new MutationObserver(function (mutations, observer) {{\n",
              "        var display = window.getComputedStyle(gd).display;\n",
              "        if (!display || display === 'none') {{\n",
              "            console.log([gd, 'removed!']);\n",
              "            Plotly.purge(gd);\n",
              "            observer.disconnect();\n",
              "        }}\n",
              "}});\n",
              "\n",
              "// Listen for the removal of the full notebook cells\n",
              "var notebookContainer = gd.closest('#notebook-container');\n",
              "if (notebookContainer) {{\n",
              "    x.observe(notebookContainer, {childList: true});\n",
              "}}\n",
              "\n",
              "// Listen for the clearing of the current output cell\n",
              "var outputEl = gd.closest('.output');\n",
              "if (outputEl) {{\n",
              "    x.observe(outputEl, {childList: true});\n",
              "}}\n",
              "\n",
              "                        })\n",
              "                };\n",
              "                \n",
              "            </script>\n",
              "        </div>\n",
              "</body>\n",
              "</html>"
            ]
          },
          "metadata": {
            "tags": []
          }
        },
        {
          "output_type": "stream",
          "text": [
            "The above graph shows how many years(X-axis) it would take to earn 100% profit by considering income from rent and property price appreciation from a single 2 bedroom property in the corresponding zipcode\n"
          ],
          "name": "stdout"
        }
      ]
    },
    {
      "cell_type": "markdown",
      "metadata": {
        "id": "l0jjnRB7hs_F",
        "colab_type": "text"
      },
      "source": [
        "Now, instead of looking at the income due to a single property, let us take into consideration that we have 10M dollars to spend on 2 bedroom properties specifically. \n",
        "Based on that, we will calculate the total revenue from each zip code."
      ]
    },
    {
      "cell_type": "code",
      "metadata": {
        "id": "iW8uWEmvhs_G",
        "colab_type": "code",
        "colab": {
          "base_uri": "https://localhost:8080/",
          "height": 489
        },
        "outputId": "cb4ae7d7-03a7-41a2-d63f-ea5750f0eb2e"
      },
      "source": [
        "df_profit1[['zipcode','TotRevenue']].style.background_gradient(subset=['TotRevenue'], cmap='viridis')"
      ],
      "execution_count": 60,
      "outputs": [
        {
          "output_type": "execute_result",
          "data": {
            "text/html": [
              "<style  type=\"text/css\" >\n",
              "    #T_99eb362e_c9b5_11ea_9ffc_0242ac1c0002row0_col1 {\n",
              "            background-color:  #fde725;\n",
              "            color:  #000000;\n",
              "        }    #T_99eb362e_c9b5_11ea_9ffc_0242ac1c0002row1_col1 {\n",
              "            background-color:  #c0df25;\n",
              "            color:  #000000;\n",
              "        }    #T_99eb362e_c9b5_11ea_9ffc_0242ac1c0002row2_col1 {\n",
              "            background-color:  #73d056;\n",
              "            color:  #000000;\n",
              "        }    #T_99eb362e_c9b5_11ea_9ffc_0242ac1c0002row3_col1 {\n",
              "            background-color:  #63cb5f;\n",
              "            color:  #000000;\n",
              "        }    #T_99eb362e_c9b5_11ea_9ffc_0242ac1c0002row4_col1 {\n",
              "            background-color:  #33628d;\n",
              "            color:  #f1f1f1;\n",
              "        }    #T_99eb362e_c9b5_11ea_9ffc_0242ac1c0002row5_col1 {\n",
              "            background-color:  #34608d;\n",
              "            color:  #f1f1f1;\n",
              "        }    #T_99eb362e_c9b5_11ea_9ffc_0242ac1c0002row6_col1 {\n",
              "            background-color:  #34608d;\n",
              "            color:  #f1f1f1;\n",
              "        }    #T_99eb362e_c9b5_11ea_9ffc_0242ac1c0002row7_col1 {\n",
              "            background-color:  #3a548c;\n",
              "            color:  #f1f1f1;\n",
              "        }    #T_99eb362e_c9b5_11ea_9ffc_0242ac1c0002row8_col1 {\n",
              "            background-color:  #3b518b;\n",
              "            color:  #f1f1f1;\n",
              "        }    #T_99eb362e_c9b5_11ea_9ffc_0242ac1c0002row9_col1 {\n",
              "            background-color:  #3b518b;\n",
              "            color:  #f1f1f1;\n",
              "        }    #T_99eb362e_c9b5_11ea_9ffc_0242ac1c0002row10_col1 {\n",
              "            background-color:  #3d4d8a;\n",
              "            color:  #f1f1f1;\n",
              "        }    #T_99eb362e_c9b5_11ea_9ffc_0242ac1c0002row11_col1 {\n",
              "            background-color:  #404588;\n",
              "            color:  #f1f1f1;\n",
              "        }    #T_99eb362e_c9b5_11ea_9ffc_0242ac1c0002row12_col1 {\n",
              "            background-color:  #404588;\n",
              "            color:  #f1f1f1;\n",
              "        }    #T_99eb362e_c9b5_11ea_9ffc_0242ac1c0002row13_col1 {\n",
              "            background-color:  #453882;\n",
              "            color:  #f1f1f1;\n",
              "        }    #T_99eb362e_c9b5_11ea_9ffc_0242ac1c0002row14_col1 {\n",
              "            background-color:  #46337f;\n",
              "            color:  #f1f1f1;\n",
              "        }    #T_99eb362e_c9b5_11ea_9ffc_0242ac1c0002row15_col1 {\n",
              "            background-color:  #46337f;\n",
              "            color:  #f1f1f1;\n",
              "        }    #T_99eb362e_c9b5_11ea_9ffc_0242ac1c0002row16_col1 {\n",
              "            background-color:  #46307e;\n",
              "            color:  #f1f1f1;\n",
              "        }    #T_99eb362e_c9b5_11ea_9ffc_0242ac1c0002row17_col1 {\n",
              "            background-color:  #472f7d;\n",
              "            color:  #f1f1f1;\n",
              "        }    #T_99eb362e_c9b5_11ea_9ffc_0242ac1c0002row18_col1 {\n",
              "            background-color:  #481b6d;\n",
              "            color:  #f1f1f1;\n",
              "        }    #T_99eb362e_c9b5_11ea_9ffc_0242ac1c0002row19_col1 {\n",
              "            background-color:  #481668;\n",
              "            color:  #f1f1f1;\n",
              "        }    #T_99eb362e_c9b5_11ea_9ffc_0242ac1c0002row20_col1 {\n",
              "            background-color:  #440154;\n",
              "            color:  #f1f1f1;\n",
              "        }</style><table id=\"T_99eb362e_c9b5_11ea_9ffc_0242ac1c0002\" ><thead>    <tr>        <th class=\"blank level0\" ></th>        <th class=\"col_heading level0 col0\" >zipcode</th>        <th class=\"col_heading level0 col1\" >TotRevenue</th>    </tr></thead><tbody>\n",
              "                <tr>\n",
              "                        <th id=\"T_99eb362e_c9b5_11ea_9ffc_0242ac1c0002level0_row0\" class=\"row_heading level0 row0\" >76</th>\n",
              "                        <td id=\"T_99eb362e_c9b5_11ea_9ffc_0242ac1c0002row0_col0\" class=\"data row0 col0\" >11201</td>\n",
              "                        <td id=\"T_99eb362e_c9b5_11ea_9ffc_0242ac1c0002row0_col1\" class=\"data row0 col1\" >1828038.954999</td>\n",
              "            </tr>\n",
              "            <tr>\n",
              "                        <th id=\"T_99eb362e_c9b5_11ea_9ffc_0242ac1c0002level0_row1\" class=\"row_heading level0 row1\" >91</th>\n",
              "                        <td id=\"T_99eb362e_c9b5_11ea_9ffc_0242ac1c0002row1_col0\" class=\"data row1 col0\" >11217</td>\n",
              "                        <td id=\"T_99eb362e_c9b5_11ea_9ffc_0242ac1c0002row1_col1\" class=\"data row1 col1\" >1719708.679119</td>\n",
              "            </tr>\n",
              "            <tr>\n",
              "                        <th id=\"T_99eb362e_c9b5_11ea_9ffc_0242ac1c0002level0_row2\" class=\"row_heading level0 row2\" >104</th>\n",
              "                        <td id=\"T_99eb362e_c9b5_11ea_9ffc_0242ac1c0002row2_col0\" class=\"data row2 col0\" >11231</td>\n",
              "                        <td id=\"T_99eb362e_c9b5_11ea_9ffc_0242ac1c0002row2_col1\" class=\"data row2 col1\" >1582481.943867</td>\n",
              "            </tr>\n",
              "            <tr>\n",
              "                        <th id=\"T_99eb362e_c9b5_11ea_9ffc_0242ac1c0002level0_row3\" class=\"row_heading level0 row3\" >89</th>\n",
              "                        <td id=\"T_99eb362e_c9b5_11ea_9ffc_0242ac1c0002row3_col0\" class=\"data row3 col0\" >11215</td>\n",
              "                        <td id=\"T_99eb362e_c9b5_11ea_9ffc_0242ac1c0002row3_col1\" class=\"data row3 col1\" >1555153.594959</td>\n",
              "            </tr>\n",
              "            <tr>\n",
              "                        <th id=\"T_99eb362e_c9b5_11ea_9ffc_0242ac1c0002level0_row4\" class=\"row_heading level0 row4\" >45</th>\n",
              "                        <td id=\"T_99eb362e_c9b5_11ea_9ffc_0242ac1c0002row4_col0\" class=\"data row4 col0\" >10305</td>\n",
              "                        <td id=\"T_99eb362e_c9b5_11ea_9ffc_0242ac1c0002row4_col1\" class=\"data row4 col1\" >1040478.509369</td>\n",
              "            </tr>\n",
              "            <tr>\n",
              "                        <th id=\"T_99eb362e_c9b5_11ea_9ffc_0242ac1c0002level0_row5\" class=\"row_heading level0 row5\" >41</th>\n",
              "                        <td id=\"T_99eb362e_c9b5_11ea_9ffc_0242ac1c0002row5_col0\" class=\"data row5 col0\" >10128</td>\n",
              "                        <td id=\"T_99eb362e_c9b5_11ea_9ffc_0242ac1c0002row5_col1\" class=\"data row5 col1\" >1030113.738104</td>\n",
              "            </tr>\n",
              "            <tr>\n",
              "                        <th id=\"T_99eb362e_c9b5_11ea_9ffc_0242ac1c0002level0_row6\" class=\"row_heading level0 row6\" >21</th>\n",
              "                        <td id=\"T_99eb362e_c9b5_11ea_9ffc_0242ac1c0002row6_col0\" class=\"data row6 col0\" >10025</td>\n",
              "                        <td id=\"T_99eb362e_c9b5_11ea_9ffc_0242ac1c0002row6_col1\" class=\"data row6 col1\" >1028147.482181</td>\n",
              "            </tr>\n",
              "            <tr>\n",
              "                        <th id=\"T_99eb362e_c9b5_11ea_9ffc_0242ac1c0002level0_row7\" class=\"row_heading level0 row7\" >46</th>\n",
              "                        <td id=\"T_99eb362e_c9b5_11ea_9ffc_0242ac1c0002row7_col0\" class=\"data row7 col0\" >10306</td>\n",
              "                        <td id=\"T_99eb362e_c9b5_11ea_9ffc_0242ac1c0002row7_col1\" class=\"data row7 col1\" >979396.310023</td>\n",
              "            </tr>\n",
              "            <tr>\n",
              "                        <th id=\"T_99eb362e_c9b5_11ea_9ffc_0242ac1c0002level0_row8\" class=\"row_heading level0 row8\" >146</th>\n",
              "                        <td id=\"T_99eb362e_c9b5_11ea_9ffc_0242ac1c0002row8_col0\" class=\"data row8 col0\" >11434</td>\n",
              "                        <td id=\"T_99eb362e_c9b5_11ea_9ffc_0242ac1c0002row8_col1\" class=\"data row8 col1\" >967285.024416</td>\n",
              "            </tr>\n",
              "            <tr>\n",
              "                        <th id=\"T_99eb362e_c9b5_11ea_9ffc_0242ac1c0002level0_row9\" class=\"row_heading level0 row9\" >12</th>\n",
              "                        <td id=\"T_99eb362e_c9b5_11ea_9ffc_0242ac1c0002row9_col0\" class=\"data row9 col0\" >10014</td>\n",
              "                        <td id=\"T_99eb362e_c9b5_11ea_9ffc_0242ac1c0002row9_col1\" class=\"data row9 col1\" >965949.686767</td>\n",
              "            </tr>\n",
              "            <tr>\n",
              "                        <th id=\"T_99eb362e_c9b5_11ea_9ffc_0242ac1c0002level0_row10\" class=\"row_heading level0 row10\" >9</th>\n",
              "                        <td id=\"T_99eb362e_c9b5_11ea_9ffc_0242ac1c0002row10_col0\" class=\"data row10 col0\" >10011</td>\n",
              "                        <td id=\"T_99eb362e_c9b5_11ea_9ffc_0242ac1c0002row10_col1\" class=\"data row10 col1\" >950348.698894</td>\n",
              "            </tr>\n",
              "            <tr>\n",
              "                        <th id=\"T_99eb362e_c9b5_11ea_9ffc_0242ac1c0002level0_row11\" class=\"row_heading level0 row11\" >107</th>\n",
              "                        <td id=\"T_99eb362e_c9b5_11ea_9ffc_0242ac1c0002row11_col0\" class=\"data row11 col0\" >11234</td>\n",
              "                        <td id=\"T_99eb362e_c9b5_11ea_9ffc_0242ac1c0002row11_col1\" class=\"data row11 col1\" >919135.833548</td>\n",
              "            </tr>\n",
              "            <tr>\n",
              "                        <th id=\"T_99eb362e_c9b5_11ea_9ffc_0242ac1c0002level0_row12\" class=\"row_heading level0 row12\" >32</th>\n",
              "                        <td id=\"T_99eb362e_c9b5_11ea_9ffc_0242ac1c0002row12_col0\" class=\"data row12 col0\" >10036</td>\n",
              "                        <td id=\"T_99eb362e_c9b5_11ea_9ffc_0242ac1c0002row12_col1\" class=\"data row12 col1\" >917727.850479</td>\n",
              "            </tr>\n",
              "            <tr>\n",
              "                        <th id=\"T_99eb362e_c9b5_11ea_9ffc_0242ac1c0002level0_row13\" class=\"row_heading level0 row13\" >2</th>\n",
              "                        <td id=\"T_99eb362e_c9b5_11ea_9ffc_0242ac1c0002row13_col0\" class=\"data row13 col0\" >10003</td>\n",
              "                        <td id=\"T_99eb362e_c9b5_11ea_9ffc_0242ac1c0002row13_col1\" class=\"data row13 col1\" >869686.090482</td>\n",
              "            </tr>\n",
              "            <tr>\n",
              "                        <th id=\"T_99eb362e_c9b5_11ea_9ffc_0242ac1c0002level0_row14\" class=\"row_heading level0 row14\" >24</th>\n",
              "                        <td id=\"T_99eb362e_c9b5_11ea_9ffc_0242ac1c0002row14_col0\" class=\"data row14 col0\" >10028</td>\n",
              "                        <td id=\"T_99eb362e_c9b5_11ea_9ffc_0242ac1c0002row14_col1\" class=\"data row14 col1\" >849359.036915</td>\n",
              "            </tr>\n",
              "            <tr>\n",
              "                        <th id=\"T_99eb362e_c9b5_11ea_9ffc_0242ac1c0002level0_row15\" class=\"row_heading level0 row15\" >44</th>\n",
              "                        <td id=\"T_99eb362e_c9b5_11ea_9ffc_0242ac1c0002row15_col0\" class=\"data row15 col0\" >10304</td>\n",
              "                        <td id=\"T_99eb362e_c9b5_11ea_9ffc_0242ac1c0002row15_col1\" class=\"data row15 col1\" >848914.389128</td>\n",
              "            </tr>\n",
              "            <tr>\n",
              "                        <th id=\"T_99eb362e_c9b5_11ea_9ffc_0242ac1c0002level0_row16\" class=\"row_heading level0 row16\" >19</th>\n",
              "                        <td id=\"T_99eb362e_c9b5_11ea_9ffc_0242ac1c0002row16_col0\" class=\"data row16 col0\" >10023</td>\n",
              "                        <td id=\"T_99eb362e_c9b5_11ea_9ffc_0242ac1c0002row16_col1\" class=\"data row16 col1\" >841179.386322</td>\n",
              "            </tr>\n",
              "            <tr>\n",
              "                        <th id=\"T_99eb362e_c9b5_11ea_9ffc_0242ac1c0002level0_row17\" class=\"row_heading level0 row17\" >11</th>\n",
              "                        <td id=\"T_99eb362e_c9b5_11ea_9ffc_0242ac1c0002row17_col0\" class=\"data row17 col0\" >10013</td>\n",
              "                        <td id=\"T_99eb362e_c9b5_11ea_9ffc_0242ac1c0002row17_col1\" class=\"data row17 col1\" >837450.926496</td>\n",
              "            </tr>\n",
              "            <tr>\n",
              "                        <th id=\"T_99eb362e_c9b5_11ea_9ffc_0242ac1c0002level0_row18\" class=\"row_heading level0 row18\" >18</th>\n",
              "                        <td id=\"T_99eb362e_c9b5_11ea_9ffc_0242ac1c0002row18_col0\" class=\"data row18 col0\" >10022</td>\n",
              "                        <td id=\"T_99eb362e_c9b5_11ea_9ffc_0242ac1c0002row18_col1\" class=\"data row18 col1\" >764838.031697</td>\n",
              "            </tr>\n",
              "            <tr>\n",
              "                        <th id=\"T_99eb362e_c9b5_11ea_9ffc_0242ac1c0002level0_row19\" class=\"row_heading level0 row19\" >17</th>\n",
              "                        <td id=\"T_99eb362e_c9b5_11ea_9ffc_0242ac1c0002row19_col0\" class=\"data row19 col0\" >10021</td>\n",
              "                        <td id=\"T_99eb362e_c9b5_11ea_9ffc_0242ac1c0002row19_col1\" class=\"data row19 col1\" >748147.498969</td>\n",
              "            </tr>\n",
              "            <tr>\n",
              "                        <th id=\"T_99eb362e_c9b5_11ea_9ffc_0242ac1c0002level0_row20\" class=\"row_heading level0 row20\" >48</th>\n",
              "                        <td id=\"T_99eb362e_c9b5_11ea_9ffc_0242ac1c0002row20_col0\" class=\"data row20 col0\" >10314</td>\n",
              "                        <td id=\"T_99eb362e_c9b5_11ea_9ffc_0242ac1c0002row20_col1\" class=\"data row20 col1\" >683380.663481</td>\n",
              "            </tr>\n",
              "    </tbody></table>"
            ],
            "text/plain": [
              "<pandas.io.formats.style.Styler at 0x7f59104e3128>"
            ]
          },
          "metadata": {
            "tags": []
          },
          "execution_count": 60
        }
      ]
    },
    {
      "cell_type": "markdown",
      "metadata": {
        "id": "tzmO7WENhs_I",
        "colab_type": "text"
      },
      "source": [
        "The above table shows how much revenue would be earned if USD 10M was spent in purchasing 2 bedroom properties."
      ]
    },
    {
      "cell_type": "markdown",
      "metadata": {
        "id": "f9Ne3LMdhs_K",
        "colab_type": "text"
      },
      "source": [
        "4 zipcodes stand out as being lucrative:\n",
        "**11201, 11217, 11231, 11215**"
      ]
    },
    {
      "cell_type": "markdown",
      "metadata": {
        "id": "wp-NN441hs_K",
        "colab_type": "text"
      },
      "source": [
        "# <Center>Summary</Center>"
      ]
    },
    {
      "cell_type": "markdown",
      "metadata": {
        "id": "ZW7F07CHhs_L",
        "colab_type": "text"
      },
      "source": [
        "## List of metrics created\n",
        "All metrics were created after filtering data\n",
        "1. Avgrent = Average rent of 2 bedroom properties in the corresponding zipcode\n",
        "2. YrIncr = Average annual percentage rate of increase in property price based on price change in the last 10 years\n",
        "3. Buy = The estimated price of property in 2019 calculated through YrIncr\n",
        "4. TotalIncome = Income through rent plus the appreciation in property price over 1 year\n",
        "5. Profitability = Ratio of Total Income and Buying price. Calculated as = ((Average rent per night *365 days * Occupancy rate of 75% )+ (Expected annual increase in property value)) / Buying price\n",
        "The formula is intended to capture revenue from rent as well as take into consideration that property rates change and this can cause profit or loss. The formula's denominator aims to take into consideration how efficiently the client's capital is used.\n",
        "6. BreakevenYears_byrent = If only rent is considered , then how many years would it take to recover the invested amount (which would be the buying price)\n",
        "7. 100pc_return_byTotalIncome = Number of years in which 100% returns are obtained by considering Income from rent and price appreciation.\n",
        "8. UnitsBought = How many units are purchased in the zipcode if we assume that the client has USD 10M\n",
        "9. TotRevenue = For the number of units purchased, how much revenue is earned from rent and price appreciation in one year"
      ]
    },
    {
      "cell_type": "markdown",
      "metadata": {
        "id": "aVjbmiG2hs_M",
        "colab_type": "text"
      },
      "source": [
        "## Data Insights\n",
        "- We have only 25 NY zipcodes in the Zillow data. This limits our recommendations to only these 25 options.\n",
        "- From chart in Step 4 we can see that Price history is missing for many years, but it is sufficiently available since the last 10 years\n",
        "- From step 5, we see that there are properties which charge upto USD 10000 per night. These could be luxury homes which skew our data.\n",
        "- Certain properties have a rent of zero, these could be incorrect entries or discounted rates.\n",
        "- We hardly have any data for the square footage of properties. If we had this information, we could have found the most optimal size of property for renting out."
      ]
    },
    {
      "cell_type": "markdown",
      "metadata": {
        "id": "kYDflNGYhs_N",
        "colab_type": "text"
      },
      "source": [
        "## Conclusions\n",
        "\n",
        "Our top zipcode recommendations based on various priorities are (most recommended first):\n",
        "- Based on Profitability through rent and property price increase (From Step 11), USD 10M were invested then the total profit earned from these zipcodes in a year would be: \n",
        " - Zipcode 11201 would yield USD 1.82M\n",
        " - Zipcode 11217 would yield USD 1.72M\n",
        " - Zipcode 11231 would yield USD 1.58M\n",
        " - Zipcode 11215 would yield USD 1.55M\n",
        "- Based on recovering investment solely through rental income (From Step 11): \n",
        " - Zipcode 11434 would breakeven in 10.17 years\n",
        " - Zipcode 10306 would breakeven in 11.15 years\n",
        " - Zipcode 11305 would breakeven in 12.30 years\n",
        " - Zipcode 11304 would breakeven in 13.06 years\n",
        " - Zipcode 11234 would breakeven in 13.33 years\n",
        "- We found that the number of bathrooms has a slightly positive correlation of 0.25 (from step 9) to the rent price. Therefore, we suggest that a 2 bedroom property should also have 2 bathrooms. In fact, 2 bedroom apartment with 2 bathrooms have an Average rent which is 65% higher than if they had only 1 bathroom. However, we can create a confidence interval to determine if the difference in prices is statistically significant."
      ]
    },
    {
      "cell_type": "markdown",
      "metadata": {
        "id": "pg1sxR5ahs_N",
        "colab_type": "text"
      },
      "source": [
        "## Scope for further analysis\n",
        "\n",
        "- After cleaning and removing sparsely populated zipcodes, we were left with only 12 zipcodes which were common between the airbnb and Zilow data. Zillow data was the limiting one here as it had only 25 NY zipcodes to begin with. If we had more zipcodes in the Zillow data, we may have found other more profitable zipcodes.\n",
        "- Sentiment analysis of reviews, descriptions adn other text can give us a relationship between property location and customer satisfaction. This can help us determine locations for which people are willing to pay higher rents.\n",
        "- Instead of extrapolating property prices by using last ten year's average rate of appreciation, we can use time series forecasting to arrive at more accurate estimate of prices in 2019 as well as in the future\n",
        "- In this analysis, we have not considered the expenses associated maintaining a property. Perhaps a location that has a high income to cost ratio also has higher expense and may turn out to be not so lucrative if expenses were considered.\n",
        "- Occupancy rate can be also modeled based on the availabilities given in the Airbnb data\n",
        "- Study the effect of seasons on optimum rent pricing to maximise occupancy \n",
        "- Study the effect of associated charges (cleaning, security deposit etc) on rental income"
      ]
    },
    {
      "cell_type": "code",
      "metadata": {
        "id": "V3nglbODhs_O",
        "colab_type": "code",
        "colab": {}
      },
      "source": [
        ""
      ],
      "execution_count": 60,
      "outputs": []
    }
  ]
}